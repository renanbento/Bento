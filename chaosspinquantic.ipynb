{
 "cells": [
  {
   "cell_type": "markdown",
   "metadata": {},
   "source": [
    "# Step-to -step time evolution:\n",
    "## Floquet operator:\n",
    "\n",
    "\\begin{equation}\n",
    "\\hat{F} = \\int e^{-i\\hat{H(t)}}dt\n",
    "\\end{equation}\n",
    "\n",
    "\n",
    "\\begin{equation}\n",
    "\\hat{F} = \\exp\\left({\\frac{-i\\tau_z \\hat{J_z}^2}{2j+1}-i\\alpha_z \\hat{J}_z}\\right) \\times \\exp\\left({-i\\alpha_y \\hat{J}_y}\\right)\n",
    "\\end{equation}\n",
    "\n",
    "Where $\\tau_z$, $\\alpha_z$ and $\\alpha_y$ are paramiters $j$ is the absolute value of angular momentum $\\hat{J}_y $"
   ]
  },
  {
   "cell_type": "code",
   "execution_count": 3,
   "metadata": {},
   "outputs": [],
   "source": [
    "    import numpy as np\n",
    "    from scipy.linalg import expm\n",
    "    from cmath import polar, phase\n",
    "    import matplotlib.pyplot as plt"
   ]
  },
  {
   "cell_type": "code",
   "execution_count": 4,
   "metadata": {},
   "outputs": [
    {
     "name": "stdout",
     "output_type": "stream",
     "text": [
      "[-1  0  1]\n"
     ]
    }
   ],
   "source": [
    "alpha_z = 1\n",
    "alpha_y= 1\n",
    "tau_z=1\n",
    "\n",
    "\n",
    "j=1\n",
    "N=2*j+1\n",
    "m=np.array([i for i in range(-j,j+1) ])\n",
    "print(m)"
   ]
  },
  {
   "cell_type": "code",
   "execution_count": 5,
   "metadata": {},
   "outputs": [],
   "source": [
    "def time_evo_step(j_0,tau):\n",
    "    alpha_z = 1\n",
    "    alpha_y= 1\n",
    "    tau_z=tau\n",
    "\n",
    "\n",
    "    j=j_0\n",
    "    N=2*j+1\n",
    "    m=np.array([i for i in range(-j,j+1) ])\n",
    "    \n",
    "   #contruction F \n",
    "    FZ = np.zeros([N,N],dtype=complex)\n",
    "    for i in range(N):\n",
    "        FZ[i,i]= np.exp((-1j)*(tau_z*m[i]*m[i]/(N) + alpha_z*m[i]))\n",
    "    \n",
    "    #F_y\n",
    "    JP=np.zeros([N,N],dtype=complex)\n",
    "    JM=np.zeros([N,N],dtype=complex)\n",
    "    Jy=np.zeros([N,N],dtype=complex)\n",
    "    \n",
    "    for i in m:\n",
    "        for l in m:\n",
    "            if(i==l+1):\n",
    "                JP[np.where(m == i), np.where(m==l)] = np.sqrt(j*(j+1)-l*(l+1))\n",
    "            if (i==l-1):\n",
    "                JM[np.where(m == i), np.where(m==l)]= np.sqrt(j*(j+1)-l*(l-1))\n",
    "    \n",
    "    Jy= (JP - JM)*(-1j)/2\n",
    "    \n",
    "    FY=expm(alpha_y*(-1j)*Jy)\n",
    "    \n",
    "    F= np.matmul(FZ,FY)\n",
    "    EV= np.linalg.eigvals(F)\n",
    "    ang=np.sort(np.array([np.angle(EV[i])for i in range(len(EV))]))\n",
    "    return (ang)"
   ]
  },
  {
   "cell_type": "code",
   "execution_count": 7,
   "metadata": {},
   "outputs": [
    {
     "data": {
      "text/plain": [
       "array([-3.13728015, -3.12329917, -3.08595124, -3.03123978, -3.02142284,\n",
       "       -3.0206815 , -2.95520918, -2.92901093, -2.92821379, -2.92695257,\n",
       "       -2.75886485, -2.7232207 , -2.70652511, -2.69741008, -2.6836502 ,\n",
       "       -2.66435112, -2.60264442, -2.54392929, -2.53961654, -2.44403426,\n",
       "       -2.44086652, -2.41837268, -2.40302163, -2.39561054, -2.340064  ,\n",
       "       -2.29097905, -2.26375036, -2.26096939, -2.23865154, -2.21976039,\n",
       "       -2.21059798, -2.18454487, -2.15516277, -2.0538    , -2.02689693,\n",
       "       -1.91560888, -1.90922278, -1.90603255, -1.88564198, -1.82980136,\n",
       "       -1.81174307, -1.75714354, -1.73939542, -1.65925434, -1.65714709,\n",
       "       -1.6484562 , -1.64612494, -1.63696316, -1.62507705, -1.60920039,\n",
       "       -1.59694883, -1.5905618 , -1.51005285, -1.48705368, -1.45187368,\n",
       "       -1.39009294, -1.37576978, -1.37041332, -1.35611298, -1.27650011,\n",
       "       -1.26063309, -1.21692054, -1.21304764, -1.17367336, -1.13631128,\n",
       "       -1.05325556, -1.03886751, -1.03133958, -0.99100719, -0.90402508,\n",
       "       -0.90190508, -0.89231649, -0.87440636, -0.8554691 , -0.7932833 ,\n",
       "       -0.71630845, -0.67731838, -0.60343247, -0.59482548, -0.58749593,\n",
       "       -0.58222233, -0.57344119, -0.48549927, -0.47991467, -0.41516127,\n",
       "       -0.39121117, -0.37613371, -0.33873321, -0.33757601, -0.28887702,\n",
       "       -0.28052521, -0.25462034, -0.23854519, -0.19198044, -0.17023271,\n",
       "       -0.13231483, -0.08286318, -0.01538184, -0.00940704,  0.04471826,\n",
       "        0.05123782,  0.09089702,  0.10812732,  0.12249379,  0.17173924,\n",
       "        0.18002327,  0.18878105,  0.21451854,  0.24141445,  0.34705703,\n",
       "        0.35836651,  0.35872377,  0.40477429,  0.42390373,  0.42453824,\n",
       "        0.43244577,  0.43644195,  0.51122376,  0.59517706,  0.64498275,\n",
       "        0.66882724,  0.66931329,  0.7078255 ,  0.7206294 ,  0.72562979,\n",
       "        0.86086855,  0.9102301 ,  0.97052994,  1.00075832,  1.0247412 ,\n",
       "        1.0328158 ,  1.06473117,  1.06977358,  1.0789234 ,  1.08146625,\n",
       "        1.09865597,  1.16809176,  1.22436477,  1.25948767,  1.2785396 ,\n",
       "        1.32349535,  1.34191094,  1.37713787,  1.38062207,  1.40120012,\n",
       "        1.43132299,  1.48019639,  1.54785407,  1.5778805 ,  1.60482092,\n",
       "        1.6155304 ,  1.69429668,  1.69905313,  1.74007023,  1.74807244,\n",
       "        1.75077263,  1.75200496,  1.77080751,  1.78527104,  1.81131724,\n",
       "        1.84173341,  1.88035122,  2.01310761,  2.01826287,  2.03720713,\n",
       "        2.0956518 ,  2.12544687,  2.17067107,  2.17347288,  2.17773167,\n",
       "        2.20934315,  2.27828382,  2.33587249,  2.3559362 ,  2.37402601,\n",
       "        2.39723006,  2.41017923,  2.43581793,  2.47102171,  2.48042618,\n",
       "        2.53167519,  2.54886886,  2.69223272,  2.70150137,  2.71170401,\n",
       "        2.74314605,  2.75232263,  2.75277405,  2.78913796,  2.8802348 ,\n",
       "        2.90365371,  2.91089936,  2.95431501,  3.03346665,  3.04597508,\n",
       "        3.05438238,  3.06055611,  3.11110549,  3.11158104,  3.11926658,\n",
       "        3.14107611])"
      ]
     },
     "execution_count": 7,
     "metadata": {},
     "output_type": "execute_result"
    }
   ],
   "source": [
    "start = time_evo_step(100,1)\n",
    "start"
   ]
  },
  {
   "cell_type": "code",
   "execution_count": 8,
   "metadata": {
    "scrolled": true
   },
   "outputs": [
    {
     "data": {
      "image/png": "[encoded data removed]",
      "text/plain": [
       "<Figure size 432x288 with 1 Axes>"
      ]
     },
     "metadata": {
      "needs_background": "light"
     },
     "output_type": "display_data"
    }
   ],
   "source": [
    "plt.hist(start,bins=100)\n",
    "plt.show()"
   ]
  },
  {
   "cell_type": "code",
   "execution_count": 9,
   "metadata": {},
   "outputs": [
    {
     "data": {
      "text/plain": [
       "array([-3.13728015, -3.12329917, -3.08595124, -3.03123978, -3.02142284,\n",
       "       -3.0206815 , -2.95520918, -2.92901093, -2.92821379, -2.92695257,\n",
       "       -2.75886485, -2.7232207 , -2.70652511, -2.69741008, -2.6836502 ,\n",
       "       -2.66435112, -2.60264442, -2.54392929, -2.53961654, -2.44403426,\n",
       "       -2.44086652, -2.41837268, -2.40302163, -2.39561054, -2.340064  ,\n",
       "       -2.29097905, -2.26375036, -2.26096939, -2.23865154, -2.21976039,\n",
       "       -2.21059798, -2.18454487, -2.15516277, -2.0538    , -2.02689693,\n",
       "       -1.91560888, -1.90922278, -1.90603255, -1.88564198, -1.82980136,\n",
       "       -1.81174307, -1.75714354, -1.73939542, -1.65925434, -1.65714709,\n",
       "       -1.6484562 , -1.64612494, -1.63696316, -1.62507705, -1.60920039,\n",
       "       -1.59694883, -1.5905618 , -1.51005285, -1.48705368, -1.45187368,\n",
       "       -1.39009294, -1.37576978, -1.37041332, -1.35611298, -1.27650011,\n",
       "       -1.26063309, -1.21692054, -1.21304764, -1.17367336, -1.13631128,\n",
       "       -1.05325556, -1.03886751, -1.03133958, -0.99100719, -0.90402508,\n",
       "       -0.90190508, -0.89231649, -0.87440636, -0.8554691 , -0.7932833 ,\n",
       "       -0.71630845, -0.67731838, -0.60343247, -0.59482548, -0.58749593,\n",
       "       -0.58222233, -0.57344119, -0.48549927, -0.47991467, -0.41516127,\n",
       "       -0.39121117, -0.37613371, -0.33873321, -0.33757601, -0.28887702,\n",
       "       -0.28052521, -0.25462034, -0.23854519, -0.19198044, -0.17023271,\n",
       "       -0.13231483, -0.08286318, -0.01538184, -0.00940704,  0.04471826,\n",
       "        0.05123782,  0.09089702,  0.10812732,  0.12249379,  0.17173924,\n",
       "        0.18002327,  0.18878105,  0.21451854,  0.24141445,  0.34705703,\n",
       "        0.35836651,  0.35872377,  0.40477429,  0.42390373,  0.42453824,\n",
       "        0.43244577,  0.43644195,  0.51122376,  0.59517706,  0.64498275,\n",
       "        0.66882724,  0.66931329,  0.7078255 ,  0.7206294 ,  0.72562979,\n",
       "        0.86086855,  0.9102301 ,  0.97052994,  1.00075832,  1.0247412 ,\n",
       "        1.0328158 ,  1.06473117,  1.06977358,  1.0789234 ,  1.08146625,\n",
       "        1.09865597,  1.16809176,  1.22436477,  1.25948767,  1.2785396 ,\n",
       "        1.32349535,  1.34191094,  1.37713787,  1.38062207,  1.40120012,\n",
       "        1.43132299,  1.48019639,  1.54785407,  1.5778805 ,  1.60482092,\n",
       "        1.6155304 ,  1.69429668,  1.69905313,  1.74007023,  1.74807244,\n",
       "        1.75077263,  1.75200496,  1.77080751,  1.78527104,  1.81131724,\n",
       "        1.84173341,  1.88035122,  2.01310761,  2.01826287,  2.03720713,\n",
       "        2.0956518 ,  2.12544687,  2.17067107,  2.17347288,  2.17773167,\n",
       "        2.20934315,  2.27828382,  2.33587249,  2.3559362 ,  2.37402601,\n",
       "        2.39723006,  2.41017923,  2.43581793,  2.47102171,  2.48042618,\n",
       "        2.53167519,  2.54886886,  2.69223272,  2.70150137,  2.71170401,\n",
       "        2.74314605,  2.75232263,  2.75277405,  2.78913796,  2.8802348 ,\n",
       "        2.90365371,  2.91089936,  2.95431501,  3.03346665,  3.04597508,\n",
       "        3.05438238,  3.06055611,  3.11110549,  3.11158104,  3.11926658,\n",
       "        3.14107611])"
      ]
     },
     "execution_count": 9,
     "metadata": {},
     "output_type": "execute_result"
    }
   ],
   "source": [
    "start"
   ]
  },
  {
   "cell_type": "code",
   "execution_count": 10,
   "metadata": {},
   "outputs": [
    {
     "data": {
      "text/plain": [
       "array([0.01398099, 0.03734792, 0.05471147, 0.00981694, 0.00074133,\n",
       "       0.06547232, 0.02619825, 0.00079714, 0.00126122, 0.16808772,\n",
       "       0.03564414, 0.01669559, 0.00911503, 0.01375988, 0.01929908,\n",
       "       0.0617067 , 0.05871513, 0.00431275, 0.09558228, 0.00316774,\n",
       "       0.02249384, 0.01535105, 0.00741109, 0.05554654, 0.04908495,\n",
       "       0.0272287 , 0.00278097, 0.02231785, 0.01889115, 0.00916242,\n",
       "       0.02605311, 0.02938209, 0.10136277, 0.02690307, 0.11128804,\n",
       "       0.0063861 , 0.00319023, 0.02039056, 0.05584062, 0.01805829,\n",
       "       0.05459953, 0.01774812, 0.08014107, 0.00210726, 0.00869088,\n",
       "       0.00233126, 0.00916178, 0.01188611, 0.01587667, 0.01225156,\n",
       "       0.00638703, 0.08050896, 0.02299917, 0.03518   , 0.06178074,\n",
       "       0.01432316, 0.00535646, 0.01430034, 0.07961286, 0.01586702,\n",
       "       0.04371255, 0.00387291, 0.03937428, 0.03736208, 0.08305572,\n",
       "       0.01438805, 0.00752793, 0.04033238, 0.08698212, 0.00212   ,\n",
       "       0.00958859, 0.01791013, 0.01893726, 0.0621858 , 0.07697484,\n",
       "       0.03899008, 0.07388591, 0.00860699, 0.00732955, 0.00527359,\n",
       "       0.00878115, 0.08794192, 0.0055846 , 0.0647534 , 0.0239501 ,\n",
       "       0.01507746, 0.03740049, 0.00115721, 0.04869898, 0.00835181,\n",
       "       0.02590487, 0.01607515, 0.04656476, 0.02174773, 0.03791787,\n",
       "       0.04945165, 0.06748134, 0.00597481, 0.0541253 , 0.00651956,\n",
       "       0.0396592 , 0.0172303 , 0.01436647, 0.04924545, 0.00828404,\n",
       "       0.00875778, 0.02573749, 0.02689591, 0.10564258, 0.01130948,\n",
       "       0.00035726, 0.04605052, 0.01912944, 0.00063451, 0.00790753,\n",
       "       0.00399618, 0.07478181, 0.0839533 , 0.0498057 , 0.02384448,\n",
       "       0.00048605, 0.03851221, 0.01280391, 0.00500039, 0.13523876,\n",
       "       0.04936155, 0.06029983, 0.03022838, 0.02398288, 0.0080746 ,\n",
       "       0.03191537, 0.0050424 , 0.00914982, 0.00254284, 0.01718972,\n",
       "       0.06943579, 0.05627301, 0.03512289, 0.01905194, 0.04495574,\n",
       "       0.01841559, 0.03522693, 0.0034842 , 0.02057805, 0.03012287,\n",
       "       0.0488734 , 0.06765769, 0.03002643, 0.02694042, 0.01070948,\n",
       "       0.07876629, 0.00475645, 0.04101709, 0.00800222, 0.00270018,\n",
       "       0.00123233, 0.01880255, 0.01446353, 0.0260462 , 0.03041617,\n",
       "       0.03861781, 0.1327564 , 0.00515526, 0.01894426, 0.05844466,\n",
       "       0.02979507, 0.0452242 , 0.00280181, 0.00425879, 0.03161148,\n",
       "       0.06894067, 0.05758867, 0.02006371, 0.0180898 , 0.02320406,\n",
       "       0.01294917, 0.02563869, 0.03520378, 0.00940447, 0.05124901,\n",
       "       0.01719367, 0.14336386, 0.00926865, 0.01020264, 0.03144204,\n",
       "       0.00917658, 0.00045142, 0.03636391, 0.09109684, 0.02341891,\n",
       "       0.00724565, 0.04341565, 0.07915163, 0.01250844, 0.0084073 ,\n",
       "       0.00617373, 0.05054937, 0.00047556, 0.00768553, 0.02180954])"
      ]
     },
     "execution_count": 10,
     "metadata": {},
     "output_type": "execute_result"
    }
   ],
   "source": [
    "ang_d= np.array([start[i+1]-start[i] for i in range(len(start)-1)])\n",
    "ang_d"
   ]
  },
  {
   "cell_type": "code",
   "execution_count": 11,
   "metadata": {},
   "outputs": [
    {
     "data": {
      "text/plain": [
       "<function matplotlib.pyplot.show(*args, **kw)>"
      ]
     },
     "execution_count": 11,
     "metadata": {},
     "output_type": "execute_result"
    },
    {
     "data": {
      "image/png": "[encoded data removed]",
      "text/plain": [
       "<Figure size 432x288 with 1 Axes>"
      ]
     },
     "metadata": {
      "needs_background": "light"
     },
     "output_type": "display_data"
    }
   ],
   "source": [
    "plt.hist(ang_d, bins=100)\n",
    "plt.show"
   ]
  },
  {
   "cell_type": "code",
   "execution_count": 12,
   "metadata": {},
   "outputs": [],
   "source": [
    "start = time_evo_step(100,15)"
   ]
  },
  {
   "cell_type": "code",
   "execution_count": 13,
   "metadata": {},
   "outputs": [
    {
     "data": {
      "text/plain": [
       "array([0.02813196, 0.03163748, 0.03869169, 0.02791183, 0.04066722,\n",
       "       0.02969146, 0.00738274, 0.04770857, 0.01634402, 0.03376127,\n",
       "       0.0330651 , 0.01313673, 0.03843071, 0.03183251, 0.01556268,\n",
       "       0.01560859, 0.06563485, 0.02885938, 0.04041906, 0.04910435,\n",
       "       0.03591728, 0.04479792, 0.01907143, 0.02485144, 0.01184148,\n",
       "       0.03932178, 0.01547746, 0.01853142, 0.06426683, 0.00706467,\n",
       "       0.02817567, 0.02964842, 0.05612959, 0.02556323, 0.01461776,\n",
       "       0.05032779, 0.02119442, 0.03753741, 0.02152589, 0.01169431,\n",
       "       0.03294923, 0.05296123, 0.03358247, 0.02618915, 0.0698812 ,\n",
       "       0.01092363, 0.04461609, 0.04826638, 0.01786579, 0.03718623,\n",
       "       0.02295183, 0.02797361, 0.02998957, 0.04067825, 0.0307753 ,\n",
       "       0.05390135, 0.01719503, 0.0295889 , 0.01811918, 0.03528127,\n",
       "       0.03886666, 0.03260289, 0.0121821 , 0.05287622, 0.01384293,\n",
       "       0.03605613, 0.0167644 , 0.04387621, 0.0158193 , 0.07494543,\n",
       "       0.02760948, 0.01397141, 0.02562691, 0.03905458, 0.03044418,\n",
       "       0.0163155 , 0.03947978, 0.04026591, 0.0260367 , 0.01194505,\n",
       "       0.03410157, 0.05122922, 0.02289017, 0.02532944, 0.03041757,\n",
       "       0.02784209, 0.02965809, 0.0442553 , 0.02203909, 0.00715491,\n",
       "       0.05917816, 0.06780061, 0.01359203, 0.00146793, 0.04139081,\n",
       "       0.05646992, 0.00205585, 0.05154915, 0.00970905, 0.02820692,\n",
       "       0.0342257 , 0.04260596, 0.02288736, 0.01235801, 0.0346778 ,\n",
       "       0.03768082, 0.03038519, 0.05142345, 0.02196799, 0.0406113 ,\n",
       "       0.00689831, 0.02350234, 0.03471631, 0.03314276, 0.03630851,\n",
       "       0.02709704, 0.04780829, 0.04436581, 0.00635244, 0.03319483,\n",
       "       0.02992942, 0.01148676, 0.05090195, 0.03576699, 0.03694631,\n",
       "       0.01215074, 0.032888  , 0.04135214, 0.02573034, 0.03105194,\n",
       "       0.04058317, 0.01312767, 0.06194883, 0.02257297, 0.02269871,\n",
       "       0.05104387, 0.02780663, 0.04065636, 0.02201176, 0.02052161,\n",
       "       0.04846264, 0.02945021, 0.02456347, 0.02282649, 0.02305479,\n",
       "       0.02430189, 0.04580706, 0.0263202 , 0.04999896, 0.02226035,\n",
       "       0.03158448, 0.04699674, 0.03133439, 0.03898582, 0.02877732,\n",
       "       0.021789  , 0.03796296, 0.02360357, 0.00918847, 0.03464973,\n",
       "       0.03897488, 0.03781718, 0.03620329, 0.05469978, 0.00469329,\n",
       "       0.01701909, 0.03665443, 0.02978706, 0.038017  , 0.03675863,\n",
       "       0.02630445, 0.03364786, 0.06497815, 0.01659953, 0.00816237,\n",
       "       0.04138717, 0.01835915, 0.03923066, 0.01647002, 0.0232824 ,\n",
       "       0.03056229, 0.04329849, 0.0371215 , 0.00968414, 0.01450506,\n",
       "       0.074204  , 0.02875581, 0.01368823, 0.0233065 , 0.05494901,\n",
       "       0.02390253, 0.05288216, 0.03959427, 0.02535622, 0.02634529,\n",
       "       0.02227558, 0.02757604, 0.03069522, 0.0105706 , 0.02867196])"
      ]
     },
     "execution_count": 13,
     "metadata": {},
     "output_type": "execute_result"
    }
   ],
   "source": [
    "ang_d= np.array([start[i+1]-start[i] for i in range(len(start)-1)])\n",
    "ang_d"
   ]
  },
  {
   "cell_type": "code",
   "execution_count": 14,
   "metadata": {},
   "outputs": [
    {
     "data": {
      "text/plain": [
       "<function matplotlib.pyplot.show(*args, **kw)>"
      ]
     },
     "execution_count": 14,
     "metadata": {},
     "output_type": "execute_result"
    },
    {
     "data": {
      "image/png": "[encoded data removed]",
      "text/plain": [
       "<Figure size 432x288 with 1 Axes>"
      ]
     },
     "metadata": {
      "needs_background": "light"
     },
     "output_type": "display_data"
    }
   ],
   "source": [
    "plt.hist(ang_d, bins=100)\n",
    "plt.show"
   ]
  },
  {
   "cell_type": "code",
   "execution_count": 15,
   "metadata": {},
   "outputs": [
    {
     "data": {
      "image/png": "[encoded data removed]",
      "text/plain": [
       "<Figure size 432x288 with 1 Axes>"
      ]
     },
     "metadata": {
      "needs_background": "light"
     },
     "output_type": "display_data"
    }
   ],
   "source": [
    "plt.hist(start,bins=100)\n",
    "plt.show()"
   ]
  },
  {
   "cell_type": "code",
   "execution_count": 37,
   "metadata": {},
   "outputs": [
    {
     "name": "stdout",
     "output_type": "stream",
     "text": [
      "[[ 0.01000901  0.03247567 -0.02840686 ...  0.032586    0.00238774\n",
      "   0.01691667]\n",
      " [ 0.00845858  0.02648553  0.02847264 ...  0.04400698 -0.06755733\n",
      "   0.0218904 ]\n",
      " [ 0.03813953 -0.0351107   0.06820695 ... -0.04609845 -0.02755944\n",
      "  -0.07544434]\n",
      " ...\n",
      " [ 0.04111102 -0.01981168 -0.02715602 ...  0.01933561 -0.02794958\n",
      "   0.04193826]\n",
      " [-0.05481854 -0.04112336 -0.04125076 ... -0.00317383  0.05365534\n",
      "  -0.0142188 ]\n",
      " [-0.01980701 -0.00308371  0.00608853 ... -0.0225049  -0.01218956\n",
      "   0.02187851]]\n"
     ]
    }
   ],
   "source": [
    "from scipy.stats import ortho_group\n",
    "j=500\n",
    "N=2*j+1\n",
    "Rand = ortho_group.rvs(N)\n",
    "print(Rand)\n",
    "EVR= np.linalg.eigvals(Rand)\n",
    "angm=np.sort(np.array([np.angle(EVR[i])for i in range(len(EVR))]))"
   ]
  },
  {
   "cell_type": "code",
   "execution_count": 38,
   "metadata": {},
   "outputs": [
    {
     "data": {
      "image/png": "[encoded data removed]",
      "text/plain": [
       "<Figure size 432x288 with 1 Axes>"
      ]
     },
     "metadata": {
      "needs_background": "light"
     },
     "output_type": "display_data"
    }
   ],
   "source": [
    "plt.hist(angm,bins=100)\n",
    "plt.show()"
   ]
  },
  {
   "cell_type": "code",
   "execution_count": 39,
   "metadata": {},
   "outputs": [],
   "source": [
    "ang_dm= np.array([angm[i+1]-angm[i] for i in range(len(angm)-1)])"
   ]
  },
  {
   "cell_type": "code",
   "execution_count": 40,
   "metadata": {},
   "outputs": [
    {
     "data": {
      "text/plain": [
       "<function matplotlib.pyplot.show(*args, **kw)>"
      ]
     },
     "execution_count": 40,
     "metadata": {},
     "output_type": "execute_result"
    },
    {
     "data": {
      "image/png": "[encoded data removed]",
      "text/plain": [
       "<Figure size 432x288 with 1 Axes>"
      ]
     },
     "metadata": {
      "needs_background": "light"
     },
     "output_type": "display_data"
    }
   ],
   "source": [
    "plt.hist(ang_dm, bins=100)\n",
    "plt.show"
   ]
  },
  {
   "cell_type": "code",
   "execution_count": 41,
   "metadata": {},
   "outputs": [],
   "source": [
    "import random\n",
    "Randiag = np.zeros((N, N), dtype=complex)\n",
    "R = np.zeros((N), dtype=complex)\n",
    "for i in range(N):\n",
    "    R[i]=1j*random.uniform(0,2*np.pi)\n",
    "np.fill_diagonal(Randiag,np.exp(R))\n",
    "EVRZ= np.linalg.eigvals(Randiag)\n",
    "angmz=np.sort(np.array([np.angle(EVRZ[i])for i in range(len(EVRZ))]))"
   ]
  },
  {
   "cell_type": "code",
   "execution_count": 42,
   "metadata": {},
   "outputs": [
    {
     "data": {
      "image/png": "[encoded data removed]",
      "text/plain": [
       "<Figure size 432x288 with 1 Axes>"
      ]
     },
     "metadata": {
      "needs_background": "light"
     },
     "output_type": "display_data"
    }
   ],
   "source": [
    "plt.hist(angmz,bins=100)\n",
    "plt.show()"
   ]
  },
  {
   "cell_type": "code",
   "execution_count": 45,
   "metadata": {},
   "outputs": [],
   "source": [
    "ang_dmz= np.array([(angmz[i+1]-angmz[i])*N/(2*np.pi) for i in range(len(angmz)-1)])"
   ]
  },
  {
   "cell_type": "code",
   "execution_count": 53,
   "metadata": {},
   "outputs": [
    {
     "data": {
      "image/png": "[encoded data removed]",
      "text/plain": [
       "<Figure size 432x288 with 1 Axes>"
      ]
     },
     "metadata": {
      "needs_background": "light"
     },
     "output_type": "display_data"
    }
   ],
   "source": [
    "plt.hist(ang_dmz, density=True, bins=100)\n",
    "xt = plt.xticks()[0]  \n",
    "xmin, xmax = min(xt), max(xt)  \n",
    "lnspc = np.linspace(xmin, xmax, len(ang_dmz))\n",
    "\n",
    "# lets try the normal distribution first\n",
    "z, s = stats.norm.fit(ang_dmz) # get mean and standard deviation  \n",
    "pdf_g = stats.norm.pdf(lnspc, z, s) # now get theoretical values in our interval  \n",
    "plt.plot(lnspc, pdf_g, label=\"Norm\") # plot it\n",
    "# exactly same as above\n",
    "ag,bg,cg = stats.gamma.fit(ang_dmz)  \n",
    "pdf_gamma = stats.gamma.pdf(lnspc, ag, bg,cg)  \n",
    "plt.plot(lnspc, pdf_gamma, label=\"Gamma\")\n",
    "\n",
    "# guess what :) \n",
    "ab,bb,cb,db = stats.beta.fit(ang_dmz)  \n",
    "pdf_beta = stats.beta.pdf(lnspc, ab, bb,cb, db)  \n",
    "plt.plot(lnspc, pdf_beta, label=\"Beta\")\n",
    "\n",
    "plt.show()  "
   ]
  },
  {
   "cell_type": "code",
   "execution_count": 47,
   "metadata": {},
   "outputs": [],
   "source": [
    "from scipy import stats  \n",
    "import numpy as np  \n",
    "import matplotlib.pylab as plt"
   ]
  },
  {
   "cell_type": "code",
   "execution_count": 49,
   "metadata": {},
   "outputs": [
    {
     "name": "stderr",
     "output_type": "stream",
     "text": [
      "/home/bento/anaconda3/lib/python3.7/site-packages/scipy/stats/_continuous_distns.py:515: RuntimeWarning: invalid value encountered in sqrt\n",
      "  sk = 2*(b-a)*np.sqrt(a + b + 1) / (a + b + 2) / np.sqrt(a*b)\n",
      "/home/bento/anaconda3/lib/python3.7/site-packages/scipy/optimize/minpack.py:162: RuntimeWarning: The iteration is not making good progress, as measured by the \n",
      "  improvement from the last ten iterations.\n",
      "  warnings.warn(msg, RuntimeWarning)\n"
     ]
    },
    {
     "data": {
      "image/png": "[encoded data removed]",
      "text/plain": [
       "<Figure size 432x288 with 1 Axes>"
      ]
     },
     "metadata": {
      "needs_background": "light"
     },
     "output_type": "display_data"
    }
   ],
   "source": [
    "xt = plt.xticks()[0]  \n",
    "xmin, xmax = min(xt), max(xt)  \n",
    "lnspc = np.linspace(xmin, xmax, len(ang_dmz))\n",
    "z, s = stats.norm.fit(ang_dmz) # get mean and standard deviation  \n",
    "pdf_g = stats.norm.pdf(lnspc, z, s) # now get theoretical values in our interval  \n",
    "plt.plot(lnspc, pdf_g, label=\"Norm\") # plot it\n",
    "# exactly same as above\n",
    "ag,bg,cg = stats.gamma.fit(ang_dmz)  \n",
    "pdf_gamma = stats.gamma.pdf(lnspc, ag, bg,cg)  \n",
    "plt.plot(lnspc, pdf_gamma, label=\"Gamma\")\n",
    "\n",
    "# guess what :) \n",
    "ab,bb,cb,db = stats.beta.fit(ang_dmz)  \n",
    "pdf_beta = stats.beta.pdf(lnspc, ab, bb,cb, db)  \n",
    "plt.plot(lnspc, pdf_beta, label=\"Beta\")\n",
    "\n",
    "plt.show()  "
   ]
  },
  {
   "cell_type": "code",
   "execution_count": null,
   "metadata": {},
   "outputs": [],
   "source": []
  }
 ],
 "metadata": {
  "kernelspec": {
   "display_name": "Python 3",
   "language": "python",
   "name": "python3"
  },
  "language_info": {
   "codemirror_mode": {
    "name": "ipython",
    "version": 3
   },
   "file_extension": ".py",
   "mimetype": "text/x-python",
   "name": "python",
   "nbconvert_exporter": "python",
   "pygments_lexer": "ipython3",
   "version": "3.7.4"
  }
 },
 "nbformat": 4,
 "nbformat_minor": 2
}
