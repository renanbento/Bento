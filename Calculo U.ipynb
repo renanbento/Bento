{
 "cells": [
  {
   "cell_type": "markdown",
   "metadata": {},
   "source": [
    "# Calculo de U"
   ]
  },
  {
   "cell_type": "code",
   "execution_count": 3,
   "metadata": {},
   "outputs": [],
   "source": [
    "import sympy as sym\n",
    "import numpy as np"
   ]
  },
  {
   "cell_type": "code",
   "execution_count": 4,
   "metadata": {},
   "outputs": [],
   "source": [
    "sym.init_printing(use_latex=\"mathjax\")\n",
    "a_1,b,c,d, e , f , g , h , i, j , k , l , n , m, o, p, q, r, s, t, u, v, w,x, y, z =sym.symbols(\"a_1 b c d e f g h i j k l m n o p q r s t u v w x y  z \" , real=True)\n",
    "alpha, omega, gamma, beta = sym.symbols('alpha omega gamma beta')\n",
    "a_1,a_2,a_3,a_4,a_5,a_6,a_7, a_8,b_1,b_2,b_3,b_4, b_5 , b_6 , b_7 , c_1 , c_2, c_3 , c_4 , c_5 , c_6 , d_1, d_2, d_3, d_4, d_5, e_1, e_2,e_3, e_4, f_1, f_2,f_3,g_1,g_2, h_1 =sym.symbols(\"a_1,a_2,a_3,a_4,a_5,a_6,a_7, a_8,b_1,b_2,b_3,b_4, b_5 , b_6 , b_7 , c_1 , c_2, c_3 , c_4 , c_5 , c_6 , d_1, d_2, d_3, d_4, d_5, e_1, e_2,e_3, e_4, f_1, f_2,f_3,g_1,g_2, h_1 \" , real=True)"
   ]
  },
  {
   "cell_type": "code",
   "execution_count": 67,
   "metadata": {},
   "outputs": [
    {
     "data": {
      "text/latex": [
       "$\\displaystyle \\left[\\begin{matrix}2 & 3\\\\5 & 7\\end{matrix}\\right]$"
      ],
      "text/plain": [
       "⎡2  3⎤\n",
       "⎢    ⎥\n",
       "⎣5  7⎦"
      ]
     },
     "execution_count": 67,
     "metadata": {},
     "output_type": "execute_result"
    }
   ],
   "source": [
    "sym.Matrix([[2,3],[5,7]])"
   ]
  },
  {
   "cell_type": "code",
   "execution_count": 68,
   "metadata": {},
   "outputs": [
    {
     "data": {
      "text/latex": [
       "$\\displaystyle \\left[\\begin{matrix}1 & 0 & 0\\\\0 & 1 & 0\\\\0 & 0 & 1\\end{matrix}\\right]$"
      ],
      "text/plain": [
       "⎡1  0  0⎤\n",
       "⎢       ⎥\n",
       "⎢0  1  0⎥\n",
       "⎢       ⎥\n",
       "⎣0  0  1⎦"
      ]
     },
     "execution_count": 68,
     "metadata": {},
     "output_type": "execute_result"
    }
   ],
   "source": [
    "sym.eye(3)"
   ]
  },
  {
   "cell_type": "code",
   "execution_count": 69,
   "metadata": {},
   "outputs": [
    {
     "data": {
      "text/latex": [
       "$\\displaystyle \\left[\\begin{matrix}0 & 0 & 0\\\\0 & 0 & 0\\\\0 & 0 & 0\\end{matrix}\\right]$"
      ],
      "text/plain": [
       "⎡0  0  0⎤\n",
       "⎢       ⎥\n",
       "⎢0  0  0⎥\n",
       "⎢       ⎥\n",
       "⎣0  0  0⎦"
      ]
     },
     "execution_count": 69,
     "metadata": {},
     "output_type": "execute_result"
    }
   ],
   "source": [
    "sym.zeros(3)"
   ]
  },
  {
   "cell_type": "code",
   "execution_count": 10,
   "metadata": {},
   "outputs": [
    {
     "data": {
      "text/latex": [
       "$\\displaystyle \\left[\\begin{matrix}1 & 1 & 1 & 1 & 1\\\\1 & 1 & 1 & 1 & 1\\\\1 & 1 & 1 & 1 & 1\\\\1 & 1 & 1 & 1 & 1\\\\1 & 1 & 1 & 1 & 1\\end{matrix}\\right]$"
      ],
      "text/plain": [
       "⎡1  1  1  1  1⎤\n",
       "⎢             ⎥\n",
       "⎢1  1  1  1  1⎥\n",
       "⎢             ⎥\n",
       "⎢1  1  1  1  1⎥\n",
       "⎢             ⎥\n",
       "⎢1  1  1  1  1⎥\n",
       "⎢             ⎥\n",
       "⎣1  1  1  1  1⎦"
      ]
     },
     "execution_count": 10,
     "metadata": {},
     "output_type": "execute_result"
    }
   ],
   "source": [
    "sym.ones(5)"
   ]
  },
  {
   "cell_type": "code",
   "execution_count": 70,
   "metadata": {},
   "outputs": [
    {
     "data": {
      "text/latex": [
       "$\\displaystyle \\left[\\begin{matrix}3 & 0 & 0 & 0\\\\0 & 4 & 0 & 0\\\\0 & 0 & 5 & 0\\\\0 & 0 & 0 & 2\\end{matrix}\\right]$"
      ],
      "text/plain": [
       "⎡3  0  0  0⎤\n",
       "⎢          ⎥\n",
       "⎢0  4  0  0⎥\n",
       "⎢          ⎥\n",
       "⎢0  0  5  0⎥\n",
       "⎢          ⎥\n",
       "⎣0  0  0  2⎦"
      ]
     },
     "execution_count": 70,
     "metadata": {},
     "output_type": "execute_result"
    }
   ],
   "source": [
    "sym.diag(3,4,5,2)"
   ]
  },
  {
   "cell_type": "code",
   "execution_count": 9,
   "metadata": {},
   "outputs": [
    {
     "data": {
      "text/latex": [
       "$\\displaystyle \\left( \\left[\\begin{matrix}\\gamma & \\alpha & 0 & 0 & 0 & 0 & 0 & 0\\\\\\alpha & \\gamma & \\beta & 0 & 0 & 0 & 0 & 0\\\\0 & \\beta & \\gamma & \\alpha & 0 & 0 & 0 & 0\\\\0 & 0 & \\alpha & \\gamma & 0 & 0 & 0 & 0\\\\0 & 0 & 0 & 0 & - \\gamma & - \\alpha & 0 & 0\\\\0 & 0 & 0 & 0 & - \\alpha & - \\gamma & - \\beta & 0\\\\0 & 0 & 0 & 0 & 0 & - \\beta & - \\gamma & - \\alpha\\\\0 & 0 & 0 & 0 & 0 & 0 & - \\alpha & - \\gamma\\end{matrix}\\right], \\  \\left[\\begin{matrix}-1 & -2 & 0 & 0 & i & 0 & 0 & 0\\\\-2 & -1 & 3 & 0 & 0 & i & 0 & 0\\\\0 & 3 & -1 & -2 & 0 & 0 & i & 0\\\\0 & 0 & -2 & -1 & 0 & 0 & 0 & i\\\\- i & 0 & 0 & 0 & 1 & 2 & 0 & 0\\\\0 & - i & 0 & 0 & 2 & 1 & -3 & 0\\\\0 & 0 & - i & 0 & 0 & -3 & 1 & 2\\\\0 & 0 & 0 & - i & 0 & 0 & 2 & 1\\end{matrix}\\right]\\right)$"
      ],
      "text/plain": [
       "⎛⎡γ  α  0  0  0   0   0   0 ⎤  ⎡-1  -2  0   0   ⅈ  0   0   0⎤⎞\n",
       "⎜⎢                          ⎥  ⎢                            ⎥⎟\n",
       "⎜⎢α  γ  β  0  0   0   0   0 ⎥  ⎢-2  -1  3   0   0  ⅈ   0   0⎥⎟\n",
       "⎜⎢                          ⎥  ⎢                            ⎥⎟\n",
       "⎜⎢0  β  γ  α  0   0   0   0 ⎥  ⎢0   3   -1  -2  0  0   ⅈ   0⎥⎟\n",
       "⎜⎢                          ⎥  ⎢                            ⎥⎟\n",
       "⎜⎢0  0  α  γ  0   0   0   0 ⎥  ⎢0   0   -2  -1  0  0   0   ⅈ⎥⎟\n",
       "⎜⎢                          ⎥, ⎢                            ⎥⎟\n",
       "⎜⎢0  0  0  0  -γ  -α  0   0 ⎥  ⎢-ⅈ  0   0   0   1  2   0   0⎥⎟\n",
       "⎜⎢                          ⎥  ⎢                            ⎥⎟\n",
       "⎜⎢0  0  0  0  -α  -γ  -β  0 ⎥  ⎢0   -ⅈ  0   0   2  1   -3  0⎥⎟\n",
       "⎜⎢                          ⎥  ⎢                            ⎥⎟\n",
       "⎜⎢0  0  0  0  0   -β  -γ  -α⎥  ⎢0   0   -ⅈ  0   0  -3  1   2⎥⎟\n",
       "⎜⎢                          ⎥  ⎢                            ⎥⎟\n",
       "⎝⎣0  0  0  0  0   0   -α  -γ⎦  ⎣0   0   0   -ⅈ  0  0   2   1⎦⎠"
      ]
     },
     "execution_count": 9,
     "metadata": {},
     "output_type": "execute_result"
    }
   ],
   "source": [
    "#computer variable\n",
    "HK = sym.Matrix([[gamma,alpha ,0,0,0,0,0,0],[alpha,gamma,beta,0,0,0,0,0],[0,beta,gamma,alpha,0,0,0,0],[0,0,alpha,gamma,0,0,0,0],[0,0,0,0,-gamma,-alpha,0,0],[0,0,0,0,-alpha,-gamma,-beta,0],[0,0,0,0,0,-beta,-gamma,-alpha],[0,0,0,0,0,0,-alpha,-gamma]])\n",
    "H1 = sym.Matrix([[-1,-2,0,0,sym.I,0,0,0],[-2,-1,3,0,0,sym.I,0,0],[0,3,-1,-2,0,0,sym.I,0],[0,0,-2,-1,0,0,0,sym.I],[-sym.I,0,0,0,1,2,0,0],[0,-sym.I,0,0,2,1,-3,0],[0,0,-sym.I,0,0,-3,1,2],[0,0,0,-sym.I,0,0,2,1]])\n",
    "\n",
    "HK, H1"
   ]
  },
  {
   "cell_type": "code",
   "execution_count": 10,
   "metadata": {},
   "outputs": [
    {
     "data": {
      "text/latex": [
       "$\\displaystyle \\left[\\begin{matrix}a_{1} & a_{2} & a_{3} & a_{4} & a_{5} & a_{6} & a_{7} & a_{8}\\\\a_{2} & b_{1} & b_{2} & b_{3} & b_{4} & b_{5} & b_{6} & b_{7}\\\\a_{3} & b_{2} & c_{1} & c_{2} & c_{3} & c_{4} & c_{5} & c_{6}\\\\a_{4} & b_{3} & c_{2} & d_{1} & d_{2} & d_{3} & d_{4} & d_{5}\\\\a_{5} & b_{4} & c_{3} & d_{2} & e_{1} & e_{2} & e_{3} & e_{4}\\\\a_{6} & b_{5} & c_{4} & d_{3} & e_{2} & f_{1} & f_{2} & f_{3}\\\\a_{7} & b_{6} & c_{5} & d_{4} & e_{3} & f_{2} & g_{1} & g_{2}\\\\a_{8} & b_{7} & c_{6} & d_{5} & e_{4} & f_{3} & g_{2} & h_{1}\\end{matrix}\\right]$"
      ],
      "text/plain": [
       "⎡a₁  a₂  a₃  a₄  a₅  a₆  a₇  a₈⎤\n",
       "⎢                              ⎥\n",
       "⎢a₂  b₁  b₂  b₃  b₄  b₅  b₆  b₇⎥\n",
       "⎢                              ⎥\n",
       "⎢a₃  b₂  c₁  c₂  c₃  c₄  c₅  c₆⎥\n",
       "⎢                              ⎥\n",
       "⎢a₄  b₃  c₂  d₁  d₂  d₃  d₄  d₅⎥\n",
       "⎢                              ⎥\n",
       "⎢a₅  b₄  c₃  d₂  e₁  e₂  e₃  e₄⎥\n",
       "⎢                              ⎥\n",
       "⎢a₆  b₅  c₄  d₃  e₂  f₁  f₂  f₃⎥\n",
       "⎢                              ⎥\n",
       "⎢a₇  b₆  c₅  d₄  e₃  f₂  g₁  g₂⎥\n",
       "⎢                              ⎥\n",
       "⎣a₈  b₇  c₆  d₅  e₄  f₃  g₂  h₁⎦"
      ]
     },
     "execution_count": 10,
     "metadata": {},
     "output_type": "execute_result"
    }
   ],
   "source": [
    "B = sym.Matrix([[a_1,a_2,a_3,a_4,a_5,a_6,a_7, a_8],[a_2,b_1,b_2,b_3,b_4, b_5 , b_6 , b_7  ],[a_3,b_2, c_1 , c_2, c_3 , c_4 , c_5, c_6],[a_4,b_3,c_2,d_1, d_2, d_3, d_4, d_5],[a_5,b_4,c_3,d_2,e_1, e_2,e_3,e_4],[a_6,b_5,c_4,d_3,e_2,f_1,f_2,f_3],[a_7,b_6,c_5,d_4,e_3,f_2,g_1,g_2],[a_8,b_7,c_6,d_5,e_4,f_3,g_2,h_1]])\n",
    "B1 = sym.Matrix([[1,0,0,0,0,0,0,0],[0,b_1,b_2,b_3,b_4, b_5 , b_6 , b_7  ],[0,b_2, c_1 , c_2, c_3 , c_4 , c_5, c_6],[0,b_3,c_2,d_1, d_2, d_3, d_4, d_5],[0,b_4,c_3,d_2,e_1, e_2,e_3,e_4],[0,b_5,c_4,d_3,e_2,f_1,f_2,f_3],[0,b_6,c_5,d_4,e_3,f_2,g_1,g_2],[0,b_7,c_6,d_5,e_4,f_3,g_2,h_1]])\n",
    "C = B.H\n",
    "VM=B*B\n",
    "B\n"
   ]
  },
  {
   "cell_type": "code",
   "execution_count": 11,
   "metadata": {},
   "outputs": [
    {
     "data": {
      "text/latex": [
       "$\\displaystyle \\left[\\begin{matrix}- 2 a_{1} - 4 a_{2} & - 2 a_{1} - 2 a_{2} + 3 a_{3} - i a_{6} - 2 b_{1} + i b_{4} & 3 a_{2} - 2 a_{3} - 2 a_{4} - i a_{7} - 2 b_{2} + i c_{3} & - 2 a_{3} - 2 a_{4} - i a_{8} - 2 b_{3} + i d_{2} & i a_{1} + 2 a_{6} - 2 b_{4} + i e_{1} & i a_{2} + 2 a_{5} - 3 a_{7} - 2 b_{5} + i e_{2} & i a_{3} - 3 a_{6} + 2 a_{8} - 2 b_{6} + i e_{3} & i a_{4} + 2 a_{7} - 2 b_{7} + i e_{4}\\\\- 2 a_{1} - 2 a_{2} + 3 a_{3} + i a_{6} - 2 b_{1} - i b_{4} & - 4 a_{2} - 2 b_{1} + 6 b_{2} & - 2 a_{3} + 3 b_{1} - 2 b_{2} - 2 b_{3} - i b_{6} + 3 c_{1} + i c_{4} & - 2 a_{4} - 2 b_{2} - 2 b_{3} - i b_{7} + 3 c_{2} + i d_{3} & i a_{2} - 2 a_{5} + 2 b_{5} + 3 c_{3} + i e_{2} & - 2 a_{6} + i b_{1} + 2 b_{4} - 3 b_{6} + 3 c_{4} + i f_{1} & - 2 a_{7} + i b_{2} - 3 b_{5} + 2 b_{7} + 3 c_{5} + i f_{2} & - 2 a_{8} + i b_{3} + 2 b_{6} + 3 c_{6} + i f_{3}\\\\3 a_{2} - 2 a_{3} - 2 a_{4} + i a_{7} - 2 b_{2} - i c_{3} & - 2 a_{3} + 3 b_{1} - 2 b_{2} - 2 b_{3} + i b_{6} + 3 c_{1} - i c_{4} & 6 b_{2} - 2 c_{1} - 4 c_{2} & 3 b_{3} - 2 c_{1} - 2 c_{2} - i c_{6} - 2 d_{1} + i d_{4} & i a_{3} + 3 b_{4} + 2 c_{4} - 2 d_{2} + i e_{3} & i b_{2} + 3 b_{5} + 2 c_{3} - 3 c_{5} - 2 d_{3} + i f_{2} & 3 b_{6} + i c_{1} - 3 c_{4} + 2 c_{6} - 2 d_{4} + i g_{1} & 3 b_{7} + i c_{2} + 2 c_{5} - 2 d_{5} + i g_{2}\\\\- 2 a_{3} - 2 a_{4} + i a_{8} - 2 b_{3} - i d_{2} & - 2 a_{4} - 2 b_{2} - 2 b_{3} + i b_{7} + 3 c_{2} - i d_{3} & 3 b_{3} - 2 c_{1} - 2 c_{2} + i c_{6} - 2 d_{1} - i d_{4} & - 4 c_{2} - 2 d_{1} & i a_{4} - 2 c_{3} + 2 d_{3} + i e_{4} & i b_{3} - 2 c_{4} + 2 d_{2} - 3 d_{4} + i f_{3} & i c_{2} - 2 c_{5} - 3 d_{3} + 2 d_{5} + i g_{2} & - 2 c_{6} + i d_{1} + 2 d_{4} + i h_{1}\\\\- i a_{1} + 2 a_{6} - 2 b_{4} - i e_{1} & - i a_{2} - 2 a_{5} + 2 b_{5} + 3 c_{3} - i e_{2} & - i a_{3} + 3 b_{4} + 2 c_{4} - 2 d_{2} - i e_{3} & - i a_{4} - 2 c_{3} + 2 d_{3} - i e_{4} & 2 e_{1} + 4 e_{2} & - i a_{6} + i b_{4} + 2 e_{1} + 2 e_{2} - 3 e_{3} + 2 f_{1} & - i a_{7} + i c_{3} - 3 e_{2} + 2 e_{3} + 2 e_{4} + 2 f_{2} & - i a_{8} + i d_{2} + 2 e_{3} + 2 e_{4} + 2 f_{3}\\\\- i a_{2} + 2 a_{5} - 3 a_{7} - 2 b_{5} - i e_{2} & - 2 a_{6} - i b_{1} + 2 b_{4} - 3 b_{6} + 3 c_{4} - i f_{1} & - i b_{2} + 3 b_{5} + 2 c_{3} - 3 c_{5} - 2 d_{3} - i f_{2} & - i b_{3} - 2 c_{4} + 2 d_{2} - 3 d_{4} - i f_{3} & i a_{6} - i b_{4} + 2 e_{1} + 2 e_{2} - 3 e_{3} + 2 f_{1} & 4 e_{2} + 2 f_{1} - 6 f_{2} & - i b_{6} + i c_{4} + 2 e_{3} - 3 f_{1} + 2 f_{2} + 2 f_{3} - 3 g_{1} & - i b_{7} + i d_{3} + 2 e_{4} + 2 f_{2} + 2 f_{3} - 3 g_{2}\\\\- i a_{3} - 3 a_{6} + 2 a_{8} - 2 b_{6} - i e_{3} & - 2 a_{7} - i b_{2} - 3 b_{5} + 2 b_{7} + 3 c_{5} - i f_{2} & 3 b_{6} - i c_{1} - 3 c_{4} + 2 c_{6} - 2 d_{4} - i g_{1} & - i c_{2} - 2 c_{5} - 3 d_{3} + 2 d_{5} - i g_{2} & i a_{7} - i c_{3} - 3 e_{2} + 2 e_{3} + 2 e_{4} + 2 f_{2} & i b_{6} - i c_{4} + 2 e_{3} - 3 f_{1} + 2 f_{2} + 2 f_{3} - 3 g_{1} & - 6 f_{2} + 2 g_{1} + 4 g_{2} & - i c_{6} + i d_{4} - 3 f_{3} + 2 g_{1} + 2 g_{2} + 2 h_{1}\\\\- i a_{4} + 2 a_{7} - 2 b_{7} - i e_{4} & - 2 a_{8} - i b_{3} + 2 b_{6} + 3 c_{6} - i f_{3} & 3 b_{7} - i c_{2} + 2 c_{5} - 2 d_{5} - i g_{2} & - 2 c_{6} - i d_{1} + 2 d_{4} - i h_{1} & i a_{8} - i d_{2} + 2 e_{3} + 2 e_{4} + 2 f_{3} & i b_{7} - i d_{3} + 2 e_{4} + 2 f_{2} + 2 f_{3} - 3 g_{2} & i c_{6} - i d_{4} - 3 f_{3} + 2 g_{1} + 2 g_{2} + 2 h_{1} & 4 g_{2} + 2 h_{1}\\end{matrix}\\right]$"
      ],
      "text/plain": [
       "⎡              -2⋅a₁ - 4⋅a₂                   -2⋅a₁ - 2⋅a₂ + 3⋅a₃ - ⅈ⋅a₆ - 2⋅b\n",
       "⎢                                                                             \n",
       "⎢-2⋅a₁ - 2⋅a₂ + 3⋅a₃ + ⅈ⋅a₆ - 2⋅b₁ - ⅈ⋅b₄                -4⋅a₂ - 2⋅b₁ + 6⋅b₂  \n",
       "⎢                                                                             \n",
       "⎢3⋅a₂ - 2⋅a₃ - 2⋅a₄ + ⅈ⋅a₇ - 2⋅b₂ - ⅈ⋅c₃   -2⋅a₃ + 3⋅b₁ - 2⋅b₂ - 2⋅b₃ + ⅈ⋅b₆ +\n",
       "⎢                                                                             \n",
       "⎢   -2⋅a₃ - 2⋅a₄ + ⅈ⋅a₈ - 2⋅b₃ - ⅈ⋅d₂         -2⋅a₄ - 2⋅b₂ - 2⋅b₃ + ⅈ⋅b₇ + 3⋅c\n",
       "⎢                                                                             \n",
       "⎢       -ⅈ⋅a₁ + 2⋅a₆ - 2⋅b₄ - ⅈ⋅e₁                -ⅈ⋅a₂ - 2⋅a₅ + 2⋅b₅ + 3⋅c₃ -\n",
       "⎢                                                                             \n",
       "⎢   -ⅈ⋅a₂ + 2⋅a₅ - 3⋅a₇ - 2⋅b₅ - ⅈ⋅e₂         -2⋅a₆ - ⅈ⋅b₁ + 2⋅b₄ - 3⋅b₆ + 3⋅c\n",
       "⎢                                                                             \n",
       "⎢   -ⅈ⋅a₃ - 3⋅a₆ + 2⋅a₈ - 2⋅b₆ - ⅈ⋅e₃         -2⋅a₇ - ⅈ⋅b₂ - 3⋅b₅ + 2⋅b₇ + 3⋅c\n",
       "⎢                                                                             \n",
       "⎣       -ⅈ⋅a₄ + 2⋅a₇ - 2⋅b₇ - ⅈ⋅e₄                -2⋅a₈ - ⅈ⋅b₃ + 2⋅b₆ + 3⋅c₆ -\n",
       "\n",
       "₁ + ⅈ⋅b₄          3⋅a₂ - 2⋅a₃ - 2⋅a₄ - ⅈ⋅a₇ - 2⋅b₂ + ⅈ⋅c₃         -2⋅a₃ - 2⋅a₄\n",
       "                                                                              \n",
       "              -2⋅a₃ + 3⋅b₁ - 2⋅b₂ - 2⋅b₃ - ⅈ⋅b₆ + 3⋅c₁ + ⅈ⋅c₄  -2⋅a₄ - 2⋅b₂ - \n",
       "                                                                              \n",
       " 3⋅c₁ - ⅈ⋅c₄                6⋅b₂ - 2⋅c₁ - 4⋅c₂                 3⋅b₃ - 2⋅c₁ - 2\n",
       "                                                                              \n",
       "₂ - ⅈ⋅d₃          3⋅b₃ - 2⋅c₁ - 2⋅c₂ + ⅈ⋅c₆ - 2⋅d₁ - ⅈ⋅d₄                    -\n",
       "                                                                              \n",
       " ⅈ⋅e₂                -ⅈ⋅a₃ + 3⋅b₄ + 2⋅c₄ - 2⋅d₂ - ⅈ⋅e₃                -ⅈ⋅a₄ - \n",
       "                                                                              \n",
       "₄ - ⅈ⋅f₁         -ⅈ⋅b₂ + 3⋅b₅ + 2⋅c₃ - 3⋅c₅ - 2⋅d₃ - ⅈ⋅f₂         -ⅈ⋅b₃ - 2⋅c₄\n",
       "                                                                              \n",
       "₅ - ⅈ⋅f₂          3⋅b₆ - ⅈ⋅c₁ - 3⋅c₄ + 2⋅c₆ - 2⋅d₄ - ⅈ⋅g₁         -ⅈ⋅c₂ - 2⋅c₅\n",
       "                                                                              \n",
       " ⅈ⋅f₃                3⋅b₇ - ⅈ⋅c₂ + 2⋅c₅ - 2⋅d₅ - ⅈ⋅g₂                 -2⋅c₆ - \n",
       "\n",
       " - ⅈ⋅a₈ - 2⋅b₃ + ⅈ⋅d₂             ⅈ⋅a₁ + 2⋅a₆ - 2⋅b₄ + ⅈ⋅e₁                ⅈ⋅a\n",
       "                                                                              \n",
       "2⋅b₃ - ⅈ⋅b₇ + 3⋅c₂ + ⅈ⋅d₃     ⅈ⋅a₂ - 2⋅a₅ + 2⋅b₅ + 3⋅c₃ + ⅈ⋅e₂         -2⋅a₆ +\n",
       "                                                                              \n",
       "⋅c₂ - ⅈ⋅c₆ - 2⋅d₁ + ⅈ⋅d₄      ⅈ⋅a₃ + 3⋅b₄ + 2⋅c₄ - 2⋅d₂ + ⅈ⋅e₃         ⅈ⋅b₂ + \n",
       "                                                                              \n",
       "4⋅c₂ - 2⋅d₁                       ⅈ⋅a₄ - 2⋅c₃ + 2⋅d₃ + ⅈ⋅e₄                ⅈ⋅b\n",
       "                                                                              \n",
       "2⋅c₃ + 2⋅d₃ - ⅈ⋅e₄                       2⋅e₁ + 4⋅e₂                   -ⅈ⋅a₆ +\n",
       "                                                                              \n",
       " + 2⋅d₂ - 3⋅d₄ - ⅈ⋅f₃      ⅈ⋅a₆ - ⅈ⋅b₄ + 2⋅e₁ + 2⋅e₂ - 3⋅e₃ + 2⋅f₁            \n",
       "                                                                              \n",
       " - 3⋅d₃ + 2⋅d₅ - ⅈ⋅g₂      ⅈ⋅a₇ - ⅈ⋅c₃ - 3⋅e₂ + 2⋅e₃ + 2⋅e₄ + 2⋅f₂  ⅈ⋅b₆ - ⅈ⋅c\n",
       "                                                                              \n",
       "ⅈ⋅d₁ + 2⋅d₄ - ⅈ⋅h₁            ⅈ⋅a₈ - ⅈ⋅d₂ + 2⋅e₃ + 2⋅e₄ + 2⋅f₃         ⅈ⋅b₇ - \n",
       "\n",
       "₂ + 2⋅a₅ - 3⋅a₇ - 2⋅b₅ + ⅈ⋅e₂                ⅈ⋅a₃ - 3⋅a₆ + 2⋅a₈ - 2⋅b₆ + ⅈ⋅e₃ \n",
       "                                                                              \n",
       " ⅈ⋅b₁ + 2⋅b₄ - 3⋅b₆ + 3⋅c₄ + ⅈ⋅f₁        -2⋅a₇ + ⅈ⋅b₂ - 3⋅b₅ + 2⋅b₇ + 3⋅c₅ + ⅈ\n",
       "                                                                              \n",
       "3⋅b₅ + 2⋅c₃ - 3⋅c₅ - 2⋅d₃ + ⅈ⋅f₂          3⋅b₆ + ⅈ⋅c₁ - 3⋅c₄ + 2⋅c₆ - 2⋅d₄ + ⅈ\n",
       "                                                                              \n",
       "₃ - 2⋅c₄ + 2⋅d₂ - 3⋅d₄ + ⅈ⋅f₃                ⅈ⋅c₂ - 2⋅c₅ - 3⋅d₃ + 2⋅d₅ + ⅈ⋅g₂ \n",
       "                                                                              \n",
       " ⅈ⋅b₄ + 2⋅e₁ + 2⋅e₂ - 3⋅e₃ + 2⋅f₁        -ⅈ⋅a₇ + ⅈ⋅c₃ - 3⋅e₂ + 2⋅e₃ + 2⋅e₄ + 2\n",
       "                                                                              \n",
       "    4⋅e₂ + 2⋅f₁ - 6⋅f₂                -ⅈ⋅b₆ + ⅈ⋅c₄ + 2⋅e₃ - 3⋅f₁ + 2⋅f₂ + 2⋅f₃\n",
       "                                                                              \n",
       "₄ + 2⋅e₃ - 3⋅f₁ + 2⋅f₂ + 2⋅f₃ - 3⋅g₁                -6⋅f₂ + 2⋅g₁ + 4⋅g₂       \n",
       "                                                                              \n",
       "ⅈ⋅d₃ + 2⋅e₄ + 2⋅f₂ + 2⋅f₃ - 3⋅g₂          ⅈ⋅c₆ - ⅈ⋅d₄ - 3⋅f₃ + 2⋅g₁ + 2⋅g₂ + 2\n",
       "\n",
       "                ⅈ⋅a₄ + 2⋅a₇ - 2⋅b₇ + ⅈ⋅e₄        ⎤\n",
       "                                                 ⎥\n",
       "⋅f₂         -2⋅a₈ + ⅈ⋅b₃ + 2⋅b₆ + 3⋅c₆ + ⅈ⋅f₃    ⎥\n",
       "                                                 ⎥\n",
       "⋅g₁          3⋅b₇ + ⅈ⋅c₂ + 2⋅c₅ - 2⋅d₅ + ⅈ⋅g₂    ⎥\n",
       "                                                 ⎥\n",
       "                -2⋅c₆ + ⅈ⋅d₁ + 2⋅d₄ + ⅈ⋅h₁       ⎥\n",
       "                                                 ⎥\n",
       "⋅f₂         -ⅈ⋅a₈ + ⅈ⋅d₂ + 2⋅e₃ + 2⋅e₄ + 2⋅f₃    ⎥\n",
       "                                                 ⎥\n",
       " - 3⋅g₁  -ⅈ⋅b₇ + ⅈ⋅d₃ + 2⋅e₄ + 2⋅f₂ + 2⋅f₃ - 3⋅g₂⎥\n",
       "                                                 ⎥\n",
       "         -ⅈ⋅c₆ + ⅈ⋅d₄ - 3⋅f₃ + 2⋅g₁ + 2⋅g₂ + 2⋅h₁⎥\n",
       "                                                 ⎥\n",
       "⋅h₁                    4⋅g₂ + 2⋅h₁               ⎦"
      ]
     },
     "execution_count": 11,
     "metadata": {},
     "output_type": "execute_result"
    }
   ],
   "source": [
    "F=B*H1 + H1*B\n",
    "sym.simplify(F)"
   ]
  },
  {
   "cell_type": "code",
   "execution_count": null,
   "metadata": {},
   "outputs": [],
   "source": [
    "eq1= sym.Function(\"eq1\")\n",
    "eq2= sym.Function(\"eq2\")\n",
    "eq1= sym.Eq(F[0,0], 0)\n",
    "eq2= sym.Eq(x-y, 1)\n",
    "#display(eq1)\n",
    "row0=[0,0,0,0,0,0,0,0,0,0,0,0,0,0,0,0,0,0,0,0,0,0,0,0,0,0,0,0,0,0,0,0,0,0,0,0,0]\n",
    "\n",
    "row1 = [-2,-4,0,0,0,0,0,0, 0,0,0,0,0,0,0,0,0,0,0,0,0,0,0,0,0,0,0,0,0,0,0,0,0,0,0,0,0]\n",
    "\n",
    "row2 = [-2,-2,3,0,0,sym.I,0,0, -2,0,0,-sym.I,0,0,0, 0,0,0,0,0,0, 0,0,0,0,0 ,0,0,0,0, 0,0,0, 0,0, 0, 0]\n",
    "\n",
    "row3 = [0,3,-2,-2,0,0,sym.I,0, 0,-2,0,0,0,0,0, 0,0,-sym.I,0,0,0, 0,0,0,0,0 ,0,0,0,0, 0,0,0, 0,0, 0, 0]\n",
    "\n",
    "row4 = [0,0,-2,-2,0,0,0,sym.I, 0,0,-2,0,0,0,0, 0,0,0,0,0,0, 0,-sym.I,0,0,0 ,0,0,0,0, 0,0,0, 0,0, 0, 0]\n",
    "\n",
    "row5 = [-sym.I,0,0,0,0,2,0,0, 0,0,0,-2,0,0,0, 0,0,0,0,0,0, 0,0,0,0,0 ,-sym.I,0,0,0, 0,0,0, 0,0, 0, 0]\n",
    "\n",
    "row6 = [0,-sym.I,0,0,2,0,-3,0, 0,0,0,0,-2,0,0, 0,0,0,0,0,0, 0,0,0,0,0 ,0,-sym.I,0,0, 0,0,0, 0,0, 0, 0]\n",
    "\n",
    "row7 = [0,0,-sym.I,0,0,-3,0,2, 0,0,0,0,0,-2,0, 0,0,0,0,0,0, 0,0,0,0,0 ,0,0,-sym.I,0, 0,0,0, 0,0, 0, 0]\n",
    "\n",
    "row8 = [0,0,0,-sym.I,0,0,2,0, 0,0,0,0,0,0,-2, 0,0,0,0,0,0, 0,0,0,0,0 ,0,0,0,-sym.I, 0,0,0, 0,0, 0, 0]\n",
    "\n",
    "row9 = [0,0,0,-4,0,0,0,0, -2,6,0,0,0,0,0, 0,0,0,0,0,0, 0,0,0,0,0 ,0,0,0,0, 0,0,0, 0,0, 0, 0]\n",
    "\n",
    "row10 = [0,0,-2,0,0,0,0,0, 3,-2,-2,0,0,sym.I,0, 3,0,0,-sym.I,0,0, 0,0,0,0,0 ,0,0,0,0, 0,0,0, 0,0, 0, 0]\n",
    "\n",
    "row11 = [0,0,0,-2,0,0,0,0, 0,-2,-2,0,0,0,sym.I, 0,3,0,0,0,0, 0,0,-sym.I,0,0 ,0,0,0,0, 0,0,0, 0,0, 0, 0]\n",
    "#−𝑖𝑎2−2𝑎5+2𝑏5+3𝑐3−𝑖𝑒2\n",
    "row12 = [0,-sym.I,0,0,-2,0,0,0, 0,0,0,0,2,0,0, 0,0,3,0,0,0, 0,0,0,0,0 ,0,-sym.I,0,0, 0,0,0, 0,0, 0, 0]\n",
    "#−2𝑎6−𝑖𝑏1+2𝑏4−3𝑏6+3𝑐4−𝑖𝑓1\n",
    "row13 = [0,0,0,0,0,-2,0,0, -sym.I,0,0,2,0,-3,0, 0,0,0,3,0,0, 0,0,0,0,0 ,0,0,0,0, -sym.I,0,0, 0,0, 0, 0]\n",
    "#−2𝑎7−𝑖𝑏2−3𝑏5+2𝑏7+3𝑐5−𝑖𝑓2\n",
    "row14 = [0,0,0,0,0,0,-2,0, 0,-sym.I,0,0,0-3,0,2, 0,0,0,0,3,0, 0,0,0,0,0 ,0,0,0,0, 0,-sym.I,0, 0,0, 0, 0]\n",
    "#−2𝑎8−𝑖𝑏3+2𝑏6+3𝑐6−𝑖𝑓3\n",
    "row15 = [0,0,0,0,0,0,0,-2, 0,0,-sym.I,0,0,2,0, 0,0,0,0,0,3, 0,0,0,0,0 ,0,0,0,0, 0,0,-sym.I, 0,0, 0, 0]\n",
    "#6𝑏2−2𝑐1−4𝑐2\n",
    "row16 = [0,0,0,0,0,0,0,0, 0,6,0,0,0,0,0, -2,0,0,-4,0,0, 0,0,0,0,0 ,0,0,0,0, 0,0,0, 0,0, 0, 0]\n",
    "#3𝑏3−2𝑐1−2𝑐2+𝑖𝑐6−2𝑑1−𝑖𝑑4\n",
    "row17 = [0,0,0,0,0,0,0,0, 0,0,3,0,0,0,0, -2,-2,0,0,0,sym.I, -2,0,0,-sym.I,0 ,0,0,0,0, 0,0,0, 0,0, 0, 0]\n",
    "#−𝑖𝑎3+3𝑏4+2𝑐4−2𝑑2−𝑖𝑒3\n",
    "row18 = [0,0,-sym.I,0,0,0,0,0, 0,0,0,3,0,0,0, 0,0,0,2,0,0, -2,0,0,0,0 ,0,0,-sym.I,0, 0,0,0, 0,0, 0, 0]\n",
    "#−𝑖𝑏2+3𝑏5+2𝑐3−3𝑐5−2𝑑3−𝑖𝑓2\n",
    "row19 = [0,0,0,0,0,0,0,0, 0,-sym.I,0,0,3,0,0, 0,0,2,0,-3,0, 0,0,-2,0,0 ,0,0,0,0, 0,-sym.I,0, 0,0, 0, 0]\n",
    "#3𝑏6−𝑖𝑐1−3𝑐4+2𝑐6−2𝑑4−𝑖𝑔1\n",
    "row20 = [0,0,0,0,0,0,0,0, 0,0,0,0,0,3,0, -sym.I,0,0,-3,0,2, 0,0,0,-2,0 ,0,0,0,0, 0,0,0, -sym.I,0, 0, 0]\n",
    "#3𝑏7−𝑖𝑐2+2𝑐5−2𝑑5−𝑖𝑔2\n",
    "row21 = [0,0,0,0,0,0,0,0, 0,0,0,0,0,0,3, 0,-sym.I,0,0,2,0, 0,0,0,0,-2 ,0,0,0,0, 0,0,0, 0,-sym.I, 0, 0]\n",
    "#−4𝑐2−2𝑑1\n",
    "row22 = [0,0,0,0,0,0,0,0, 0,0,0,0,0,0,0, 0,-4,0,0,0,0, -2,0,0,0,0 ,0,0,0,0, 0,0,0, 0,0, 0, 0]\n",
    "#−𝑖𝑎4−2𝑐3+2𝑑3−𝑖𝑒4\n",
    "row23 = [0,0,0,-sym.I,0,0,0,0, 0,0,0,0,0,0,0, 0,0,-2,0,0,0, 0,0,2,0,0 ,0,0,0,-sym.I, 0,0,0, 0,0, 0, 0]\n",
    "#−𝑖𝑏3−2𝑐4+2𝑑2−3𝑑4−𝑖𝑓3\n",
    "row24 = [0,0,0,0,0,0,0,0, 0,0,-sym.I,0,0,0,0, 0,0,0,-2,0,0, 0,2,0,-4,0 ,0,0,0,0, 0,0,-sym.I, 0,0, 0, 0]\n",
    "#−𝑖𝑐2−2𝑐5−3𝑑3+2𝑑5−𝑖𝑔2\n",
    "row25 = [0,0,0,0,0,0,0,0, 0,0,0,0,0,0,0, 0,-sym.I,0,0,-2,0, 0,0,-3,0,2 ,0,0,0,0, 0,0,0, 0,-sym.I, 0, 0]\n",
    "#−2𝑐6−𝑖𝑑1+2𝑑4−𝑖ℎ1\n",
    "row26 = [0,0,0,0,0,0,0,0, 0,0,0,0,0,0,0, 0,0,0,0,0,-2, -sym.I,0,0,2,0 ,0,0,0,0, 0,0,0, 0,0, -sym.I, 0]\n",
    "#2𝑒1+4𝑒2\n",
    "row27 = [0,0,0,0,0,0,0,0, 0,0,0,0,0,0,0, 0,0,0,0,0,0, 0,0,0,0,0 ,2,4,0,0, 0,0,0, 0,0, 0, 0]\n",
    "#𝑖𝑎6−𝑖𝑏4+2𝑒1+2𝑒2−3𝑒3+2𝑓1\n",
    "row28 = [0,0,0,0,0,-sym.I,0,0, 0,0,0,-sym.I,0,0,0, 0,0,0,0,0,0, 0,0,0,0,0 ,2,2,-3,0, 2,0,0, 0,0, 0, 0]\n",
    "#𝑖𝑎7−𝑖𝑐3−3𝑒2+2𝑒3+2𝑒4+2𝑓2\n",
    "row29 = [0,0,0,0,0,0,-sym.I,0, 0,0,0,0,0,0,0, 0,0,-sym.I,0,0,0, 0,0,0,0,0 ,0,-3,2,2, 0,2,0, 0,0, 0, 0]\n",
    "#𝑖𝑎8−𝑖𝑑2+2𝑒3+2𝑒4+2𝑓3\n",
    "row30 = [0,0,0,0,0,0,0,-sym.I, 0,0,0,0,0,0,0, 0,0,0,0,0,0, 0,-sym.I,0,0,0 ,0,0,2,2, 0,0,2, 0,0, 0, 0]\n",
    "#4𝑒2+2𝑓1−6𝑓2\n",
    "row31 = [0,0,0,0,0,0,0,0, 0,0,0,0,0,0,0, 0,0,0,0,0,0, 0,0,0,0,0 ,0,4,0,0, 2,-6,0, 0,0, 0, 0]\n",
    "#𝑖𝑏6−𝑖𝑐4+2𝑒3−3𝑓1+2𝑓2+2𝑓3−3𝑔1\n",
    "row32 = [0,0,0,0,0,0,0,0, 0,0,0,0,0,sym.I,0, 0,0,0,-sym.I,0,0, 0,0,0,0,0 ,0,0,2,0, -3,2,2, -3,0, 0, 0]\n",
    "#𝑖𝑏7−𝑖𝑑3+2𝑒4+2𝑓2+2𝑓3−3𝑔2\n",
    "row33 = [0,0,0,0,0,0,0,0, 0,0,0,0,0,0,sym.I, 0,0,0,0,0,0,  0,0,-sym.I,0,0 ,0,0,0,2, 0,2,2, 0,-3, 0, 0]\n",
    "#−6𝑓2+2𝑔1+4𝑔2\n",
    "row34 = [0,0,0,0,0,0,0,0, 0,0,0,0,0,0,0, 0,0,0,0,0,0, 0,0,0,0,0 ,0,0,0,0, 0,-6,0, 2,4, 0, 0]\n",
    "#𝑖𝑐6−𝑖𝑑4−3𝑓3+2𝑔1+2𝑔2+2ℎ1\n",
    "row35 = [0,0,0,0,0,0,0,0, 0,0,0,0,0,0,0, 0,0,0,0,0,sym.I, 0,0,0,-sym.I,0 ,0,0,0,0, 0,0,-3, 2,2, 2, 0]\n",
    "#4𝑔2+2ℎ1\n",
    "row36 = [0,0,0,0,0,0,0,0, 0,0,0,0,0,0,0, 0,0,0,0,0,0, 0,0,0,0,0 ,0,0,0,0, 0,0,0, 0,4, 2, 0]\n",
    "\n",
    "S=sym.Matrix((row1,row2,row3,row4,row5,row6,row7,row8,row9,row10,row11,row12,row13,row14,row15,row16,row17,row18,row19,row20,row21,row22,row23,row24,row25,row26,row27,row28,row29,row30,row31,row32,row33,row34,row35,row36))\n",
    "#display(S)\n",
    "sym.solve_linear_system(S,a_1,a_2,a_3,a_4,a_5,a_6,a_7, a_8,b_1,b_2,b_3,b_4, b_5 , b_6 , b_7 , c_1 , c_2, c_3 , c_4 , c_5 , c_6 , d_1, d_2, d_3, d_4, d_5, e_1, e_2,e_3, e_4, f_1, f_2,f_3,g_1,g_2, h_1)\n",
    "#sym.simplify(HK)\n"
   ]
  },
  {
   "cell_type": "code",
   "execution_count": 369,
   "metadata": {},
   "outputs": [
    {
     "data": {
      "text/latex": [
       "$\\displaystyle \\left[\\begin{matrix}-1 & -1 & 0 & 0\\\\-1 & -1 & 0 & 0\\\\0 & 0 & 1 & -1\\\\0 & 0 & -1 & -1\\end{matrix}\\right]$"
      ],
      "text/plain": [
       "⎡-1  -1  0   0 ⎤\n",
       "⎢              ⎥\n",
       "⎢-1  -1  0   0 ⎥\n",
       "⎢              ⎥\n",
       "⎢0   0   1   -1⎥\n",
       "⎢              ⎥\n",
       "⎣0   0   -1  -1⎦"
      ]
     },
     "execution_count": 369,
     "metadata": {},
     "output_type": "execute_result"
    }
   ],
   "source": [
    "#computer variable\n",
    "S = sym.Matrix([[-1,2,0,0],[2,-1,0,0],[0,0,1,-2],[0,0,-2,1]])\n",
    "S\n",
    "\n",
    "D= sym.Matrix([[0,0,-1,0],[-1,-1,0,0],[0,0,1,-1],[0,0,-1,-1]]) \n",
    "D\n",
    "#sym.Matrix([[1,-1,0,0],[0,1,0,0],[0,0,1,-1],[0,0,0,1]])\n",
    "#sym.Matrix([[1,-1,0,0],[-1,1,0,0],[0,0,-1,1],[0,0,1,-1]]) "
   ]
  },
  {
   "cell_type": "code",
   "execution_count": 370,
   "metadata": {},
   "outputs": [
    {
     "data": {
      "text/latex": [
       "$\\displaystyle \\left[\\begin{matrix}2 & 2 & 0 & 0\\\\2 & 2 & 0 & 0\\\\0 & 0 & 6 & 0\\\\0 & 0 & 0 & -2\\end{matrix}\\right]$"
      ],
      "text/plain": [
       "⎡2  2  0  0 ⎤\n",
       "⎢           ⎥\n",
       "⎢2  2  0  0 ⎥\n",
       "⎢           ⎥\n",
       "⎢0  0  6  0 ⎥\n",
       "⎢           ⎥\n",
       "⎣0  0  0  -2⎦"
      ]
     },
     "execution_count": 370,
     "metadata": {},
     "output_type": "execute_result"
    }
   ],
   "source": [
    "D*S*D"
   ]
  },
  {
   "cell_type": "code",
   "execution_count": 292,
   "metadata": {},
   "outputs": [
    {
     "data": {
      "text/latex": [
       "$\\displaystyle \\left\\{ 0 : 1, \\  2 : 1, \\  1 - \\sqrt{i} : 1, \\  \\sqrt{i} + 1 : 1\\right\\}$"
      ],
      "text/plain": [
       "{0: 1, 2: 1, 1 - √i: 1, √i + 1: 1}"
      ]
     },
     "execution_count": 292,
     "metadata": {},
     "output_type": "execute_result"
    }
   ],
   "source": [
    "D.eigenvals()"
   ]
  },
  {
   "cell_type": "code",
   "execution_count": 79,
   "metadata": {},
   "outputs": [
    {
     "data": {
      "text/latex": [
       "$\\displaystyle \\left[ \\left( -1, \\  2, \\  \\left[ \\left[\\begin{matrix}1\\\\0\\\\0\\\\0\\end{matrix}\\right], \\  \\left[\\begin{matrix}0\\\\0\\\\1\\\\0\\end{matrix}\\right]\\right]\\right), \\  \\left( 1, \\  2, \\  \\left[ \\left[\\begin{matrix}0\\\\1\\\\0\\\\0\\end{matrix}\\right], \\  \\left[\\begin{matrix}0\\\\0\\\\0\\\\1\\end{matrix}\\right]\\right]\\right)\\right]$"
      ],
      "text/plain": [
       "⎡⎛       ⎡⎡1⎤  ⎡0⎤⎤⎞  ⎛      ⎡⎡0⎤  ⎡0⎤⎤⎞⎤\n",
       "⎢⎜       ⎢⎢ ⎥  ⎢ ⎥⎥⎟  ⎜      ⎢⎢ ⎥  ⎢ ⎥⎥⎟⎥\n",
       "⎢⎜       ⎢⎢0⎥  ⎢0⎥⎥⎟  ⎜      ⎢⎢1⎥  ⎢0⎥⎥⎟⎥\n",
       "⎢⎜-1, 2, ⎢⎢ ⎥, ⎢ ⎥⎥⎟, ⎜1, 2, ⎢⎢ ⎥, ⎢ ⎥⎥⎟⎥\n",
       "⎢⎜       ⎢⎢0⎥  ⎢1⎥⎥⎟  ⎜      ⎢⎢0⎥  ⎢0⎥⎥⎟⎥\n",
       "⎢⎜       ⎢⎢ ⎥  ⎢ ⎥⎥⎟  ⎜      ⎢⎢ ⎥  ⎢ ⎥⎥⎟⎥\n",
       "⎣⎝       ⎣⎣0⎦  ⎣0⎦⎦⎠  ⎝      ⎣⎣0⎦  ⎣1⎦⎦⎠⎦"
      ]
     },
     "execution_count": 79,
     "metadata": {},
     "output_type": "execute_result"
    }
   ],
   "source": [
    "D.eigenvects()"
   ]
  },
  {
   "cell_type": "code",
   "execution_count": null,
   "metadata": {},
   "outputs": [],
   "source": []
  },
  {
   "cell_type": "code",
   "execution_count": 206,
   "metadata": {},
   "outputs": [
    {
     "data": {
      "text/latex": [
       "$\\displaystyle \\left[\\begin{matrix}0 & 1\\\\-1 & 0\\end{matrix}\\right]$"
      ],
      "text/plain": [
       "⎡0   1⎤\n",
       "⎢     ⎥\n",
       "⎣-1  0⎦"
      ]
     },
     "execution_count": 206,
     "metadata": {},
     "output_type": "execute_result"
    }
   ],
   "source": [
    "R=sym.Matrix([[0,1],[-1,0]])\n",
    "R"
   ]
  },
  {
   "cell_type": "code",
   "execution_count": 30,
   "metadata": {},
   "outputs": [
    {
     "data": {
      "text/latex": [
       "$\\displaystyle \\left[\\begin{matrix}1 & 0\\\\0 & -1\\end{matrix}\\right]$"
      ],
      "text/plain": [
       "⎡1  0 ⎤\n",
       "⎢     ⎥\n",
       "⎣0  -1⎦"
      ]
     },
     "execution_count": 30,
     "metadata": {},
     "output_type": "execute_result"
    }
   ],
   "source": [
    "I=sym.Matrix([[1,0],[0,-1]])\n",
    "I"
   ]
  },
  {
   "cell_type": "code",
   "execution_count": 208,
   "metadata": {},
   "outputs": [
    {
     "data": {
      "text/latex": [
       "$\\displaystyle \\left[\\begin{matrix}0 & -1\\\\1 & 0\\end{matrix}\\right]$"
      ],
      "text/plain": [
       "⎡0  -1⎤\n",
       "⎢     ⎥\n",
       "⎣1  0 ⎦"
      ]
     },
     "execution_count": 208,
     "metadata": {},
     "output_type": "execute_result"
    }
   ],
   "source": [
    "I*R*I"
   ]
  },
  {
   "cell_type": "code",
   "execution_count": 345,
   "metadata": {},
   "outputs": [
    {
     "data": {
      "text/latex": [
       "$\\displaystyle \\left[ \\frac{3 x}{4} - \\frac{\\sqrt{9 x^{2} - 16}}{4}, \\  \\frac{3 x}{4} + \\frac{\\sqrt{9 x^{2} - 16}}{4}\\right]$"
      ],
      "text/plain": [
       "⎡         ___________           ___________⎤\n",
       "⎢        ╱    2                ╱    2      ⎥\n",
       "⎢3⋅x   ╲╱  9⋅x  - 16   3⋅x   ╲╱  9⋅x  - 16 ⎥\n",
       "⎢─── - ──────────────, ─── + ──────────────⎥\n",
       "⎣ 4          4          4          4       ⎦"
      ]
     },
     "execution_count": 345,
     "metadata": {},
     "output_type": "execute_result"
    }
   ],
   "source": [
    "sym.solve(4*y**2-6*x*y+4,y )"
   ]
  },
  {
   "cell_type": "code",
   "execution_count": 7,
   "metadata": {},
   "outputs": [
    {
     "data": {
      "text/latex": [
       "$\\displaystyle \\left[\\begin{matrix}0 & 0 & -1 & 1\\\\-1 & 1 & 0 & 0\\\\0 & 0 & 1 & 1\\\\1 & 1 & 0 & 0\\end{matrix}\\right]$"
      ],
      "text/plain": [
       "⎡0   0  -1  1⎤\n",
       "⎢            ⎥\n",
       "⎢-1  1  0   0⎥\n",
       "⎢            ⎥\n",
       "⎢0   0  1   1⎥\n",
       "⎢            ⎥\n",
       "⎣1   1  0   0⎦"
      ]
     },
     "execution_count": 7,
     "metadata": {},
     "output_type": "execute_result"
    }
   ],
   "source": [
    "U= sym.Matrix([[0,0,-1,1],[-1,1,0,0],[0,0,1,1],[1,1,0,0]]) \n",
    "U"
   ]
  },
  {
   "cell_type": "code",
   "execution_count": 8,
   "metadata": {},
   "outputs": [
    {
     "data": {
      "text/latex": [
       "$\\displaystyle \\left[\\begin{matrix}- x & y & z & - w\\\\- y & x & w & - z\\\\z & w & - x & y\\\\- w & - z & - y & x\\end{matrix}\\right]$"
      ],
      "text/plain": [
       "⎡-x  y   z   -w⎤\n",
       "⎢              ⎥\n",
       "⎢-y  x   w   -z⎥\n",
       "⎢              ⎥\n",
       "⎢z   w   -x  y ⎥\n",
       "⎢              ⎥\n",
       "⎣-w  -z  -y  x ⎦"
      ]
     },
     "execution_count": 8,
     "metadata": {},
     "output_type": "execute_result"
    }
   ],
   "source": [
    "H=sym.Matrix([[-x,y,z,-w],[-y,x,w,-z],[z,w,-x,y],[-w,-z,-y,x]])\n",
    "H"
   ]
  },
  {
   "cell_type": "code",
   "execution_count": 9,
   "metadata": {},
   "outputs": [
    {
     "data": {
      "text/latex": [
       "$\\displaystyle \\left[\\begin{matrix}w + x - y + z & - w + x - y - z & w + x - y + z & - w + x - y - z\\\\w - x + y - z & w + x - y - z & w - x + y - z & w + x - y - z\\\\- w + x + y + z & w + x + y - z & w - x - y - z & - w - x - y + z\\\\- w - x - y - z & - w + x + y - z & w + x + y + z & w - x - y + z\\end{matrix}\\right]$"
      ],
      "text/plain": [
       "⎡w + x - y + z   -w + x - y - z  w + x - y + z  -w + x - y - z⎤\n",
       "⎢                                                             ⎥\n",
       "⎢w - x + y - z   w + x - y - z   w - x + y - z  w + x - y - z ⎥\n",
       "⎢                                                             ⎥\n",
       "⎢-w + x + y + z  w + x + y - z   w - x - y - z  -w - x - y + z⎥\n",
       "⎢                                                             ⎥\n",
       "⎣-w - x - y - z  -w + x + y - z  w + x + y + z  w - x - y + z ⎦"
      ]
     },
     "execution_count": 9,
     "metadata": {},
     "output_type": "execute_result"
    }
   ],
   "source": [
    "U*H*U"
   ]
  },
  {
   "cell_type": "code",
   "execution_count": 20,
   "metadata": {},
   "outputs": [
    {
     "data": {
      "text/latex": [
       "$\\displaystyle \\left( \\left[\\begin{matrix}0 & -1 & 0 & 1\\\\0 & 1 & 0 & 1\\\\-1 & 0 & 1 & 0\\\\1 & 0 & 1 & 0\\end{matrix}\\right], \\  \\left[\\begin{matrix}0 & 0 & -1 & 1\\\\-1 & 1 & 0 & 0\\\\0 & 0 & 1 & 1\\\\1 & 1 & 0 & 0\\end{matrix}\\right]\\right)$"
      ],
      "text/plain": [
       "⎛⎡0   -1  0  1⎤  ⎡0   0  -1  1⎤⎞\n",
       "⎜⎢            ⎥  ⎢            ⎥⎟\n",
       "⎜⎢0   1   0  1⎥  ⎢-1  1  0   0⎥⎟\n",
       "⎜⎢            ⎥, ⎢            ⎥⎟\n",
       "⎜⎢-1  0   1  0⎥  ⎢0   0  1   1⎥⎟\n",
       "⎜⎢            ⎥  ⎢            ⎥⎟\n",
       "⎝⎣1   0   1  0⎦  ⎣1   1  0   0⎦⎠"
      ]
     },
     "execution_count": 20,
     "metadata": {},
     "output_type": "execute_result"
    }
   ],
   "source": [
    "V=sym.Matrix([[0, -1, 0, 1],[0, 1, 0, 1],[-1, 0, 1, 0],[1, 0,1, 0]]) \n",
    "\n",
    "VD=sym.Matrix([[0, 0, -1, 1],[-1, 1, 0, 0],[0, 0, 1, 1],[1, 1,0, 0]]) \n",
    "V ,VD"
   ]
  },
  {
   "cell_type": "code",
   "execution_count": 22,
   "metadata": {},
   "outputs": [
    {
     "data": {
      "text/latex": [
       "$\\displaystyle \\left[\\begin{matrix}0 & 0 & 2 x - 2 y & - 2 w - 2 z\\\\0 & 0 & 2 w - 2 z & 2 x - 2 y\\\\2 x + 2 y & 2 w - 2 z & 0 & 0\\\\- 2 w - 2 z & 2 x + 2 y & 0 & 0\\end{matrix}\\right]$"
      ],
      "text/plain": [
       "⎡    0           0      2⋅x - 2⋅y  -2⋅w - 2⋅z⎤\n",
       "⎢                                            ⎥\n",
       "⎢    0           0      2⋅w - 2⋅z  2⋅x - 2⋅y ⎥\n",
       "⎢                                            ⎥\n",
       "⎢2⋅x + 2⋅y   2⋅w - 2⋅z      0          0     ⎥\n",
       "⎢                                            ⎥\n",
       "⎣-2⋅w - 2⋅z  2⋅x + 2⋅y      0          0     ⎦"
      ]
     },
     "execution_count": 22,
     "metadata": {},
     "output_type": "execute_result"
    }
   ],
   "source": [
    "VD*H*V"
   ]
  },
  {
   "cell_type": "code",
   "execution_count": 38,
   "metadata": {},
   "outputs": [
    {
     "data": {
      "text/latex": [
       "$\\displaystyle \\left( \\left[\\begin{matrix}a & b\\\\- b & - a\\end{matrix}\\right], \\  \\left[\\begin{matrix}0 & - i \\left(- a + b\\right) + i \\left(a - b\\right)\\\\- 2 a i - 2 b i & 0\\end{matrix}\\right]\\right)$"
      ],
      "text/plain": [
       "⎛⎡a   b ⎤  ⎡      0         -i⋅(-a + b) + i⋅(a - b)⎤⎞\n",
       "⎜⎢      ⎥, ⎢                                       ⎥⎟\n",
       "⎝⎣-b  -a⎦  ⎣-2⋅a⋅i - 2⋅b⋅i             0           ⎦⎠"
      ]
     },
     "execution_count": 38,
     "metadata": {},
     "output_type": "execute_result"
    }
   ],
   "source": [
    "A=sym.Matrix([[a,b],[-b,-a]])\n",
    "I2=sym.Matrix([[1,1],[-i,i]])\n",
    "I3=sym.Matrix([[1,i],[1,-i]])\n",
    "A, I2*A*I3"
   ]
  },
  {
   "cell_type": "code",
   "execution_count": 41,
   "metadata": {},
   "outputs": [
    {
     "data": {
      "text/latex": [
       "$\\displaystyle \\left[\\begin{matrix}1 & 0 & 0 & 0 & 1 & 0 & 0 & 0\\\\0 & -1 & 0 & 0 & 0 & -1 & 0 & 0\\\\0 & 0 & 1 & 0 & 0 & 0 & 1 & 0\\\\0 & 0 & 0 & -1 & 0 & 0 & 0 & -1\\\\1 & 0 & 0 & 0 & 1 & 0 & 0 & 0\\\\0 & -1 & 0 & 0 & 0 & 1 & 0 & 0\\\\0 & 0 & 1 & 0 & 0 & 0 & 1 & 0\\\\0 & 0 & 0 & -1 & 0 & 0 & 0 & 1\\end{matrix}\\right]$"
      ],
      "text/plain": [
       "⎡1  0   0  0   1  0   0  0 ⎤\n",
       "⎢                          ⎥\n",
       "⎢0  -1  0  0   0  -1  0  0 ⎥\n",
       "⎢                          ⎥\n",
       "⎢0  0   1  0   0  0   1  0 ⎥\n",
       "⎢                          ⎥\n",
       "⎢0  0   0  -1  0  0   0  -1⎥\n",
       "⎢                          ⎥\n",
       "⎢1  0   0  0   1  0   0  0 ⎥\n",
       "⎢                          ⎥\n",
       "⎢0  -1  0  0   0  1   0  0 ⎥\n",
       "⎢                          ⎥\n",
       "⎢0  0   1  0   0  0   1  0 ⎥\n",
       "⎢                          ⎥\n",
       "⎣0  0   0  -1  0  0   0  1 ⎦"
      ]
     },
     "execution_count": 41,
     "metadata": {},
     "output_type": "execute_result"
    }
   ],
   "source": [
    "U1 = sym.Matrix([[1,0,0,0,1,0,0,0],[0,-1,0,0,0,-1,0,0],[0,0,1,0,0,0,1,0],[0,0,0,-1,0,0,0,-1],[1,0,0,0,1,0,0,0],[0,-1,0,0,0,1,0,0],[0,0,1,0,0,0,1,0],[0,0,0,-1,0,0,0,1]])\n",
    "U1"
   ]
  },
  {
   "cell_type": "code",
   "execution_count": 40,
   "metadata": {},
   "outputs": [
    {
     "data": {
      "text/latex": [
       "$\\displaystyle \\left[\\begin{matrix}6 & 9 & 6 & 3 & 0 & 0 & 0 & 0\\\\9 & 13 & 10 & 2 & 0 & 0 & 0 & 0\\\\6 & 12 & 10 & 3 & 0 & 0 & 0 & 0\\\\0 & -2 & -2 & -1 & 0 & 0 & 0 & 0\\\\0 & 0 & 0 & 0 & -1 & 2 & 0 & 0\\\\0 & 0 & 0 & 0 & 2 & -1 & 3 & 0\\\\0 & 0 & 0 & 0 & 0 & 3 & -1 & 2\\\\0 & 0 & 0 & 0 & 0 & 0 & 2 & -1\\end{matrix}\\right]$"
      ],
      "text/plain": [
       "⎡6  9   6   3   0   0   0   0 ⎤\n",
       "⎢                             ⎥\n",
       "⎢9  13  10  2   0   0   0   0 ⎥\n",
       "⎢                             ⎥\n",
       "⎢6  12  10  3   0   0   0   0 ⎥\n",
       "⎢                             ⎥\n",
       "⎢0  -2  -2  -1  0   0   0   0 ⎥\n",
       "⎢                             ⎥\n",
       "⎢0  0   0   0   -1  2   0   0 ⎥\n",
       "⎢                             ⎥\n",
       "⎢0  0   0   0   2   -1  3   0 ⎥\n",
       "⎢                             ⎥\n",
       "⎢0  0   0   0   0   3   -1  2 ⎥\n",
       "⎢                             ⎥\n",
       "⎣0  0   0   0   0   0   2   -1⎦"
      ]
     },
     "execution_count": 40,
     "metadata": {},
     "output_type": "execute_result"
    }
   ],
   "source": [
    "U1*H1*U1"
   ]
  },
  {
   "cell_type": "code",
   "execution_count": null,
   "metadata": {},
   "outputs": [],
   "source": []
  }
 ],
 "metadata": {
  "kernelspec": {
   "display_name": "Python 3",
   "language": "python",
   "name": "python3"
  },
  "language_info": {
   "codemirror_mode": {
    "name": "ipython",
    "version": 3
   },
   "file_extension": ".py",
   "mimetype": "text/x-python",
   "name": "python",
   "nbconvert_exporter": "python",
   "pygments_lexer": "ipython3",
   "version": "3.8.3"
  }
 },
 "nbformat": 4,
 "nbformat_minor": 2
}
