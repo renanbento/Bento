{
 "cells": [
  {
   "cell_type": "code",
   "execution_count": 41,
   "metadata": {},
   "outputs": [],
   "source": [
    "class pessoa:\n",
    "    def __init__(self,nome,idade,comendo=False,falando=False):\n",
    "        self.nome=nome\n",
    "        self.idade=idade\n",
    "        self.comendo=comendo\n",
    "        self.falando=falando\n",
    "    \n",
    "    def falar(self,assunto):\n",
    "        if self.comendo:\n",
    "            print(f'{self.nome} não pode falar comendo.')\n",
    "            return\n",
    "        \n",
    "        if self.falando:\n",
    "            print(f'{self.nome} já esta falando')\n",
    "            return\n",
    "        \n",
    "        print(f'{self.nome} está falando sobre {assunto}')\n",
    "        self.falando=True\n",
    "        \n",
    "    def comer(self, alimento):\n",
    "        if self.comendo:\n",
    "            print(f'{self.nome} já esta comendo')\n",
    "            return\n",
    "        \n",
    "        print(f'{self.nome} esta comendo {alimento}')\n",
    "        self.comendo=True\n",
    "    \n",
    "    def parar_comer(self):\n",
    "        if not self.comendo:\n",
    "            print(f'{self.nome} não está comendo.')\n",
    "            return\n",
    "        print(f'{self.nome} parou de comer.')\n",
    "        self.comendo= False"
   ]
  },
  {
   "cell_type": "code",
   "execution_count": 43,
   "metadata": {},
   "outputs": [
    {
     "name": "stdout",
     "output_type": "stream",
     "text": [
      "Marcela esta comendo maçã\n",
      "Marcela já esta comendo\n",
      "Marcela parou de comer.\n",
      "Marcela está falando sobre POO\n"
     ]
    }
   ],
   "source": [
    "p1=pessoa('Renan','30')\n",
    "p2=pessoa('Marcela','30')\n",
    "p2.comer('maçã')\n",
    "p2.comer('maçã')\n",
    "p2.parar_comer()\n",
    "p2.falar('POO')"
   ]
  },
  {
   "cell_type": "code",
   "execution_count": 4,
   "metadata": {},
   "outputs": [
    {
     "name": "stdout",
     "output_type": "stream",
     "text": [
      "Aquiles esta rolando.\n",
      "Aquiles esta sentando.\n",
      "Bingo esta rolando.\n",
      "Bingo esta sentando.\n"
     ]
    }
   ],
   "source": [
    "class Cachorro():\n",
    "    \"\"\"Uma tentativa simples de modelar um cachorro.\"\"\"\n",
    "    def __init__(self, nome, idade):\n",
    "        \"\"\"Inicializa os atributos nome e idade\"\"\"\n",
    "        self.nome=nome\n",
    "        self.idade=idade\n",
    "\n",
    "    def sentar(self):\n",
    "        \"\"\"Simula um cachorro sentando em resposta a um comando\"\"\"\n",
    "        print(self.nome.title() + \" esta sentando.\")\n",
    "\n",
    "    def rolar(self):\n",
    "        \"\"\"\"simula um cachorrol rolando em resposta a um comando\"\"\"\n",
    "        print(self.nome.title()+ \" esta rolando.\")\n",
    "\n",
    "\n",
    "meu_cachorro=Cachorro(\"Aquiles\", 6)\n",
    "meu_outro_cachorro=Cachorro('Bingo',8)\n",
    "meu_cachorro.rolar()\n",
    "\n",
    "meu_cachorro.sentar()\n",
    "\n",
    "meu_outro_cachorro.rolar()\n",
    "meu_outro_cachorro.sentar()\n"
   ]
  },
  {
   "cell_type": "code",
   "execution_count": 15,
   "metadata": {},
   "outputs": [
    {
     "name": "stdout",
     "output_type": "stream",
     "text": [
      "Depaneneu\n",
      "padaria\n",
      "O restaurante Depaneneu e sua especialidade é padaria\n",
      "O restaurante Entrecote e sua especialidade é Frances\n",
      "O restaurante Comida mineira e sua especialidade é Mineira\n",
      "O restaurante Depaneneu esta aberto.\n"
     ]
    }
   ],
   "source": [
    "class Restaurante():\n",
    "    def __init__(self,nome,tipo):\n",
    "        self.restaurante_nome=nome\n",
    "        self.tipo_cozinha=tipo\n",
    "    \n",
    "    def restaurante_descricao(self):\n",
    "        print(f'O restaurante {self.restaurante_nome} e sua especialidade é {self.tipo_cozinha}')\n",
    "        \n",
    "    def restaurante_aberto(self):\n",
    "        print(f'O restaurante {self.restaurante_nome} esta aberto.')\n",
    "        \n",
    "\n",
    "restaurante1=Restaurante('Depaneneu', 'padaria')\n",
    "restaurante2=Restaurante('Entrecote', 'Frances')\n",
    "restaurante3=Restaurante('Comida mineira', 'Mineira')\n",
    "print(restaurante1.restaurante_nome)\n",
    "print(restaurante1.tipo_cozinha)\n",
    "restaurante1.restaurante_descricao()\n",
    "restaurante2.restaurante_descricao()\n",
    "restaurante3.restaurante_descricao()\n",
    "restaurante1.restaurante_aberto()\n"
   ]
  },
  {
   "cell_type": "code",
   "execution_count": 19,
   "metadata": {},
   "outputs": [
    {
     "name": "stdout",
     "output_type": "stream",
     "text": [
      "Nome:Renan Bento\n",
      "idade: 30\n",
      "sexo: masculino\n",
      "Nome:Marcela Duarte\n",
      "idade: 29\n",
      "sexo: femenino\n",
      "olá Renan  Bento\n",
      "olá Marcela  Duarte\n"
     ]
    }
   ],
   "source": [
    "class Usuario():\n",
    "    def __init__(self, primeiro_nome,segundo_nome, idade, sexo):\n",
    "        self.primeiro_nome=primeiro_nome\n",
    "        self.segundo_nome=segundo_nome\n",
    "        self.idade=idade\n",
    "        self.sexo=sexo\n",
    "        \n",
    "    def descricao_usuario(self):\n",
    "        print(f'Nome:{self.primeiro_nome} {self.segundo_nome}')\n",
    "        print(f'idade: {self.idade} anos')\n",
    "        print(f'sexo: {self.sexo}')\n",
    "        \n",
    "    def saudacao_usuario(self):\n",
    "        print(f\"olá {self.primeiro_nome}  {self.segundo_nome}\")\n",
    "    \n",
    "\n",
    "user1=Usuario('Renan', 'Bento', 30, 'masculino' )\n",
    "user2=Usuario('Marcela', 'Duarte', 29, 'femenino' )\n",
    "\n",
    "user1.descricao_usuario()\n",
    "user2.descricao_usuario()\n",
    "user1.saudacao_usuario()\n",
    "user2.saudacao_usuario()"
   ]
  },
  {
   "cell_type": "code",
   "execution_count": 29,
   "metadata": {},
   "outputs": [],
   "source": [
    "class Carros():\n",
    "    \n",
    "    def __init__(self, fabricante, modelo, ano):\n",
    "        self.fabricante= fabricante\n",
    "        self.modelo =  modelo\n",
    "        self.ano= ano\n",
    "        self.odometro = 0\n",
    "        self.combustivel=100\n",
    "        \n",
    "    def descricao_nome(self):\n",
    "        nome_longo= str(self.ano) + \" \" + self.fabricante + ' ' + self.modelo\n",
    "        return nome_longo.title()\n",
    "    \n",
    "    def leia_odometro(self):\n",
    "        print('o carro tem ' + str(self.odometro ) + 'Km rodados')\n",
    "        \n",
    "    def altera_odometro(self, novo_odometro):\n",
    "        self.odometro=novo_odometro\n",
    "    \n",
    "    def incrementa_odometro(self, novo_odometro):\n",
    "        self.odometro+= novo_odometro\n",
    "        \n",
    "    def tanque_gasolina(self):\n",
    "        '''Exibe a quantidade de gasolina no tanque'''\n",
    "        print(f'o tanque de gasolina esta com {self.combustivel}% cheio')"
   ]
  },
  {
   "cell_type": "code",
   "execution_count": 25,
   "metadata": {},
   "outputs": [
    {
     "name": "stdout",
     "output_type": "stream",
     "text": [
      "2016 Audi A4\n",
      "o carro tem 0Km rodados\n",
      "\n",
      "mudando odometro\n",
      "o carro tem 5Km rodados\n",
      "\n",
      "mudar odometro\n",
      "o carro tem 10Km rodados\n",
      "mudar odometro\n",
      "o carro tem 20Km rodados\n"
     ]
    }
   ],
   "source": [
    "meu_carro = Carros('audi','a4',2016)\n",
    "print(meu_carro.descricao_nome())\n",
    "meu_carro.leia_odometro()\n",
    "print('')\n",
    "print('mudando odometro')\n",
    "meu_carro.odometro = 5\n",
    "meu_carro.leia_odometro()\n",
    "print()\n",
    "print('mudar odometro')\n",
    "meu_carro.altera_odometro(10)\n",
    "meu_carro.leia_odometro()\n",
    "print('mudar odometro')\n",
    "meu_carro.incrementa_odometro(10)\n",
    "meu_carro.leia_odometro()"
   ]
  },
  {
   "cell_type": "code",
   "execution_count": 31,
   "metadata": {},
   "outputs": [
    {
     "name": "stdout",
     "output_type": "stream",
     "text": [
      "o tanque de gasolina esta com 100% cheio\n"
     ]
    }
   ],
   "source": [
    "carro1=Carros('honda','civic', 2015)\n",
    "carro1.tanque_gasolina()"
   ]
  },
  {
   "cell_type": "code",
   "execution_count": 39,
   "metadata": {},
   "outputs": [],
   "source": [
    "class carrosEletricos(Carros):\n",
    "    '''representa aspectos de um carro especifico'''\n",
    "    def __init__(self,fabricante,modelo, ano):\n",
    "        super().__init__(fabricante,modelo,ano)\n",
    "        \n",
    "    def tanque_gasolina(self):\n",
    "        print('carros eletricos não usam gasolina')"
   ]
  },
  {
   "cell_type": "code",
   "execution_count": 42,
   "metadata": {},
   "outputs": [
    {
     "name": "stdout",
     "output_type": "stream",
     "text": [
      "carros eletricos não usam gasolina\n"
     ]
    }
   ],
   "source": [
    "carroE=carrosEletricos('tesla','modelo s', 2015)\n",
    "carroE.descricao_nome()\n",
    "carroE.tanque_gasolina()"
   ]
  },
  {
   "cell_type": "code",
   "execution_count": null,
   "metadata": {},
   "outputs": [],
   "source": []
  }
 ],
 "metadata": {
  "kernelspec": {
   "display_name": "Python 3",
   "language": "python",
   "name": "python3"
  },
  "language_info": {
   "codemirror_mode": {
    "name": "ipython",
    "version": 3
   },
   "file_extension": ".py",
   "mimetype": "text/x-python",
   "name": "python",
   "nbconvert_exporter": "python",
   "pygments_lexer": "ipython3",
   "version": "3.8.3"
  }
 },
 "nbformat": 4,
 "nbformat_minor": 4
}
