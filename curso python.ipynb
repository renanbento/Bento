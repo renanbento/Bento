{
 "cells": [
  {
   "cell_type": "code",
   "execution_count": null,
   "metadata": {},
   "outputs": [],
   "source": [
    "for x in range(0,50,2):\n",
    "    display(x)"
   ]
  },
  {
   "cell_type": "code",
   "execution_count": null,
   "metadata": {},
   "outputs": [],
   "source": [
    "n=0\n",
    "for x in range(1,500,2):\n",
    "    if(x%3==0):\n",
    "        n=n+x\n",
    "print(n)"
   ]
  },
  {
   "cell_type": "code",
   "execution_count": null,
   "metadata": {},
   "outputs": [],
   "source": [
    "n=int(input('escreva um valor: '))\n",
    "for x in range(11):\n",
    "    print('{} x {:1}={}'.format(n, x, n*x))"
   ]
  },
  {
   "cell_type": "code",
   "execution_count": null,
   "metadata": {},
   "outputs": [],
   "source": [
    "m=0\n",
    "for x in range(1,6):\n",
    "    n=int(input('escreva um valor: '))\n",
    "    if(n%2==0):\n",
    "        m=m+n\n",
    "print(m)"
   ]
  },
  {
   "cell_type": "code",
   "execution_count": null,
   "metadata": {},
   "outputs": [],
   "source": [
    "n1=int(input('escreva um valor: '))\n",
    "r=int(input('escreva um valor: '))\n",
    "m=n1\n",
    "print(m)\n",
    "for x in range(10):\n",
    "    m=m+r\n",
    "    print(m)\n",
    "    "
   ]
  },
  {
   "cell_type": "code",
   "execution_count": null,
   "metadata": {},
   "outputs": [],
   "source": [
    "n1=int(input('escreva um valor: '))\n",
    "Tot=0\n",
    "for m in range(1,n1+1):\n",
    "    if n1 % m == 0:\n",
    "        print(\"\\033[34m\", end=\"\")\n",
    "        Tot += 1\n",
    "    else :\n",
    "        print(\"\\033[31m\", end=\"\")\n",
    "    print(\"{}\".format(m), end=\" \")\n",
    "print(\"\\n\\033[m o numero {} foi divisivel {} vezes\".format(n1,Tot))  \n",
    "if Tot==2:\n",
    "    print(\"por isso ele é primo\")\n",
    "else:\n",
    "    print(\" por isso ele não é primo\")"
   ]
  },
  {
   "cell_type": "code",
   "execution_count": null,
   "metadata": {},
   "outputs": [],
   "source": [
    "frase= ((str(input('digite uma frase  '))).strip().upper()) #strip tira espacos \n",
    "palavras= frase.split() #separa as palavras\n",
    "junto=\"\".join(palavras)\n",
    "inverso = \"\"\n",
    "print(\"você digitou a frase {}\".format(junto))\n",
    "for l in range(len(junto) - 1,-1,-1):\n",
    "        inverso += junto[l]\n",
    "if inverso == junto:\n",
    "    print(\"é um palindromo! \")\n",
    "else:\n",
    "    print(\" não é  um palindromo\")"
   ]
  },
  {
   "cell_type": "code",
   "execution_count": null,
   "metadata": {},
   "outputs": [],
   "source": [
    "from datetime import date\n",
    "atual = date.today().year\n",
    "maior=0\n",
    "menor=0\n",
    "for n in range(1,8):\n",
    "    nasc= int(input(\"digite o ano de nascmento da da {} pessoa \".format(n)))\n",
    "    idade = atual - nasc\n",
    "    if idade >= 18:\n",
    "        maior+=1\n",
    "    else:\n",
    "        menor+=1\n",
    "print(\" tem {} maiores de idade e {} menores de idade\".format(maior, menor))"
   ]
  },
  {
   "cell_type": "code",
   "execution_count": null,
   "metadata": {},
   "outputs": [],
   "source": [
    "menor=10000\n",
    "maior=0\n",
    "for n in range(1,6):\n",
    "    peso=int(input(\"digite o peso da {} pessoa em Kg \".format(n)))\n",
    "    if peso > maior:\n",
    "        maior=peso\n",
    "    if peso <= menor:\n",
    "        menor = peso\n",
    "print(\"O menor peso foi {} e o maior peso foi {}\".format(menor,maior))"
   ]
  },
  {
   "cell_type": "code",
   "execution_count": null,
   "metadata": {},
   "outputs": [],
   "source": [
    "maior=0\n",
    "contador=0\n",
    "for x in range(4):\n",
    "    nome= ((str(input('digite um nome  ')))) #strip tira espacos \n",
    "    sexo = ((str(input('Digite o sexo M (Masculino) ou F (Feminino)  '))).strip().upper()) #strip tira espacos\n",
    "    idade= int(input(\"digite a idade da pessoa \"))\n",
    "    if(sexo==\"M\" and idade>maior):\n",
    "        Nomemaior=nome\n",
    "        maior=idade\n",
    "    elif(sexo==\"F\" and idade<20):\n",
    "        contador+=1\n",
    "    else:\n",
    "        print(\"dados incorretos\")\n",
    "print(\"O homem de maior idade se chama {} e tem {} anos, e tem {} menores de 20 anos\".format(Nomemaior,maior,contador))"
   ]
  },
  {
   "cell_type": "code",
   "execution_count": null,
   "metadata": {},
   "outputs": [],
   "source": [
    "S=str(input(\"Digite seu sexo M (masculino) ou F (feminino) \")).strip().upper()\n",
    "while S not in \"FM\":\n",
    "    S=str(input(\"Alternativa invalida Digite seu sexo \")).strip().upper()\n",
    "print(\"Seu sexo {} foi cadastrado com sucesso\".format(S))"
   ]
  },
  {
   "cell_type": "code",
   "execution_count": null,
   "metadata": {},
   "outputs": [],
   "source": [
    "from random import randint\n",
    "N=randint(1,10)\n",
    "while N!=S:\n",
    "    S=int(input(\"Digite um numero \"))\n",
    "print(\"Acertou o numero!\")"
   ]
  },
  {
   "cell_type": "code",
   "execution_count": 10,
   "metadata": {},
   "outputs": [
    {
     "name": "stdout",
     "output_type": "stream",
     "text": [
      "Primeiro valor: 1\n",
      "Segundo valor: 2\n",
      "\n",
      "    [1] somar\n",
      "    [2] multiplicar \n",
      "    [3] maior\n",
      "    [4] novos numeros\n",
      "    [5] sair do programa\n",
      "Escolha uma opção: 1\n",
      "A soma de 1 + 2  é 3\n",
      "=-==-==-==-==-==-==-==-==-==-=\n",
      "\n",
      "    [1] somar\n",
      "    [2] multiplicar \n",
      "    [3] maior\n",
      "    [4] novos numeros\n",
      "    [5] sair do programa\n",
      "Escolha uma opção: 3\n",
      "O maior numero é 2\n",
      "=-==-==-==-==-==-==-==-==-==-=\n",
      "\n",
      "    [1] somar\n",
      "    [2] multiplicar \n",
      "    [3] maior\n",
      "    [4] novos numeros\n",
      "    [5] sair do programa\n"
     ]
    },
    {
     "ename": "KeyboardInterrupt",
     "evalue": "Interrupted by user",
     "output_type": "error",
     "traceback": [
      "\u001b[1;31m---------------------------------------------------------------------------\u001b[0m",
      "\u001b[1;31mKeyboardInterrupt\u001b[0m                         Traceback (most recent call last)",
      "\u001b[1;32m<ipython-input-10-ada5bcc09310>\u001b[0m in \u001b[0;36m<module>\u001b[1;34m\u001b[0m\n\u001b[0;32m     15\u001b[0m     \u001b[1;33m[\u001b[0m\u001b[1;36m4\u001b[0m\u001b[1;33m]\u001b[0m \u001b[0mnovos\u001b[0m \u001b[0mnumeros\u001b[0m\u001b[1;33m\u001b[0m\u001b[1;33m\u001b[0m\u001b[0m\n\u001b[0;32m     16\u001b[0m     [5] sair do programa\"\"\")\n\u001b[1;32m---> 17\u001b[1;33m     \u001b[0mOP\u001b[0m\u001b[1;33m=\u001b[0m \u001b[0mint\u001b[0m\u001b[1;33m(\u001b[0m\u001b[0minput\u001b[0m\u001b[1;33m(\u001b[0m\u001b[1;34m\"Escolha uma opção: \"\u001b[0m\u001b[1;33m)\u001b[0m\u001b[1;33m)\u001b[0m\u001b[1;33m\u001b[0m\u001b[1;33m\u001b[0m\u001b[0m\n\u001b[0m\u001b[0;32m     18\u001b[0m     \u001b[1;32mif\u001b[0m \u001b[0mOP\u001b[0m \u001b[1;33m==\u001b[0m \u001b[1;36m1\u001b[0m\u001b[1;33m:\u001b[0m\u001b[1;33m\u001b[0m\u001b[1;33m\u001b[0m\u001b[0m\n\u001b[0;32m     19\u001b[0m         \u001b[0mprint\u001b[0m\u001b[1;33m(\u001b[0m\u001b[1;34m\"A soma de {} + {}  é {}\"\u001b[0m\u001b[1;33m.\u001b[0m\u001b[0mformat\u001b[0m\u001b[1;33m(\u001b[0m\u001b[0mn1\u001b[0m\u001b[1;33m,\u001b[0m\u001b[0mn2\u001b[0m\u001b[1;33m,\u001b[0m\u001b[0mn1\u001b[0m\u001b[1;33m+\u001b[0m\u001b[0mn2\u001b[0m\u001b[1;33m)\u001b[0m\u001b[1;33m)\u001b[0m\u001b[1;33m\u001b[0m\u001b[1;33m\u001b[0m\u001b[0m\n",
      "\u001b[1;32m~\\anaconda3\\lib\\site-packages\\ipykernel\\kernelbase.py\u001b[0m in \u001b[0;36mraw_input\u001b[1;34m(self, prompt)\u001b[0m\n\u001b[0;32m    858\u001b[0m                 \u001b[1;34m\"raw_input was called, but this frontend does not support input requests.\"\u001b[0m\u001b[1;33m\u001b[0m\u001b[1;33m\u001b[0m\u001b[0m\n\u001b[0;32m    859\u001b[0m             )\n\u001b[1;32m--> 860\u001b[1;33m         return self._input_request(str(prompt),\n\u001b[0m\u001b[0;32m    861\u001b[0m             \u001b[0mself\u001b[0m\u001b[1;33m.\u001b[0m\u001b[0m_parent_ident\u001b[0m\u001b[1;33m,\u001b[0m\u001b[1;33m\u001b[0m\u001b[1;33m\u001b[0m\u001b[0m\n\u001b[0;32m    862\u001b[0m             \u001b[0mself\u001b[0m\u001b[1;33m.\u001b[0m\u001b[0m_parent_header\u001b[0m\u001b[1;33m,\u001b[0m\u001b[1;33m\u001b[0m\u001b[1;33m\u001b[0m\u001b[0m\n",
      "\u001b[1;32m~\\anaconda3\\lib\\site-packages\\ipykernel\\kernelbase.py\u001b[0m in \u001b[0;36m_input_request\u001b[1;34m(self, prompt, ident, parent, password)\u001b[0m\n\u001b[0;32m    902\u001b[0m             \u001b[1;32mexcept\u001b[0m \u001b[0mKeyboardInterrupt\u001b[0m\u001b[1;33m:\u001b[0m\u001b[1;33m\u001b[0m\u001b[1;33m\u001b[0m\u001b[0m\n\u001b[0;32m    903\u001b[0m                 \u001b[1;31m# re-raise KeyboardInterrupt, to truncate traceback\u001b[0m\u001b[1;33m\u001b[0m\u001b[1;33m\u001b[0m\u001b[1;33m\u001b[0m\u001b[0m\n\u001b[1;32m--> 904\u001b[1;33m                 \u001b[1;32mraise\u001b[0m \u001b[0mKeyboardInterrupt\u001b[0m\u001b[1;33m(\u001b[0m\u001b[1;34m\"Interrupted by user\"\u001b[0m\u001b[1;33m)\u001b[0m \u001b[1;32mfrom\u001b[0m \u001b[1;32mNone\u001b[0m\u001b[1;33m\u001b[0m\u001b[1;33m\u001b[0m\u001b[0m\n\u001b[0m\u001b[0;32m    905\u001b[0m             \u001b[1;32mexcept\u001b[0m \u001b[0mException\u001b[0m \u001b[1;32mas\u001b[0m \u001b[0me\u001b[0m\u001b[1;33m:\u001b[0m\u001b[1;33m\u001b[0m\u001b[1;33m\u001b[0m\u001b[0m\n\u001b[0;32m    906\u001b[0m                 \u001b[0mself\u001b[0m\u001b[1;33m.\u001b[0m\u001b[0mlog\u001b[0m\u001b[1;33m.\u001b[0m\u001b[0mwarning\u001b[0m\u001b[1;33m(\u001b[0m\u001b[1;34m\"Invalid Message:\"\u001b[0m\u001b[1;33m,\u001b[0m \u001b[0mexc_info\u001b[0m\u001b[1;33m=\u001b[0m\u001b[1;32mTrue\u001b[0m\u001b[1;33m)\u001b[0m\u001b[1;33m\u001b[0m\u001b[1;33m\u001b[0m\u001b[0m\n",
      "\u001b[1;31mKeyboardInterrupt\u001b[0m: Interrupted by user"
     ]
    }
   ],
   "source": [
    "from time import sleep\n",
    "n1=int(input(\"Primeiro valor: \"))\n",
    "n2=int(input(\"Segundo valor: \"))\n",
    "# print(\"\"\"[1] somar\n",
    "# [2] multiplicar \n",
    "# [3] maior\n",
    "# [4] novos numeros\n",
    "# [5] sair do programa\"\"\")\n",
    "OP= 0 #int(input(\"Escolha uma opção: \"))\n",
    "while OP!=5:\n",
    "    print(\"\"\"\n",
    "    [1] somar\n",
    "    [2] multiplicar \n",
    "    [3] maior\n",
    "    [4] novos numeros\n",
    "    [5] sair do programa\"\"\")\n",
    "    OP= int(input(\"Escolha uma opção: \"))\n",
    "    if OP == 1:\n",
    "        print(\"A soma de {} + {}  é {}\".format(n1,n2,n1+n2))\n",
    "\n",
    "    elif OP == 2:\n",
    "        print(\"A multiplicação de {} X {} é {}\".format(n1,n2,n1*n2))\n",
    "    elif OP == 3:\n",
    "        if n1>n2:\n",
    "            print(\"O maior numero é {}\".format(n1))\n",
    "        elif n2>n1:\n",
    "            print(\"O maior numero é {}\".format(n2))\n",
    "        else:\n",
    "            print(\" os dois são iguais\")\n",
    "    elif OP == 4:\n",
    "        n1=int(input(\"Primeiro valor: \"))\n",
    "        n2=int(input(\"Segundo valor: \"))\n",
    "    elif OP == 5:\n",
    "        print(\"Finalizando...\")\n",
    "    else:\n",
    "        print(\"Opção invalida\")\n",
    "    print(\"=-=\"*10)\n",
    "    sleep(1)\n",
    "print(\"Fim do programa\")"
   ]
  },
  {
   "cell_type": "code",
   "execution_count": null,
   "metadata": {},
   "outputs": [],
   "source": [
    "n1=int(input(\"Digite um numero:  \"))\n",
    "F=1\n",
    "c=n1\n",
    "print(\"{}!=\".format(n1), end='')\n",
    "while c>1:\n",
    "    print(\"{} x\".format(c), end=\" \")\n",
    "    F=F*c\n",
    "    #print(F,c)\n",
    "    c-=1\n",
    "print(\"1 = {} \".format(F) )"
   ]
  },
  {
   "cell_type": "code",
   "execution_count": null,
   "metadata": {},
   "outputs": [],
   "source": [
    "n=int(input(\"primeiro termo da PA \"))\n",
    "r=int(input(\"razao da PA \"))\n",
    "n1=0\n",
    "while n1<10:\n",
    "    S=n+r*n1\n",
    "    n1+=1\n",
    "    print(S)\n",
    "print(\"FIM\")"
   ]
  },
  {
   "cell_type": "code",
   "execution_count": null,
   "metadata": {},
   "outputs": [],
   "source": [
    "n=int(input(\"primeiro termo da PA \"))\n",
    "r=int(input(\"razao da PA \"))\n",
    "termo=n\n",
    "q=10\n",
    "total=0\n",
    "cont=1\n",
    "while q!=0:\n",
    "    total=total+q\n",
    "    while cont<=total:\n",
    "        termo+=r\n",
    "        cont+=1\n",
    "        print(termo,end=\"-> \")\n",
    "    print(\"Pausa\")\n",
    "    q=int(input(\"Gostaria de ver mais quantos termos? \"))"
   ]
  },
  {
   "cell_type": "code",
   "execution_count": null,
   "metadata": {},
   "outputs": [],
   "source": [
    "print('Sequência de fibonacci')\n",
    "print('='*30)\n",
    "n=int(input('Escreva o numero de termons: '))\n",
    "print('='*30)\n",
    "i=0\n",
    "t1=0\n",
    "t2=1\n",
    "print('{} - {}'.format(t1,t2),end=\" \")\n",
    "while i+3<=n :\n",
    "    tn=t1+t2\n",
    "    t1=t2\n",
    "    t2=tn\n",
    "    i+=1\n",
    "    print('- {}'.format(tn),end=' ')\n",
    "print('FIM')"
   ]
  },
  {
   "cell_type": "code",
   "execution_count": null,
   "metadata": {},
   "outputs": [],
   "source": [
    "S=-999\n",
    "n=-1\n",
    "m=0\n",
    "while m!=999:\n",
    "    m=int(input(\"digite um numero: \"))\n",
    "    S+=m\n",
    "    n+=1\n",
    "print(\"foram digitados {} e a soma deles é {}\".format(n,S))"
   ]
  },
  {
   "cell_type": "code",
   "execution_count": null,
   "metadata": {},
   "outputs": [],
   "source": [
    "print(\"média dos números: \")\n",
    "c=0\n",
    "n=0\n",
    "maior=0\n",
    "menor=10000000\n",
    "soma=0\n",
    "SN=\"sim\"\n",
    "while SN not in \"Nnao\":\n",
    "    n=int(input(\"Digite um numero: \"))\n",
    "    c+=1\n",
    "    if n>maior:\n",
    "        maior=n\n",
    "    if n < menor:\n",
    "        menor=n\n",
    "    soma+=n\n",
    "    media=soma/c\n",
    "    SN=str(input(\"Gostaria de digitar outro numero? (S/N)\"))\n",
    "print(\"Você digitou {} numeros, e a média entre eles é {}. O maior número digitado foi {}, e o menor foi {}\".format(c,media,maior,menor))"
   ]
  },
  {
   "cell_type": "code",
   "execution_count": null,
   "metadata": {},
   "outputs": [],
   "source": [
    "numero=0\n",
    "c=0\n",
    "soma=0\n",
    "while True :\n",
    "    numero=int(input(\"Digete um numero: \"))\n",
    "    if numero==999:\n",
    "        break\n",
    "    soma+=numero\n",
    "    c+=1\n",
    "print(f\"Você digitou {c} numeros, e a soma deles é {soma}\")"
   ]
  },
  {
   "cell_type": "code",
   "execution_count": null,
   "metadata": {},
   "outputs": [],
   "source": [
    "while True:\n",
    "    n=int(input(\"Quer ver a tabuada de qual número?\"))\n",
    "    if n < 0:\n",
    "        break\n",
    "    for x in range(1,11):\n",
    "        print(\"-\"*10)\n",
    "        print(f\"{n} X {x} = {x*n}\")\n",
    "print(\"Fim do programa\")"
   ]
  },
  {
   "cell_type": "code",
   "execution_count": 4,
   "metadata": {},
   "outputs": [
    {
     "name": "stdout",
     "output_type": "stream",
     "text": [
      "-=--=--=--=--=--=--=--=--=--=-\n",
      "JOGO PAR ou ÍMPAR\n",
      "-=--=--=--=--=--=--=--=--=--=-\n",
      "Digite um valor: 10\n",
      "Par ou Ímpar? [P/I]p\n",
      "Você jogou 10, e o computador jogou 4, total deu 14\n",
      "Você Venceu!\n",
      "Digite um valor: 9\n",
      "Par ou Ímpar? [P/I]i\n",
      "Você jogou 9, e o computador jogou 1, total deu 10\n",
      "Você Perdeu :(\n",
      " GAME OVER, você venceu 1 vezes.\n"
     ]
    }
   ],
   "source": [
    "from random import randint\n",
    "print(\"-=-\"*10)\n",
    "print(\"JOGO PAR ou ÍMPAR\")\n",
    "print(\"-=-\"*10)\n",
    "n=0\n",
    "V=0\n",
    "while True:    \n",
    "    n=int(input(\"Digite um valor: \"))\n",
    "    PC=randint(0,10)\n",
    "    Tot=n+PC\n",
    "    TP= \" \"\n",
    "    while TP not in 'PI':\n",
    "        TP=str(input(\"Par ou Ímpar? [P/I]\")).strip().upper()[0]\n",
    "    print(f\"Você jogou {n}, e o computador jogou {PC}, total deu {Tot}\")\n",
    "    if TP == \"I\":\n",
    "        if Tot%2!=0:\n",
    "            print(\"Você Venceu!\")\n",
    "            V+=1\n",
    "        else:\n",
    "            print(\"Você Perdeu :(\") \n",
    "            break\n",
    "    elif TP == \"P\":\n",
    "        if Tot%2==0:\n",
    "            print(\"Você Venceu!\")\n",
    "            V+=1\n",
    "        else:\n",
    "            print(\"Você Perdeu :(\") \n",
    "            break\n",
    "print(f\" GAME OVER, você venceu {V} vezes.\")"
   ]
  },
  {
   "cell_type": "code",
   "execution_count": 2,
   "metadata": {},
   "outputs": [
    {
     "name": "stdout",
     "output_type": "stream",
     "text": [
      "--------------------\n",
      "Cadastre uma pessoa\n",
      "--------------------\n",
      " Digite a idade da pessoa16\n",
      "Digite o sexo M/F: F\n",
      "Deseja continuar? S/N S\n",
      "--------------------\n",
      "Cadastre uma pessoa\n",
      "--------------------\n",
      " Digite a idade da pessoa18\n",
      "Digite o sexo M/F: M\n",
      "Deseja continuar? S/N S\n",
      "--------------------\n",
      "Cadastre uma pessoa\n",
      "--------------------\n",
      " Digite a idade da pessoa35\n",
      "Digite o sexo M/F: M\n",
      "Deseja continuar? S/N N\n",
      "Foram feitos 2 cadastros de homens.\n",
      "O total de cadastros maiores de 18 anos são 2, e tem 1 cadastros de mulheres menores de 20 anos\n"
     ]
    }
   ],
   "source": [
    "maior=0\n",
    "TotM=0\n",
    "menor20=0\n",
    "C=0\n",
    "while True:\n",
    "    sexo=\" \"\n",
    "    stop=\" \"\n",
    "    print(\"-\"*20)\n",
    "    print(\"Cadastre uma pessoa\")\n",
    "    print(\"-\"*20)\n",
    "    idade=int(input(\" Digite a idade da pessoa\"))\n",
    "    if idade >= 18:\n",
    "        maior+=1\n",
    "    while sexo not in \"MF\":   \n",
    "        sexo=str(input(\"Digite o sexo M/F: \")).upper()[0]\n",
    "    if sexo==\"M\":\n",
    "        TotM+=1\n",
    "    elif sexo==\"F\":\n",
    "        menor20+=1\n",
    "    C=+1\n",
    "    while stop\n",
    "    stop=str(input(\"Deseja continuar? S/N \")).upper()[0]\n",
    "    if stop==\"N\":\n",
    "        break\n",
    "print(f\"Foram feitos {TotM} cadastros de homens.\")\n",
    "print(f\"O total de cadastros maiores de 18 anos são {maior}, e tem {menor20} cadastros de mulheres menores de 20 anos\")"
   ]
  },
  {
   "cell_type": "code",
   "execution_count": 5,
   "metadata": {},
   "outputs": [
    {
     "name": "stdout",
     "output_type": "stream",
     "text": [
      "Digente um numero de 0 a 20 10\n",
      "Voce digitou o numero dez\n"
     ]
    }
   ],
   "source": [
    "numero=(\"zero\",\"um\",\"dois\",\"três\",\n",
    "        \"quatro\",\"cinco\",\"seis\",\"sete\",\n",
    "        \"oito\",\"nove\",\"dez\",\"onze\",\"doze\",\"treze\",\"quatorze\",\n",
    "        \"quinze\",\"dezesseis\",\"dezessete\",\"dezoito\",\"dezenove\",\"vinte\")\n",
    "while True:\n",
    "    n=int(input(\"Digente um numero de 0 a 20 \"))\n",
    "    if 0<=n<=20:\n",
    "        break\n",
    "print(f\"Voce digitou o numero {numero[n]}\")"
   ]
  },
  {
   "cell_type": "code",
   "execution_count": 30,
   "metadata": {},
   "outputs": [
    {
     "name": "stdout",
     "output_type": "stream",
     "text": [
      "=-=-=-=-=-=-=-=-=-=-=-=-=-=-=-=-=-=-=-=-\n",
      "linsta de times do Brasileirão ('corintias', 'palmeiras', 'santos', 'gremio', 'cruzeiro', 'flamengo', 'vasco', 'chapecoense', 'atletico', 'botafogo', 'atletico PR', 'bahia', 'sao paulo', 'fluminense', 'sport recife', 'EC vitoria', 'curitiba', 'avai', 'ponte preta', 'atletico GO')\n",
      "=-=-=-=-=-=-=-=-=-=-=-=-=-=-=-=-=-=-=-=-\n",
      "Os 5 primeiros colocados foram: ('corintias', 'palmeiras', 'santos', 'gremio', 'cruzeiro')\n",
      "=-=-=-=-=-=-=-=-=-=-=-=-=-=-=-=-=-=-=-=-\n",
      "Os 4 ultimos colocados foram ('curitiba', 'avai', 'ponte preta', 'atletico GO')\n",
      "=-=-=-=-=-=-=-=-=-=-=-=-=-=-=-=-=-=-=-=-\n",
      "times em orfem alfabetica['EC vitoria', 'atletico', 'atletico GO', 'atletico PR', 'avai', 'bahia', 'botafogo', 'chapecoense', 'corintias', 'cruzeiro', 'curitiba', 'flamengo', 'fluminense', 'gremio', 'palmeiras', 'ponte preta', 'santos', 'sao paulo', 'sport recife', 'vasco']\n",
      "=-=-=-=-=-=-=-=-=-=-=-=-=-=-=-=-=-=-=-=-\n",
      "O Chapecoense esta na 8ª posição\n"
     ]
    }
   ],
   "source": [
    "listatimes=(\"corintias\",\"palmeiras\",\"santos\",\"gremio\",\"cruzeiro\",\"flamengo\",\"vasco\",\"chapecoense\",\"atletico\",\n",
    "            \"botafogo\",\"atletico PR\",\"bahia\",\"sao paulo\",\"fluminense\",\"sport recife\",\"EC vitoria\",\"curitiba\", \"avai\",\n",
    "           \"ponte preta\",\"atletico GO\")\n",
    "print(\"=-\"*20)\n",
    "print(f\"linsta de times do Brasileirão {listatimes}\")\n",
    "print(\"=-\"*20)\n",
    "print(f\"Os 5 primeiros colocados foram: {listatimes[0:5]}\")\n",
    "print(\"=-\"*20)\n",
    "print(f'Os 4 ultimos colocados foram {listatimes[-4:]}')\n",
    "print('=-'*20)\n",
    "print(f'times em orfem alfabetica{sorted(listatimes)}')\n",
    "print('=-'*20)\n",
    "print(f\"O Chapecoense esta na {listatimes.index('chapecoense')+1}ª posição\")"
   ]
  },
  {
   "cell_type": "code",
   "execution_count": 7,
   "metadata": {},
   "outputs": [
    {
     "name": "stdout",
     "output_type": "stream",
     "text": [
      "os numeros sorteados foram (7, 9, 1, 2, 5)\n",
      "O maior numero sorteado foi 9\n",
      "O menor numero sorteado foi 1\n"
     ]
    }
   ],
   "source": [
    "from random import randint\n",
    "n1=(randint(1,10),randint(1,10),randint(1,10),randint(1,10),randint(1,10))\n",
    "print(f\"os numeros sorteados foram {n1}\")\n",
    "print(f\"O maior numero sorteado foi {max(n1)}\")\n",
    "print(f\"O menor numero sorteado foi {min(n1)}\")"
   ]
  },
  {
   "cell_type": "code",
   "execution_count": 22,
   "metadata": {},
   "outputs": [
    {
     "name": "stdout",
     "output_type": "stream",
     "text": [
      "escolha um numero 1\n",
      "escolha um numero 2\n",
      "escolha um numero 4\n",
      "escolha um numero 5\n",
      "O numero nove apareceu 0 vezes\n",
      "você não digitou o numero 3\n",
      "Os valores pares digitados foram 2 4 "
     ]
    }
   ],
   "source": [
    "n1=int(input('escolha um numero '))\n",
    "n2=int(input('escolha um numero '))\n",
    "n3=int(input('escolha um numero '))\n",
    "n4=int(input('escolha um numero '))\n",
    "TP=(n1,n2,n3,n4)\n",
    "print(f\"O numero nove apareceu {TP.count(9)} vezes\")\n",
    "if 3 in TP:\n",
    "    print(f\"O numero três esta na {TP.index(3)+1} posição\")\n",
    "else:\n",
    "    print(f\"você não digitou o numero 3\")\n",
    "print(f\"Os valores pares digitados foram\", end=' ')\n",
    "for i in TP:\n",
    "    if i%2==0:\n",
    "        print(i,end=' ')"
   ]
  },
  {
   "cell_type": "code",
   "execution_count": 51,
   "metadata": {},
   "outputs": [
    {
     "name": "stdout",
     "output_type": "stream",
     "text": [
      "------------------------------\n",
      "       LISTA DE PREÇOS        \n",
      "------------------------------\n",
      "pão........................... R$   2.00\n",
      "leite......................... R$   4.50\n",
      "mel........................... R$  13.50\n",
      "uva........................... R$   5.00\n"
     ]
    }
   ],
   "source": [
    "lista=(\"pão\",2.0,\"leite\",4.5,\"mel\",13.5,\"uva\",5.00)\n",
    "print(\"-\"*30)\n",
    "print(f\"{'LISTA DE PREÇOS':^30}\")\n",
    "print(\"-\"*30)\n",
    "for i in range(0,len(lista),2):\n",
    "    print(f\"{lista[i]:.<30} R${lista[i+1]:>7.2f}\")"
   ]
  },
  {
   "cell_type": "code",
   "execution_count": 1,
   "metadata": {},
   "outputs": [
    {
     "name": "stdout",
     "output_type": "stream",
     "text": [
      "\n",
      " na palavra APRENDER temos as vogais a e e \n",
      " na palavra PROGRAMAR temos as vogais o a a \n",
      " na palavra ESCREVER temos as vogais e e e \n",
      " na palavra VOGAL temos as vogais o a \n",
      " na palavra JUPTER temos as vogais u e "
     ]
    }
   ],
   "source": [
    "palavras=(\"aprender\",\"programar\",\"escrever\",\"vogal\",\"jupter\")\n",
    "for p in palavras:\n",
    "    print(f'\\n na palavra {p.upper()} temos as vogais' , end=' ')\n",
    "    for l in p:\n",
    "        if l.lower() in 'aeiou':\n",
    "            print(f'{l}', end=' ')"
   ]
  },
  {
   "cell_type": "code",
   "execution_count": 2,
   "metadata": {},
   "outputs": [
    {
     "name": "stdout",
     "output_type": "stream",
     "text": [
      " na posição 0 encontrei o valor 5\n",
      " na posição 1 encontrei o valor 9\n",
      " na posição 2 encontrei o valor 4\n"
     ]
    }
   ],
   "source": [
    "valores=[]\n",
    "valores.append(5)\n",
    "valores.append(9)\n",
    "valores.append(4)\n",
    "\n",
    "for c, v in enumerate(valores):\n",
    "    print(f\" na posição {c} encontrei o valor {v}\")"
   ]
  },
  {
   "cell_type": "code",
   "execution_count": 26,
   "metadata": {},
   "outputs": [
    {
     "name": "stdout",
     "output_type": "stream",
     "text": [
      " Escreva um numero1\n",
      " Escreva um numero2\n",
      " Escreva um numero3\n",
      " Escreva um numero3\n",
      " Escreva um numero3\n",
      "O maior valor digitado foi 3 nas posições  2 3 4 \n",
      "O menor valor digitado foi 1\n",
      "nas posições0"
     ]
    }
   ],
   "source": [
    "valores= []\n",
    "max=0\n",
    "min=0\n",
    "for c in range(5):\n",
    "    valores.append(int(input(f' Escreva um numero')))\n",
    "    if c==0:\n",
    "        max=min=valores[c]\n",
    "    else:\n",
    "        if valores[c]>max:\n",
    "            max=valores[c]\n",
    "        if valores[c]< min:\n",
    "            min = valores[c]\n",
    "print(f'O maior valor digitado foi {max} nas posições ' , end=\" \")\n",
    "for i, v in enumerate(valores):\n",
    "    if v==max:\n",
    "        print(f'{i}', end=' ')\n",
    "print()\n",
    "print(f'O menor valor digitado foi {min}')\n",
    "for i, v in enumerate(valores):\n",
    "    if v==min:\n",
    "        print(f'nas posições {i}', end='')        "
   ]
  },
  {
   "cell_type": "code",
   "execution_count": 42,
   "metadata": {},
   "outputs": [
    {
     "name": "stdout",
     "output_type": "stream",
     "text": [
      "Digite um valor 9\n",
      "Você deseja continuar? S/N s\n",
      "Digite um valor 3\n",
      "Você deseja continuar? S/N s\n",
      "Digite um valor 5\n",
      "Você deseja continuar? S/N n\n",
      "[3, 5, 9]\n"
     ]
    }
   ],
   "source": [
    "lista=[]\n",
    "\n",
    "while True:\n",
    "    cont=\" \"\n",
    "    n=int(input('Digite um valor '))\n",
    "    if n in lista:\n",
    "        print('valor dublicado')\n",
    "    else:\n",
    "        lista.append(n)\n",
    "    while cont not in 'SN': \n",
    "        cont=str(input(f'Você deseja continuar? S/N ').upper())\n",
    "    if cont=='N':\n",
    "        break\n",
    "print(sorted(lista))"
   ]
  },
  {
   "cell_type": "code",
   "execution_count": 2,
   "metadata": {},
   "outputs": [
    {
     "name": "stdout",
     "output_type": "stream",
     "text": [
      "Digite uma expressão 5+8526*6)\n",
      "Sua expreção é invalida\n"
     ]
    }
   ],
   "source": [
    "exp=[]\n",
    "n=str(input(\"Digite uma expressão \"))\n",
    "j=0\n",
    "l=0\n",
    "for i in n:\n",
    "    if i==\"(\":\n",
    "        exp.append(\"(\")\n",
    "    elif i==\")\":\n",
    "        if len(exp)>0:\n",
    "            exp.pop()\n",
    "        else:\n",
    "            exp.append(\")\")\n",
    "            break\n",
    "if len(exp)>0:\n",
    "    print(\"Sua expreção é invalida\")\n",
    "elif len(exp)==0:\n",
    "    print(\"Sua expreção é valida\")"
   ]
  },
  {
   "cell_type": "code",
   "execution_count": 35,
   "metadata": {},
   "outputs": [
    {
     "name": "stdout",
     "output_type": "stream",
     "text": [
      " nome  Renan\n",
      " peso 77\n",
      "Deseja continuar? S/N s\n",
      " nome  Bento\n",
      " peso 75\n",
      "Deseja continuar? S/N s\n",
      " nome  jurema\n",
      " peso 120\n",
      "Deseja continuar? S/N n\n",
      " foram cadastradas 3 pessoas\n",
      "O maior peso cadastrado foi 120KG\n",
      "jurema \n",
      "O menor peso cadastrado foi 75KG\n",
      "Bento[['Renan', 77], ['Bento', 75], ['jurema', 120]]\n"
     ]
    }
   ],
   "source": [
    "lista=[]\n",
    "dados=[]\n",
    "maior=menor=0\n",
    "while True:\n",
    "    cont= \" \"\n",
    "    dados.append(str(input(\" nome  \")))\n",
    "    dados.append(int(input(\" peso \")))\n",
    "    if len(lista) ==0:\n",
    "        maior=menor=dados[1]\n",
    "    else:\n",
    "        if dados[1]>maior:\n",
    "            maior=dados[1]\n",
    "        if dados[1]<menor:\n",
    "            menor=dados[1]\n",
    "        \n",
    "    lista.append(dados[:])\n",
    "    dados.clear() \n",
    "    while cont not in \"NnSs\":\n",
    "        cont=str(input(\"Deseja continuar? S/N \")).upper()\n",
    "    if cont==\"N\":\n",
    "        break\n",
    "\n",
    "print(f\" foram cadastradas {len(lista)} pessoas\")\n",
    "print(f\"O maior peso cadastrado foi {maior}KG\")\n",
    "for i in lista:\n",
    "    if i[1]== maior:\n",
    "        print(f\"{i[0]}\", end=' ')\n",
    "print()\n",
    "print(f\"O menor peso cadastrado foi {menor}KG\")\n",
    "for i in lista:\n",
    "    if i[1]==menor:\n",
    "        print(f\"{i[0]}\", end='')\n",
    "        \n",
    "print(lista)"
   ]
  },
  {
   "cell_type": "code",
   "execution_count": 9,
   "metadata": {},
   "outputs": [
    {
     "name": "stdout",
     "output_type": "stream",
     "text": [
      "Digite o 1º valor 12\n",
      "Digite o 2º valor 321\n",
      "Digite o 3º valor 321\n",
      "Digite o 4º valor 23\n",
      "Digite o 5º valor 1\n",
      "Digite o 6º valor 23\n",
      "Digite o 7º valor 4\n",
      "Os numeros pares escritos foram [4, 12]\n",
      "Os numeros impares escritos foram [1, 23, 23, 321, 321]\n"
     ]
    }
   ],
   "source": [
    "numeros=list()\n",
    "pares=list()\n",
    "impar=list()\n",
    "numeros.append(pares)\n",
    "numeros.append(impar)\n",
    "for r in range(7):\n",
    "    n=int(input(f\"Digite o {r+1}º valor \"))\n",
    "    if n%2==0:\n",
    "        pares.append(n)\n",
    "    else:\n",
    "        impar.append(n)\n",
    "print(f\"Os numeros pares escritos foram {sorted(numeros[0])}\")    \n",
    "print(f\"Os numeros impares escritos foram {sorted(numeros[1])}\")"
   ]
  },
  {
   "cell_type": "code",
   "execution_count": 10,
   "metadata": {},
   "outputs": [
    {
     "name": "stdout",
     "output_type": "stream",
     "text": [
      " digite um valor1\n",
      " digite um valor2\n",
      " digite um valor3\n",
      " digite um valor4\n",
      " digite um valor5\n",
      " digite um valor6\n",
      " digite um valor7\n",
      "[[2, 4, 6], [1, 3, 5, 7]]\n"
     ]
    }
   ],
   "source": [
    "valores=[[],[]]\n",
    "n=0\n",
    "for c in range(7):\n",
    "    n=int(input(\" digite um valor\"))\n",
    "    if n%2==0:\n",
    "        valores[0].append(n)\n",
    "    else:\n",
    "        valores[1].append(n)\n",
    "print(valores)"
   ]
  },
  {
   "cell_type": "code",
   "execution_count": 18,
   "metadata": {},
   "outputs": [
    {
     "name": "stdout",
     "output_type": "stream",
     "text": [
      "Digite um valor1\n",
      "Digite um valor2\n",
      "Digite um valor3\n",
      "Digite um valor4\n",
      "Digite um valor5\n",
      "Digite um valor6\n",
      "Digite um valor7\n",
      "Digite um valor8\n",
      "Digite um valor9\n",
      "[1, 2, 3]\n",
      "[4, 5, 6]\n",
      "[7, 8, 9]\n"
     ]
    }
   ],
   "source": [
    "matriz=[[],[],[]]\n",
    "valor:0\n",
    "for r in matriz:\n",
    "    for i in range(3):\n",
    "        valor=int(input(\"Digite um valor\"))\n",
    "        r.append(valor)\n",
    "print(matriz[0])\n",
    "print(matriz[1])\n",
    "print(matriz[2])"
   ]
  },
  {
   "cell_type": "code",
   "execution_count": 3,
   "metadata": {},
   "outputs": [
    {
     "name": "stdout",
     "output_type": "stream",
     "text": [
      "Digite um valor para [0, 0]: 1\n",
      "Digite um valor para [0, 1]: 2\n",
      "Digite um valor para [0, 2]: 3\n",
      "Digite um valor para [1, 0]: 4\n",
      "Digite um valor para [1, 1]: 5\n",
      "Digite um valor para [1, 2]: 6\n",
      "Digite um valor para [2, 0]: 7\n",
      "Digite um valor para [2, 1]: 8\n",
      "Digite um valor para [2, 2]: 9\n",
      "-=-=-=-=-=-=-=-=-=-=-=-=-=-=-=-=-=-=-=-=-=-=-=-=-=-=-=-=-=-=-=-=-=-=-=-=-=-=-=-=\n",
      "[  1  ] [  2  ] [  3  ] \n",
      "[  4  ] [  5  ] [  6  ] \n",
      "[  7  ] [  8  ] [  9  ] \n"
     ]
    }
   ],
   "source": [
    "matriz=[[0,0,0],[0,0,0],[0,0,0]]\n",
    "for l in range(0,3):\n",
    "    for c in range(0,3):\n",
    "        matriz[l][c]=int(input(f\"Digite um valor para [{l}, {c}]: \"))\n",
    "print(\"-=\"*40)\n",
    "for l in range(0,3):\n",
    "    for c in range(0,3):\n",
    "        print(f'[{matriz[l][c]:^5}]', end=\" \")\n",
    "    print()"
   ]
  },
  {
   "cell_type": "code",
   "execution_count": 5,
   "metadata": {},
   "outputs": [
    {
     "name": "stdout",
     "output_type": "stream",
     "text": [
      "20 18 6\n"
     ]
    }
   ],
   "source": [
    "pares=0\n",
    "soma3=0\n",
    "maior=0\n",
    "for l in range(0,3):\n",
    "    for c in range(0,3):\n",
    "        if matriz[l][c]%2==0:\n",
    "            pares+=matriz[l][c]\n",
    "for l in range(0,3):\n",
    "    soma3+=matriz[l][2]\n",
    "\n",
    "print(pares,soma3,max(matriz[1]))   "
   ]
  },
  {
   "cell_type": "code",
   "execution_count": 1,
   "metadata": {},
   "outputs": [
    {
     "name": "stdout",
     "output_type": "stream",
     "text": [
      "Quantos jogos você quer que sorteie? 2\n",
      "Jogo 1: [24, 26, 28, 34, 38, 48]\n",
      "Jogo 2: [6, 34, 35, 37, 46, 60]\n"
     ]
    }
   ],
   "source": [
    "#SENA\n",
    "from random import randint \n",
    "from time import sleep\n",
    "jogos=[]\n",
    "sort=[]\n",
    "n=int(input(\"Quantos jogos você quer que sorteie? \"))\n",
    "for i in range(0,n):\n",
    "    while len(sort)!=6:\n",
    "        r=randint(1,60)\n",
    "        if r not in sort: sort.append(r)\n",
    "    jogos.append(sorted(sort[:]))\n",
    "    sort.clear()\n",
    "for i in range(0,n):\n",
    "    sleep(0.5)\n",
    "    print(f\"Jogo {i+1}: {jogos[i]}\")"
   ]
  },
  {
   "cell_type": "code",
   "execution_count": 3,
   "metadata": {},
   "outputs": [
    {
     "name": "stdout",
     "output_type": "stream",
     "text": [
      "nome: Renan\n",
      "nota1: 10\n",
      "nota2: 10\n",
      "Deseja continuar? n\n",
      "-=-=-=-=-=-=-=-=-=-=-=-=-=-=-=-=-=-=-=-=-=-=-=-=-=-=-=-=-=-=-=-=-=-=-=-=-=-=-=-=\n",
      "No. Nome         Média\n",
      "----------------------------------------\n",
      "0   Renan         10.0\n",
      "Mostrar notas de qual aluno? (999 interrompe): 999\n"
     ]
    }
   ],
   "source": [
    "lista=[]\n",
    "n=0\n",
    "while True:\n",
    "    cont= \" \"\n",
    "    nome=str(input(\"nome: \"))\n",
    "    nota1=float(input(\"nota1: \"))\n",
    "    nota2=float(input(\"nota2: \"))\n",
    "    media=(nota1+nota2)/2\n",
    "    lista.append([nome, [nota1,nota2], media])\n",
    "    while cont not in \"NS\":\n",
    "        cont=str(input(\"Deseja continuar? \")).upper()\n",
    "    if cont==\"N\":\n",
    "        break\n",
    "print(\"-=\"*40)\n",
    "print(f\"{'No.':<4}{'Nome':<10}{'Média':>8}\")\n",
    "print(\"-\"*40)\n",
    "for i in range(0, len(lista)):\n",
    "    print(f\"{i:<4}{lista[i][0]:<10}{lista[i][2]:>8.1f}\")\n",
    "#ou\n",
    "#for i, a in enumerate(lista):\n",
    "#print(f'{i}{a[0]}{a[2]}')\n",
    "while True:\n",
    "    n=int(input(\"Mostrar notas de qual aluno? (999 interrompe): \" ))\n",
    "    if n==999:\n",
    "        break\n",
    "    while n > len(lista)-1:\n",
    "        print(\"Não existe este aluno cadastrado\")\n",
    "        n=int(input(\"Mostrar notas de qual aluno? (999 interrompe): \" ))\n",
    "    print(f\"Notas de {lista[n][0]} são {lista[n][1]}\")\n",
    "    print(\"-\"*40)"
   ]
  },
  {
   "cell_type": "code",
   "execution_count": 8,
   "metadata": {},
   "outputs": [
    {
     "name": "stdout",
     "output_type": "stream",
     "text": [
      "Unidade Federativa: Rio\n",
      "Sigla do Estado: RJ\n",
      "Unidade Federativa: Minas\n",
      "Sigla do Estado: MG\n",
      "Unidade Federativa: Sampa\n",
      "Sigla do Estado: SP\n",
      "[{'uf': 'Rio', 'sigla': 'RJ'}, {'uf': 'Minas', 'sigla': 'MG'}, {'uf': 'Sampa', 'sigla': 'SP'}]\n",
      "O campo uf tem o valor Rio\n",
      "O campo sigla tem o valor RJ\n",
      "O campo uf tem o valor Minas\n",
      "O campo sigla tem o valor MG\n",
      "O campo uf tem o valor Sampa\n",
      "O campo sigla tem o valor SP\n"
     ]
    }
   ],
   "source": [
    "estado = dict()\n",
    "brasil = list()\n",
    "for c in range(0,3):\n",
    "    estado['uf']=str(input('Unidade Federativa: '))\n",
    "    estado['sigla']=str(input('Sigla do Estado: '))\n",
    "    brasil.append(estado.copy())\n",
    "print(brasil)\n",
    "for e in brasil:\n",
    "    for k, v in e.items():\n",
    "        print(f'O campo {k} tem o valor {v}')"
   ]
  },
  {
   "cell_type": "code",
   "execution_count": 29,
   "metadata": {},
   "outputs": [
    {
     "name": "stdout",
     "output_type": "stream",
     "text": [
      "Nome: Renan\n",
      "média de Renan 8\n",
      "nome é igual Renan\n",
      "média é igual 8.0\n",
      "situação é igual Aprovado\n"
     ]
    }
   ],
   "source": [
    "#090\n",
    "Aluno=dict()\n",
    "Classe=list()\n",
    "Aluno['nome']=str(input('Nome: '))\n",
    "Aluno['média']=float(input(f'média de {Aluno[\"nome\"]} '))\n",
    "if Aluno[\"média\"] <5:\n",
    "    Aluno[\"situação\"]=\"reprovado\"\n",
    "if Aluno[\"média\"]>=7:\n",
    "    Aluno[\"situação\"]=\"Aprovado\"\n",
    "else:\n",
    "    Aluno[\"situação\"]=\"recuperação\"\n",
    "for i,j in Aluno.items():\n",
    "    print(f'{i} é igual {j}')"
   ]
  },
  {
   "cell_type": "code",
   "execution_count": 1,
   "metadata": {},
   "outputs": [
    {
     "name": "stdout",
     "output_type": "stream",
     "text": [
      "{'Jogador': 'Jogador 4', 'Resultado': 10}\n",
      "Jogador 1\n",
      "3\n",
      "Jogador 2\n",
      "1\n",
      "Jogador 3\n",
      "1\n",
      "Jogador 4\n",
      "10\n"
     ]
    }
   ],
   "source": [
    "from random import randint \n",
    "from time import sleep\n",
    "jogadores=dict()\n",
    "ordem=list()\n",
    "total=list()\n",
    "for i in range(0,4):\n",
    "    jogadores['Jogador']=f'Jogador {i+1}'\n",
    "    jogadores['Resultado']=randint(0,10)\n",
    "    total.append(jogadores.copy())\n",
    "    r=randint(0,10)\n",
    "print(jogadores)\n",
    "for i in total:\n",
    "    for j, r in i.items():\n",
    "        print(r)"
   ]
  },
  {
   "cell_type": "code",
   "execution_count": 59,
   "metadata": {},
   "outputs": [
    {
     "name": "stdout",
     "output_type": "stream",
     "text": [
      "jogador 1 tirou 4 no dado\n",
      "jogador 2 tirou 4 no dado\n",
      "jogador 3 tirou 2 no dado\n",
      "jogador 4 tirou 3 no dado\n",
      "=-=-=-=-=-=-=-=-=-=-=-=-=-=-=-=-=-=-=-=-=-=-=-=-=-=-=-=-=-=-\n",
      "1 lugar: jogador 1 com 4\n",
      "2 lugar: jogador 2 com 4\n",
      "3 lugar: jogador 4 com 3\n",
      "4 lugar: jogador 3 com 2\n"
     ]
    }
   ],
   "source": [
    "from random import randint\n",
    "from time import sleep\n",
    "from operator import itemgetter\n",
    "jogo={'jogador 1': randint(1,6),\n",
    "      'jogador 2': randint(1,6),\n",
    "      'jogador 3': randint(1,6),\n",
    "      'jogador 4': randint(1,6)}\n",
    "for j,r in jogo.items():\n",
    "    print(f'{j} tirou {r} no dado')\n",
    "    sleep(0.5)\n",
    "ranking= sorted(jogo.items(), key=itemgetter(1), reverse= True)\n",
    "print('=-'*30)\n",
    "for j,r in enumerate(ranking):\n",
    "    print(f'{j+1} lugar: {r[0]} com {r[1]}')\n",
    "    sleep(0.5)"
   ]
  },
  {
   "cell_type": "code",
   "execution_count": 31,
   "metadata": {},
   "outputs": [
    {
     "name": "stdout",
     "output_type": "stream",
     "text": [
      "Nome: renan\n",
      "Ano de nascimento 1991\n",
      "Carteira de trabalho (0 não tem) 0\n",
      "=-=-=-=-=-=-=-=-=-=-=-=-=-=-=-=-=-=-=-=-\n",
      "nome tem o valor renan\n",
      "idade tem o valor 29\n",
      "ctps tem o valor 0\n"
     ]
    }
   ],
   "source": [
    "from datetime import date\n",
    "atual = date.today().year\n",
    "cadastro={'nome':input('Nome: ')}\n",
    "an=int(input('Ano de nascimento '))\n",
    "cadastro['idade']=atual-an\n",
    "cadastro['ctps']=int(input('Carteira de trabalho (0 não tem) '))\n",
    "print('=-'*20)\n",
    "if cadastro['ctps']==0:\n",
    "    for k,v in cadastro.items():\n",
    "            print(f'{k} tem o valor {v}')\n",
    "else:\n",
    "    cadastro['contratação']= int(input('Ano de contratação: '))\n",
    "    cadastro['sálario']= float(input('Sálario: '))\n",
    "    cadastro['aposentadoria']=  cadastro['contratação'] + 35 - an\n",
    "    for k,v in cadastro.items():\n",
    "        print(f'{k} tem o valor {v}')"
   ]
  },
  {
   "cell_type": "code",
   "execution_count": 61,
   "metadata": {},
   "outputs": [
    {
     "name": "stdout",
     "output_type": "stream",
     "text": [
      "Nome do jogadorjoel\n",
      "Quantas partidas o joel jogou 4\n",
      "quantos gols na partida 1 1\n",
      "quantos gols na partida 2 2\n",
      "quantos gols na partida 3 1\n",
      "quantos gols na partida 4 1\n",
      "=-=-=-=-=-=-=-=-=-=-=-=-=-=-=-=-=-=-=-=-=-=-=-=-=-=-=-=-=-=-\n",
      "{'nome': 'joel', 'gols': [1, 2, 1, 1], 'total': 5}\n",
      "=-=-=-=-=-=-=-=-=-=-=-=-=-=-=-=-=-=-=-=-=-=-=-=-=-=-=-=-=-=-\n",
      "O campo nome tem valor joel\n",
      "O campo gols tem valor [1, 2, 1, 1]\n",
      "O campo total tem valor 5\n",
      "=-=-=-=-=-=-=-=-=-=-=-=-=-=-=-=-=-=-=-=-=-=-=-=-=-=-=-=-=-=-\n",
      "O jogador joel jogou 4\n",
      "=> Na partida 1, fez 1 gols\n",
      "=> Na partida 2, fez 2 gols\n",
      "=> Na partida 3, fez 1 gols\n",
      "=> Na partida 4, fez 1 gols\n",
      "um total de 5\n"
     ]
    }
   ],
   "source": [
    "jogador={'nome':str(input('Nome do jogador'))}\n",
    "jogos=list()\n",
    "npartidas=int(input(f\"Quantas partidas o {jogador['nome']} jogou \"))\n",
    "for i in range(0,npartidas):\n",
    "    jogos.append(int(input(f'quantos gols na partida {i+1} ')))\n",
    "jogador['gols']=jogos[:]\n",
    "jogador['total']=sum(jogos)\n",
    "print(\"=-\"*30)\n",
    "print(jogador)\n",
    "print('=-'*30)\n",
    "for k,v in jogador.items():\n",
    "    print(f'O campo {k} tem valor {v}')\n",
    "print('=-'*30)\n",
    "print(f'O jogador {jogador[\"nome\"]} jogou {npartidas}')\n",
    "for i,j in enumerate(jogos):\n",
    "    print(f'=> Na partida {i+1}, fez {j} gols')\n",
    "print(f'um total de {jogador[\"total\"] gols}')"
   ]
  },
  {
   "cell_type": "code",
   "execution_count": 85,
   "metadata": {},
   "outputs": [
    {
     "name": "stdout",
     "output_type": "stream",
     "text": [
      "Nome: Marcela\n",
      "Sexo: [M/F]f\n",
      "Idade: 1\n",
      "gostaria de continuar? s/n s\n",
      "Nome: renan\n",
      "Sexo: [M/F]m\n",
      "Idade: 10\n",
      "gostaria de continuar? s/n s\n",
      "Nome: maria\n",
      "Sexo: [M/F]f\n",
      "Idade: 11\n",
      "gostaria de continuar? s/n n\n",
      "-=-=-=-=-=-=-=-=-=-=-=-=-=-=-=-=-=-=-=-=-=-=-=-=-=-=-=-=-=-=\n",
      "A) O gurpo tem 3 pessoas\n",
      "B) A média de idade é  7.33 anos\n",
      "C) As mulheres cadastradas foram Marcela maria \n",
      "D) A lista das pessoas que estão com idade a cima da média: \n",
      "nome= renan sexo= M idade= 10 \n",
      "nome= maria sexo= F idade= 11 \n"
     ]
    }
   ],
   "source": [
    "cad=dict()\n",
    "lista=list()\n",
    "soma=média=0\n",
    "while True:\n",
    "    cad.clear()\n",
    "    cad['nome']=str(input('Nome: '))\n",
    "    while True:\n",
    "        cad['sexo']=str(input('Sexo: [M/F]')).upper()[0]\n",
    "        if cad['sexo'] in \"MF\":\n",
    "            break\n",
    "    cad['idade']=int(input('Idade: '))\n",
    "    soma+=cad['idade']\n",
    "    lista.append(cad.copy())\n",
    "    while True:\n",
    "        n=str(input('gostaria de continuar? s/n ')).upper()[0]\n",
    "        if n in 'NS':\n",
    "            break\n",
    "        print('Erro! Responda S ou N.')\n",
    "    if n=='N':\n",
    "        break\n",
    "print(\"-=\"*30)\n",
    "print(f'A) O gurpo tem {len(lista)} pessoas')\n",
    "print(f'B) A média de idade é {soma/len(lista):5.2f} anos')\n",
    "print(f'C) As mulheres cadastradas foram ', end='')\n",
    "for i in lista:\n",
    "    if i['sexo'] in 'Ff':\n",
    "        print(f'{i[\"nome\"]} ', end='')\n",
    "print()\n",
    "print(f'D) A lista das pessoas que estão com idade a cima da média: ')\n",
    "for i in lista:\n",
    "    if i['idade']> soma/len(lista):\n",
    "        for k,v in i.items():\n",
    "            print(f'{k}= {v} ', end='')\n",
    "        print()"
   ]
  },
  {
   "cell_type": "code",
   "execution_count": 132,
   "metadata": {},
   "outputs": [
    {
     "name": "stdout",
     "output_type": "stream",
     "text": [
      "Nome do jogadorRenan\n",
      "Quantas partidas o Renan jogou 2\n",
      "quantos gols na partida 1 1\n",
      "quantos gols na partida 2 3\n",
      "deseja cadastrar outro jogador? S/Ns\n",
      "Nome do jogadorBento\n",
      "Quantas partidas o Bento jogou 4\n",
      "quantos gols na partida 1 1\n",
      "quantos gols na partida 2 1\n",
      "quantos gols na partida 3 0\n",
      "quantos gols na partida 4 0\n",
      "deseja cadastrar outro jogador? S/Ns\n",
      "Nome do jogadorsavio\n",
      "Quantas partidas o savio jogou 4\n",
      "quantos gols na partida 1 0\n",
      "quantos gols na partida 2 0\n",
      "quantos gols na partida 3 1\n",
      "quantos gols na partida 4 0\n",
      "deseja cadastrar outro jogador? S/Nn\n",
      "=-=-=-=-=-=-=-=-=-=-=-=-=-=-=-=-=-=-=-=-=-=-=-=-=-=-=-=-=-=-\n",
      "[{'nome': 'Renan', 'gols': [1, 3], 'total': 4}, {'nome': 'Bento', 'gols': [1, 1, 0, 0], 'total': 2}, {'nome': 'savio', 'gols': [0, 0, 1, 0], 'total': 1}]\n",
      "=-=-=-=-=-=-=-=-=-=-=-=-=-=-=-=-=-=-=-=-=-=-=-=-=-=-=-=-=-=-\n",
      "Cod nome           gols           total          \n",
      "------------------------------\n",
      "  0  Renan          [1, 3]         4              \n",
      "  1  Bento          [1, 1, 0, 0]   2              \n",
      "  2  savio          [0, 0, 1, 0]   1              \n",
      "------------------------------\n",
      "mostrar dados de qual jogador? 0\n",
      "-- LEVANTAMENTO DO JOGADORRenan\n",
      "   No jogo 1 fez 1 gols\n",
      "   No jogo 2 fez 3 gols\n",
      "mostrar dados de qual jogador? 2\n",
      "-- LEVANTAMENTO DO JOGADORsavio\n",
      "   No jogo 1 fez 0 gols\n",
      "   No jogo 2 fez 0 gols\n",
      "   No jogo 3 fez 1 gols\n",
      "   No jogo 4 fez 0 gols\n",
      "mostrar dados de qual jogador? 3\n",
      "ERRO! não existe jogador com o cod 3\n",
      "mostrar dados de qual jogador? 999\n",
      "<<VOLTE SEMPRE>>\n"
     ]
    }
   ],
   "source": [
    "jogos=list()\n",
    "jogadores=list()\n",
    "while True:\n",
    "    jogador.clear()\n",
    "    jogos.clear()\n",
    "    jogador={'nome':str(input('Nome do jogador'))}\n",
    "    npartidas=int(input(f\"Quantas partidas o {jogador['nome']} jogou \"))\n",
    "    for i in range(0,npartidas):\n",
    "        jogos.append(int(input(f'quantos gols na partida {i+1} ')))\n",
    "    jogador['gols']=jogos[:]\n",
    "    jogador['total']=sum(jogos)\n",
    "    jogadores.append(jogador.copy())\n",
    "    while True:\n",
    "        SN=str(input('deseja cadastrar outro jogador? S/N')).upper()[0]\n",
    "        if SN in 'SN':\n",
    "            break\n",
    "        print('ERRO! Responda S ou N')\n",
    "    if SN=='N':\n",
    "        break\n",
    "print('=-'*30)\n",
    "print(f'{\"Cod \"}', end='')\n",
    "for i in jogador.keys():\n",
    "    print(f'{i:<15}', end='')\n",
    "print()\n",
    "print(\"-\"*40)\n",
    "for i,j in enumerate(jogadores):\n",
    "    print(f'{i:>3}  ', end='')\n",
    "    for d in j.values():\n",
    "        print(f'{str(d):<15}',end='')\n",
    "    print()\n",
    "print('-'*40)\n",
    "while True:\n",
    "    busca=int(input('mostrar dados de qual jogador? (999 STOP)'))\n",
    "    if busca==999:\n",
    "        break\n",
    "    if busca>=len(jogadores):\n",
    "        print(f'ERRO! não existe jogador com o cod {busca}')\n",
    "    else:\n",
    "        print(f'-- LEVANTAMENTO DO JOGADOR {jogadores[busca][\"nome\"]}')\n",
    "        for i,j in enumerate(jogadores[busca]['gols']):\n",
    "            print(f'   No jogo {i+1} fez {j} gols')\n",
    "print('<<VOLTE SEMPRE>>')"
   ]
  },
  {
   "cell_type": "code",
   "execution_count": 2,
   "metadata": {},
   "outputs": [
    {
     "name": "stdout",
     "output_type": "stream",
     "text": [
      "recebi os valores (2, 1, 4, 3) e são ao todo 4 numeros\n",
      "recebi os valores (0, 5) e são ao todo 2 numeros\n",
      "recebi os valores (4, 4, 7, 6, 2) e são ao todo 5 numeros\n"
     ]
    }
   ],
   "source": [
    "def contador(*num):\n",
    "    tam=len(num)\n",
    "    print(f'recebi os valores {num} e são ao todo {tam} numeros')\n",
    "\n",
    "contador(2,1,4,3)\n",
    "contador(0,5)\n",
    "contador(4,4,7,6,2)"
   ]
  },
  {
   "cell_type": "code",
   "execution_count": 7,
   "metadata": {},
   "outputs": [
    {
     "name": "stdout",
     "output_type": "stream",
     "text": [
      "[12, 4, 8, 10, 4, 6, 8, 10]\n"
     ]
    }
   ],
   "source": [
    "def dobra(lis):\n",
    "    pos=0\n",
    "    while pos< len(lis):\n",
    "        lis[pos]*=2\n",
    "        pos += 1\n",
    "        \n",
    "        \n",
    "        \n",
    "        \n",
    "valores=[6,2,4,5,2,3,4,5]\n",
    "dobra(valores)\n",
    "print(valores)"
   ]
  },
  {
   "cell_type": "code",
   "execution_count": 17,
   "metadata": {},
   "outputs": [
    {
     "name": "stdout",
     "output_type": "stream",
     "text": [
      "Controle de terrenos\n",
      "------------------------------\n",
      "LARGURA (m): 4\n",
      "COMPRIMENTO (M): 5\n",
      "A área do terreno 4.0x5.0 é de 20.0m².\n"
     ]
    }
   ],
   "source": [
    "def area(a,b):\n",
    "        A=a*b\n",
    "        print(f'A área do terreno {a}x{b} é de {A}m².')\n",
    "        \n",
    "        \n",
    "print(f\"Controle de terrenos\")\n",
    "print('-'*30)\n",
    "a=float(input('LARGURA (m): '))\n",
    "b=float(input('COMPRIMENTO (M): '))\n",
    "area(a,b)"
   ]
  },
  {
   "cell_type": "code",
   "execution_count": 27,
   "metadata": {},
   "outputs": [
    {
     "name": "stdout",
     "output_type": "stream",
     "text": [
      "~~~~~~~~~~~~~\n",
      "  Ola mundo\n",
      "~~~~~~~~~~~~~\n",
      "~~~~~~~~~~~~~~~~~~~~~\n",
      "  husdhsad shudashd\n",
      "~~~~~~~~~~~~~~~~~~~~~\n",
      "~~~~~~~\n",
      "  nao\n",
      "~~~~~~~\n"
     ]
    }
   ],
   "source": [
    "def mensagem(frase):\n",
    "    print('~'*(len(frase)+4))\n",
    "    print(f\"  {frase}\")\n",
    "    print('~'*(len(frase)+4))\n",
    "\n",
    "f=str('Ola mundo')\n",
    "d=str('husdhsad shudashd')\n",
    "m=str('nao')\n",
    "mensagem(f)\n",
    "mensagem(d)\n",
    "mensagem(m)"
   ]
  },
  {
   "cell_type": "code",
   "execution_count": 72,
   "metadata": {},
   "outputs": [
    {
     "name": "stdout",
     "output_type": "stream",
     "text": [
      "-=-=-=-=-=-=-=-=-=-=-=-=-=-=-=-=-=-=-=-=-=-=-=-=-=-=-=-=-=-=\n",
      "1 2 3 4 5 6 7 8 9 10 \n",
      "-=-=-=-=-=-=-=-=-=-=-=-=-=-=-=-=-=-=-=-=-=-=-=-=-=-=-=-=-=-=\n",
      "-=-=-=-=-=-=-=-=-=-=-=-=-=-=-=-=-=-=-=-=-=-=-=-=-=-=-=-=-=-=\n",
      "10 8 6 4 2 0 \n",
      "-=-=-=-=-=-=-=-=-=-=-=-=-=-=-=-=-=-=-=-=-=-=-=-=-=-=-=-=-=-=\n",
      "INICIO: 10\n",
      "FIM 90\n",
      "PASSO 5\n",
      "-=-=-=-=-=-=-=-=-=-=-=-=-=-=-=-=-=-=-=-=-=-=-=-=-=-=-=-=-=-=\n",
      "10 15 20 25 30 35 40 45 50 55 60 65 70 75 80 85 90 \n",
      "-=-=-=-=-=-=-=-=-=-=-=-=-=-=-=-=-=-=-=-=-=-=-=-=-=-=-=-=-=-=\n"
     ]
    }
   ],
   "source": [
    "from time import sleep\n",
    "def contagem(I,F,P):\n",
    "    if P==0:\n",
    "        if F>I:\n",
    "            P=1\n",
    "        if I>F:\n",
    "            P=-1\n",
    "    if F>I:\n",
    "        F=F+1\n",
    "    if I>F:\n",
    "        F=F-1\n",
    "        if P>0:\n",
    "            P=-P\n",
    "    print('-='*30)\n",
    "    for I in range(I,F,P):\n",
    "        print(f'{I} ', end='')\n",
    "        sleep(0.5)\n",
    "    print()\n",
    "    print('-='*30)\n",
    "        \n",
    "#Programa\n",
    "contagem(1,10,1)\n",
    "contagem(10,0,2)\n",
    "INICIO=int(input('INICIO: '))\n",
    "FIM=int(input('FIM '))\n",
    "PASSO=int(input('PASSO '))\n",
    "contagem(INICIO,FIM,PASSO)"
   ]
  },
  {
   "cell_type": "code",
   "execution_count": 19,
   "metadata": {},
   "outputs": [
    {
     "name": "stdout",
     "output_type": "stream",
     "text": [
      "Analizando os numeros...\n",
      "1 2 3 4 5 7 8 Foram informados 7 numeros ao todo\n",
      "O maior numero informado foi 8\n",
      "Analizando os numeros...\n",
      "3 4 6 Foram informados 3 numeros ao todo\n",
      "O maior numero informado foi 6\n"
     ]
    }
   ],
   "source": [
    "from time import sleep\n",
    "\n",
    "def maior(*num):\n",
    "    cont=maior=0\n",
    "    print('Analizando os numeros...')\n",
    "    for v in num:\n",
    "        print(f'{v} ', end='', flush=True)\n",
    "        sleep(0.3)\n",
    "        if cont==0:\n",
    "            maior=v\n",
    "        else:\n",
    "            if v > maior:\n",
    "                maior=v\n",
    "        cont+=1\n",
    "    print(f'Foram informados {cont} numeros ao todo')\n",
    "    print(f'O maior numero informado foi {maior}')\n",
    "    \n",
    "#principal\n",
    "maior(1,2,3,4,5,7,8)\n",
    "maior(3,4,6)"
   ]
  },
  {
   "cell_type": "code",
   "execution_count": 36,
   "metadata": {},
   "outputs": [
    {
     "name": "stdout",
     "output_type": "stream",
     "text": [
      "Sorteando os 5 valores da lista0 9 8 1 7 Pronto!\n",
      "Somando os valores pares de [0, 9, 8, 1, 7], 8\n"
     ]
    }
   ],
   "source": [
    "from random import randint\n",
    "def sorteio(L):\n",
    "    print('Sorteando os 5 valores da lista', end='')\n",
    "    for i in range(0,5):\n",
    "        r=randint(1,10)\n",
    "        L.append(r)\n",
    "        print(f'{r} ', end='')\n",
    "    print('Pronto!')\n",
    "def somaPar(L):\n",
    "    print(f'Somando os valores pares de {L}, ', end='')\n",
    "    s=0\n",
    "    for i in L:\n",
    "        if i%2==0:\n",
    "            s+=i\n",
    "    print(s)\n",
    "\n",
    "#program\n",
    "L1=list()\n",
    "sorteio(L1)\n",
    "somaPar(L1)"
   ]
  },
  {
   "cell_type": "code",
   "execution_count": 53,
   "metadata": {},
   "outputs": [
    {
     "name": "stdout",
     "output_type": "stream",
     "text": [
      "Digite o ano em que você nasceu: 1991\n",
      "com 29 o voto é OBRIGATORIO\n"
     ]
    }
   ],
   "source": [
    "#101\n",
    "from datetime import date\n",
    "def voto(n):\n",
    "    global age\n",
    "    atual = date.today().year\n",
    "    age=atual-n\n",
    "    if age<16:\n",
    "            return f'com {age} o voto é NEGADO'\n",
    "    elif 16 <= age < 18 or age>65:\n",
    "            return f'com {age} o voto é OPCIONAL'\n",
    "    else:\n",
    "        return f'com {age} o voto é OBRIGATORIO'\n",
    "    \n",
    "    \n",
    "n=int(input('Digite o ano em que você nasceu: '))\n",
    "print(voto(n))"
   ]
  },
  {
   "cell_type": "code",
   "execution_count": 108,
   "metadata": {
    "scrolled": true
   },
   "outputs": [
    {
     "name": "stdout",
     "output_type": "stream",
     "text": [
      "4 x 3 x 2 x 1 = 24\n"
     ]
    }
   ],
   "source": [
    "def fac(n,show=False):\n",
    "    \"\"\"\n",
    "    ->Calcula o fatorial de um numero.\n",
    "    :param n: o numero a ser calculado.\n",
    "    :param show (opcional) Mostrar ou não a conta.\n",
    "    :return: O valor do Fatorial de um numero n\n",
    "    \"\"\"\n",
    "    i=1\n",
    "    for c in range(n,0,-1):\n",
    "        if show:\n",
    "            print(c, end='')\n",
    "            if c>1:\n",
    "                print(' x ', end='')\n",
    "            else:\n",
    "                print(' = ', end='')\n",
    "        i*=c\n",
    "    return(i)\n",
    "\n",
    "\n",
    "print(fac(4, True))"
   ]
  },
  {
   "cell_type": "code",
   "execution_count": 123,
   "metadata": {},
   "outputs": [
    {
     "name": "stdout",
     "output_type": "stream",
     "text": [
      "------------------------------\n",
      "Nome do jogador: s\n",
      "numero de gols: s\n",
      "O jogador s fez 0 gol(s) no campeonato\n"
     ]
    }
   ],
   "source": [
    "def ficha(nj='<desconhecido>', gols=0):\n",
    "    if nj=='':\n",
    "        nj='<desconhecido>'\n",
    "    if gols.isnumeric():\n",
    "        gols=int(gols)\n",
    "    else:\n",
    "        gols=0\n",
    "    print(f'O jogador {nj} fez {gols} gol(s) no campeonato')\n",
    "    \n",
    "#principal\n",
    "print('-'*30)\n",
    "jogador=str(input('Nome do jogador: '))\n",
    "gols=input('numero de gols: ')\n",
    "ficha(jogador,gols)"
   ]
  },
  {
   "cell_type": "code",
   "execution_count": 14,
   "metadata": {},
   "outputs": [
    {
     "name": "stdout",
     "output_type": "stream",
     "text": [
      "digite um número t\n",
      "t\n",
      "\u001b[0;31m ERRO! Digite um numero inteiro valido\u001b[m\n",
      "Digite um numero: 5\n",
      "5\n",
      "Você acabou de digitar o número 5\n"
     ]
    }
   ],
   "source": [
    "def leiaInt(num):\n",
    "    while True:\n",
    "        if num.isnumeric():\n",
    "            break\n",
    "        else:\n",
    "            print('\\033[0;31m ERRO! Digite um numero inteiro valido\\033[m')\n",
    "            num=input('Digite um numero: ')\n",
    "    return num\n",
    "n=leiaInt(input('digite um número '))\n",
    "print(f'Você acabou de digitar o número {n}')"
   ]
  },
  {
   "cell_type": "code",
   "execution_count": 43,
   "metadata": {},
   "outputs": [
    {
     "name": "stdout",
     "output_type": "stream",
     "text": [
      "Help on function notas in module __main__:\n",
      "\n",
      "notas(*num, sit=False)\n",
      "    -> Função para analisar notas e situações de vários alunos.\n",
      "    :param n: uma ou mais notas dos alunos (Aceita várias)\n",
      "    :param sit: valor opcional, indicando se deve ou não adicionar a situação.\n",
      "    :return: dicionario com várias informações sobre a situação da turma.\n",
      "\n",
      "{'total': 4, 'maior': 10, 'menor': 2.5, 'média': 6.125, 'situação': 'RAZOAVEL'}\n"
     ]
    }
   ],
   "source": [
    "def notas(*num,sit=False):\n",
    "    ''' \n",
    "    -> Função para analisar notas e situações de vários alunos.\n",
    "    :param n: uma ou mais notas dos alunos (Aceita várias)\n",
    "    :param sit: valor opcional, indicando se deve ou não adicionar a situação.\n",
    "    :return: dicionario com várias informações sobre a situação da turma.\n",
    "    '''\n",
    "    s=0\n",
    "    data=dict()\n",
    "    data['total']=len(num)\n",
    "    data['maior']= max(num)\n",
    "    data['menor']= min(num)\n",
    "    med=sum(num)/len(num)\n",
    "    data['média']=med\n",
    "    if sit:\n",
    "        if data['média'] < 6:\n",
    "            data['situação']= 'RUIM'\n",
    "        if 6<data['média']<7:\n",
    "            data['situação']= 'RAZOAVEL'\n",
    "        if data['média']>=7:\n",
    "            data['situação']= 'Boa'\n",
    "    return data\n",
    "\n",
    "\n",
    "\n",
    "resp = notas(2.5,5.5,10,6.5, sit=True)\n",
    "help(notas)\n",
    "print(resp)"
   ]
  },
  {
   "cell_type": "code",
   "execution_count": 70,
   "metadata": {},
   "outputs": [
    {
     "name": "stdout",
     "output_type": "stream",
     "text": [
      "Função ou Biblioteca >print\n",
      "\u001b[7;34;48m~~~~~~~~~~~~~~~~~~~~~~~~~~~~~~~~~~~~~~~~~                                                  \n",
      "  Acessando o manual do comando  print                                                     \n",
      "\u001b[7;34;48m~~~~~~~~~~~~~~~~~~~~~~~~~~~~~~~~~~~~~~~~~                                                  \u001b[m\n",
      "Help on built-in function print in module builtins:\n",
      "\n",
      "print(...)\n",
      "    print(value, ..., sep=' ', end='\\n', file=sys.stdout, flush=False)\n",
      "    \n",
      "    Prints the values to a stream, or to sys.stdout by default.\n",
      "    Optional keyword arguments:\n",
      "    file:  a file-like object (stream); defaults to the current sys.stdout.\n",
      "    sep:   string inserted between values, default a space.\n",
      "    end:   string appended after the last value, default a newline.\n",
      "    flush: whether to forcibly flush the stream.\n",
      "\n",
      "\u001b[7;38;40m None                                                  \u001b[m\n",
      "\u001b[7;32;48m***************************                                                            \n",
      "  SISTEMA DE AJUDA PyHELP                                                    \n",
      "\u001b[7;32;48m***************************                                                            \u001b[m\n",
      "Função ou Biblioteca >fim\n",
      "\u001b[7;31;48m --------------                                                  \n",
      "\u001b[7;31;48m   ATÉ LOGO                                                      \n",
      "\u001b[7;31;48m --------------                                                  \n"
     ]
    }
   ],
   "source": [
    "def prt(pt):\n",
    "    blue='\\033[7;34;48m'\n",
    "    white='\\033[7;38;40m'\n",
    "    green='\\033[7;32;48m'\n",
    "    intro='Acessando o manual do comando '\n",
    "    end='SISTEMA DE AJUDA PyHELP'\n",
    "    print(f'{blue}{\"~\"*(len(pt)+len(intro)+6)}{\" \"*50}')\n",
    "    print(f'  {intro} {pt}  {\" \"*50} ')\n",
    "    print(f'{blue}{\"~\"*(len(pt)+len(intro)+6)}{\" \"*50}\\033[m')\n",
    "    print(f'{white} {help(pt)}{\" \"*50}\\033[m')\n",
    "    print(f'{green}{\"*\"*(len(end)+4)}{\" \"*60}')\n",
    "    print(f'  {end} {\" \"*50} ')\n",
    "    print(f'{green}{\"*\"*(len(end)+4)}{\" \"*60}\\033[m')\n",
    "#main program\n",
    "while True:\n",
    "    P=str(input(\"Função ou Biblioteca >\")).strip().lower()\n",
    "    if P=='fim':\n",
    "        print(f'\\033[7;31;48m {\"-\"*(len(\"até logo\")+6)}{\" \"*50}')\n",
    "        print(f'\\033[7;31;48m   ATÉ LOGO  {\" \"*50}  ')\n",
    "        print(f'\\033[7;31;48m {\"-\"*(len(\"até logo\")+6)}{\" \"*50}')\n",
    "        break\n",
    "    else:\n",
    "        prt(P)"
   ]
  },
  {
   "cell_type": "code",
   "execution_count": 95,
   "metadata": {},
   "outputs": [
    {
     "name": "stdout",
     "output_type": "stream",
     "text": [
      "\u001b[0;30;42m~~~~~~~~~~~~~~~~~~~~~~~~~~~\n",
      "  SISTEMA DE AJUDA PyHELP\n",
      "~~~~~~~~~~~~~~~~~~~~~~~~~~~\n",
      "\u001b[mFunção ou Biblioteca >print\n",
      "\u001b[0;30;44m~~~~~~~~~~~~~~~~~~~~~~~~~~~~~~~~~~~~~~~\n",
      "  Acessando o manual do comando print\n",
      "~~~~~~~~~~~~~~~~~~~~~~~~~~~~~~~~~~~~~~~\n",
      "\u001b[m\u001b[7mHelp on built-in function print in module builtins:\n",
      "\n",
      "print(...)\n",
      "    print(value, ..., sep=' ', end='\\n', file=sys.stdout, flush=False)\n",
      "    \n",
      "    Prints the values to a stream, or to sys.stdout by default.\n",
      "    Optional keyword arguments:\n",
      "    file:  a file-like object (stream); defaults to the current sys.stdout.\n",
      "    sep:   string inserted between values, default a space.\n",
      "    end:   string appended after the last value, default a newline.\n",
      "    flush: whether to forcibly flush the stream.\n",
      "\n",
      "\u001b[m\u001b[0;30;42m~~~~~~~~~~~~~~~~~~~~~~~~~~~\n",
      "  SISTEMA DE AJUDA PyHELP\n",
      "~~~~~~~~~~~~~~~~~~~~~~~~~~~\n",
      "\u001b[mFunção ou Biblioteca >fim\n",
      "\u001b[0;30;41m~~~~~~~~~~~~\n",
      "  Até logo\n",
      "~~~~~~~~~~~~\n",
      "\u001b[m"
     ]
    }
   ],
   "source": [
    "from time import sleep\n",
    "c=('\\033[m',       #0 - no color\n",
    "  '\\033[0;30;41m', #1 - red\n",
    "  '\\033[0;30;42m', #2 - green\n",
    "  '\\033[0;30;44m', #3 - blue)\n",
    "  '\\033[7m',       #4 - inverse\n",
    "  )\n",
    "def title(msg,cor=0):\n",
    "    tam=len(msg) +4\n",
    "    print(c[cor], end='')\n",
    "    print('~'*tam)\n",
    "    print(f'  {msg}')\n",
    "    print('~'*tam)\n",
    "    print(c[0], end='')\n",
    "    sleep(0.4)\n",
    "def ajuda(com,cor=0):\n",
    "    title(f'Acessando o manual do comando {com}', cor=3)\n",
    "    print(c[4], end='')\n",
    "    help(com)\n",
    "    print(c[0], end='')\n",
    "while True:\n",
    "    title('SISTEMA DE AJUDA PyHELP',2)\n",
    "    comando=str(input('Função ou Biblioteca >'))\n",
    "    if comando.upper()=='FIM':\n",
    "        break\n",
    "    else:\n",
    "        ajuda(comando)\n",
    "title('Até logo',1)"
   ]
  },
  {
   "cell_type": "code",
   "execution_count": 13,
   "metadata": {},
   "outputs": [
    {
     "name": "stdout",
     "output_type": "stream",
     "text": [
      "Digite um valor 6\n",
      "O fatorial de 6 é 720\n"
     ]
    }
   ],
   "source": [
    "import uteis2\n",
    "num=int(input('Digite um valor '))\n",
    "fat=uteis2.factorial(num)\n",
    "print(f'O fatorial de {num} é {fat}')"
   ]
  },
  {
   "cell_type": "code",
   "execution_count": 1,
   "metadata": {},
   "outputs": [
    {
     "name": "stdout",
     "output_type": "stream",
     "text": [
      "Digite um valor 6\n",
      "O fatorial de 6 é 720\n",
      "O drobro de 6 é 12\n"
     ]
    }
   ],
   "source": [
    "from pac import numeros\n",
    "num=int(input('Digite um valor '))\n",
    "fat=numeros.factorial(num)\n",
    "print(f'O fatorial de {num} é {fat}')\n",
    "print(f'O drobro de {num} é {numeros.dobro(num)}')"
   ]
  },
  {
   "cell_type": "code",
   "execution_count": null,
   "metadata": {},
   "outputs": [],
   "source": []
  },
  {
   "cell_type": "code",
   "execution_count": null,
   "metadata": {},
   "outputs": [],
   "source": []
  }
 ],
 "metadata": {
  "kernelspec": {
   "display_name": "Python 3",
   "language": "python",
   "name": "python3"
  },
  "language_info": {
   "codemirror_mode": {
    "name": "ipython",
    "version": 3
   },
   "file_extension": ".py",
   "mimetype": "text/x-python",
   "name": "python",
   "nbconvert_exporter": "python",
   "pygments_lexer": "ipython3",
   "version": "3.8.3"
  }
 },
 "nbformat": 4,
 "nbformat_minor": 2
}
