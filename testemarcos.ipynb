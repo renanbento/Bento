{
 "cells": [
  {
   "cell_type": "code",
   "execution_count": 2,
   "metadata": {},
   "outputs": [],
   "source": [
    "import sympy as sym\n",
    "sym.init_printing(use_latex=\"mathjax\")\n",
    "a,b,c,d, e , f , g , h , i, j , k , l , n , m, o, p, q, r, s, t, u, v, w,x, y, z =sym.symbols(\"a b c d e f g h i j k l m n o p q r s t u v w x y  z \", real=True)\n",
    "#alpha, omega, gamma, beta,mu, Delta,epsilon, epsilon_s, epsilon_p = sym.symbols('alpha omega gamma beta mu Delta epsilon epsilon_s epsilon_p', real=True)\n",
    "#V_1,V_2,E,E_s, E_p, V =sym.symbols(\"V_1 V_2 E  E_s E_p V\")#, real=True)\n",
    "alpha, omega, gamma,beta, beta_ss,beta_sp,beta_pp,mu, Delta,epsilon, epsilon_s, epsilon_p   = sym.symbols('alpha omega gamma beta  beta_ss beta_sp beta_pp mu Delta epsilon epsilon_s, epsilon_p', real=True)\n",
    "V_1,V,E, V_2, h =sym.symbols(\"V_1 V E V_2 h\")#, real=True)"
   ]
  },
  {
   "cell_type": "code",
   "execution_count": 9,
   "metadata": {},
   "outputs": [
    {
     "data": {
      "text/latex": [
       "$\\displaystyle \\left[\\begin{matrix}E - \\epsilon - \\mu & V_{1} & 0\\\\V_{1} & E + \\epsilon - \\mu & V_{2}\\\\0 & V_{2} & \\frac{1}{g}\\end{matrix}\\right]$"
      ],
      "text/plain": [
       "⎡E - ε - μ     V₁      0 ⎤\n",
       "⎢                        ⎥\n",
       "⎢   V₁      E + ε - μ  V₂⎥\n",
       "⎢                        ⎥\n",
       "⎢                      1 ⎥\n",
       "⎢    0         V₂      ─ ⎥\n",
       "⎣                      g ⎦"
      ]
     },
     "execution_count": 9,
     "metadata": {},
     "output_type": "execute_result"
    }
   ],
   "source": [
    "D= sym.Matrix([[E-epsilon-mu,V_1,0],\n",
    "               [V_1,E+epsilon-mu,V_2],\n",
    "               [0,V_2,g**-1]]) \n",
    "D"
   ]
  },
  {
   "cell_type": "code",
   "execution_count": 10,
   "metadata": {},
   "outputs": [
    {
     "data": {
      "text/latex": [
       "$\\displaystyle \\left[\\begin{matrix}\\frac{- E + V_{2}^{2} g - \\epsilon + \\mu}{- E^{2} + E V_{2}^{2} g + 2 E \\mu + V_{1}^{2} - V_{2}^{2} \\epsilon g - V_{2}^{2} g \\mu + \\epsilon^{2} - \\mu^{2}} & \\frac{V_{1}}{- E^{2} + E V_{2}^{2} g + 2 E \\mu + V_{1}^{2} - V_{2}^{2} \\epsilon g - V_{2}^{2} g \\mu + \\epsilon^{2} - \\mu^{2}} & - \\frac{V_{1} V_{2} g}{- E^{2} + E V_{2}^{2} g + 2 E \\mu + V_{1}^{2} - V_{2}^{2} \\epsilon g - V_{2}^{2} g \\mu + \\epsilon^{2} - \\mu^{2}}\\\\\\frac{V_{1}}{- E^{2} + E V_{2}^{2} g + 2 E \\mu + V_{1}^{2} - V_{2}^{2} \\epsilon g - V_{2}^{2} g \\mu + \\epsilon^{2} - \\mu^{2}} & - \\frac{E - \\epsilon - \\mu}{- E^{2} + E V_{2}^{2} g + 2 E \\mu + V_{1}^{2} - V_{2}^{2} \\epsilon g - V_{2}^{2} g \\mu + \\epsilon^{2} - \\mu^{2}} & \\frac{E V_{2} g - V_{2} \\epsilon g - V_{2} g \\mu}{- E^{2} + E V_{2}^{2} g + 2 E \\mu + V_{1}^{2} - V_{2}^{2} \\epsilon g - V_{2}^{2} g \\mu + \\epsilon^{2} - \\mu^{2}}\\\\- \\frac{V_{1} V_{2} g}{- E^{2} + E V_{2}^{2} g + 2 E \\mu + V_{1}^{2} - V_{2}^{2} \\epsilon g - V_{2}^{2} g \\mu + \\epsilon^{2} - \\mu^{2}} & \\frac{E V_{2} g - V_{2} \\epsilon g - V_{2} g \\mu}{- E^{2} + E V_{2}^{2} g + 2 E \\mu + V_{1}^{2} - V_{2}^{2} \\epsilon g - V_{2}^{2} g \\mu + \\epsilon^{2} - \\mu^{2}} & - \\frac{E^{2} g - 2 E g \\mu - V_{1}^{2} g - \\epsilon^{2} g + g \\mu^{2}}{- E^{2} + E V_{2}^{2} g + 2 E \\mu + V_{1}^{2} - V_{2}^{2} \\epsilon g - V_{2}^{2} g \\mu + \\epsilon^{2} - \\mu^{2}}\\end{matrix}\\right]$"
      ],
      "text/plain": [
       "⎡                           2                                                 \n",
       "⎢                    -E + V₂ ⋅g - ε + μ                                       \n",
       "⎢──────────────────────────────────────────────────────────  ─────────────────\n",
       "⎢   2       2               2     2         2        2    2     2       2     \n",
       "⎢- E  + E⋅V₂ ⋅g + 2⋅E⋅μ + V₁  - V₂ ⋅ε⋅g - V₂ ⋅g⋅μ + ε  - μ   - E  + E⋅V₂ ⋅g + \n",
       "⎢                                                                             \n",
       "⎢                            V₁                                               \n",
       "⎢──────────────────────────────────────────────────────────  ─────────────────\n",
       "⎢   2       2               2     2         2        2    2     2       2     \n",
       "⎢- E  + E⋅V₂ ⋅g + 2⋅E⋅μ + V₁  - V₂ ⋅ε⋅g - V₂ ⋅g⋅μ + ε  - μ   - E  + E⋅V₂ ⋅g + \n",
       "⎢                                                                             \n",
       "⎢                                                                             \n",
       "⎢                        -V₁⋅V₂⋅g                                             \n",
       "⎢──────────────────────────────────────────────────────────  ─────────────────\n",
       "⎢   2       2               2     2         2        2    2     2       2     \n",
       "⎣- E  + E⋅V₂ ⋅g + 2⋅E⋅μ + V₁  - V₂ ⋅ε⋅g - V₂ ⋅g⋅μ + ε  - μ   - E  + E⋅V₂ ⋅g + \n",
       "\n",
       "                                                                              \n",
       "           V₁                                                      -V₁⋅V₂⋅g   \n",
       "─────────────────────────────────────────  ───────────────────────────────────\n",
       "          2     2         2        2    2     2       2               2     2 \n",
       "2⋅E⋅μ + V₁  - V₂ ⋅ε⋅g - V₂ ⋅g⋅μ + ε  - μ   - E  + E⋅V₂ ⋅g + 2⋅E⋅μ + V₁  - V₂ ⋅\n",
       "                                                                              \n",
       "     -(E - ε - μ)                                           E⋅V₂⋅g - V₂⋅ε⋅g - \n",
       "─────────────────────────────────────────  ───────────────────────────────────\n",
       "          2     2         2        2    2     2       2               2     2 \n",
       "2⋅E⋅μ + V₁  - V₂ ⋅ε⋅g - V₂ ⋅g⋅μ + ε  - μ   - E  + E⋅V₂ ⋅g + 2⋅E⋅μ + V₁  - V₂ ⋅\n",
       "                                                                              \n",
       "                                                     ⎛ 2                 2    \n",
       "E⋅V₂⋅g - V₂⋅ε⋅g - V₂⋅g⋅μ                            -⎝E ⋅g - 2⋅E⋅g⋅μ - V₁ ⋅g -\n",
       "─────────────────────────────────────────  ───────────────────────────────────\n",
       "          2     2         2        2    2     2       2               2     2 \n",
       "2⋅E⋅μ + V₁  - V₂ ⋅ε⋅g - V₂ ⋅g⋅μ + ε  - μ   - E  + E⋅V₂ ⋅g + 2⋅E⋅μ + V₁  - V₂ ⋅\n",
       "\n",
       "                       ⎤\n",
       "                       ⎥\n",
       "───────────────────────⎥\n",
       "        2        2    2⎥\n",
       "ε⋅g - V₂ ⋅g⋅μ + ε  - μ ⎥\n",
       "                       ⎥\n",
       "V₂⋅g⋅μ                 ⎥\n",
       "───────────────────────⎥\n",
       "        2        2    2⎥\n",
       "ε⋅g - V₂ ⋅g⋅μ + ε  - μ ⎥\n",
       "                       ⎥\n",
       "  2        2⎞          ⎥\n",
       " ε ⋅g + g⋅μ ⎠          ⎥\n",
       "───────────────────────⎥\n",
       "        2        2    2⎥\n",
       "ε⋅g - V₂ ⋅g⋅μ + ε  - μ ⎦"
      ]
     },
     "execution_count": 10,
     "metadata": {},
     "output_type": "execute_result"
    }
   ],
   "source": [
    "Inv=D**-1\n",
    "Inv"
   ]
  },
  {
   "cell_type": "code",
   "execution_count": 11,
   "metadata": {},
   "outputs": [
    {
     "data": {
      "text/latex": [
       "$\\displaystyle \\frac{- E + V_{2}^{2} g - \\epsilon + \\mu}{- E^{2} + E V_{2}^{2} g + 2 E \\mu + V_{1}^{2} - V_{2}^{2} \\epsilon g - V_{2}^{2} g \\mu + \\epsilon^{2} - \\mu^{2}}$"
      ],
      "text/plain": [
       "                           2                              \n",
       "                    -E + V₂ ⋅g - ε + μ                    \n",
       "──────────────────────────────────────────────────────────\n",
       "   2       2               2     2         2        2    2\n",
       "- E  + E⋅V₂ ⋅g + 2⋅E⋅μ + V₁  - V₂ ⋅ε⋅g - V₂ ⋅g⋅μ + ε  - μ "
      ]
     },
     "metadata": {},
     "output_type": "display_data"
    }
   ],
   "source": [
    "display(Inv[0,0])"
   ]
  },
  {
   "cell_type": "code",
   "execution_count": 12,
   "metadata": {},
   "outputs": [
    {
     "data": {
      "text/latex": [
       "$\\displaystyle E - V_{2}^{2} g + \\epsilon - \\mu$"
      ],
      "text/plain": [
       "      2          \n",
       "E - V₂ ⋅g + ε - μ"
      ]
     },
     "metadata": {},
     "output_type": "display_data"
    },
    {
     "data": {
      "text/latex": [
       "$\\displaystyle E^{2} - E V_{2}^{2} g - 2 E \\mu - V_{1}^{2} + V_{2}^{2} \\epsilon g + V_{2}^{2} g \\mu - \\epsilon^{2} + \\mu^{2}$"
      ],
      "text/plain": [
       " 2       2               2     2         2        2    2\n",
       "E  - E⋅V₂ ⋅g - 2⋅E⋅μ - V₁  + V₂ ⋅ε⋅g + V₂ ⋅g⋅μ - ε  + μ "
      ]
     },
     "metadata": {},
     "output_type": "display_data"
    }
   ],
   "source": [
    "exp1=sym.simplify(Inv[0,0])\n",
    "#exp1=(Inv[0,0])\n",
    "n,d = sym.fraction(exp1)\n",
    "display(n,d)"
   ]
  },
  {
   "cell_type": "code",
   "execution_count": 17,
   "metadata": {},
   "outputs": [
    {
     "data": {
      "text/latex": [
       "$\\displaystyle - E + V_{2}^{2} g - \\epsilon + g \\left(E^{2} - E V_{2}^{2} g - 2 E \\mu - V_{1}^{2} + V_{2}^{2} \\epsilon g + V_{2}^{2} g \\mu - \\epsilon^{2} + \\mu^{2}\\right) + \\mu$"
      ],
      "text/plain": [
       "       2           ⎛ 2       2               2     2         2        2    2⎞ \n",
       "-E + V₂ ⋅g - ε + g⋅⎝E  - E⋅V₂ ⋅g - 2⋅E⋅μ - V₁  + V₂ ⋅ε⋅g + V₂ ⋅g⋅μ - ε  + μ ⎠ \n",
       "\n",
       "   \n",
       "+ μ"
      ]
     },
     "execution_count": 17,
     "metadata": {},
     "output_type": "execute_result"
    }
   ],
   "source": [
    "eq=sym.simplify(d*g -n)\n",
    "#eq=(d*g-n)\n",
    "eq"
   ]
  },
  {
   "cell_type": "code",
   "execution_count": 8,
   "metadata": {},
   "outputs": [
    {
     "data": {
      "text/latex": [
       "$\\displaystyle \\left[\\begin{matrix}E & V_{1} & 0\\\\V_{1} & E & V\\\\0 & V & \\frac{1}{g}\\end{matrix}\\right]$"
      ],
      "text/plain": [
       "⎡E   V₁  0⎤\n",
       "⎢         ⎥\n",
       "⎢V₁  E   V⎥\n",
       "⎢         ⎥\n",
       "⎢        1⎥\n",
       "⎢0   V   ─⎥\n",
       "⎣        g⎦"
      ]
     },
     "execution_count": 8,
     "metadata": {},
     "output_type": "execute_result"
    }
   ],
   "source": [
    "D= sym.Matrix([[E,V_1,0],[V_1,E,V],[0,V,g**-1]]) \n",
    "D"
   ]
  },
  {
   "cell_type": "code",
   "execution_count": 14,
   "metadata": {},
   "outputs": [
    {
     "data": {
      "text/latex": [
       "$\\displaystyle \\left[\\begin{matrix}\\frac{- E + V_{2}^{2} g - \\epsilon + \\mu}{- E^{2} + E V_{2}^{2} g + 2 E \\mu + V_{1}^{2} - V_{2}^{2} \\epsilon g - V_{2}^{2} g \\mu + \\epsilon^{2} - \\mu^{2}} & \\frac{V_{1}}{- E^{2} + E V_{2}^{2} g + 2 E \\mu + V_{1}^{2} - V_{2}^{2} \\epsilon g - V_{2}^{2} g \\mu + \\epsilon^{2} - \\mu^{2}} & - \\frac{V_{1} V_{2} g}{- E^{2} + E V_{2}^{2} g + 2 E \\mu + V_{1}^{2} - V_{2}^{2} \\epsilon g - V_{2}^{2} g \\mu + \\epsilon^{2} - \\mu^{2}}\\\\\\frac{V_{1}}{- E^{2} + E V_{2}^{2} g + 2 E \\mu + V_{1}^{2} - V_{2}^{2} \\epsilon g - V_{2}^{2} g \\mu + \\epsilon^{2} - \\mu^{2}} & - \\frac{E - \\epsilon - \\mu}{- E^{2} + E V_{2}^{2} g + 2 E \\mu + V_{1}^{2} - V_{2}^{2} \\epsilon g - V_{2}^{2} g \\mu + \\epsilon^{2} - \\mu^{2}} & \\frac{E V_{2} g - V_{2} \\epsilon g - V_{2} g \\mu}{- E^{2} + E V_{2}^{2} g + 2 E \\mu + V_{1}^{2} - V_{2}^{2} \\epsilon g - V_{2}^{2} g \\mu + \\epsilon^{2} - \\mu^{2}}\\\\- \\frac{V_{1} V_{2} g}{- E^{2} + E V_{2}^{2} g + 2 E \\mu + V_{1}^{2} - V_{2}^{2} \\epsilon g - V_{2}^{2} g \\mu + \\epsilon^{2} - \\mu^{2}} & \\frac{E V_{2} g - V_{2} \\epsilon g - V_{2} g \\mu}{- E^{2} + E V_{2}^{2} g + 2 E \\mu + V_{1}^{2} - V_{2}^{2} \\epsilon g - V_{2}^{2} g \\mu + \\epsilon^{2} - \\mu^{2}} & - \\frac{E^{2} g - 2 E g \\mu - V_{1}^{2} g - \\epsilon^{2} g + g \\mu^{2}}{- E^{2} + E V_{2}^{2} g + 2 E \\mu + V_{1}^{2} - V_{2}^{2} \\epsilon g - V_{2}^{2} g \\mu + \\epsilon^{2} - \\mu^{2}}\\end{matrix}\\right]$"
      ],
      "text/plain": [
       "⎡                           2                                                 \n",
       "⎢                    -E + V₂ ⋅g - ε + μ                                       \n",
       "⎢──────────────────────────────────────────────────────────  ─────────────────\n",
       "⎢   2       2               2     2         2        2    2     2       2     \n",
       "⎢- E  + E⋅V₂ ⋅g + 2⋅E⋅μ + V₁  - V₂ ⋅ε⋅g - V₂ ⋅g⋅μ + ε  - μ   - E  + E⋅V₂ ⋅g + \n",
       "⎢                                                                             \n",
       "⎢                            V₁                                               \n",
       "⎢──────────────────────────────────────────────────────────  ─────────────────\n",
       "⎢   2       2               2     2         2        2    2     2       2     \n",
       "⎢- E  + E⋅V₂ ⋅g + 2⋅E⋅μ + V₁  - V₂ ⋅ε⋅g - V₂ ⋅g⋅μ + ε  - μ   - E  + E⋅V₂ ⋅g + \n",
       "⎢                                                                             \n",
       "⎢                                                                             \n",
       "⎢                        -V₁⋅V₂⋅g                                             \n",
       "⎢──────────────────────────────────────────────────────────  ─────────────────\n",
       "⎢   2       2               2     2         2        2    2     2       2     \n",
       "⎣- E  + E⋅V₂ ⋅g + 2⋅E⋅μ + V₁  - V₂ ⋅ε⋅g - V₂ ⋅g⋅μ + ε  - μ   - E  + E⋅V₂ ⋅g + \n",
       "\n",
       "                                                                              \n",
       "           V₁                                                      -V₁⋅V₂⋅g   \n",
       "─────────────────────────────────────────  ───────────────────────────────────\n",
       "          2     2         2        2    2     2       2               2     2 \n",
       "2⋅E⋅μ + V₁  - V₂ ⋅ε⋅g - V₂ ⋅g⋅μ + ε  - μ   - E  + E⋅V₂ ⋅g + 2⋅E⋅μ + V₁  - V₂ ⋅\n",
       "                                                                              \n",
       "     -(E - ε - μ)                                           E⋅V₂⋅g - V₂⋅ε⋅g - \n",
       "─────────────────────────────────────────  ───────────────────────────────────\n",
       "          2     2         2        2    2     2       2               2     2 \n",
       "2⋅E⋅μ + V₁  - V₂ ⋅ε⋅g - V₂ ⋅g⋅μ + ε  - μ   - E  + E⋅V₂ ⋅g + 2⋅E⋅μ + V₁  - V₂ ⋅\n",
       "                                                                              \n",
       "                                                     ⎛ 2                 2    \n",
       "E⋅V₂⋅g - V₂⋅ε⋅g - V₂⋅g⋅μ                            -⎝E ⋅g - 2⋅E⋅g⋅μ - V₁ ⋅g -\n",
       "─────────────────────────────────────────  ───────────────────────────────────\n",
       "          2     2         2        2    2     2       2               2     2 \n",
       "2⋅E⋅μ + V₁  - V₂ ⋅ε⋅g - V₂ ⋅g⋅μ + ε  - μ   - E  + E⋅V₂ ⋅g + 2⋅E⋅μ + V₁  - V₂ ⋅\n",
       "\n",
       "                       ⎤\n",
       "                       ⎥\n",
       "───────────────────────⎥\n",
       "        2        2    2⎥\n",
       "ε⋅g - V₂ ⋅g⋅μ + ε  - μ ⎥\n",
       "                       ⎥\n",
       "V₂⋅g⋅μ                 ⎥\n",
       "───────────────────────⎥\n",
       "        2        2    2⎥\n",
       "ε⋅g - V₂ ⋅g⋅μ + ε  - μ ⎥\n",
       "                       ⎥\n",
       "  2        2⎞          ⎥\n",
       " ε ⋅g + g⋅μ ⎠          ⎥\n",
       "───────────────────────⎥\n",
       "        2        2    2⎥\n",
       "ε⋅g - V₂ ⋅g⋅μ + ε  - μ ⎦"
      ]
     },
     "metadata": {},
     "output_type": "display_data"
    },
    {
     "data": {
      "text/latex": [
       "$\\displaystyle \\frac{- E + V_{2}^{2} g - \\epsilon + \\mu}{- E^{2} + E V_{2}^{2} g + 2 E \\mu + V_{1}^{2} - V_{2}^{2} \\epsilon g - V_{2}^{2} g \\mu + \\epsilon^{2} - \\mu^{2}}$"
      ],
      "text/plain": [
       "                           2                              \n",
       "                    -E + V₂ ⋅g - ε + μ                    \n",
       "──────────────────────────────────────────────────────────\n",
       "   2       2               2     2         2        2    2\n",
       "- E  + E⋅V₂ ⋅g + 2⋅E⋅μ + V₁  - V₂ ⋅ε⋅g - V₂ ⋅g⋅μ + ε  - μ "
      ]
     },
     "metadata": {},
     "output_type": "display_data"
    },
    {
     "data": {
      "text/latex": [
       "$\\displaystyle E - V_{2}^{2} g + \\epsilon - \\mu$"
      ],
      "text/plain": [
       "      2          \n",
       "E - V₂ ⋅g + ε - μ"
      ]
     },
     "metadata": {},
     "output_type": "display_data"
    },
    {
     "data": {
      "text/latex": [
       "$\\displaystyle E^{2} - E V_{2}^{2} g - 2 E \\mu - V_{1}^{2} + V_{2}^{2} \\epsilon g + V_{2}^{2} g \\mu - \\epsilon^{2} + \\mu^{2}$"
      ],
      "text/plain": [
       " 2       2               2     2         2        2    2\n",
       "E  - E⋅V₂ ⋅g - 2⋅E⋅μ - V₁  + V₂ ⋅ε⋅g + V₂ ⋅g⋅μ - ε  + μ "
      ]
     },
     "metadata": {},
     "output_type": "display_data"
    },
    {
     "data": {
      "text/latex": [
       "$\\displaystyle - E + V_{2}^{2} g - \\epsilon + g \\left(E^{2} - E V_{2}^{2} g - 2 E \\mu - V_{1}^{2} + V_{2}^{2} \\epsilon g + V_{2}^{2} g \\mu - \\epsilon^{2} + \\mu^{2}\\right) + \\mu$"
      ],
      "text/plain": [
       "       2           ⎛ 2       2               2     2         2        2    2⎞ \n",
       "-E + V₂ ⋅g - ε + g⋅⎝E  - E⋅V₂ ⋅g - 2⋅E⋅μ - V₁  + V₂ ⋅ε⋅g + V₂ ⋅g⋅μ - ε  + μ ⎠ \n",
       "\n",
       "   \n",
       "+ μ"
      ]
     },
     "metadata": {},
     "output_type": "display_data"
    }
   ],
   "source": [
    "Inv=D**-1\n",
    "display(Inv)\n",
    "display(Inv[0,0])\n",
    "exp1=sym.simplify(Inv[0,0])\n",
    "n,d = sym.fraction(exp1)\n",
    "display(n,d)\n",
    "eq=d*g-n\n",
    "display(eq)"
   ]
  },
  {
   "cell_type": "code",
   "execution_count": 9,
   "metadata": {},
   "outputs": [
    {
     "data": {
      "text/latex": [
       "$\\displaystyle \\left[\\begin{matrix}\\frac{- E + V_{2}^{2} g - \\epsilon}{- E^{2} + E V_{2}^{2} g + V_{1}^{2} - V_{2}^{2} \\epsilon g + \\epsilon^{2}} & \\frac{V_{1}}{- E^{2} + E V_{2}^{2} g + V_{1}^{2} - V_{2}^{2} \\epsilon g + \\epsilon^{2}} & - \\frac{V_{1} V_{2} g}{- E^{2} + E V_{2}^{2} g + V_{1}^{2} - V_{2}^{2} \\epsilon g + \\epsilon^{2}}\\\\\\frac{V_{1}}{- E^{2} + E V_{2}^{2} g + V_{1}^{2} - V_{2}^{2} \\epsilon g + \\epsilon^{2}} & - \\frac{E - \\epsilon}{- E^{2} + E V_{2}^{2} g + V_{1}^{2} - V_{2}^{2} \\epsilon g + \\epsilon^{2}} & \\frac{E V_{2} g - V_{2} \\epsilon g}{- E^{2} + E V_{2}^{2} g + V_{1}^{2} - V_{2}^{2} \\epsilon g + \\epsilon^{2}}\\\\- \\frac{V_{1} V_{2} g}{- E^{2} + E V_{2}^{2} g + V_{1}^{2} - V_{2}^{2} \\epsilon g + \\epsilon^{2}} & \\frac{E V_{2} g - V_{2} \\epsilon g}{- E^{2} + E V_{2}^{2} g + V_{1}^{2} - V_{2}^{2} \\epsilon g + \\epsilon^{2}} & - \\frac{E^{2} g - V_{1}^{2} g - \\epsilon^{2} g}{- E^{2} + E V_{2}^{2} g + V_{1}^{2} - V_{2}^{2} \\epsilon g + \\epsilon^{2}}\\end{matrix}\\right]$"
      ],
      "text/plain": [
       "⎡                  2                                                          \n",
       "⎢           -E + V₂ ⋅g - ε                             V₁                     \n",
       "⎢───────────────────────────────────  ───────────────────────────────────  ───\n",
       "⎢   2       2       2     2        2     2       2       2     2        2     \n",
       "⎢- E  + E⋅V₂ ⋅g + V₁  - V₂ ⋅ε⋅g + ε   - E  + E⋅V₂ ⋅g + V₁  - V₂ ⋅ε⋅g + ε   - E\n",
       "⎢                                                                             \n",
       "⎢                 V₁                               -(E - ε)                   \n",
       "⎢───────────────────────────────────  ───────────────────────────────────  ───\n",
       "⎢   2       2       2     2        2     2       2       2     2        2     \n",
       "⎢- E  + E⋅V₂ ⋅g + V₁  - V₂ ⋅ε⋅g + ε   - E  + E⋅V₂ ⋅g + V₁  - V₂ ⋅ε⋅g + ε   - E\n",
       "⎢                                                                             \n",
       "⎢                                                                             \n",
       "⎢             -V₁⋅V₂⋅g                          E⋅V₂⋅g - V₂⋅ε⋅g               \n",
       "⎢───────────────────────────────────  ───────────────────────────────────  ───\n",
       "⎢   2       2       2     2        2     2       2       2     2        2     \n",
       "⎣- E  + E⋅V₂ ⋅g + V₁  - V₂ ⋅ε⋅g + ε   - E  + E⋅V₂ ⋅g + V₁  - V₂ ⋅ε⋅g + ε   - E\n",
       "\n",
       "                                ⎤\n",
       "          -V₁⋅V₂⋅g              ⎥\n",
       "────────────────────────────────⎥\n",
       "2       2       2     2        2⎥\n",
       "  + E⋅V₂ ⋅g + V₁  - V₂ ⋅ε⋅g + ε ⎥\n",
       "                                ⎥\n",
       "       E⋅V₂⋅g - V₂⋅ε⋅g          ⎥\n",
       "────────────────────────────────⎥\n",
       "2       2       2     2        2⎥\n",
       "  + E⋅V₂ ⋅g + V₁  - V₂ ⋅ε⋅g + ε ⎥\n",
       "                                ⎥\n",
       "    ⎛ 2       2      2  ⎞       ⎥\n",
       "   -⎝E ⋅g - V₁ ⋅g - ε ⋅g⎠       ⎥\n",
       "────────────────────────────────⎥\n",
       "2       2       2     2        2⎥\n",
       "  + E⋅V₂ ⋅g + V₁  - V₂ ⋅ε⋅g + ε ⎦"
      ]
     },
     "metadata": {},
     "output_type": "display_data"
    },
    {
     "data": {
      "text/latex": [
       "$\\displaystyle \\frac{- E + V_{2}^{2} g - \\epsilon}{- E^{2} + E V_{2}^{2} g + V_{1}^{2} - V_{2}^{2} \\epsilon g + \\epsilon^{2}}$"
      ],
      "text/plain": [
       "                  2                \n",
       "           -E + V₂ ⋅g - ε          \n",
       "───────────────────────────────────\n",
       "   2       2       2     2        2\n",
       "- E  + E⋅V₂ ⋅g + V₁  - V₂ ⋅ε⋅g + ε "
      ]
     },
     "metadata": {},
     "output_type": "display_data"
    },
    {
     "data": {
      "text/latex": [
       "$\\displaystyle - E + V_{2}^{2} g - \\epsilon$"
      ],
      "text/plain": [
       "       2      \n",
       "-E + V₂ ⋅g - ε"
      ]
     },
     "metadata": {},
     "output_type": "display_data"
    },
    {
     "data": {
      "text/latex": [
       "$\\displaystyle - E^{2} + E V_{2}^{2} g + V_{1}^{2} - V_{2}^{2} \\epsilon g + \\epsilon^{2}$"
      ],
      "text/plain": [
       "   2       2       2     2        2\n",
       "- E  + E⋅V₂ ⋅g + V₁  - V₂ ⋅ε⋅g + ε "
      ]
     },
     "metadata": {},
     "output_type": "display_data"
    },
    {
     "data": {
      "text/latex": [
       "$\\displaystyle - E^{2} g + E V_{2}^{2} g^{2} + E + V_{1}^{2} g - V_{2}^{2} \\epsilon g^{2} - V_{2}^{2} g + \\epsilon^{2} g + \\epsilon$"
      ],
      "text/plain": [
       "   2         2  2         2       2    2     2      2      \n",
       "- E ⋅g + E⋅V₂ ⋅g  + E + V₁ ⋅g - V₂ ⋅ε⋅g  - V₂ ⋅g + ε ⋅g + ε"
      ]
     },
     "metadata": {},
     "output_type": "display_data"
    }
   ],
   "source": [
    "Inv=D**-1\n",
    "display(Inv)\n",
    "display(Inv[0,0])\n",
    "exp1=sym.simplify(Inv[0,0])\n",
    "n,d = sym.fraction(exp1)\n",
    "display(n,d)\n",
    "eq=d*g-n\n",
    "display(sym.expand(eq))"
   ]
  },
  {
   "cell_type": "code",
   "execution_count": 15,
   "metadata": {},
   "outputs": [
    {
     "data": {
      "text/latex": [
       "$\\displaystyle \\frac{- E^{2} + 2 E \\mu + V_{1}^{2} - V_{2}^{2} + \\epsilon^{2} - \\mu^{2} + \\sqrt{\\left(- E^{2} + 2 E \\mu + V_{1}^{2} - 2 V_{1} V_{2} + V_{2}^{2} + \\epsilon^{2} - \\mu^{2}\\right) \\left(- E^{2} + 2 E \\mu + V_{1}^{2} + 2 V_{1} V_{2} + V_{2}^{2} + \\epsilon^{2} - \\mu^{2}\\right)}}{2 V_{2}^{2} \\left(- E + \\epsilon + \\mu\\right)}$"
      ],
      "text/plain": [
       "                                        ______________________________________\n",
       "   2             2     2    2    2     ╱ ⎛   2             2               2  \n",
       "- E  + 2⋅E⋅μ + V₁  - V₂  + ε  - μ  + ╲╱  ⎝- E  + 2⋅E⋅μ + V₁  - 2⋅V₁⋅V₂ + V₂  +\n",
       "──────────────────────────────────────────────────────────────────────────────\n",
       "                                                               2              \n",
       "                                                           2⋅V₂ ⋅(-E + ε + μ) \n",
       "\n",
       "_________________________________________________________\n",
       "  2    2⎞ ⎛   2             2               2    2    2⎞ \n",
       " ε  - μ ⎠⋅⎝- E  + 2⋅E⋅μ + V₁  + 2⋅V₁⋅V₂ + V₂  + ε  - μ ⎠ \n",
       "─────────────────────────────────────────────────────────\n",
       "                                                         \n",
       "                                                         "
      ]
     },
     "metadata": {},
     "output_type": "display_data"
    }
   ],
   "source": [
    "zo=sym.solve(eq,g)\n",
    "display(zo[1])"
   ]
  },
  {
   "cell_type": "code",
   "execution_count": 16,
   "metadata": {},
   "outputs": [
    {
     "data": {
      "text/latex": [
       "$\\displaystyle \\frac{- E^{2} + 2 E \\mu + V_{1}^{2} - V_{2}^{2} + \\epsilon^{2} - \\mu^{2} - \\sqrt{\\left(- E^{2} + 2 E \\mu + V_{1}^{2} - 2 V_{1} V_{2} + V_{2}^{2} + \\epsilon^{2} - \\mu^{2}\\right) \\left(- E^{2} + 2 E \\mu + V_{1}^{2} + 2 V_{1} V_{2} + V_{2}^{2} + \\epsilon^{2} - \\mu^{2}\\right)}}{2 V_{2}^{2} \\left(- E + \\epsilon + \\mu\\right)}$"
      ],
      "text/plain": [
       "                                        ______________________________________\n",
       "   2             2     2    2    2     ╱ ⎛   2             2               2  \n",
       "- E  + 2⋅E⋅μ + V₁  - V₂  + ε  - μ  - ╲╱  ⎝- E  + 2⋅E⋅μ + V₁  - 2⋅V₁⋅V₂ + V₂  +\n",
       "──────────────────────────────────────────────────────────────────────────────\n",
       "                                                               2              \n",
       "                                                           2⋅V₂ ⋅(-E + ε + μ) \n",
       "\n",
       "_________________________________________________________\n",
       "  2    2⎞ ⎛   2             2               2    2    2⎞ \n",
       " ε  - μ ⎠⋅⎝- E  + 2⋅E⋅μ + V₁  + 2⋅V₁⋅V₂ + V₂  + ε  - μ ⎠ \n",
       "─────────────────────────────────────────────────────────\n",
       "                                                         \n",
       "                                                         "
      ]
     },
     "metadata": {},
     "output_type": "display_data"
    },
    {
     "data": {
      "text/latex": [
       "$\\displaystyle \\frac{- E^{2} + 2 E \\mu + V_{1}^{2} - V_{2}^{2} + \\epsilon^{2} - \\mu^{2} + \\sqrt{\\left(- E^{2} + 2 E \\mu + V_{1}^{2} - 2 V_{1} V_{2} + V_{2}^{2} + \\epsilon^{2} - \\mu^{2}\\right) \\left(- E^{2} + 2 E \\mu + V_{1}^{2} + 2 V_{1} V_{2} + V_{2}^{2} + \\epsilon^{2} - \\mu^{2}\\right)}}{2 V_{2}^{2} \\left(- E + \\epsilon + \\mu\\right)}$"
      ],
      "text/plain": [
       "                                        ______________________________________\n",
       "   2             2     2    2    2     ╱ ⎛   2             2               2  \n",
       "- E  + 2⋅E⋅μ + V₁  - V₂  + ε  - μ  + ╲╱  ⎝- E  + 2⋅E⋅μ + V₁  - 2⋅V₁⋅V₂ + V₂  +\n",
       "──────────────────────────────────────────────────────────────────────────────\n",
       "                                                               2              \n",
       "                                                           2⋅V₂ ⋅(-E + ε + μ) \n",
       "\n",
       "_________________________________________________________\n",
       "  2    2⎞ ⎛   2             2               2    2    2⎞ \n",
       " ε  - μ ⎠⋅⎝- E  + 2⋅E⋅μ + V₁  + 2⋅V₁⋅V₂ + V₂  + ε  - μ ⎠ \n",
       "─────────────────────────────────────────────────────────\n",
       "                                                         \n",
       "                                                         "
      ]
     },
     "metadata": {},
     "output_type": "display_data"
    }
   ],
   "source": [
    "z1 = zo[0]\n",
    "z2 = zo[1]\n",
    "display(z1)\n",
    "display(z2)"
   ]
  },
  {
   "cell_type": "code",
   "execution_count": 23,
   "metadata": {},
   "outputs": [
    {
     "ename": "NameError",
     "evalue": "name 'E_p' is not defined",
     "output_type": "error",
     "traceback": [
      "\u001b[1;31m---------------------------------------------------------------------------\u001b[0m",
      "\u001b[1;31mNameError\u001b[0m                                 Traceback (most recent call last)",
      "\u001b[1;32m<ipython-input-23-cef810555f3c>\u001b[0m in \u001b[0;36m<module>\u001b[1;34m\u001b[0m\n\u001b[1;32m----> 1\u001b[1;33m \u001b[0meq2\u001b[0m\u001b[1;33m=\u001b[0m \u001b[0mg\u001b[0m\u001b[1;33m**\u001b[0m\u001b[1;36m2\u001b[0m\u001b[1;33m*\u001b[0m\u001b[0mV_2\u001b[0m\u001b[1;33m**\u001b[0m\u001b[1;36m2\u001b[0m \u001b[1;33m-\u001b[0m \u001b[1;36m2\u001b[0m\u001b[1;33m*\u001b[0m\u001b[0mV_2\u001b[0m\u001b[1;33m*\u001b[0m\u001b[0mg\u001b[0m\u001b[1;33m*\u001b[0m\u001b[0malpha\u001b[0m \u001b[1;33m+\u001b[0m \u001b[1;33m(\u001b[0m\u001b[0mE\u001b[0m\u001b[1;33m-\u001b[0m\u001b[0mE_p\u001b[0m\u001b[1;33m)\u001b[0m\u001b[1;33m/\u001b[0m\u001b[1;33m(\u001b[0m\u001b[0mE\u001b[0m\u001b[1;33m-\u001b[0m\u001b[0mE_s\u001b[0m\u001b[1;33m)\u001b[0m\u001b[1;33m\u001b[0m\u001b[1;33m\u001b[0m\u001b[0m\n\u001b[0m\u001b[0;32m      2\u001b[0m \u001b[0meq4\u001b[0m\u001b[1;33m=\u001b[0m\u001b[0msym\u001b[0m\u001b[1;33m.\u001b[0m\u001b[0msolve\u001b[0m\u001b[1;33m(\u001b[0m\u001b[0meq2\u001b[0m\u001b[1;33m,\u001b[0m\u001b[0mg\u001b[0m\u001b[1;33m)\u001b[0m\u001b[1;33m\u001b[0m\u001b[1;33m\u001b[0m\u001b[0m\n\u001b[0;32m      3\u001b[0m \u001b[0mdisplay\u001b[0m\u001b[1;33m(\u001b[0m\u001b[0msym\u001b[0m\u001b[1;33m.\u001b[0m\u001b[0mexpand\u001b[0m\u001b[1;33m(\u001b[0m\u001b[0meq4\u001b[0m\u001b[1;33m[\u001b[0m\u001b[1;36m0\u001b[0m\u001b[1;33m]\u001b[0m\u001b[1;33m)\u001b[0m\u001b[1;33m)\u001b[0m\u001b[1;33m\u001b[0m\u001b[1;33m\u001b[0m\u001b[0m\n",
      "\u001b[1;31mNameError\u001b[0m: name 'E_p' is not defined"
     ]
    }
   ],
   "source": [
    "eq2= g**2*V_2**2 - 2*V_2*g*alpha + (E-E_p)/(E-E_s)\n",
    "eq4=sym.solve(eq2,g)\n",
    "display(sym.expand(eq4[0]))\n"
   ]
  },
  {
   "cell_type": "code",
   "execution_count": null,
   "metadata": {},
   "outputs": [],
   "source": [
    "D= sym.Matrix([[E-epsilon_s-mu,V_1,0],[V_1,E-epsilon_p-mu,V_2],[0,V_2,g**-1]]) \n",
    "D"
   ]
  },
  {
   "cell_type": "code",
   "execution_count": null,
   "metadata": {},
   "outputs": [],
   "source": [
    "Inv=D**-1\n",
    "display(Inv)\n",
    "display(Inv[0,0])\n",
    "exp1=sym.simplify(Inv[0,0])\n",
    "n,d = sym.fraction(exp1)\n",
    "display(n,d)\n",
    "eq=d*g-n\n",
    "display(sym.expand(eq))"
   ]
  },
  {
   "cell_type": "code",
   "execution_count": null,
   "metadata": {},
   "outputs": [],
   "source": [
    "#H= sym.Matrix([[-epsilon,-beta_ss,0,beta_sp],\n",
    "#               [-beta_ss,-epsilon,-beta_sp,0],\n",
    "#               [0,-beta_sp,epsilon,beta_pp],\n",
    "#               [beta_sp,0,beta_pp,epsilon]]) \n",
    "\n",
    "H= sym.Matrix([[0,-V_1,0],\n",
    "               [-V_1,0,-V_2],\n",
    "               [0,-V_2,g**-1]]) \n",
    "\n",
    "\n",
    "H2=sym.Matrix([[-V_1,-V_2,0,V_2,0],\n",
    "               [-V_2,-V_1,-V_2,0,0],\n",
    "               [0,-V_2,V_1,V_2,0],\n",
    "               [V_2,0,V_2,V_1,V_2],\n",
    "               [0,0,0,V_2,g**-1]])\n",
    "EG= sym.Matrix([[E,0,0],\n",
    "               [0,E,0],\n",
    "               [0,0,0]]) \n",
    "\n",
    "#EG= sym.Matrix([[E,0,0,0,0],\n",
    "#               [0,E,0,0,0],\n",
    "#               [0,0,E,0,0],\n",
    "#               [0,0,0,E,0],\n",
    "#               [0,0,0,0,0]]) \n",
    "H#,EG"
   ]
  },
  {
   "cell_type": "code",
   "execution_count": null,
   "metadata": {},
   "outputs": [],
   "source": [
    "G1=(EG-H)\n",
    "G1"
   ]
  },
  {
   "cell_type": "code",
   "execution_count": null,
   "metadata": {},
   "outputs": [],
   "source": [
    "Inv1=G1**-1\n",
    "g01=Inv1[0,0]\n",
    "g01"
   ]
  },
  {
   "cell_type": "code",
   "execution_count": null,
   "metadata": {},
   "outputs": [],
   "source": [
    "exp11=sym.simplify(g01)\n",
    "n1,d1 = sym.fraction(exp11)\n",
    "display(n1,d1)\n",
    "eq1=d1*g-n1\n",
    "display(sym.expand(eq1))"
   ]
  },
  {
   "cell_type": "code",
   "execution_count": null,
   "metadata": {},
   "outputs": [],
   "source": [
    "zo1=sym.solve(eq1,g)\n",
    "display(zo1)"
   ]
  },
  {
   "cell_type": "code",
   "execution_count": 86,
   "metadata": {},
   "outputs": [
    {
     "data": {
      "text/latex": [
       "$\\displaystyle \\left[\\begin{matrix}\\epsilon & 0 & - h & h & 0\\\\0 & - \\epsilon & - h & h & 0\\\\- h & - h & \\epsilon & 0 & - h\\\\h & h & 0 & - \\epsilon & - h\\\\0 & 0 & - h & - h & - \\frac{1}{g}\\end{matrix}\\right]$"
      ],
      "text/plain": [
       "⎡ε   0   -h  h    0 ⎤\n",
       "⎢                   ⎥\n",
       "⎢0   -ε  -h  h    0 ⎥\n",
       "⎢                   ⎥\n",
       "⎢-h  -h  ε   0   -h ⎥\n",
       "⎢                   ⎥\n",
       "⎢h   h   0   -ε  -h ⎥\n",
       "⎢                   ⎥\n",
       "⎢                -1 ⎥\n",
       "⎢0   0   -h  -h  ───⎥\n",
       "⎣                 g ⎦"
      ]
     },
     "execution_count": 86,
     "metadata": {},
     "output_type": "execute_result"
    }
   ],
   "source": [
    "#H= sym.Matrix([[-epsilon,-beta_ss,0,beta_sp],\n",
    "#               [-beta_ss,-epsilon,-beta_sp,0],\n",
    "#               [0,-beta_sp,epsilon,beta_pp],\n",
    "#               [beta_sp,0,beta_pp,epsilon]]) \n",
    "\n",
    "#H= sym.Matrix([[0,-V_1,0],\n",
    "#               [-V_1,0,-V_2],\n",
    "#               [0,-V_2,g**-1]]) \n",
    "\n",
    "H1=sym.Matrix([[epsilon,0,-h,h,0],\n",
    "               [0,-epsilon,-h,h,0],\n",
    "              [-h,-h,epsilon,0,-h],\n",
    "              [h,h,0,-epsilon,-h],\n",
    "              [0,0,-h,-h,-g**-1]])\n",
    "#H1=sym.Matrix([[epsilon,0,-h,h,0],\n",
    "#               [0,-epsilon,-h,h,0],\n",
    "#              [-h,-h,epsilon,0,-h],\n",
    "#              [h,h,0,-epsilon,-h],\n",
    " #             [0,0,-h,-h,-g**-1]])\n",
    "\n",
    "#H1=sym.Matrix([[epsilon,-h,0,0,0],\n",
    "#               [-h,epsilon,-h,0,-h],\n",
    "#              [0,-h,-epsilon,h,0],\n",
    "#              [h,0,h,-epsilon,-h],\n",
    " #             [0,-h,0,-h,-g**-1]])\n",
    "#H1=sym.Matrix([[-epsilon,-h,0,h],\n",
    "#               [-h,-epsilon,-h,0],\n",
    "#               [0,-h,epsilon,h],\n",
    "#               [h,0,h,-g**-1]])\n",
    "\n",
    "#H1=sym.Matrix([[-epsilon,0,-h,h],\n",
    "#               [0,epsilon,-h,h],\n",
    "#               [-h,-h,-epsilon,0],\n",
    "#               [h,h,0,-g**-1]])\n",
    "\n",
    "#H1=sym.Matrix([[-epsilon,h,0],\n",
    "#               [h,epsilon,h],\n",
    "#               [0,h,-g**-1],])\n",
    "#H1=sym.Matrix([[epsilon_s,0,-h],\n",
    "#               [0,epsilon_p,-h],\n",
    "#               [-h,-h,-g**-1],])\n",
    "#H1=sym.Matrix([[epsilon,0,-h,h],\n",
    "#              [0,-epsilon,-h,h],\n",
    "#               [-h,-h,-g**-1,0],\n",
    "#                [h,h,0,-g**-1]])\n",
    "\n",
    "#H1=sym.Matrix([[epsilon,0,-beta_ss,beta_sp,0],\n",
    "#               [0,-epsilon,-beta_sp,beta_pp,0],\n",
    "#               [-beta_ss,-beta_sp,epsilon,0,-beta_ss],\n",
    "#               [beta_sp,beta_pp,0,-epsilon,-beta_sp],\n",
    "#               [0,0,-beta_ss,-beta_sp,-g**-1]])\n",
    "#EG= sym.Matrix([[E,0,0,0,0],\n",
    "#              [0,E,0,0,0],\n",
    "#               [0,0,E,0,0],\n",
    "#               [0,0,0,E,0],\n",
    "#               [0,0,0,0,0]]) \n",
    "EG= sym.diag(E, E,E,E, 0)\n",
    "#EG= sym.Matrix([[E,0,0,0,0],\n",
    "#               [0,E,0,0,0],\n",
    "#               [0,0,E,0,0],\n",
    "#               [0,0,0,E,0],\n",
    "#               [0,0,0,0,0]]) \n",
    "H1"
   ]
  },
  {
   "cell_type": "code",
   "execution_count": 87,
   "metadata": {
    "scrolled": true
   },
   "outputs": [
    {
     "data": {
      "text/latex": [
       "$\\displaystyle \\left[\\begin{matrix}E - \\epsilon & 0 & h & - h & 0\\\\0 & E + \\epsilon & h & - h & 0\\\\h & h & E - \\epsilon & 0 & h\\\\- h & - h & 0 & E + \\epsilon & h\\\\0 & 0 & h & h & \\frac{1}{g}\\end{matrix}\\right]$"
      ],
      "text/plain": [
       "⎡E - ε    0      h     -h    0⎤\n",
       "⎢                             ⎥\n",
       "⎢  0    E + ε    h     -h    0⎥\n",
       "⎢                             ⎥\n",
       "⎢  h      h    E - ε    0    h⎥\n",
       "⎢                             ⎥\n",
       "⎢ -h     -h      0    E + ε  h⎥\n",
       "⎢                             ⎥\n",
       "⎢                            1⎥\n",
       "⎢  0      0      h      h    ─⎥\n",
       "⎣                            g⎦"
      ]
     },
     "execution_count": 87,
     "metadata": {},
     "output_type": "execute_result"
    }
   ],
   "source": [
    "G=(EG-H1)\n",
    "G"
   ]
  },
  {
   "cell_type": "code",
   "execution_count": 88,
   "metadata": {},
   "outputs": [
    {
     "data": {
      "text/latex": [
       "$\\displaystyle \\left[\\begin{matrix}\\frac{E^{3} + E^{2} \\epsilon - 2 E^{2} g h^{2} - E \\epsilon^{2} - 2 E \\epsilon g h^{2} - 2 E h^{2} - \\epsilon^{3} + 4 g h^{4}}{E^{4} - 2 E^{3} g h^{2} - 2 E^{2} \\epsilon^{2} - 4 E^{2} h^{2} + 2 E \\epsilon^{2} g h^{2} + 8 E g h^{4} + \\epsilon^{4}} & - \\frac{- 2 E h^{2} + 4 g h^{4}}{E^{4} - 2 E^{3} g h^{2} - 2 E^{2} \\epsilon^{2} - 4 E^{2} h^{2} + 2 E \\epsilon^{2} g h^{2} + 8 E g h^{4} + \\epsilon^{4}} & \\frac{- E^{2} h - 2 E \\epsilon h + 2 E g h^{3} - \\epsilon^{2} h + 2 \\epsilon g h^{3}}{E^{4} - 2 E^{3} g h^{2} - 2 E^{2} \\epsilon^{2} - 4 E^{2} h^{2} + 2 E \\epsilon^{2} g h^{2} + 8 E g h^{4} + \\epsilon^{4}} & - \\frac{- E^{2} h + 2 E g h^{3} + \\epsilon^{2} h + 2 \\epsilon g h^{3}}{E^{4} - 2 E^{3} g h^{2} - 2 E^{2} \\epsilon^{2} - 4 E^{2} h^{2} + 2 E \\epsilon^{2} g h^{2} + 8 E g h^{4} + \\epsilon^{4}} & \\frac{2 E \\epsilon g h^{2} + 2 \\epsilon^{2} g h^{2}}{E^{4} - 2 E^{3} g h^{2} - 2 E^{2} \\epsilon^{2} - 4 E^{2} h^{2} + 2 E \\epsilon^{2} g h^{2} + 8 E g h^{4} + \\epsilon^{4}}\\\\- \\frac{- 2 E h^{2} + 4 g h^{4}}{E^{4} - 2 E^{3} g h^{2} - 2 E^{2} \\epsilon^{2} - 4 E^{2} h^{2} + 2 E \\epsilon^{2} g h^{2} + 8 E g h^{4} + \\epsilon^{4}} & \\frac{E^{3} - E^{2} \\epsilon - 2 E^{2} g h^{2} - E \\epsilon^{2} + 2 E \\epsilon g h^{2} - 2 E h^{2} + \\epsilon^{3} + 4 g h^{4}}{E^{4} - 2 E^{3} g h^{2} - 2 E^{2} \\epsilon^{2} - 4 E^{2} h^{2} + 2 E \\epsilon^{2} g h^{2} + 8 E g h^{4} + \\epsilon^{4}} & \\frac{- E^{2} h + 2 E g h^{3} + \\epsilon^{2} h - 2 \\epsilon g h^{3}}{E^{4} - 2 E^{3} g h^{2} - 2 E^{2} \\epsilon^{2} - 4 E^{2} h^{2} + 2 E \\epsilon^{2} g h^{2} + 8 E g h^{4} + \\epsilon^{4}} & - \\frac{- E^{2} h + 2 E \\epsilon h + 2 E g h^{3} - \\epsilon^{2} h - 2 \\epsilon g h^{3}}{E^{4} - 2 E^{3} g h^{2} - 2 E^{2} \\epsilon^{2} - 4 E^{2} h^{2} + 2 E \\epsilon^{2} g h^{2} + 8 E g h^{4} + \\epsilon^{4}} & \\frac{2 E \\epsilon g h^{2} - 2 \\epsilon^{2} g h^{2}}{E^{4} - 2 E^{3} g h^{2} - 2 E^{2} \\epsilon^{2} - 4 E^{2} h^{2} + 2 E \\epsilon^{2} g h^{2} + 8 E g h^{4} + \\epsilon^{4}}\\\\\\frac{- E^{2} h - 2 E \\epsilon h + 2 E g h^{3} - \\epsilon^{2} h + 2 \\epsilon g h^{3}}{E^{4} - 2 E^{3} g h^{2} - 2 E^{2} \\epsilon^{2} - 4 E^{2} h^{2} + 2 E \\epsilon^{2} g h^{2} + 8 E g h^{4} + \\epsilon^{4}} & \\frac{- E^{2} h + 2 E g h^{3} + \\epsilon^{2} h - 2 \\epsilon g h^{3}}{E^{4} - 2 E^{3} g h^{2} - 2 E^{2} \\epsilon^{2} - 4 E^{2} h^{2} + 2 E \\epsilon^{2} g h^{2} + 8 E g h^{4} + \\epsilon^{4}} & - \\frac{- E^{3} - E^{2} \\epsilon + E^{2} g h^{2} + E \\epsilon^{2} + 2 E h^{2} + \\epsilon^{3} - \\epsilon^{2} g h^{2}}{E^{4} - 2 E^{3} g h^{2} - 2 E^{2} \\epsilon^{2} - 4 E^{2} h^{2} + 2 E \\epsilon^{2} g h^{2} + 8 E g h^{4} + \\epsilon^{4}} & \\frac{E^{2} g h^{2} - 2 E h^{2} - \\epsilon^{2} g h^{2}}{E^{4} - 2 E^{3} g h^{2} - 2 E^{2} \\epsilon^{2} - 4 E^{2} h^{2} + 2 E \\epsilon^{2} g h^{2} + 8 E g h^{4} + \\epsilon^{4}} & \\frac{- E^{3} g h - E^{2} \\epsilon g h + E \\epsilon^{2} g h + 4 E g h^{3} + \\epsilon^{3} g h}{E^{4} - 2 E^{3} g h^{2} - 2 E^{2} \\epsilon^{2} - 4 E^{2} h^{2} + 2 E \\epsilon^{2} g h^{2} + 8 E g h^{4} + \\epsilon^{4}}\\\\- \\frac{- E^{2} h + 2 E g h^{3} + \\epsilon^{2} h + 2 \\epsilon g h^{3}}{E^{4} - 2 E^{3} g h^{2} - 2 E^{2} \\epsilon^{2} - 4 E^{2} h^{2} + 2 E \\epsilon^{2} g h^{2} + 8 E g h^{4} + \\epsilon^{4}} & - \\frac{- E^{2} h + 2 E \\epsilon h + 2 E g h^{3} - \\epsilon^{2} h - 2 \\epsilon g h^{3}}{E^{4} - 2 E^{3} g h^{2} - 2 E^{2} \\epsilon^{2} - 4 E^{2} h^{2} + 2 E \\epsilon^{2} g h^{2} + 8 E g h^{4} + \\epsilon^{4}} & \\frac{E^{2} g h^{2} - 2 E h^{2} - \\epsilon^{2} g h^{2}}{E^{4} - 2 E^{3} g h^{2} - 2 E^{2} \\epsilon^{2} - 4 E^{2} h^{2} + 2 E \\epsilon^{2} g h^{2} + 8 E g h^{4} + \\epsilon^{4}} & - \\frac{- E^{3} + E^{2} \\epsilon + E^{2} g h^{2} + E \\epsilon^{2} + 2 E h^{2} - \\epsilon^{3} - \\epsilon^{2} g h^{2}}{E^{4} - 2 E^{3} g h^{2} - 2 E^{2} \\epsilon^{2} - 4 E^{2} h^{2} + 2 E \\epsilon^{2} g h^{2} + 8 E g h^{4} + \\epsilon^{4}} & \\frac{- E^{3} g h + E^{2} \\epsilon g h + E \\epsilon^{2} g h + 4 E g h^{3} - \\epsilon^{3} g h}{E^{4} - 2 E^{3} g h^{2} - 2 E^{2} \\epsilon^{2} - 4 E^{2} h^{2} + 2 E \\epsilon^{2} g h^{2} + 8 E g h^{4} + \\epsilon^{4}}\\\\\\frac{2 E \\epsilon g h^{2} + 2 \\epsilon^{2} g h^{2}}{E^{4} - 2 E^{3} g h^{2} - 2 E^{2} \\epsilon^{2} - 4 E^{2} h^{2} + 2 E \\epsilon^{2} g h^{2} + 8 E g h^{4} + \\epsilon^{4}} & \\frac{2 E \\epsilon g h^{2} - 2 \\epsilon^{2} g h^{2}}{E^{4} - 2 E^{3} g h^{2} - 2 E^{2} \\epsilon^{2} - 4 E^{2} h^{2} + 2 E \\epsilon^{2} g h^{2} + 8 E g h^{4} + \\epsilon^{4}} & \\frac{- E^{3} g h - E^{2} \\epsilon g h + E \\epsilon^{2} g h + 4 E g h^{3} + \\epsilon^{3} g h}{E^{4} - 2 E^{3} g h^{2} - 2 E^{2} \\epsilon^{2} - 4 E^{2} h^{2} + 2 E \\epsilon^{2} g h^{2} + 8 E g h^{4} + \\epsilon^{4}} & \\frac{- E^{3} g h + E^{2} \\epsilon g h + E \\epsilon^{2} g h + 4 E g h^{3} - \\epsilon^{3} g h}{E^{4} - 2 E^{3} g h^{2} - 2 E^{2} \\epsilon^{2} - 4 E^{2} h^{2} + 2 E \\epsilon^{2} g h^{2} + 8 E g h^{4} + \\epsilon^{4}} & - \\frac{- E^{4} g + 2 E^{2} \\epsilon^{2} g + 4 E^{2} g h^{2} - \\epsilon^{4} g}{E^{4} - 2 E^{3} g h^{2} - 2 E^{2} \\epsilon^{2} - 4 E^{2} h^{2} + 2 E \\epsilon^{2} g h^{2} + 8 E g h^{4} + \\epsilon^{4}}\\end{matrix}\\right]$"
      ],
      "text/plain": [
       "⎡ 3    2        2    2      2            2        2    3        4             \n",
       "⎢E  + E ⋅ε - 2⋅E ⋅g⋅h  - E⋅ε  - 2⋅E⋅ε⋅g⋅h  - 2⋅E⋅h  - ε  + 4⋅g⋅h              \n",
       "⎢────────────────────────────────────────────────────────────────  ───────────\n",
       "⎢ 4      3    2      2  2      2  2        2    2          4    4   4      3  \n",
       "⎢E  - 2⋅E ⋅g⋅h  - 2⋅E ⋅ε  - 4⋅E ⋅h  + 2⋅E⋅ε ⋅g⋅h  + 8⋅E⋅g⋅h  + ε   E  - 2⋅E ⋅g\n",
       "⎢                                                                             \n",
       "⎢                      ⎛       2        4⎞                          3    2    \n",
       "⎢                     -⎝- 2⋅E⋅h  + 4⋅g⋅h ⎠                         E  - E ⋅ε -\n",
       "⎢────────────────────────────────────────────────────────────────  ───────────\n",
       "⎢ 4      3    2      2  2      2  2        2    2          4    4   4      3  \n",
       "⎢E  - 2⋅E ⋅g⋅h  - 2⋅E ⋅ε  - 4⋅E ⋅h  + 2⋅E⋅ε ⋅g⋅h  + 8⋅E⋅g⋅h  + ε   E  - 2⋅E ⋅g\n",
       "⎢                                                                             \n",
       "⎢            2                      3    2            3                       \n",
       "⎢         - E ⋅h - 2⋅E⋅ε⋅h + 2⋅E⋅g⋅h  - ε ⋅h + 2⋅ε⋅g⋅h                        \n",
       "⎢────────────────────────────────────────────────────────────────  ───────────\n",
       "⎢ 4      3    2      2  2      2  2        2    2          4    4   4      3  \n",
       "⎢E  - 2⋅E ⋅g⋅h  - 2⋅E ⋅ε  - 4⋅E ⋅h  + 2⋅E⋅ε ⋅g⋅h  + 8⋅E⋅g⋅h  + ε   E  - 2⋅E ⋅g\n",
       "⎢                                                                             \n",
       "⎢             ⎛   2            3    2            3⎞                        ⎛  \n",
       "⎢            -⎝- E ⋅h + 2⋅E⋅g⋅h  + ε ⋅h + 2⋅ε⋅g⋅h ⎠                       -⎝- \n",
       "⎢────────────────────────────────────────────────────────────────  ───────────\n",
       "⎢ 4      3    2      2  2      2  2        2    2          4    4   4      3  \n",
       "⎢E  - 2⋅E ⋅g⋅h  - 2⋅E ⋅ε  - 4⋅E ⋅h  + 2⋅E⋅ε ⋅g⋅h  + 8⋅E⋅g⋅h  + ε   E  - 2⋅E ⋅g\n",
       "⎢                                                                             \n",
       "⎢                              2      2    2                                  \n",
       "⎢                     2⋅E⋅ε⋅g⋅h  + 2⋅ε ⋅g⋅h                                   \n",
       "⎢────────────────────────────────────────────────────────────────  ───────────\n",
       "⎢ 4      3    2      2  2      2  2        2    2          4    4   4      3  \n",
       "⎣E  - 2⋅E ⋅g⋅h  - 2⋅E ⋅ε  - 4⋅E ⋅h  + 2⋅E⋅ε ⋅g⋅h  + 8⋅E⋅g⋅h  + ε   E  - 2⋅E ⋅g\n",
       "\n",
       "           ⎛       2        4⎞                                     2          \n",
       "          -⎝- 2⋅E⋅h  + 4⋅g⋅h ⎠                                  - E ⋅h - 2⋅E⋅ε\n",
       "─────────────────────────────────────────────────────  ───────────────────────\n",
       "  2      2  2      2  2        2    2          4    4   4      3    2      2  \n",
       "⋅h  - 2⋅E ⋅ε  - 4⋅E ⋅h  + 2⋅E⋅ε ⋅g⋅h  + 8⋅E⋅g⋅h  + ε   E  - 2⋅E ⋅g⋅h  - 2⋅E ⋅ε\n",
       "                                                                              \n",
       "    2    2      2            2        2    3        4                   2     \n",
       " 2⋅E ⋅g⋅h  - E⋅ε  + 2⋅E⋅ε⋅g⋅h  - 2⋅E⋅h  + ε  + 4⋅g⋅h                 - E ⋅h + \n",
       "─────────────────────────────────────────────────────  ───────────────────────\n",
       "  2      2  2      2  2        2    2          4    4   4      3    2      2  \n",
       "⋅h  - 2⋅E ⋅ε  - 4⋅E ⋅h  + 2⋅E⋅ε ⋅g⋅h  + 8⋅E⋅g⋅h  + ε   E  - 2⋅E ⋅g⋅h  - 2⋅E ⋅ε\n",
       "                                                                              \n",
       "      2            3    2            3                      ⎛   3    2      2 \n",
       "   - E ⋅h + 2⋅E⋅g⋅h  + ε ⋅h - 2⋅ε⋅g⋅h                      -⎝- E  - E ⋅ε + E ⋅\n",
       "─────────────────────────────────────────────────────  ───────────────────────\n",
       "  2      2  2      2  2        2    2          4    4   4      3    2      2  \n",
       "⋅h  - 2⋅E ⋅ε  - 4⋅E ⋅h  + 2⋅E⋅ε ⋅g⋅h  + 8⋅E⋅g⋅h  + ε   E  - 2⋅E ⋅g⋅h  - 2⋅E ⋅ε\n",
       "                                                                              \n",
       " 2                      3    2            3⎞                               2  \n",
       "E ⋅h + 2⋅E⋅ε⋅h + 2⋅E⋅g⋅h  - ε ⋅h - 2⋅ε⋅g⋅h ⎠                              E ⋅g\n",
       "─────────────────────────────────────────────────────  ───────────────────────\n",
       "  2      2  2      2  2        2    2          4    4   4      3    2      2  \n",
       "⋅h  - 2⋅E ⋅ε  - 4⋅E ⋅h  + 2⋅E⋅ε ⋅g⋅h  + 8⋅E⋅g⋅h  + ε   E  - 2⋅E ⋅g⋅h  - 2⋅E ⋅ε\n",
       "                                                                              \n",
       "                   2      2    2                                 3        2   \n",
       "          2⋅E⋅ε⋅g⋅h  - 2⋅ε ⋅g⋅h                               - E ⋅g⋅h - E ⋅ε⋅\n",
       "─────────────────────────────────────────────────────  ───────────────────────\n",
       "  2      2  2      2  2        2    2          4    4   4      3    2      2  \n",
       "⋅h  - 2⋅E ⋅ε  - 4⋅E ⋅h  + 2⋅E⋅ε ⋅g⋅h  + 8⋅E⋅g⋅h  + ε   E  - 2⋅E ⋅g⋅h  - 2⋅E ⋅ε\n",
       "\n",
       "            3    2            3                         ⎛   2            3    \n",
       "⋅h + 2⋅E⋅g⋅h  - ε ⋅h + 2⋅ε⋅g⋅h                         -⎝- E ⋅h + 2⋅E⋅g⋅h  + ε\n",
       "─────────────────────────────────────────  ───────────────────────────────────\n",
       "2      2  2        2    2          4    4   4      3    2      2  2      2  2 \n",
       "  - 4⋅E ⋅h  + 2⋅E⋅ε ⋅g⋅h  + 8⋅E⋅g⋅h  + ε   E  - 2⋅E ⋅g⋅h  - 2⋅E ⋅ε  - 4⋅E ⋅h  \n",
       "                                                                              \n",
       "       3    2            3                         ⎛   2                      \n",
       "2⋅E⋅g⋅h  + ε ⋅h - 2⋅ε⋅g⋅h                         -⎝- E ⋅h + 2⋅E⋅ε⋅h + 2⋅E⋅g⋅h\n",
       "─────────────────────────────────────────  ───────────────────────────────────\n",
       "2      2  2        2    2          4    4   4      3    2      2  2      2  2 \n",
       "  - 4⋅E ⋅h  + 2⋅E⋅ε ⋅g⋅h  + 8⋅E⋅g⋅h  + ε   E  - 2⋅E ⋅g⋅h  - 2⋅E ⋅ε  - 4⋅E ⋅h  \n",
       "                                                                              \n",
       "   2      2        2    3    2    2⎞                           2    2        2\n",
       "g⋅h  + E⋅ε  + 2⋅E⋅h  + ε  - ε ⋅g⋅h ⎠                          E ⋅g⋅h  - 2⋅E⋅h \n",
       "─────────────────────────────────────────  ───────────────────────────────────\n",
       "2      2  2        2    2          4    4   4      3    2      2  2      2  2 \n",
       "  - 4⋅E ⋅h  + 2⋅E⋅ε ⋅g⋅h  + 8⋅E⋅g⋅h  + ε   E  - 2⋅E ⋅g⋅h  - 2⋅E ⋅ε  - 4⋅E ⋅h  \n",
       "                                                                              \n",
       "  2        2    2    2                          ⎛   3    2      2    2      2 \n",
       "⋅h  - 2⋅E⋅h  - ε ⋅g⋅h                          -⎝- E  + E ⋅ε + E ⋅g⋅h  + E⋅ε  \n",
       "─────────────────────────────────────────  ───────────────────────────────────\n",
       "2      2  2        2    2          4    4   4      3    2      2  2      2  2 \n",
       "  - 4⋅E ⋅h  + 2⋅E⋅ε ⋅g⋅h  + 8⋅E⋅g⋅h  + ε   E  - 2⋅E ⋅g⋅h  - 2⋅E ⋅ε  - 4⋅E ⋅h  \n",
       "                                                                              \n",
       "         2              3    3                       3        2            2  \n",
       "g⋅h + E⋅ε ⋅g⋅h + 4⋅E⋅g⋅h  + ε ⋅g⋅h                - E ⋅g⋅h + E ⋅ε⋅g⋅h + E⋅ε ⋅g\n",
       "─────────────────────────────────────────  ───────────────────────────────────\n",
       "2      2  2        2    2          4    4   4      3    2      2  2      2  2 \n",
       "  - 4⋅E ⋅h  + 2⋅E⋅ε ⋅g⋅h  + 8⋅E⋅g⋅h  + ε   E  - 2⋅E ⋅g⋅h  - 2⋅E ⋅ε  - 4⋅E ⋅h  \n",
       "\n",
       "2            3⎞                                              2      2    2    \n",
       " ⋅h + 2⋅ε⋅g⋅h ⎠                                     2⋅E⋅ε⋅g⋅h  + 2⋅ε ⋅g⋅h     \n",
       "─────────────────────────────  ───────────────────────────────────────────────\n",
       "       2    2          4    4   4      3    2      2  2      2  2        2    \n",
       "+ 2⋅E⋅ε ⋅g⋅h  + 8⋅E⋅g⋅h  + ε   E  - 2⋅E ⋅g⋅h  - 2⋅E ⋅ε  - 4⋅E ⋅h  + 2⋅E⋅ε ⋅g⋅h\n",
       "                                                                              \n",
       "3    2            3⎞                                         2      2    2    \n",
       "  - ε ⋅h - 2⋅ε⋅g⋅h ⎠                                2⋅E⋅ε⋅g⋅h  - 2⋅ε ⋅g⋅h     \n",
       "─────────────────────────────  ───────────────────────────────────────────────\n",
       "       2    2          4    4   4      3    2      2  2      2  2        2    \n",
       "+ 2⋅E⋅ε ⋅g⋅h  + 8⋅E⋅g⋅h  + ε   E  - 2⋅E ⋅g⋅h  - 2⋅E ⋅ε  - 4⋅E ⋅h  + 2⋅E⋅ε ⋅g⋅h\n",
       "                                                                              \n",
       "    2    2                               3        2            2              \n",
       " - ε ⋅g⋅h                             - E ⋅g⋅h - E ⋅ε⋅g⋅h + E⋅ε ⋅g⋅h + 4⋅E⋅g⋅h\n",
       "─────────────────────────────  ───────────────────────────────────────────────\n",
       "       2    2          4    4   4      3    2      2  2      2  2        2    \n",
       "+ 2⋅E⋅ε ⋅g⋅h  + 8⋅E⋅g⋅h  + ε   E  - 2⋅E ⋅g⋅h  - 2⋅E ⋅ε  - 4⋅E ⋅h  + 2⋅E⋅ε ⋅g⋅h\n",
       "                                                                              \n",
       "       2    3    2    2⎞                 3        2            2              \n",
       "+ 2⋅E⋅h  - ε  - ε ⋅g⋅h ⎠              - E ⋅g⋅h + E ⋅ε⋅g⋅h + E⋅ε ⋅g⋅h + 4⋅E⋅g⋅h\n",
       "─────────────────────────────  ───────────────────────────────────────────────\n",
       "       2    2          4    4   4      3    2      2  2      2  2        2    \n",
       "+ 2⋅E⋅ε ⋅g⋅h  + 8⋅E⋅g⋅h  + ε   E  - 2⋅E ⋅g⋅h  - 2⋅E ⋅ε  - 4⋅E ⋅h  + 2⋅E⋅ε ⋅g⋅h\n",
       "                                                                              \n",
       "            3    3                         ⎛   4        2  2        2    2    \n",
       "⋅h + 4⋅E⋅g⋅h  - ε ⋅g⋅h                    -⎝- E ⋅g + 2⋅E ⋅ε ⋅g + 4⋅E ⋅g⋅h  - ε\n",
       "─────────────────────────────  ───────────────────────────────────────────────\n",
       "       2    2          4    4   4      3    2      2  2      2  2        2    \n",
       "+ 2⋅E⋅ε ⋅g⋅h  + 8⋅E⋅g⋅h  + ε   E  - 2⋅E ⋅g⋅h  - 2⋅E ⋅ε  - 4⋅E ⋅h  + 2⋅E⋅ε ⋅g⋅h\n",
       "\n",
       "                 ⎤\n",
       "                 ⎥\n",
       "─────────────────⎥\n",
       "2          4    4⎥\n",
       "  + 8⋅E⋅g⋅h  + ε ⎥\n",
       "                 ⎥\n",
       "                 ⎥\n",
       "                 ⎥\n",
       "─────────────────⎥\n",
       "2          4    4⎥\n",
       "  + 8⋅E⋅g⋅h  + ε ⎥\n",
       "                 ⎥\n",
       "3    3           ⎥\n",
       "  + ε ⋅g⋅h       ⎥\n",
       "─────────────────⎥\n",
       "2          4    4⎥\n",
       "  + 8⋅E⋅g⋅h  + ε ⎥\n",
       "                 ⎥\n",
       "3    3           ⎥\n",
       "  - ε ⋅g⋅h       ⎥\n",
       "─────────────────⎥\n",
       "2          4    4⎥\n",
       "  + 8⋅E⋅g⋅h  + ε ⎥\n",
       "                 ⎥\n",
       "4  ⎞             ⎥\n",
       " ⋅g⎠             ⎥\n",
       "─────────────────⎥\n",
       "2          4    4⎥\n",
       "  + 8⋅E⋅g⋅h  + ε ⎦"
      ]
     },
     "metadata": {},
     "output_type": "display_data"
    },
    {
     "data": {
      "text/latex": [
       "$\\displaystyle \\frac{E^{3} + E^{2} \\epsilon - 2 E^{2} g h^{2} - E \\epsilon^{2} - 2 E \\epsilon g h^{2} - 2 E h^{2} - \\epsilon^{3} + 4 g h^{4}}{E^{4} - 2 E^{3} g h^{2} - 2 E^{2} \\epsilon^{2} - 4 E^{2} h^{2} + 2 E \\epsilon^{2} g h^{2} + 8 E g h^{4} + \\epsilon^{4}}$"
      ],
      "text/plain": [
       " 3    2        2    2      2            2        2    3        4\n",
       "E  + E ⋅ε - 2⋅E ⋅g⋅h  - E⋅ε  - 2⋅E⋅ε⋅g⋅h  - 2⋅E⋅h  - ε  + 4⋅g⋅h \n",
       "────────────────────────────────────────────────────────────────\n",
       " 4      3    2      2  2      2  2        2    2          4    4\n",
       "E  - 2⋅E ⋅g⋅h  - 2⋅E ⋅ε  - 4⋅E ⋅h  + 2⋅E⋅ε ⋅g⋅h  + 8⋅E⋅g⋅h  + ε "
      ]
     },
     "execution_count": 88,
     "metadata": {},
     "output_type": "execute_result"
    }
   ],
   "source": [
    "Inv=G**-1\n",
    "display(Inv)\n",
    "g0=Inv[0,0]  #+ Inv[1,1] \n",
    "g0"
   ]
  },
  {
   "cell_type": "code",
   "execution_count": 89,
   "metadata": {},
   "outputs": [
    {
     "data": {
      "text/latex": [
       "$\\displaystyle E^{3} + E^{2} \\epsilon - 2 E^{2} g h^{2} - E \\epsilon^{2} - 2 E \\epsilon g h^{2} - 2 E h^{2} - \\epsilon^{3} + 4 g h^{4}$"
      ],
      "text/plain": [
       " 3    2        2    2      2            2        2    3        4\n",
       "E  + E ⋅ε - 2⋅E ⋅g⋅h  - E⋅ε  - 2⋅E⋅ε⋅g⋅h  - 2⋅E⋅h  - ε  + 4⋅g⋅h "
      ]
     },
     "metadata": {},
     "output_type": "display_data"
    },
    {
     "data": {
      "text/latex": [
       "$\\displaystyle E^{4} - 2 E^{3} g h^{2} - 2 E^{2} \\epsilon^{2} - 4 E^{2} h^{2} + 2 E \\epsilon^{2} g h^{2} + 8 E g h^{4} + \\epsilon^{4}$"
      ],
      "text/plain": [
       " 4      3    2      2  2      2  2        2    2          4    4\n",
       "E  - 2⋅E ⋅g⋅h  - 2⋅E ⋅ε  - 4⋅E ⋅h  + 2⋅E⋅ε ⋅g⋅h  + 8⋅E⋅g⋅h  + ε "
      ]
     },
     "metadata": {},
     "output_type": "display_data"
    },
    {
     "data": {
      "text/latex": [
       "$\\displaystyle E^{4} g - 2 E^{3} g^{2} h^{2} - E^{3} - 2 E^{2} \\epsilon^{2} g - E^{2} \\epsilon - 2 E^{2} g h^{2} + 2 E \\epsilon^{2} g^{2} h^{2} + E \\epsilon^{2} + 2 E \\epsilon g h^{2} + 8 E g^{2} h^{4} + 2 E h^{2} + \\epsilon^{4} g + \\epsilon^{3} - 4 g h^{4}$"
      ],
      "text/plain": [
       " 4        3  2  2    3      2  2      2        2    2        2  2  2      2   \n",
       "E ⋅g - 2⋅E ⋅g ⋅h  - E  - 2⋅E ⋅ε ⋅g - E ⋅ε - 2⋅E ⋅g⋅h  + 2⋅E⋅ε ⋅g ⋅h  + E⋅ε  + \n",
       "\n",
       "         2        2  4        2    4      3        4\n",
       "2⋅E⋅ε⋅g⋅h  + 8⋅E⋅g ⋅h  + 2⋅E⋅h  + ε ⋅g + ε  - 4⋅g⋅h "
      ]
     },
     "metadata": {},
     "output_type": "display_data"
    }
   ],
   "source": [
    "exp1=sym.simplify(g0)\n",
    "n,d = sym.fraction(exp1)\n",
    "display(n,d)\n",
    "eq=(d*g-n) #-3*g*h**2#+E+mu\n",
    "display(sym.expand(eq))"
   ]
  },
  {
   "cell_type": "code",
   "execution_count": 90,
   "metadata": {},
   "outputs": [
    {
     "data": {
      "text/latex": [
       "$\\displaystyle - E^{3} - E^{2} \\epsilon + 2 E^{2} g h^{2} + E \\epsilon^{2} + 2 E \\epsilon g h^{2} + 2 E h^{2} + \\epsilon^{3} - 4 g h^{4} + g \\left(E^{4} - 2 E^{3} g h^{2} - 2 E^{2} \\epsilon^{2} - 4 E^{2} h^{2} + 2 E \\epsilon^{2} g h^{2} + 8 E g h^{4} + \\epsilon^{4}\\right)$"
      ],
      "text/plain": [
       "   3    2        2    2      2            2        2    3        4     ⎛ 4    \n",
       "- E  - E ⋅ε + 2⋅E ⋅g⋅h  + E⋅ε  + 2⋅E⋅ε⋅g⋅h  + 2⋅E⋅h  + ε  - 4⋅g⋅h  + g⋅⎝E  - 2\n",
       "\n",
       "  3    2      2  2      2  2        2    2          4    4⎞\n",
       "⋅E ⋅g⋅h  - 2⋅E ⋅ε  - 4⋅E ⋅h  + 2⋅E⋅ε ⋅g⋅h  + 8⋅E⋅g⋅h  + ε ⎠"
      ]
     },
     "metadata": {},
     "output_type": "display_data"
    }
   ],
   "source": [
    "display(eq)"
   ]
  },
  {
   "cell_type": "code",
   "execution_count": 91,
   "metadata": {
    "scrolled": true
   },
   "outputs": [
    {
     "data": {
      "text/latex": [
       "$\\displaystyle \\frac{- E^{4} + 2 E^{2} \\epsilon^{2} + 2 E^{2} h^{2} - 2 E \\epsilon h^{2} - \\epsilon^{4} + 4 h^{4} - \\sqrt{- \\left(- E^{4} + 2 E^{2} \\epsilon^{2} + 6 E^{2} h^{2} + 6 E \\epsilon h^{2} - \\epsilon^{4} + 4 \\epsilon^{2} h^{2} - 4 h^{4}\\right) \\left(E^{4} - 2 E^{2} \\epsilon^{2} - 6 E^{2} h^{2} + 2 E \\epsilon h^{2} + \\epsilon^{4} + 4 \\epsilon^{2} h^{2} + 4 h^{4}\\right)}}{4 E h^{2} \\left(- E^{2} + \\epsilon^{2} + 4 h^{2}\\right)}$"
      ],
      "text/plain": [
       "                                                     _________________________\n",
       "   4      2  2      2  2          2    4      4     ╱  ⎛   4      2  2      2 \n",
       "- E  + 2⋅E ⋅ε  + 2⋅E ⋅h  - 2⋅E⋅ε⋅h  - ε  + 4⋅h  - ╲╱  -⎝- E  + 2⋅E ⋅ε  + 6⋅E ⋅\n",
       "──────────────────────────────────────────────────────────────────────────────\n",
       "                                                                              \n",
       "                                                                          4⋅E⋅\n",
       "\n",
       "______________________________________________________________________________\n",
       " 2          2    4      2  2      4⎞ ⎛ 4      2  2      2  2          2    4  \n",
       "h  + 6⋅E⋅ε⋅h  - ε  + 4⋅ε ⋅h  - 4⋅h ⎠⋅⎝E  - 2⋅E ⋅ε  - 6⋅E ⋅h  + 2⋅E⋅ε⋅h  + ε  +\n",
       "──────────────────────────────────────────────────────────────────────────────\n",
       " 2 ⎛   2    2      2⎞                                                         \n",
       "h ⋅⎝- E  + ε  + 4⋅h ⎠                                                         \n",
       "\n",
       "_________________\n",
       "    2  2      4⎞ \n",
       " 4⋅ε ⋅h  + 4⋅h ⎠ \n",
       "─────────────────\n",
       "                 \n",
       "                 "
      ]
     },
     "metadata": {},
     "output_type": "display_data"
    },
    {
     "data": {
      "text/latex": [
       "$\\displaystyle \\frac{- E^{4} + 2 E^{2} \\epsilon^{2} + 2 E^{2} h^{2} - 2 E \\epsilon h^{2} - \\epsilon^{4} + 4 h^{4} + \\sqrt{- \\left(- E^{4} + 2 E^{2} \\epsilon^{2} + 6 E^{2} h^{2} + 6 E \\epsilon h^{2} - \\epsilon^{4} + 4 \\epsilon^{2} h^{2} - 4 h^{4}\\right) \\left(E^{4} - 2 E^{2} \\epsilon^{2} - 6 E^{2} h^{2} + 2 E \\epsilon h^{2} + \\epsilon^{4} + 4 \\epsilon^{2} h^{2} + 4 h^{4}\\right)}}{4 E h^{2} \\left(- E^{2} + \\epsilon^{2} + 4 h^{2}\\right)}$"
      ],
      "text/plain": [
       "                                                     _________________________\n",
       "   4      2  2      2  2          2    4      4     ╱  ⎛   4      2  2      2 \n",
       "- E  + 2⋅E ⋅ε  + 2⋅E ⋅h  - 2⋅E⋅ε⋅h  - ε  + 4⋅h  + ╲╱  -⎝- E  + 2⋅E ⋅ε  + 6⋅E ⋅\n",
       "──────────────────────────────────────────────────────────────────────────────\n",
       "                                                                              \n",
       "                                                                          4⋅E⋅\n",
       "\n",
       "______________________________________________________________________________\n",
       " 2          2    4      2  2      4⎞ ⎛ 4      2  2      2  2          2    4  \n",
       "h  + 6⋅E⋅ε⋅h  - ε  + 4⋅ε ⋅h  - 4⋅h ⎠⋅⎝E  - 2⋅E ⋅ε  - 6⋅E ⋅h  + 2⋅E⋅ε⋅h  + ε  +\n",
       "──────────────────────────────────────────────────────────────────────────────\n",
       " 2 ⎛   2    2      2⎞                                                         \n",
       "h ⋅⎝- E  + ε  + 4⋅h ⎠                                                         \n",
       "\n",
       "_________________\n",
       "    2  2      4⎞ \n",
       " 4⋅ε ⋅h  + 4⋅h ⎠ \n",
       "─────────────────\n",
       "                 \n",
       "                 "
      ]
     },
     "metadata": {},
     "output_type": "display_data"
    }
   ],
   "source": [
    "zo=sym.solve(eq,g)\n",
    "#display(zo)\n",
    "display(zo[0],zo[1])"
   ]
  },
  {
   "cell_type": "code",
   "execution_count": 82,
   "metadata": {},
   "outputs": [
    {
     "data": {
      "text/latex": [
       "$\\displaystyle \\left[ \\frac{- \\sqrt{\\left(- E^{3} - E^{2} \\epsilon - 2 E^{2} h + E \\epsilon^{2} + 3 E h^{2} + \\epsilon^{3} + 2 \\epsilon^{2} h + \\epsilon h^{2}\\right) \\left(- E^{3} - E^{2} \\epsilon + 2 E^{2} h + E \\epsilon^{2} + 3 E h^{2} + \\epsilon^{3} - 2 \\epsilon^{2} h + \\epsilon h^{2}\\right)} + \\left(E - \\epsilon\\right) \\left(E + \\epsilon - h\\right) \\left(E + \\epsilon + h\\right)}{4 E h^{2} \\left(E + \\epsilon\\right)}, \\  \\frac{\\sqrt{\\left(- E^{3} - E^{2} \\epsilon - 2 E^{2} h + E \\epsilon^{2} + 3 E h^{2} + \\epsilon^{3} + 2 \\epsilon^{2} h + \\epsilon h^{2}\\right) \\left(- E^{3} - E^{2} \\epsilon + 2 E^{2} h + E \\epsilon^{2} + 3 E h^{2} + \\epsilon^{3} - 2 \\epsilon^{2} h + \\epsilon h^{2}\\right)} + \\left(E - \\epsilon\\right) \\left(E + \\epsilon - h\\right) \\left(E + \\epsilon + h\\right)}{4 E h^{2} \\left(E + \\epsilon\\right)}\\right]$"
      ],
      "text/plain": [
       "⎡     ________________________________________________________________________\n",
       "⎢    ╱ ⎛   3    2        2        2        2    3      2        2⎞ ⎛   3    2 \n",
       "⎢- ╲╱  ⎝- E  - E ⋅ε - 2⋅E ⋅h + E⋅ε  + 3⋅E⋅h  + ε  + 2⋅ε ⋅h + ε⋅h ⎠⋅⎝- E  - E ⋅\n",
       "⎢─────────────────────────────────────────────────────────────────────────────\n",
       "⎢                                                                             \n",
       "⎣                                                                         4⋅E⋅\n",
       "\n",
       "_________________________________________________                             \n",
       "       2        2        2    3      2        2⎞                              \n",
       "ε + 2⋅E ⋅h + E⋅ε  + 3⋅E⋅h  + ε  - 2⋅ε ⋅h + ε⋅h ⎠  + (E - ε)⋅(E + ε - h)⋅(E + ε\n",
       "──────────────────────────────────────────────────────────────────────────────\n",
       " 2                                                                            \n",
       "h ⋅(E + ε)                                                                    \n",
       "\n",
       "          ____________________________________________________________________\n",
       "         ╱ ⎛   3    2        2        2        2    3      2        2⎞ ⎛   3  \n",
       " + h)  ╲╱  ⎝- E  - E ⋅ε - 2⋅E ⋅h + E⋅ε  + 3⋅E⋅h  + ε  + 2⋅ε ⋅h + ε⋅h ⎠⋅⎝- E  -\n",
       "─────, ───────────────────────────────────────────────────────────────────────\n",
       "                                                                              \n",
       "                                                                              \n",
       "\n",
       "_____________________________________________________                         \n",
       "  2        2        2        2    3      2        2⎞                          \n",
       " E ⋅ε + 2⋅E ⋅h + E⋅ε  + 3⋅E⋅h  + ε  - 2⋅ε ⋅h + ε⋅h ⎠  + (E - ε)⋅(E + ε - h)⋅(E\n",
       "──────────────────────────────────────────────────────────────────────────────\n",
       "      2                                                                       \n",
       " 4⋅E⋅h ⋅(E + ε)                                                               \n",
       "\n",
       "         ⎤\n",
       "         ⎥\n",
       " + ε + h)⎥\n",
       "─────────⎥\n",
       "         ⎥\n",
       "         ⎦"
      ]
     },
     "metadata": {},
     "output_type": "display_data"
    }
   ],
   "source": [
    "zo=sym.solve(eq,g)\n",
    "display(zo)"
   ]
  },
  {
   "cell_type": "code",
   "execution_count": 288,
   "metadata": {},
   "outputs": [
    {
     "data": {
      "text/latex": [
       "$\\displaystyle - \\frac{E^{2}}{4 E h^{2} - 4 \\epsilon h^{2}} + \\frac{2 E \\epsilon}{4 E h^{2} - 4 \\epsilon h^{2}} - \\frac{\\epsilon^{2}}{4 E h^{2} - 4 \\epsilon h^{2}} + \\frac{h^{2}}{4 E h^{2} - 4 \\epsilon h^{2}} - \\frac{\\sqrt{E^{4} - 4 E^{3} \\epsilon + 6 E^{2} \\epsilon^{2} + 6 E^{2} h^{2} - 4 E \\epsilon^{3} - 12 E \\epsilon h^{2} + \\epsilon^{4} + 6 \\epsilon^{2} h^{2} + h^{4}}}{4 E h^{2} - 4 \\epsilon h^{2}}$"
      ],
      "text/plain": [
       "                                                                             _\n",
       "          2                                   2                 2           ╱ \n",
       "         E               2⋅E⋅ε               ε                 h          ╲╱  \n",
       "- ─────────────── + ─────────────── - ─────────────── + ─────────────── - ────\n",
       "       2        2        2        2        2        2        2        2       \n",
       "  4⋅E⋅h  - 4⋅ε⋅h    4⋅E⋅h  - 4⋅ε⋅h    4⋅E⋅h  - 4⋅ε⋅h    4⋅E⋅h  - 4⋅ε⋅h        \n",
       "\n",
       "_________________________________________________________________________\n",
       " 4      3        2  2      2  2        3           2    4      2  2    4 \n",
       "E  - 4⋅E ⋅ε + 6⋅E ⋅ε  + 6⋅E ⋅h  - 4⋅E⋅ε  - 12⋅E⋅ε⋅h  + ε  + 6⋅ε ⋅h  + h  \n",
       "─────────────────────────────────────────────────────────────────────────\n",
       "                                2        2                               \n",
       "                           4⋅E⋅h  - 4⋅ε⋅h                                "
      ]
     },
     "execution_count": 288,
     "metadata": {},
     "output_type": "execute_result"
    }
   ],
   "source": [
    "sym.expand(zo[0])"
   ]
  },
  {
   "cell_type": "code",
   "execution_count": null,
   "metadata": {},
   "outputs": [],
   "source": [
    "sym.expand(zo1[0])"
   ]
  },
  {
   "cell_type": "code",
   "execution_count": null,
   "metadata": {},
   "outputs": [],
   "source": [
    "h=0.5*V_2\n",
    "epsilon=V_1"
   ]
  },
  {
   "cell_type": "code",
   "execution_count": 1,
   "metadata": {},
   "outputs": [
    {
     "ename": "NameError",
     "evalue": "name 'sym' is not defined",
     "output_type": "error",
     "traceback": [
      "\u001b[1;31m---------------------------------------------------------------------------\u001b[0m",
      "\u001b[1;31mNameError\u001b[0m                                 Traceback (most recent call last)",
      "\u001b[1;32m<ipython-input-1-9b19e143e050>\u001b[0m in \u001b[0;36m<module>\u001b[1;34m\u001b[0m\n\u001b[1;32m----> 1\u001b[1;33m H1=sym.Matrix([[-epsilon,-h,0,h,0],\n\u001b[0m\u001b[0;32m      2\u001b[0m                \u001b[1;33m[\u001b[0m\u001b[1;33m-\u001b[0m\u001b[0mh\u001b[0m\u001b[1;33m,\u001b[0m\u001b[1;33m-\u001b[0m\u001b[0mepsilon\u001b[0m\u001b[1;33m,\u001b[0m\u001b[1;33m-\u001b[0m\u001b[0mh\u001b[0m\u001b[1;33m,\u001b[0m\u001b[1;36m0\u001b[0m\u001b[1;33m,\u001b[0m\u001b[1;36m0\u001b[0m\u001b[1;33m]\u001b[0m\u001b[1;33m,\u001b[0m\u001b[1;33m\u001b[0m\u001b[1;33m\u001b[0m\u001b[0m\n\u001b[0;32m      3\u001b[0m                \u001b[1;33m[\u001b[0m\u001b[1;36m0\u001b[0m\u001b[1;33m,\u001b[0m\u001b[1;33m-\u001b[0m\u001b[0mh\u001b[0m\u001b[1;33m,\u001b[0m\u001b[0mepsilon\u001b[0m\u001b[1;33m,\u001b[0m\u001b[0mh\u001b[0m\u001b[1;33m,\u001b[0m\u001b[1;33m-\u001b[0m\u001b[0mh\u001b[0m\u001b[1;33m]\u001b[0m\u001b[1;33m,\u001b[0m\u001b[1;33m\u001b[0m\u001b[1;33m\u001b[0m\u001b[0m\n\u001b[0;32m      4\u001b[0m                \u001b[1;33m[\u001b[0m\u001b[0mh\u001b[0m\u001b[1;33m,\u001b[0m\u001b[1;36m0\u001b[0m\u001b[1;33m,\u001b[0m\u001b[0mh\u001b[0m\u001b[1;33m,\u001b[0m\u001b[0mepsilon\u001b[0m\u001b[1;33m,\u001b[0m\u001b[1;33m-\u001b[0m\u001b[0mh\u001b[0m\u001b[1;33m]\u001b[0m\u001b[1;33m,\u001b[0m\u001b[1;33m\u001b[0m\u001b[1;33m\u001b[0m\u001b[0m\n\u001b[0;32m      5\u001b[0m                [0,0,-h,-h,-g**-1]])\n",
      "\u001b[1;31mNameError\u001b[0m: name 'sym' is not defined"
     ]
    }
   ],
   "source": [
    "H1=sym.Matrix([[-epsilon,-h,0,h,0],\n",
    "               [-h,-epsilon,-h,0,0],\n",
    "               [0,-h,epsilon,h,-h],\n",
    "               [h,0,h,epsilon,-h],\n",
    "               [0,0,-h,-h,-g**-1]])\n",
    "EG= sym.diag(E, E, E, E, 0)\n",
    "H1"
   ]
  },
  {
   "cell_type": "code",
   "execution_count": 33,
   "metadata": {},
   "outputs": [
    {
     "data": {
      "text/latex": [
       "$\\displaystyle \\left[\\begin{matrix}E + \\epsilon & h & 0 & - h & 0\\\\h & E + \\epsilon & h & 0 & 0\\\\0 & h & E - \\epsilon & - h & 0\\\\- h & 0 & - h & E - \\epsilon & h\\\\0 & 0 & 0 & h & \\frac{1}{g}\\end{matrix}\\right]$"
      ],
      "text/plain": [
       "⎡E + ε    h      0     -h    0⎤\n",
       "⎢                             ⎥\n",
       "⎢  h    E + ε    h      0    0⎥\n",
       "⎢                             ⎥\n",
       "⎢  0      h    E - ε   -h    0⎥\n",
       "⎢                             ⎥\n",
       "⎢ -h      0     -h    E - ε  h⎥\n",
       "⎢                             ⎥\n",
       "⎢                            1⎥\n",
       "⎢  0      0      0      h    ─⎥\n",
       "⎣                            g⎦"
      ]
     },
     "execution_count": 33,
     "metadata": {},
     "output_type": "execute_result"
    }
   ],
   "source": [
    "#h=V_2/2\n",
    "#epsilon=V_1\n",
    "G=(EG-H1)\n",
    "G"
   ]
  },
  {
   "cell_type": "code",
   "execution_count": 34,
   "metadata": {},
   "outputs": [
    {
     "data": {
      "text/latex": [
       "$\\displaystyle \\frac{E^{3} - E^{2} \\epsilon - E^{2} g h^{2} - E \\epsilon^{2} - 2 E h^{2} + \\epsilon^{3} + \\epsilon^{2} g h^{2} + g h^{4}}{E^{4} - E^{3} g h^{2} - 2 E^{2} \\epsilon^{2} - E^{2} \\epsilon g h^{2} - 4 E^{2} h^{2} + E \\epsilon^{2} g h^{2} + 2 E g h^{4} + \\epsilon^{4} + \\epsilon^{3} g h^{2}}$"
      ],
      "text/plain": [
       "             3    2      2    2      2        2    3    2    2      4         \n",
       "            E  - E ⋅ε - E ⋅g⋅h  - E⋅ε  - 2⋅E⋅h  + ε  + ε ⋅g⋅h  + g⋅h          \n",
       "──────────────────────────────────────────────────────────────────────────────\n",
       " 4    3    2      2  2    2      2      2  2      2    2          4    4    3 \n",
       "E  - E ⋅g⋅h  - 2⋅E ⋅ε  - E ⋅ε⋅g⋅h  - 4⋅E ⋅h  + E⋅ε ⋅g⋅h  + 2⋅E⋅g⋅h  + ε  + ε ⋅\n",
       "\n",
       "    \n",
       "    \n",
       "────\n",
       "   2\n",
       "g⋅h "
      ]
     },
     "execution_count": 34,
     "metadata": {},
     "output_type": "execute_result"
    }
   ],
   "source": [
    "Inv=G**-1\n",
    "g0=Inv[0,0]\n",
    "g0"
   ]
  },
  {
   "cell_type": "code",
   "execution_count": 35,
   "metadata": {},
   "outputs": [
    {
     "data": {
      "text/latex": [
       "$\\displaystyle E^{3} - E^{2} \\epsilon - E^{2} g h^{2} - E \\epsilon^{2} - 2 E h^{2} + \\epsilon^{3} + \\epsilon^{2} g h^{2} + g h^{4}$"
      ],
      "text/plain": [
       " 3    2      2    2      2        2    3    2    2      4\n",
       "E  - E ⋅ε - E ⋅g⋅h  - E⋅ε  - 2⋅E⋅h  + ε  + ε ⋅g⋅h  + g⋅h "
      ]
     },
     "metadata": {},
     "output_type": "display_data"
    },
    {
     "data": {
      "text/latex": [
       "$\\displaystyle E^{4} - E^{3} g h^{2} - 2 E^{2} \\epsilon^{2} - E^{2} \\epsilon g h^{2} - 4 E^{2} h^{2} + E \\epsilon^{2} g h^{2} + 2 E g h^{4} + \\epsilon^{4} + \\epsilon^{3} g h^{2}$"
      ],
      "text/plain": [
       " 4    3    2      2  2    2      2      2  2      2    2          4    4    3 \n",
       "E  - E ⋅g⋅h  - 2⋅E ⋅ε  - E ⋅ε⋅g⋅h  - 4⋅E ⋅h  + E⋅ε ⋅g⋅h  + 2⋅E⋅g⋅h  + ε  + ε ⋅\n",
       "\n",
       "   2\n",
       "g⋅h "
      ]
     },
     "metadata": {},
     "output_type": "display_data"
    },
    {
     "data": {
      "text/latex": [
       "$\\displaystyle E^{4} g - E^{3} g^{2} h^{2} - E^{3} - 2 E^{2} \\epsilon^{2} g - E^{2} \\epsilon g^{2} h^{2} + E^{2} \\epsilon - 3 E^{2} g h^{2} + E \\epsilon^{2} g^{2} h^{2} + E \\epsilon^{2} + 2 E g^{2} h^{4} + 2 E h^{2} + \\epsilon^{4} g + \\epsilon^{3} g^{2} h^{2} - \\epsilon^{3} - \\epsilon^{2} g h^{2} - g h^{4}$"
      ],
      "text/plain": [
       " 4      3  2  2    3      2  2      2    2  2    2        2    2      2  2  2 \n",
       "E ⋅g - E ⋅g ⋅h  - E  - 2⋅E ⋅ε ⋅g - E ⋅ε⋅g ⋅h  + E ⋅ε - 3⋅E ⋅g⋅h  + E⋅ε ⋅g ⋅h  \n",
       "\n",
       "     2        2  4        2    4      3  2  2    3    2    2      4\n",
       "+ E⋅ε  + 2⋅E⋅g ⋅h  + 2⋅E⋅h  + ε ⋅g + ε ⋅g ⋅h  - ε  - ε ⋅g⋅h  - g⋅h "
      ]
     },
     "metadata": {},
     "output_type": "display_data"
    }
   ],
   "source": [
    "exp1=sym.simplify(g0)\n",
    "n,d = sym.fraction(exp1)\n",
    "display(n,d)\n",
    "eq=d*g-n\n",
    "display(sym.expand(eq))"
   ]
  },
  {
   "cell_type": "code",
   "execution_count": 36,
   "metadata": {},
   "outputs": [
    {
     "data": {
      "text/latex": [
       "$\\displaystyle - E^{3} + E^{2} \\epsilon + E^{2} g h^{2} + E \\epsilon^{2} + 2 E h^{2} - \\epsilon^{3} - \\epsilon^{2} g h^{2} - g h^{4} + g \\left(E^{4} - E^{3} g h^{2} - 2 E^{2} \\epsilon^{2} - E^{2} \\epsilon g h^{2} - 4 E^{2} h^{2} + E \\epsilon^{2} g h^{2} + 2 E g h^{4} + \\epsilon^{4} + \\epsilon^{3} g h^{2}\\right)$"
      ],
      "text/plain": [
       "   3    2      2    2      2        2    3    2    2      4     ⎛ 4    3    2 \n",
       "- E  + E ⋅ε + E ⋅g⋅h  + E⋅ε  + 2⋅E⋅h  - ε  - ε ⋅g⋅h  - g⋅h  + g⋅⎝E  - E ⋅g⋅h  \n",
       "\n",
       "     2  2    2      2      2  2      2    2          4    4    3    2⎞\n",
       "- 2⋅E ⋅ε  - E ⋅ε⋅g⋅h  - 4⋅E ⋅h  + E⋅ε ⋅g⋅h  + 2⋅E⋅g⋅h  + ε  + ε ⋅g⋅h ⎠"
      ]
     },
     "metadata": {},
     "output_type": "display_data"
    }
   ],
   "source": [
    "display(eq)"
   ]
  },
  {
   "cell_type": "code",
   "execution_count": 37,
   "metadata": {},
   "outputs": [
    {
     "data": {
      "text/latex": [
       "$\\displaystyle \\left[ \\frac{- E^{4} + 2 E^{2} \\epsilon^{2} + 3 E^{2} h^{2} - \\epsilon^{4} + \\epsilon^{2} h^{2} + h^{4} - \\sqrt{\\left(E^{4} - 2 E^{2} \\epsilon^{2} - 7 E^{2} h^{2} + \\epsilon^{4} + 3 \\epsilon^{2} h^{2} + h^{4}\\right) \\left(E^{4} - 2 E^{2} \\epsilon^{2} - 3 E^{2} h^{2} + \\epsilon^{4} - \\epsilon^{2} h^{2} + h^{4}\\right)}}{2 h^{2} \\left(- E^{3} - E^{2} \\epsilon + E \\epsilon^{2} + 2 E h^{2} + \\epsilon^{3}\\right)}, \\  \\frac{- E^{4} + 2 E^{2} \\epsilon^{2} + 3 E^{2} h^{2} - \\epsilon^{4} + \\epsilon^{2} h^{2} + h^{4} + \\sqrt{\\left(E^{4} - 2 E^{2} \\epsilon^{2} - 7 E^{2} h^{2} + \\epsilon^{4} + 3 \\epsilon^{2} h^{2} + h^{4}\\right) \\left(E^{4} - 2 E^{2} \\epsilon^{2} - 3 E^{2} h^{2} + \\epsilon^{4} - \\epsilon^{2} h^{2} + h^{4}\\right)}}{2 h^{2} \\left(- E^{3} - E^{2} \\epsilon + E \\epsilon^{2} + 2 E h^{2} + \\epsilon^{3}\\right)}\\right]$"
      ],
      "text/plain": [
       "⎡                                                _____________________________\n",
       "⎢   4      2  2      2  2    4    2  2    4     ╱ ⎛ 4      2  2      2  2    4\n",
       "⎢- E  + 2⋅E ⋅ε  + 3⋅E ⋅h  - ε  + ε ⋅h  + h  - ╲╱  ⎝E  - 2⋅E ⋅ε  - 7⋅E ⋅h  + ε \n",
       "⎢─────────────────────────────────────────────────────────────────────────────\n",
       "⎢                                                    2 ⎛   3    2        2    \n",
       "⎣                                                 2⋅h ⋅⎝- E  - E ⋅ε + E⋅ε  + 2\n",
       "\n",
       "____________________________________________________________                  \n",
       "      2  2    4⎞ ⎛ 4      2  2      2  2    4    2  2    4⎞      4      2  2  \n",
       " + 3⋅ε ⋅h  + h ⎠⋅⎝E  - 2⋅E ⋅ε  - 3⋅E ⋅h  + ε  - ε ⋅h  + h ⎠   - E  + 2⋅E ⋅ε  +\n",
       "────────────────────────────────────────────────────────────, ────────────────\n",
       "    2    3⎞                                                                   \n",
       "⋅E⋅h  + ε ⎠                                                                   \n",
       "\n",
       "                                ______________________________________________\n",
       "    2  2    4    2  2    4     ╱ ⎛ 4      2  2      2  2    4      2  2    4⎞ \n",
       " 3⋅E ⋅h  - ε  + ε ⋅h  + h  + ╲╱  ⎝E  - 2⋅E ⋅ε  - 7⋅E ⋅h  + ε  + 3⋅ε ⋅h  + h ⎠⋅\n",
       "──────────────────────────────────────────────────────────────────────────────\n",
       "                                    2 ⎛   3    2        2        2    3⎞      \n",
       "                                 2⋅h ⋅⎝- E  - E ⋅ε + E⋅ε  + 2⋅E⋅h  + ε ⎠      \n",
       "\n",
       "___________________________________________⎤\n",
       "⎛ 4      2  2      2  2    4    2  2    4⎞ ⎥\n",
       "⎝E  - 2⋅E ⋅ε  - 3⋅E ⋅h  + ε  - ε ⋅h  + h ⎠ ⎥\n",
       "───────────────────────────────────────────⎥\n",
       "                                           ⎥\n",
       "                                           ⎦"
      ]
     },
     "metadata": {},
     "output_type": "display_data"
    }
   ],
   "source": [
    "zo=sym.solve(eq,g)\n",
    "display(zo)"
   ]
  },
  {
   "cell_type": "code",
   "execution_count": 12,
   "metadata": {},
   "outputs": [
    {
     "data": {
      "text/latex": [
       "$\\displaystyle \\left( \\left[\\begin{matrix}- \\epsilon & - h\\\\- h & \\epsilon\\end{matrix}\\right], \\  \\left[\\begin{matrix}- \\epsilon & - h & h\\\\- h & \\epsilon & 0\\\\h & 0 & - \\epsilon\\end{matrix}\\right], \\  \\left[\\begin{matrix}\\epsilon & 0 & - h & h\\\\0 & - \\epsilon & - h & h\\\\- h & - h & \\epsilon & 0\\\\h & h & 0 & - \\epsilon\\end{matrix}\\right], \\  \\left[\\begin{matrix}\\epsilon & 0 & - h & h & 0\\\\0 & - \\epsilon & - h & h & 0\\\\- h & - h & \\epsilon & 0 & - h\\\\h & h & 0 & - \\epsilon & - h\\\\0 & 0 & - h & - h & - \\frac{1}{g}\\end{matrix}\\right], \\  \\left[\\begin{matrix}E & 0 & 0 & 0 & 0\\\\0 & E & 0 & 0 & 0\\\\0 & 0 & E & 0 & 0\\\\0 & 0 & 0 & E & 0\\\\0 & 0 & 0 & 0 & 0\\end{matrix}\\right]\\right)$"
      ],
      "text/plain": [
       "⎛                                          ⎡ε   0   -h  h    0 ⎤              \n",
       "⎜                                          ⎢                   ⎥  ⎡E  0  0  0 \n",
       "⎜                        ⎡ε   0   -h  h ⎤  ⎢0   -ε  -h  h    0 ⎥  ⎢           \n",
       "⎜          ⎡-ε  -h  h ⎤  ⎢              ⎥  ⎢                   ⎥  ⎢0  E  0  0 \n",
       "⎜⎡-ε  -h⎤  ⎢          ⎥  ⎢0   -ε  -h  h ⎥  ⎢-h  -h  ε   0   -h ⎥  ⎢           \n",
       "⎜⎢      ⎥, ⎢-h  ε   0 ⎥, ⎢              ⎥, ⎢                   ⎥, ⎢0  0  E  0 \n",
       "⎜⎣-h  ε ⎦  ⎢          ⎥  ⎢-h  -h  ε   0 ⎥  ⎢h   h   0   -ε  -h ⎥  ⎢           \n",
       "⎜          ⎣h   0   -ε⎦  ⎢              ⎥  ⎢                   ⎥  ⎢0  0  0  E \n",
       "⎜                        ⎣h   h   0   -ε⎦  ⎢                -1 ⎥  ⎢           \n",
       "⎜                                          ⎢0   0   -h  -h  ───⎥  ⎣0  0  0  0 \n",
       "⎝                                          ⎣                 g ⎦              \n",
       "\n",
       "   ⎞\n",
       " 0⎤⎟\n",
       "  ⎥⎟\n",
       " 0⎥⎟\n",
       "  ⎥⎟\n",
       " 0⎥⎟\n",
       "  ⎥⎟\n",
       " 0⎥⎟\n",
       "  ⎥⎟\n",
       " 0⎦⎟\n",
       "   ⎠"
      ]
     },
     "execution_count": 12,
     "metadata": {},
     "output_type": "execute_result"
    }
   ],
   "source": [
    "#H= sym.Matrix([[-epsilon,-beta_ss,0,beta_sp],\n",
    "#               [-beta_ss,-epsilon,-beta_sp,0],\n",
    "#               [0,-beta_sp,epsilon,beta_pp],\n",
    "#               [beta_sp,0,beta_pp,epsilon]]) \n",
    "\n",
    "\n",
    "H2= sym.Matrix([[-epsilon,-h],\n",
    "               [-h,epsilon,]])\n",
    "\n",
    "\n",
    "H3= sym.Matrix([[-epsilon,-h,h],\n",
    "               [-h,epsilon,0],\n",
    "               [h,0,-epsilon]])\n",
    "\n",
    "H4= sym.Matrix([[epsilon,0,-h,h],\n",
    "               [0,-epsilon,-h,h],\n",
    "               [-h,-h,epsilon,0], \n",
    "               [h,h,0,-epsilon]])\n",
    "\n",
    "H5=sym.Matrix([[epsilon,0,-h,h,0],\n",
    "               [0,-epsilon,-h,h,0],\n",
    "               [-h,-h,epsilon,0,-h],\n",
    "               [h,h,0,-epsilon,-h],\n",
    "               [0,0,-h,-h,-g**-1]])\n",
    "\n",
    "#H1=sym.Matrix([[-epsilon,0,-h,h,0],\n",
    "#               [0,epsilon,-h,h,0],\n",
    "#               [-h,-h,-epsilon,0,-h],\n",
    "#               [h,h,0,epsilon,-h],\n",
    "#               [0,0,-h,-h,-g**-1]])\n",
    "\n",
    "#H1=sym.Matrix([[epsilon,0,-h],\n",
    "#               [0,epsilon,-h],\n",
    "#               [-h,-h,-g**-1],])\n",
    "\n",
    "#H1=sym.Matrix([[epsilon,0,-beta_ss,beta_sp,0],\n",
    "#               [0,-epsilon,-beta_sp,beta_pp,0],\n",
    "#               [-beta_ss,-beta_sp,epsilon,0,-beta_ss],\n",
    "#               [beta_sp,beta_pp,0,-epsilon,-beta_sp],\n",
    "#               [0,0,-beta_ss,-beta_sp,-g**-1]])\n",
    "#EG= sym.Matrix([[E,0,0,0,0],\n",
    "#              [0,E,0,0,0],\n",
    "#               [0,0,E,0,0],\n",
    "#               [0,0,0,E,0],\n",
    "#               [0,0,0,0,0]]) \n",
    "EG= sym.diag(E, E,E,E, 0)\n",
    "#EG= sym.Matrix([[E,0,0,0,0],\n",
    "#               [0,E,0,0,0],\n",
    "#               [0,0,E,0,0],\n",
    "#               [0,0,0,E,0],\n",
    "#               [0,0,0,0,0]]) \n",
    "H2,H3,H4,H5,EG"
   ]
  },
  {
   "cell_type": "code",
   "execution_count": 14,
   "metadata": {},
   "outputs": [
    {
     "data": {
      "text/latex": [
       "$\\displaystyle \\epsilon^{3} h \\left(\\frac{\\epsilon^{4}}{2} + \\frac{h^{2} \\left(- \\epsilon^{2} - h^{2}\\right)}{2}\\right)$"
      ],
      "text/plain": [
       "     ⎛ 4    2 ⎛   2    2⎞⎞\n",
       " 3   ⎜ε    h ⋅⎝- ε  - h ⎠⎟\n",
       "ε ⋅h⋅⎜── + ──────────────⎟\n",
       "     ⎝2          2       ⎠"
      ]
     },
     "metadata": {},
     "output_type": "display_data"
    }
   ],
   "source": [
    "D4= H4.det()\n",
    "D3= H3.det()\n",
    "D2= H2.det()\n",
    "alp=(D4+h**2*D2)/2*h*D3\n",
    "display(alp)"
   ]
  },
  {
   "cell_type": "code",
   "execution_count": null,
   "metadata": {},
   "outputs": [],
   "source": []
  }
 ],
 "metadata": {
  "kernelspec": {
   "display_name": "Python 3",
   "language": "python",
   "name": "python3"
  },
  "language_info": {
   "codemirror_mode": {
    "name": "ipython",
    "version": 3
   },
   "file_extension": ".py",
   "mimetype": "text/x-python",
   "name": "python",
   "nbconvert_exporter": "python",
   "pygments_lexer": "ipython3",
   "version": "3.8.3"
  }
 },
 "nbformat": 4,
 "nbformat_minor": 4
}
