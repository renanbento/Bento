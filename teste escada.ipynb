{
 "cells": [
  {
   "cell_type": "code",
   "execution_count": 1,
   "metadata": {},
   "outputs": [],
   "source": [
    "import sympy as sym\n",
    "sym.init_printing(use_latex=\"mathjax\")\n",
    "a,b,c,d, e , f , g , h , i, j , k , l , n , m, o, p, q, r, s, t, u, v, w,x, y, z =sym.symbols(\"a b c d e f g h i j k l m n o p q r s t u v w x y  z \", real=True)\n",
    "alpha, omega, gamma, beta,mu, Delta = sym.symbols('alpha omega gamma beta mu Delta', real=True)\n",
    "V_1,V,E,V_2 =sym.symbols(\"V_1 V E V_2\")#, real=True)"
   ]
  },
  {
   "cell_type": "code",
   "execution_count": 34,
   "metadata": {},
   "outputs": [
    {
     "data": {
      "text/latex": [
       "$\\displaystyle \\left[\\begin{matrix}E & V_{1} & 0\\\\V_{1} & E & V\\\\0 & V & \\frac{1}{g}\\end{matrix}\\right]$"
      ],
      "text/plain": [
       "⎡E   V₁  0⎤\n",
       "⎢         ⎥\n",
       "⎢V₁  E   V⎥\n",
       "⎢         ⎥\n",
       "⎢        1⎥\n",
       "⎢0   V   ─⎥\n",
       "⎣        g⎦"
      ]
     },
     "execution_count": 34,
     "metadata": {},
     "output_type": "execute_result"
    }
   ],
   "source": [
    "D= sym.Matrix([[E,V_1,0],[V_1,E,V],[0,V,g**-1]]) \n",
    "D"
   ]
  },
  {
   "cell_type": "code",
   "execution_count": 35,
   "metadata": {},
   "outputs": [
    {
     "data": {
      "text/latex": [
       "$\\displaystyle \\left[\\begin{matrix}\\frac{- E + V^{2} g}{- E^{2} + E V^{2} g + V_{1}^{2}} & \\frac{V_{1}}{- E^{2} + E V^{2} g + V_{1}^{2}} & - \\frac{V V_{1} g}{- E^{2} + E V^{2} g + V_{1}^{2}}\\\\\\frac{V_{1}}{- E^{2} + E V^{2} g + V_{1}^{2}} & - \\frac{E}{- E^{2} + E V^{2} g + V_{1}^{2}} & \\frac{E V g}{- E^{2} + E V^{2} g + V_{1}^{2}}\\\\- \\frac{V V_{1} g}{- E^{2} + E V^{2} g + V_{1}^{2}} & \\frac{E V g}{- E^{2} + E V^{2} g + V_{1}^{2}} & - \\frac{E^{2} g - V_{1}^{2} g}{- E^{2} + E V^{2} g + V_{1}^{2}}\\end{matrix}\\right]$"
      ],
      "text/plain": [
       "⎡           2                                                 ⎤\n",
       "⎢     -E + V ⋅g                V₁                -V⋅V₁⋅g      ⎥\n",
       "⎢───────────────────  ───────────────────  ───────────────────⎥\n",
       "⎢   2      2       2     2      2       2     2      2       2⎥\n",
       "⎢- E  + E⋅V ⋅g + V₁   - E  + E⋅V ⋅g + V₁   - E  + E⋅V ⋅g + V₁ ⎥\n",
       "⎢                                                             ⎥\n",
       "⎢         V₁                  -E                  E⋅V⋅g       ⎥\n",
       "⎢───────────────────  ───────────────────  ───────────────────⎥\n",
       "⎢   2      2       2     2      2       2     2      2       2⎥\n",
       "⎢- E  + E⋅V ⋅g + V₁   - E  + E⋅V ⋅g + V₁   - E  + E⋅V ⋅g + V₁ ⎥\n",
       "⎢                                                             ⎥\n",
       "⎢                                             ⎛ 2       2  ⎞  ⎥\n",
       "⎢      -V⋅V₁⋅g               E⋅V⋅g           -⎝E ⋅g - V₁ ⋅g⎠  ⎥\n",
       "⎢───────────────────  ───────────────────  ───────────────────⎥\n",
       "⎢   2      2       2     2      2       2     2      2       2⎥\n",
       "⎣- E  + E⋅V ⋅g + V₁   - E  + E⋅V ⋅g + V₁   - E  + E⋅V ⋅g + V₁ ⎦"
      ]
     },
     "execution_count": 35,
     "metadata": {},
     "output_type": "execute_result"
    }
   ],
   "source": [
    "Inv=D**-1\n",
    "Inv"
   ]
  },
  {
   "cell_type": "code",
   "execution_count": 39,
   "metadata": {},
   "outputs": [
    {
     "data": {
      "text/latex": [
       "$\\displaystyle \\frac{- E + V^{2} g}{- E^{2} + E V^{2} g + V_{1}^{2}}$"
      ],
      "text/plain": [
       "           2       \n",
       "     -E + V ⋅g     \n",
       "───────────────────\n",
       "   2      2       2\n",
       "- E  + E⋅V ⋅g + V₁ "
      ]
     },
     "metadata": {},
     "output_type": "display_data"
    }
   ],
   "source": [
    "display(Inv[0,0])"
   ]
  },
  {
   "cell_type": "code",
   "execution_count": 58,
   "metadata": {},
   "outputs": [
    {
     "data": {
      "text/latex": [
       "$\\displaystyle E - V^{2} g + g \\left(- E^{2} + E V^{2} g + V_{1}^{2}\\right)$"
      ],
      "text/plain": [
       "     2       ⎛   2      2       2⎞\n",
       "E - V ⋅g + g⋅⎝- E  + E⋅V ⋅g + V₁ ⎠"
      ]
     },
     "metadata": {},
     "output_type": "display_data"
    },
    {
     "data": {
      "text/latex": [
       "$\\displaystyle V^{2} g^{2} + 1 - \\frac{g \\left(E^{2} + V^{2} - V_{1}^{2}\\right)}{E}$"
      ],
      "text/plain": [
       "              ⎛ 2    2     2⎞\n",
       " 2  2       g⋅⎝E  + V  - V₁ ⎠\n",
       "V ⋅g  + 1 - ─────────────────\n",
       "                    E        "
      ]
     },
     "metadata": {},
     "output_type": "display_data"
    }
   ],
   "source": [
    "eq=g*(-E**2+E*(V**2)*g+V_1**2)+E-V**2 *g\n",
    "display(eq)\n",
    "U=V**2*g**2-(2*g*V)*(E**2+V**2-V_1**2)/(2*E*V)+1\n",
    "display(U)\n"
   ]
  },
  {
   "cell_type": "code",
   "execution_count": 7,
   "metadata": {},
   "outputs": [
    {
     "data": {
      "text/latex": [
       "$\\displaystyle \\left[\\begin{matrix}E & V_{1} & V_{1} & 0 & 0 & 0 & 0 & 0\\\\V_{1} & E & V_{1} & 0 & 0 & 0 & V & 0\\\\V_{1} & V_{1} & E & 0 & V & 0 & 0 & 0\\\\0 & 0 & 0 & E & V_{1} & V_{1} & 0 & 0\\\\0 & 0 & V & V_{1} & E & V_{1} & 0 & 0\\\\0 & 0 & 0 & 0 & V_{1} & E & 0 & V\\\\0 & V & 0 & 0 & 0 & 0 & \\frac{1}{g} & 0\\\\0 & 0 & 0 & 0 & 0 & V & 0 & \\frac{1}{g}\\end{matrix}\\right]$"
      ],
      "text/plain": [
       "⎡E   V₁  V₁  0   0   0   0  0⎤\n",
       "⎢                            ⎥\n",
       "⎢V₁  E   V₁  0   0   0   V  0⎥\n",
       "⎢                            ⎥\n",
       "⎢V₁  V₁  E   0   V   0   0  0⎥\n",
       "⎢                            ⎥\n",
       "⎢0   0   0   E   V₁  V₁  0  0⎥\n",
       "⎢                            ⎥\n",
       "⎢0   0   V   V₁  E   V₁  0  0⎥\n",
       "⎢                            ⎥\n",
       "⎢0   0   0   0   V₁  E   0  V⎥\n",
       "⎢                            ⎥\n",
       "⎢                        1   ⎥\n",
       "⎢0   V   0   0   0   0   ─  0⎥\n",
       "⎢                        g   ⎥\n",
       "⎢                            ⎥\n",
       "⎢                           1⎥\n",
       "⎢0   0   0   0   0   V   0  ─⎥\n",
       "⎣                           g⎦"
      ]
     },
     "execution_count": 7,
     "metadata": {},
     "output_type": "execute_result"
    }
   ],
   "source": [
    "D= sym.Matrix([[E,V_1,V_1,0,0,0,0,0],\n",
    "               [V_1,E,V_1,0,0,0,V,0],\n",
    "               [V_1,V_1,E,0,V,0,0,0],\n",
    "               [0,0,0,E,V_1,V_1,0,0],\n",
    "               [0,0,V,V_1,E,V_1,0,0],\n",
    "               [0,0,0,0,V_1,E,0,V],\n",
    "               [0,V,0,0,0,0,g**-1,0],\n",
    "               [0,0,0,0,0,V,0,g**-1]]) \n",
    "D"
   ]
  },
  {
   "cell_type": "code",
   "execution_count": 8,
   "metadata": {},
   "outputs": [
    {
     "ename": "KeyboardInterrupt",
     "evalue": "",
     "output_type": "error",
     "traceback": [
      "\u001b[1;31m---------------------------------------------------------------------------\u001b[0m",
      "\u001b[1;31mKeyError\u001b[0m                                  Traceback (most recent call last)",
      "\u001b[1;32m~\\anaconda3\\lib\\site-packages\\sympy\\core\\assumptions.py\u001b[0m in \u001b[0;36mgetit\u001b[1;34m(self)\u001b[0m\n\u001b[0;32m    453\u001b[0m         \u001b[1;32mtry\u001b[0m\u001b[1;33m:\u001b[0m\u001b[1;33m\u001b[0m\u001b[1;33m\u001b[0m\u001b[0m\n\u001b[1;32m--> 454\u001b[1;33m             \u001b[1;32mreturn\u001b[0m \u001b[0mself\u001b[0m\u001b[1;33m.\u001b[0m\u001b[0m_assumptions\u001b[0m\u001b[1;33m[\u001b[0m\u001b[0mfact\u001b[0m\u001b[1;33m]\u001b[0m\u001b[1;33m\u001b[0m\u001b[1;33m\u001b[0m\u001b[0m\n\u001b[0m\u001b[0;32m    455\u001b[0m         \u001b[1;32mexcept\u001b[0m \u001b[0mKeyError\u001b[0m\u001b[1;33m:\u001b[0m\u001b[1;33m\u001b[0m\u001b[1;33m\u001b[0m\u001b[0m\n",
      "\u001b[1;31mKeyError\u001b[0m: 'zero'",
      "\nDuring handling of the above exception, another exception occurred:\n",
      "\u001b[1;31mKeyboardInterrupt\u001b[0m                         Traceback (most recent call last)",
      "\u001b[1;32m<ipython-input-8-c1c93310a633>\u001b[0m in \u001b[0;36m<module>\u001b[1;34m\u001b[0m\n\u001b[1;32m----> 1\u001b[1;33m \u001b[0mInv\u001b[0m\u001b[1;33m=\u001b[0m\u001b[0mD\u001b[0m\u001b[1;33m**\u001b[0m\u001b[1;33m-\u001b[0m\u001b[1;36m1\u001b[0m\u001b[1;33m\u001b[0m\u001b[1;33m\u001b[0m\u001b[0m\n\u001b[0m\u001b[0;32m      2\u001b[0m \u001b[0mInv\u001b[0m\u001b[1;33m\u001b[0m\u001b[1;33m\u001b[0m\u001b[0m\n",
      "\u001b[1;32m~\\anaconda3\\lib\\site-packages\\sympy\\core\\decorators.py\u001b[0m in \u001b[0;36mbinary_op_wrapper\u001b[1;34m(self, other)\u001b[0m\n\u001b[0;32m    125\u001b[0m                     \u001b[1;32mif\u001b[0m \u001b[0mf\u001b[0m \u001b[1;32mis\u001b[0m \u001b[1;32mnot\u001b[0m \u001b[1;32mNone\u001b[0m\u001b[1;33m:\u001b[0m\u001b[1;33m\u001b[0m\u001b[1;33m\u001b[0m\u001b[0m\n\u001b[0;32m    126\u001b[0m                         \u001b[1;32mreturn\u001b[0m \u001b[0mf\u001b[0m\u001b[1;33m(\u001b[0m\u001b[0mself\u001b[0m\u001b[1;33m)\u001b[0m\u001b[1;33m\u001b[0m\u001b[1;33m\u001b[0m\u001b[0m\n\u001b[1;32m--> 127\u001b[1;33m             \u001b[1;32mreturn\u001b[0m \u001b[0mfunc\u001b[0m\u001b[1;33m(\u001b[0m\u001b[0mself\u001b[0m\u001b[1;33m,\u001b[0m \u001b[0mother\u001b[0m\u001b[1;33m)\u001b[0m\u001b[1;33m\u001b[0m\u001b[1;33m\u001b[0m\u001b[0m\n\u001b[0m\u001b[0;32m    128\u001b[0m         \u001b[1;32mreturn\u001b[0m \u001b[0mbinary_op_wrapper\u001b[0m\u001b[1;33m\u001b[0m\u001b[1;33m\u001b[0m\u001b[0m\n\u001b[0;32m    129\u001b[0m     \u001b[1;32mreturn\u001b[0m \u001b[0mpriority_decorator\u001b[0m\u001b[1;33m\u001b[0m\u001b[1;33m\u001b[0m\u001b[0m\n",
      "\u001b[1;32m~\\anaconda3\\lib\\site-packages\\sympy\\matrices\\common.py\u001b[0m in \u001b[0;36m__pow__\u001b[1;34m(self, exp)\u001b[0m\n\u001b[0;32m   2568\u001b[0m         \u001b[1;34m\"\"\"Return self**exp a scalar or symbol.\"\"\"\u001b[0m\u001b[1;33m\u001b[0m\u001b[1;33m\u001b[0m\u001b[0m\n\u001b[0;32m   2569\u001b[0m \u001b[1;33m\u001b[0m\u001b[0m\n\u001b[1;32m-> 2570\u001b[1;33m         \u001b[1;32mreturn\u001b[0m \u001b[0mself\u001b[0m\u001b[1;33m.\u001b[0m\u001b[0mpow\u001b[0m\u001b[1;33m(\u001b[0m\u001b[0mexp\u001b[0m\u001b[1;33m)\u001b[0m\u001b[1;33m\u001b[0m\u001b[1;33m\u001b[0m\u001b[0m\n\u001b[0m\u001b[0;32m   2571\u001b[0m \u001b[1;33m\u001b[0m\u001b[0m\n\u001b[0;32m   2572\u001b[0m \u001b[1;33m\u001b[0m\u001b[0m\n",
      "\u001b[1;32m~\\anaconda3\\lib\\site-packages\\sympy\\matrices\\common.py\u001b[0m in \u001b[0;36mpow\u001b[1;34m(self, exp, method)\u001b[0m\n\u001b[0;32m   2612\u001b[0m             \u001b[1;32mif\u001b[0m \u001b[0mexp\u001b[0m \u001b[1;33m<\u001b[0m \u001b[1;36m0\u001b[0m\u001b[1;33m:\u001b[0m\u001b[1;33m\u001b[0m\u001b[1;33m\u001b[0m\u001b[0m\n\u001b[0;32m   2613\u001b[0m                 \u001b[0mexp\u001b[0m \u001b[1;33m=\u001b[0m \u001b[1;33m-\u001b[0m\u001b[0mexp\u001b[0m\u001b[1;33m\u001b[0m\u001b[1;33m\u001b[0m\u001b[0m\n\u001b[1;32m-> 2614\u001b[1;33m                 \u001b[0ma\u001b[0m \u001b[1;33m=\u001b[0m \u001b[0ma\u001b[0m\u001b[1;33m.\u001b[0m\u001b[0minv\u001b[0m\u001b[1;33m(\u001b[0m\u001b[1;33m)\u001b[0m\u001b[1;33m\u001b[0m\u001b[1;33m\u001b[0m\u001b[0m\n\u001b[0m\u001b[0;32m   2615\u001b[0m         \u001b[1;31m# When certain conditions are met,\u001b[0m\u001b[1;33m\u001b[0m\u001b[1;33m\u001b[0m\u001b[1;33m\u001b[0m\u001b[0m\n\u001b[0;32m   2616\u001b[0m         \u001b[1;31m# Jordan block algorithm is faster than\u001b[0m\u001b[1;33m\u001b[0m\u001b[1;33m\u001b[0m\u001b[1;33m\u001b[0m\u001b[0m\n",
      "\u001b[1;32m~\\anaconda3\\lib\\site-packages\\sympy\\matrices\\matrices.py\u001b[0m in \u001b[0;36minv\u001b[1;34m(self, method, iszerofunc, try_block_diag)\u001b[0m\n\u001b[0;32m   2249\u001b[0m \u001b[1;33m\u001b[0m\u001b[0m\n\u001b[0;32m   2250\u001b[0m     \u001b[1;32mdef\u001b[0m \u001b[0minv\u001b[0m\u001b[1;33m(\u001b[0m\u001b[0mself\u001b[0m\u001b[1;33m,\u001b[0m \u001b[0mmethod\u001b[0m\u001b[1;33m=\u001b[0m\u001b[1;32mNone\u001b[0m\u001b[1;33m,\u001b[0m \u001b[0miszerofunc\u001b[0m\u001b[1;33m=\u001b[0m\u001b[0m_iszero\u001b[0m\u001b[1;33m,\u001b[0m \u001b[0mtry_block_diag\u001b[0m\u001b[1;33m=\u001b[0m\u001b[1;32mFalse\u001b[0m\u001b[1;33m)\u001b[0m\u001b[1;33m:\u001b[0m\u001b[1;33m\u001b[0m\u001b[1;33m\u001b[0m\u001b[0m\n\u001b[1;32m-> 2251\u001b[1;33m         return _inv(self, method=method, iszerofunc=iszerofunc,\n\u001b[0m\u001b[0;32m   2252\u001b[0m                 try_block_diag=try_block_diag)\n\u001b[0;32m   2253\u001b[0m \u001b[1;33m\u001b[0m\u001b[0m\n",
      "\u001b[1;32m~\\anaconda3\\lib\\site-packages\\sympy\\matrices\\inverse.py\u001b[0m in \u001b[0;36m_inv\u001b[1;34m(M, method, iszerofunc, try_block_diag)\u001b[0m\n\u001b[0;32m    457\u001b[0m \u001b[1;33m\u001b[0m\u001b[0m\n\u001b[0;32m    458\u001b[0m     \u001b[1;32mif\u001b[0m \u001b[0mmethod\u001b[0m \u001b[1;33m==\u001b[0m \u001b[1;34m\"GE\"\u001b[0m\u001b[1;33m:\u001b[0m\u001b[1;33m\u001b[0m\u001b[1;33m\u001b[0m\u001b[0m\n\u001b[1;32m--> 459\u001b[1;33m         \u001b[0mrv\u001b[0m \u001b[1;33m=\u001b[0m \u001b[0mM\u001b[0m\u001b[1;33m.\u001b[0m\u001b[0minverse_GE\u001b[0m\u001b[1;33m(\u001b[0m\u001b[0miszerofunc\u001b[0m\u001b[1;33m=\u001b[0m\u001b[0miszerofunc\u001b[0m\u001b[1;33m)\u001b[0m\u001b[1;33m\u001b[0m\u001b[1;33m\u001b[0m\u001b[0m\n\u001b[0m\u001b[0;32m    460\u001b[0m     \u001b[1;32melif\u001b[0m \u001b[0mmethod\u001b[0m \u001b[1;33m==\u001b[0m \u001b[1;34m\"LU\"\u001b[0m\u001b[1;33m:\u001b[0m\u001b[1;33m\u001b[0m\u001b[1;33m\u001b[0m\u001b[0m\n\u001b[0;32m    461\u001b[0m         \u001b[0mrv\u001b[0m \u001b[1;33m=\u001b[0m \u001b[0mM\u001b[0m\u001b[1;33m.\u001b[0m\u001b[0minverse_LU\u001b[0m\u001b[1;33m(\u001b[0m\u001b[0miszerofunc\u001b[0m\u001b[1;33m=\u001b[0m\u001b[0miszerofunc\u001b[0m\u001b[1;33m)\u001b[0m\u001b[1;33m\u001b[0m\u001b[1;33m\u001b[0m\u001b[0m\n",
      "\u001b[1;32m~\\anaconda3\\lib\\site-packages\\sympy\\matrices\\matrices.py\u001b[0m in \u001b[0;36minverse_GE\u001b[1;34m(self, iszerofunc)\u001b[0m\n\u001b[0;32m   2234\u001b[0m \u001b[1;33m\u001b[0m\u001b[0m\n\u001b[0;32m   2235\u001b[0m     \u001b[1;32mdef\u001b[0m \u001b[0minverse_GE\u001b[0m\u001b[1;33m(\u001b[0m\u001b[0mself\u001b[0m\u001b[1;33m,\u001b[0m \u001b[0miszerofunc\u001b[0m\u001b[1;33m=\u001b[0m\u001b[0m_iszero\u001b[0m\u001b[1;33m)\u001b[0m\u001b[1;33m:\u001b[0m\u001b[1;33m\u001b[0m\u001b[1;33m\u001b[0m\u001b[0m\n\u001b[1;32m-> 2236\u001b[1;33m         \u001b[1;32mreturn\u001b[0m \u001b[0m_inv_GE\u001b[0m\u001b[1;33m(\u001b[0m\u001b[0mself\u001b[0m\u001b[1;33m,\u001b[0m \u001b[0miszerofunc\u001b[0m\u001b[1;33m=\u001b[0m\u001b[0miszerofunc\u001b[0m\u001b[1;33m)\u001b[0m\u001b[1;33m\u001b[0m\u001b[1;33m\u001b[0m\u001b[0m\n\u001b[0m\u001b[0;32m   2237\u001b[0m \u001b[1;33m\u001b[0m\u001b[0m\n\u001b[0;32m   2238\u001b[0m     \u001b[1;32mdef\u001b[0m \u001b[0minverse_LU\u001b[0m\u001b[1;33m(\u001b[0m\u001b[0mself\u001b[0m\u001b[1;33m,\u001b[0m \u001b[0miszerofunc\u001b[0m\u001b[1;33m=\u001b[0m\u001b[0m_iszero\u001b[0m\u001b[1;33m)\u001b[0m\u001b[1;33m:\u001b[0m\u001b[1;33m\u001b[0m\u001b[1;33m\u001b[0m\u001b[0m\n",
      "\u001b[1;32m~\\anaconda3\\lib\\site-packages\\sympy\\matrices\\inverse.py\u001b[0m in \u001b[0;36m_inv_GE\u001b[1;34m(M, iszerofunc)\u001b[0m\n\u001b[0;32m    240\u001b[0m \u001b[1;33m\u001b[0m\u001b[0m\n\u001b[0;32m    241\u001b[0m     \u001b[0mbig\u001b[0m \u001b[1;33m=\u001b[0m \u001b[0mMatrix\u001b[0m\u001b[1;33m.\u001b[0m\u001b[0mhstack\u001b[0m\u001b[1;33m(\u001b[0m\u001b[0mM\u001b[0m\u001b[1;33m.\u001b[0m\u001b[0mas_mutable\u001b[0m\u001b[1;33m(\u001b[0m\u001b[1;33m)\u001b[0m\u001b[1;33m,\u001b[0m \u001b[0mMatrix\u001b[0m\u001b[1;33m.\u001b[0m\u001b[0meye\u001b[0m\u001b[1;33m(\u001b[0m\u001b[0mM\u001b[0m\u001b[1;33m.\u001b[0m\u001b[0mrows\u001b[0m\u001b[1;33m)\u001b[0m\u001b[1;33m)\u001b[0m\u001b[1;33m\u001b[0m\u001b[1;33m\u001b[0m\u001b[0m\n\u001b[1;32m--> 242\u001b[1;33m     \u001b[0mred\u001b[0m \u001b[1;33m=\u001b[0m \u001b[0mbig\u001b[0m\u001b[1;33m.\u001b[0m\u001b[0mrref\u001b[0m\u001b[1;33m(\u001b[0m\u001b[0miszerofunc\u001b[0m\u001b[1;33m=\u001b[0m\u001b[0miszerofunc\u001b[0m\u001b[1;33m,\u001b[0m \u001b[0msimplify\u001b[0m\u001b[1;33m=\u001b[0m\u001b[1;32mTrue\u001b[0m\u001b[1;33m)\u001b[0m\u001b[1;33m[\u001b[0m\u001b[1;36m0\u001b[0m\u001b[1;33m]\u001b[0m\u001b[1;33m\u001b[0m\u001b[1;33m\u001b[0m\u001b[0m\n\u001b[0m\u001b[0;32m    243\u001b[0m \u001b[1;33m\u001b[0m\u001b[0m\n\u001b[0;32m    244\u001b[0m     \u001b[1;32mif\u001b[0m \u001b[0many\u001b[0m\u001b[1;33m(\u001b[0m\u001b[0miszerofunc\u001b[0m\u001b[1;33m(\u001b[0m\u001b[0mred\u001b[0m\u001b[1;33m[\u001b[0m\u001b[0mj\u001b[0m\u001b[1;33m,\u001b[0m \u001b[0mj\u001b[0m\u001b[1;33m]\u001b[0m\u001b[1;33m)\u001b[0m \u001b[1;32mfor\u001b[0m \u001b[0mj\u001b[0m \u001b[1;32min\u001b[0m \u001b[0mrange\u001b[0m\u001b[1;33m(\u001b[0m\u001b[0mred\u001b[0m\u001b[1;33m.\u001b[0m\u001b[0mrows\u001b[0m\u001b[1;33m)\u001b[0m\u001b[1;33m)\u001b[0m\u001b[1;33m:\u001b[0m\u001b[1;33m\u001b[0m\u001b[1;33m\u001b[0m\u001b[0m\n",
      "\u001b[1;32m~\\anaconda3\\lib\\site-packages\\sympy\\matrices\\matrices.py\u001b[0m in \u001b[0;36mrref\u001b[1;34m(self, iszerofunc, simplify, pivots, normalize_last)\u001b[0m\n\u001b[0;32m    161\u001b[0m     def rref(self, iszerofunc=_iszero, simplify=False, pivots=True,\n\u001b[0;32m    162\u001b[0m             normalize_last=True):\n\u001b[1;32m--> 163\u001b[1;33m         return _rref(self, iszerofunc=iszerofunc, simplify=simplify,\n\u001b[0m\u001b[0;32m    164\u001b[0m             pivots=pivots, normalize_last=normalize_last)\n\u001b[0;32m    165\u001b[0m \u001b[1;33m\u001b[0m\u001b[0m\n",
      "\u001b[1;32m~\\anaconda3\\lib\\site-packages\\sympy\\matrices\\reductions.py\u001b[0m in \u001b[0;36m_rref\u001b[1;34m(M, iszerofunc, simplify, pivots, normalize_last)\u001b[0m\n\u001b[0;32m    303\u001b[0m     \u001b[0msimpfunc\u001b[0m \u001b[1;33m=\u001b[0m \u001b[0msimplify\u001b[0m \u001b[1;32mif\u001b[0m \u001b[0misinstance\u001b[0m\u001b[1;33m(\u001b[0m\u001b[0msimplify\u001b[0m\u001b[1;33m,\u001b[0m \u001b[0mFunctionType\u001b[0m\u001b[1;33m)\u001b[0m \u001b[1;32melse\u001b[0m \u001b[0m_simplify\u001b[0m\u001b[1;33m\u001b[0m\u001b[1;33m\u001b[0m\u001b[0m\n\u001b[0;32m    304\u001b[0m \u001b[1;33m\u001b[0m\u001b[0m\n\u001b[1;32m--> 305\u001b[1;33m     mat, pivot_cols, _ = _row_reduce(M, iszerofunc, simpfunc,\n\u001b[0m\u001b[0;32m    306\u001b[0m             normalize_last, normalize=True, zero_above=True)\n\u001b[0;32m    307\u001b[0m \u001b[1;33m\u001b[0m\u001b[0m\n",
      "\u001b[1;32m~\\anaconda3\\lib\\site-packages\\sympy\\matrices\\reductions.py\u001b[0m in \u001b[0;36m_row_reduce\u001b[1;34m(M, iszerofunc, simpfunc, normalize_last, normalize, zero_above)\u001b[0m\n\u001b[0;32m    125\u001b[0m                 normalize=True, zero_above=True):\n\u001b[0;32m    126\u001b[0m \u001b[1;33m\u001b[0m\u001b[0m\n\u001b[1;32m--> 127\u001b[1;33m     mat, pivot_cols, swaps = _row_reduce_list(list(M), M.rows, M.cols, M.one,\n\u001b[0m\u001b[0;32m    128\u001b[0m             \u001b[0miszerofunc\u001b[0m\u001b[1;33m,\u001b[0m \u001b[0msimpfunc\u001b[0m\u001b[1;33m,\u001b[0m \u001b[0mnormalize_last\u001b[0m\u001b[1;33m=\u001b[0m\u001b[0mnormalize_last\u001b[0m\u001b[1;33m,\u001b[0m\u001b[1;33m\u001b[0m\u001b[1;33m\u001b[0m\u001b[0m\n\u001b[0;32m    129\u001b[0m             normalize=normalize, zero_above=zero_above)\n",
      "\u001b[1;32m~\\anaconda3\\lib\\site-packages\\sympy\\matrices\\reductions.py\u001b[0m in \u001b[0;36m_row_reduce_list\u001b[1;34m(mat, rows, cols, one, iszerofunc, simpfunc, normalize_last, normalize, zero_above)\u001b[0m\n\u001b[0;32m    107\u001b[0m                 \u001b[1;32mcontinue\u001b[0m\u001b[1;33m\u001b[0m\u001b[1;33m\u001b[0m\u001b[0m\n\u001b[0;32m    108\u001b[0m \u001b[1;33m\u001b[0m\u001b[0m\n\u001b[1;32m--> 109\u001b[1;33m             \u001b[0mcross_cancel\u001b[0m\u001b[1;33m(\u001b[0m\u001b[0mpivot_val\u001b[0m\u001b[1;33m,\u001b[0m \u001b[0mrow\u001b[0m\u001b[1;33m,\u001b[0m \u001b[0mval\u001b[0m\u001b[1;33m,\u001b[0m \u001b[0mpiv_row\u001b[0m\u001b[1;33m)\u001b[0m\u001b[1;33m\u001b[0m\u001b[1;33m\u001b[0m\u001b[0m\n\u001b[0m\u001b[0;32m    110\u001b[0m         \u001b[0mpiv_row\u001b[0m \u001b[1;33m+=\u001b[0m \u001b[1;36m1\u001b[0m\u001b[1;33m\u001b[0m\u001b[1;33m\u001b[0m\u001b[0m\n\u001b[0;32m    111\u001b[0m \u001b[1;33m\u001b[0m\u001b[0m\n",
      "\u001b[1;32m~\\anaconda3\\lib\\site-packages\\sympy\\matrices\\reductions.py\u001b[0m in \u001b[0;36mcross_cancel\u001b[1;34m(a, i, b, j)\u001b[0m\n\u001b[0;32m     56\u001b[0m         \u001b[0mq\u001b[0m \u001b[1;33m=\u001b[0m \u001b[1;33m(\u001b[0m\u001b[0mj\u001b[0m \u001b[1;33m-\u001b[0m \u001b[0mi\u001b[0m\u001b[1;33m)\u001b[0m\u001b[1;33m*\u001b[0m\u001b[0mcols\u001b[0m\u001b[1;33m\u001b[0m\u001b[1;33m\u001b[0m\u001b[0m\n\u001b[0;32m     57\u001b[0m         \u001b[1;32mfor\u001b[0m \u001b[0mp\u001b[0m \u001b[1;32min\u001b[0m \u001b[0mrange\u001b[0m\u001b[1;33m(\u001b[0m\u001b[0mi\u001b[0m\u001b[1;33m*\u001b[0m\u001b[0mcols\u001b[0m\u001b[1;33m,\u001b[0m \u001b[1;33m(\u001b[0m\u001b[0mi\u001b[0m \u001b[1;33m+\u001b[0m \u001b[1;36m1\u001b[0m\u001b[1;33m)\u001b[0m\u001b[1;33m*\u001b[0m\u001b[0mcols\u001b[0m\u001b[1;33m)\u001b[0m\u001b[1;33m:\u001b[0m\u001b[1;33m\u001b[0m\u001b[1;33m\u001b[0m\u001b[0m\n\u001b[1;32m---> 58\u001b[1;33m             \u001b[0mmat\u001b[0m\u001b[1;33m[\u001b[0m\u001b[0mp\u001b[0m\u001b[1;33m]\u001b[0m \u001b[1;33m=\u001b[0m \u001b[0misimp\u001b[0m\u001b[1;33m(\u001b[0m\u001b[0ma\u001b[0m\u001b[1;33m*\u001b[0m\u001b[0mmat\u001b[0m\u001b[1;33m[\u001b[0m\u001b[0mp\u001b[0m\u001b[1;33m]\u001b[0m \u001b[1;33m-\u001b[0m \u001b[0mb\u001b[0m\u001b[1;33m*\u001b[0m\u001b[0mmat\u001b[0m\u001b[1;33m[\u001b[0m\u001b[0mp\u001b[0m \u001b[1;33m+\u001b[0m \u001b[0mq\u001b[0m\u001b[1;33m]\u001b[0m\u001b[1;33m)\u001b[0m\u001b[1;33m\u001b[0m\u001b[1;33m\u001b[0m\u001b[0m\n\u001b[0m\u001b[0;32m     59\u001b[0m \u001b[1;33m\u001b[0m\u001b[0m\n\u001b[0;32m     60\u001b[0m     \u001b[0misimp\u001b[0m \u001b[1;33m=\u001b[0m \u001b[0m_get_intermediate_simp\u001b[0m\u001b[1;33m(\u001b[0m\u001b[0m_dotprodsimp\u001b[0m\u001b[1;33m)\u001b[0m\u001b[1;33m\u001b[0m\u001b[1;33m\u001b[0m\u001b[0m\n",
      "\u001b[1;32m~\\anaconda3\\lib\\site-packages\\sympy\\simplify\\simplify.py\u001b[0m in \u001b[0;36mdotprodsimp\u001b[1;34m(expr, withsimp)\u001b[0m\n\u001b[0;32m   2090\u001b[0m \u001b[1;33m\u001b[0m\u001b[0m\n\u001b[0;32m   2091\u001b[0m     \u001b[1;32mif\u001b[0m \u001b[0misinstance\u001b[0m\u001b[1;33m(\u001b[0m\u001b[0mexpr\u001b[0m\u001b[1;33m,\u001b[0m \u001b[0mBasic\u001b[0m\u001b[1;33m)\u001b[0m \u001b[1;32mand\u001b[0m \u001b[1;33m(\u001b[0m\u001b[0mexpr\u001b[0m\u001b[1;33m.\u001b[0m\u001b[0mis_Add\u001b[0m \u001b[1;32mor\u001b[0m \u001b[0mexpr\u001b[0m\u001b[1;33m.\u001b[0m\u001b[0mis_Mul\u001b[0m \u001b[1;32mor\u001b[0m \u001b[0mexpr\u001b[0m\u001b[1;33m.\u001b[0m\u001b[0mis_Pow\u001b[0m\u001b[1;33m)\u001b[0m\u001b[1;33m:\u001b[0m\u001b[1;33m\u001b[0m\u001b[1;33m\u001b[0m\u001b[0m\n\u001b[1;32m-> 2092\u001b[1;33m         expr2 = expr.expand(deep=True, modulus=None, power_base=False,\n\u001b[0m\u001b[0;32m   2093\u001b[0m             power_exp=False, mul=True, log=False, multinomial=True, basic=False)\n\u001b[0;32m   2094\u001b[0m \u001b[1;33m\u001b[0m\u001b[0m\n",
      "\u001b[1;32m~\\anaconda3\\lib\\site-packages\\sympy\\core\\expr.py\u001b[0m in \u001b[0;36mexpand\u001b[1;34m(self, deep, modulus, power_base, power_exp, mul, log, multinomial, basic, **hints)\u001b[0m\n\u001b[0;32m   3481\u001b[0m             \u001b[1;32mif\u001b[0m \u001b[0muse_hint\u001b[0m\u001b[1;33m:\u001b[0m\u001b[1;33m\u001b[0m\u001b[1;33m\u001b[0m\u001b[0m\n\u001b[0;32m   3482\u001b[0m                 \u001b[0mhint\u001b[0m \u001b[1;33m=\u001b[0m \u001b[1;34m'_eval_expand_'\u001b[0m \u001b[1;33m+\u001b[0m \u001b[0mhint\u001b[0m\u001b[1;33m\u001b[0m\u001b[1;33m\u001b[0m\u001b[0m\n\u001b[1;32m-> 3483\u001b[1;33m                 \u001b[0mexpr\u001b[0m\u001b[1;33m,\u001b[0m \u001b[0mhit\u001b[0m \u001b[1;33m=\u001b[0m \u001b[0mExpr\u001b[0m\u001b[1;33m.\u001b[0m\u001b[0m_expand_hint\u001b[0m\u001b[1;33m(\u001b[0m\u001b[0mexpr\u001b[0m\u001b[1;33m,\u001b[0m \u001b[0mhint\u001b[0m\u001b[1;33m,\u001b[0m \u001b[0mdeep\u001b[0m\u001b[1;33m=\u001b[0m\u001b[0mdeep\u001b[0m\u001b[1;33m,\u001b[0m \u001b[1;33m**\u001b[0m\u001b[0mhints\u001b[0m\u001b[1;33m)\u001b[0m\u001b[1;33m\u001b[0m\u001b[1;33m\u001b[0m\u001b[0m\n\u001b[0m\u001b[0;32m   3484\u001b[0m \u001b[1;33m\u001b[0m\u001b[0m\n\u001b[0;32m   3485\u001b[0m         \u001b[1;32mwhile\u001b[0m \u001b[1;32mTrue\u001b[0m\u001b[1;33m:\u001b[0m\u001b[1;33m\u001b[0m\u001b[1;33m\u001b[0m\u001b[0m\n",
      "\u001b[1;32m~\\anaconda3\\lib\\site-packages\\sympy\\core\\expr.py\u001b[0m in \u001b[0;36m_expand_hint\u001b[1;34m(expr, hint, deep, **hints)\u001b[0m\n\u001b[0;32m   3422\u001b[0m \u001b[1;33m\u001b[0m\u001b[0m\n\u001b[0;32m   3423\u001b[0m         \u001b[1;32mif\u001b[0m \u001b[0mhasattr\u001b[0m\u001b[1;33m(\u001b[0m\u001b[0mexpr\u001b[0m\u001b[1;33m,\u001b[0m \u001b[0mhint\u001b[0m\u001b[1;33m)\u001b[0m\u001b[1;33m:\u001b[0m\u001b[1;33m\u001b[0m\u001b[1;33m\u001b[0m\u001b[0m\n\u001b[1;32m-> 3424\u001b[1;33m             \u001b[0mnewexpr\u001b[0m \u001b[1;33m=\u001b[0m \u001b[0mgetattr\u001b[0m\u001b[1;33m(\u001b[0m\u001b[0mexpr\u001b[0m\u001b[1;33m,\u001b[0m \u001b[0mhint\u001b[0m\u001b[1;33m)\u001b[0m\u001b[1;33m(\u001b[0m\u001b[1;33m**\u001b[0m\u001b[0mhints\u001b[0m\u001b[1;33m)\u001b[0m\u001b[1;33m\u001b[0m\u001b[1;33m\u001b[0m\u001b[0m\n\u001b[0m\u001b[0;32m   3425\u001b[0m             \u001b[1;32mif\u001b[0m \u001b[0mnewexpr\u001b[0m \u001b[1;33m!=\u001b[0m \u001b[0mexpr\u001b[0m\u001b[1;33m:\u001b[0m\u001b[1;33m\u001b[0m\u001b[1;33m\u001b[0m\u001b[0m\n\u001b[0;32m   3426\u001b[0m                 \u001b[1;32mreturn\u001b[0m \u001b[1;33m(\u001b[0m\u001b[0mnewexpr\u001b[0m\u001b[1;33m,\u001b[0m \u001b[1;32mTrue\u001b[0m\u001b[1;33m)\u001b[0m\u001b[1;33m\u001b[0m\u001b[1;33m\u001b[0m\u001b[0m\n",
      "\u001b[1;32m~\\anaconda3\\lib\\site-packages\\sympy\\core\\mul.py\u001b[0m in \u001b[0;36m_eval_expand_mul\u001b[1;34m(self, **hints)\u001b[0m\n\u001b[0;32m    883\u001b[0m             \u001b[1;32mif\u001b[0m \u001b[0msums\u001b[0m\u001b[1;33m:\u001b[0m\u001b[1;33m\u001b[0m\u001b[1;33m\u001b[0m\u001b[0m\n\u001b[0;32m    884\u001b[0m                 \u001b[0mdeep\u001b[0m \u001b[1;33m=\u001b[0m \u001b[0mhints\u001b[0m\u001b[1;33m.\u001b[0m\u001b[0mget\u001b[0m\u001b[1;33m(\u001b[0m\u001b[1;34m\"deep\"\u001b[0m\u001b[1;33m,\u001b[0m \u001b[1;32mFalse\u001b[0m\u001b[1;33m)\u001b[0m\u001b[1;33m\u001b[0m\u001b[1;33m\u001b[0m\u001b[0m\n\u001b[1;32m--> 885\u001b[1;33m                 \u001b[0mterms\u001b[0m \u001b[1;33m=\u001b[0m \u001b[0mself\u001b[0m\u001b[1;33m.\u001b[0m\u001b[0mfunc\u001b[0m\u001b[1;33m.\u001b[0m\u001b[0m_expandsums\u001b[0m\u001b[1;33m(\u001b[0m\u001b[0msums\u001b[0m\u001b[1;33m)\u001b[0m\u001b[1;33m\u001b[0m\u001b[1;33m\u001b[0m\u001b[0m\n\u001b[0m\u001b[0;32m    886\u001b[0m                 \u001b[0margs\u001b[0m \u001b[1;33m=\u001b[0m \u001b[1;33m[\u001b[0m\u001b[1;33m]\u001b[0m\u001b[1;33m\u001b[0m\u001b[1;33m\u001b[0m\u001b[0m\n\u001b[0;32m    887\u001b[0m                 \u001b[1;32mfor\u001b[0m \u001b[0mterm\u001b[0m \u001b[1;32min\u001b[0m \u001b[0mterms\u001b[0m\u001b[1;33m:\u001b[0m\u001b[1;33m\u001b[0m\u001b[1;33m\u001b[0m\u001b[0m\n",
      "\u001b[1;32m~\\anaconda3\\lib\\site-packages\\sympy\\core\\mul.py\u001b[0m in \u001b[0;36m_expandsums\u001b[1;34m(sums)\u001b[0m\n\u001b[0;32m    848\u001b[0m         \u001b[0mright\u001b[0m \u001b[1;33m=\u001b[0m \u001b[0mMul\u001b[0m\u001b[1;33m.\u001b[0m\u001b[0m_expandsums\u001b[0m\u001b[1;33m(\u001b[0m\u001b[0msums\u001b[0m\u001b[1;33m[\u001b[0m\u001b[0mL\u001b[0m\u001b[1;33m//\u001b[0m\u001b[1;36m2\u001b[0m\u001b[1;33m:\u001b[0m\u001b[1;33m]\u001b[0m\u001b[1;33m)\u001b[0m\u001b[1;33m\u001b[0m\u001b[1;33m\u001b[0m\u001b[0m\n\u001b[0;32m    849\u001b[0m \u001b[1;33m\u001b[0m\u001b[0m\n\u001b[1;32m--> 850\u001b[1;33m         \u001b[0mterms\u001b[0m \u001b[1;33m=\u001b[0m \u001b[1;33m[\u001b[0m\u001b[0mMul\u001b[0m\u001b[1;33m(\u001b[0m\u001b[0ma\u001b[0m\u001b[1;33m,\u001b[0m \u001b[0mb\u001b[0m\u001b[1;33m)\u001b[0m \u001b[1;32mfor\u001b[0m \u001b[0ma\u001b[0m \u001b[1;32min\u001b[0m \u001b[0mleft\u001b[0m \u001b[1;32mfor\u001b[0m \u001b[0mb\u001b[0m \u001b[1;32min\u001b[0m \u001b[0mright\u001b[0m\u001b[1;33m]\u001b[0m\u001b[1;33m\u001b[0m\u001b[1;33m\u001b[0m\u001b[0m\n\u001b[0m\u001b[0;32m    851\u001b[0m         \u001b[0madded\u001b[0m \u001b[1;33m=\u001b[0m \u001b[0mAdd\u001b[0m\u001b[1;33m(\u001b[0m\u001b[1;33m*\u001b[0m\u001b[0mterms\u001b[0m\u001b[1;33m)\u001b[0m\u001b[1;33m\u001b[0m\u001b[1;33m\u001b[0m\u001b[0m\n\u001b[0;32m    852\u001b[0m         \u001b[1;32mreturn\u001b[0m \u001b[0mAdd\u001b[0m\u001b[1;33m.\u001b[0m\u001b[0mmake_args\u001b[0m\u001b[1;33m(\u001b[0m\u001b[0madded\u001b[0m\u001b[1;33m)\u001b[0m  \u001b[1;31m# it may have collapsed down to one term\u001b[0m\u001b[1;33m\u001b[0m\u001b[1;33m\u001b[0m\u001b[0m\n",
      "\u001b[1;32m~\\anaconda3\\lib\\site-packages\\sympy\\core\\mul.py\u001b[0m in \u001b[0;36m<listcomp>\u001b[1;34m(.0)\u001b[0m\n\u001b[0;32m    848\u001b[0m         \u001b[0mright\u001b[0m \u001b[1;33m=\u001b[0m \u001b[0mMul\u001b[0m\u001b[1;33m.\u001b[0m\u001b[0m_expandsums\u001b[0m\u001b[1;33m(\u001b[0m\u001b[0msums\u001b[0m\u001b[1;33m[\u001b[0m\u001b[0mL\u001b[0m\u001b[1;33m//\u001b[0m\u001b[1;36m2\u001b[0m\u001b[1;33m:\u001b[0m\u001b[1;33m]\u001b[0m\u001b[1;33m)\u001b[0m\u001b[1;33m\u001b[0m\u001b[1;33m\u001b[0m\u001b[0m\n\u001b[0;32m    849\u001b[0m \u001b[1;33m\u001b[0m\u001b[0m\n\u001b[1;32m--> 850\u001b[1;33m         \u001b[0mterms\u001b[0m \u001b[1;33m=\u001b[0m \u001b[1;33m[\u001b[0m\u001b[0mMul\u001b[0m\u001b[1;33m(\u001b[0m\u001b[0ma\u001b[0m\u001b[1;33m,\u001b[0m \u001b[0mb\u001b[0m\u001b[1;33m)\u001b[0m \u001b[1;32mfor\u001b[0m \u001b[0ma\u001b[0m \u001b[1;32min\u001b[0m \u001b[0mleft\u001b[0m \u001b[1;32mfor\u001b[0m \u001b[0mb\u001b[0m \u001b[1;32min\u001b[0m \u001b[0mright\u001b[0m\u001b[1;33m]\u001b[0m\u001b[1;33m\u001b[0m\u001b[1;33m\u001b[0m\u001b[0m\n\u001b[0m\u001b[0;32m    851\u001b[0m         \u001b[0madded\u001b[0m \u001b[1;33m=\u001b[0m \u001b[0mAdd\u001b[0m\u001b[1;33m(\u001b[0m\u001b[1;33m*\u001b[0m\u001b[0mterms\u001b[0m\u001b[1;33m)\u001b[0m\u001b[1;33m\u001b[0m\u001b[1;33m\u001b[0m\u001b[0m\n\u001b[0;32m    852\u001b[0m         \u001b[1;32mreturn\u001b[0m \u001b[0mAdd\u001b[0m\u001b[1;33m.\u001b[0m\u001b[0mmake_args\u001b[0m\u001b[1;33m(\u001b[0m\u001b[0madded\u001b[0m\u001b[1;33m)\u001b[0m  \u001b[1;31m# it may have collapsed down to one term\u001b[0m\u001b[1;33m\u001b[0m\u001b[1;33m\u001b[0m\u001b[0m\n",
      "\u001b[1;32m~\\anaconda3\\lib\\site-packages\\sympy\\core\\operations.py\u001b[0m in \u001b[0;36m__new__\u001b[1;34m(cls, *args, **options)\u001b[0m\n\u001b[0;32m     50\u001b[0m             \u001b[1;32mreturn\u001b[0m \u001b[0margs\u001b[0m\u001b[1;33m[\u001b[0m\u001b[1;36m0\u001b[0m\u001b[1;33m]\u001b[0m\u001b[1;33m\u001b[0m\u001b[1;33m\u001b[0m\u001b[0m\n\u001b[0;32m     51\u001b[0m \u001b[1;33m\u001b[0m\u001b[0m\n\u001b[1;32m---> 52\u001b[1;33m         \u001b[0mc_part\u001b[0m\u001b[1;33m,\u001b[0m \u001b[0mnc_part\u001b[0m\u001b[1;33m,\u001b[0m \u001b[0morder_symbols\u001b[0m \u001b[1;33m=\u001b[0m \u001b[0mcls\u001b[0m\u001b[1;33m.\u001b[0m\u001b[0mflatten\u001b[0m\u001b[1;33m(\u001b[0m\u001b[0margs\u001b[0m\u001b[1;33m)\u001b[0m\u001b[1;33m\u001b[0m\u001b[1;33m\u001b[0m\u001b[0m\n\u001b[0m\u001b[0;32m     53\u001b[0m         \u001b[0mis_commutative\u001b[0m \u001b[1;33m=\u001b[0m \u001b[1;32mnot\u001b[0m \u001b[0mnc_part\u001b[0m\u001b[1;33m\u001b[0m\u001b[1;33m\u001b[0m\u001b[0m\n\u001b[0;32m     54\u001b[0m         \u001b[0mobj\u001b[0m \u001b[1;33m=\u001b[0m \u001b[0mcls\u001b[0m\u001b[1;33m.\u001b[0m\u001b[0m_from_args\u001b[0m\u001b[1;33m(\u001b[0m\u001b[0mc_part\u001b[0m \u001b[1;33m+\u001b[0m \u001b[0mnc_part\u001b[0m\u001b[1;33m,\u001b[0m \u001b[0mis_commutative\u001b[0m\u001b[1;33m)\u001b[0m\u001b[1;33m\u001b[0m\u001b[1;33m\u001b[0m\u001b[0m\n",
      "\u001b[1;32m~\\anaconda3\\lib\\site-packages\\sympy\\core\\mul.py\u001b[0m in \u001b[0;36mflatten\u001b[1;34m(cls, seq)\u001b[0m\n\u001b[0;32m    596\u001b[0m \u001b[1;33m\u001b[0m\u001b[0m\n\u001b[0;32m    597\u001b[0m         \u001b[1;31m# 0\u001b[0m\u001b[1;33m\u001b[0m\u001b[1;33m\u001b[0m\u001b[1;33m\u001b[0m\u001b[0m\n\u001b[1;32m--> 598\u001b[1;33m         \u001b[1;32melif\u001b[0m \u001b[0mcoeff\u001b[0m\u001b[1;33m.\u001b[0m\u001b[0mis_zero\u001b[0m\u001b[1;33m:\u001b[0m\u001b[1;33m\u001b[0m\u001b[1;33m\u001b[0m\u001b[0m\n\u001b[0m\u001b[0;32m    599\u001b[0m             \u001b[1;31m# we know for sure the result will be 0 except the multiplicand\u001b[0m\u001b[1;33m\u001b[0m\u001b[1;33m\u001b[0m\u001b[1;33m\u001b[0m\u001b[0m\n\u001b[0;32m    600\u001b[0m             \u001b[1;31m# is infinity or a matrix\u001b[0m\u001b[1;33m\u001b[0m\u001b[1;33m\u001b[0m\u001b[1;33m\u001b[0m\u001b[0m\n",
      "\u001b[1;32m~\\anaconda3\\lib\\site-packages\\sympy\\core\\assumptions.py\u001b[0m in \u001b[0;36mgetit\u001b[1;34m(self)\u001b[0m\n\u001b[0;32m    456\u001b[0m             \u001b[1;32mif\u001b[0m \u001b[0mself\u001b[0m\u001b[1;33m.\u001b[0m\u001b[0m_assumptions\u001b[0m \u001b[1;32mis\u001b[0m \u001b[0mself\u001b[0m\u001b[1;33m.\u001b[0m\u001b[0mdefault_assumptions\u001b[0m\u001b[1;33m:\u001b[0m\u001b[1;33m\u001b[0m\u001b[1;33m\u001b[0m\u001b[0m\n\u001b[0;32m    457\u001b[0m                 \u001b[0mself\u001b[0m\u001b[1;33m.\u001b[0m\u001b[0m_assumptions\u001b[0m \u001b[1;33m=\u001b[0m \u001b[0mself\u001b[0m\u001b[1;33m.\u001b[0m\u001b[0mdefault_assumptions\u001b[0m\u001b[1;33m.\u001b[0m\u001b[0mcopy\u001b[0m\u001b[1;33m(\u001b[0m\u001b[1;33m)\u001b[0m\u001b[1;33m\u001b[0m\u001b[1;33m\u001b[0m\u001b[0m\n\u001b[1;32m--> 458\u001b[1;33m             \u001b[1;32mreturn\u001b[0m \u001b[0m_ask\u001b[0m\u001b[1;33m(\u001b[0m\u001b[0mfact\u001b[0m\u001b[1;33m,\u001b[0m \u001b[0mself\u001b[0m\u001b[1;33m)\u001b[0m\u001b[1;33m\u001b[0m\u001b[1;33m\u001b[0m\u001b[0m\n\u001b[0m\u001b[0;32m    459\u001b[0m \u001b[1;33m\u001b[0m\u001b[0m\n\u001b[0;32m    460\u001b[0m     \u001b[0mgetit\u001b[0m\u001b[1;33m.\u001b[0m\u001b[0mfunc_name\u001b[0m \u001b[1;33m=\u001b[0m \u001b[0mas_property\u001b[0m\u001b[1;33m(\u001b[0m\u001b[0mfact\u001b[0m\u001b[1;33m)\u001b[0m\u001b[1;33m\u001b[0m\u001b[1;33m\u001b[0m\u001b[0m\n",
      "\u001b[1;32m~\\anaconda3\\lib\\site-packages\\sympy\\core\\assumptions.py\u001b[0m in \u001b[0;36m_ask\u001b[1;34m(fact, obj)\u001b[0m\n\u001b[0;32m    501\u001b[0m         \u001b[0ma\u001b[0m \u001b[1;33m=\u001b[0m \u001b[0mevaluate\u001b[0m\u001b[1;33m(\u001b[0m\u001b[0mobj\u001b[0m\u001b[1;33m)\u001b[0m\u001b[1;33m\u001b[0m\u001b[1;33m\u001b[0m\u001b[0m\n\u001b[0;32m    502\u001b[0m         \u001b[1;32mif\u001b[0m \u001b[0ma\u001b[0m \u001b[1;32mis\u001b[0m \u001b[1;32mnot\u001b[0m \u001b[1;32mNone\u001b[0m\u001b[1;33m:\u001b[0m\u001b[1;33m\u001b[0m\u001b[1;33m\u001b[0m\u001b[0m\n\u001b[1;32m--> 503\u001b[1;33m             \u001b[0massumptions\u001b[0m\u001b[1;33m.\u001b[0m\u001b[0mdeduce_all_facts\u001b[0m\u001b[1;33m(\u001b[0m\u001b[1;33m(\u001b[0m\u001b[1;33m(\u001b[0m\u001b[0mfact\u001b[0m\u001b[1;33m,\u001b[0m \u001b[0ma\u001b[0m\u001b[1;33m)\u001b[0m\u001b[1;33m,\u001b[0m\u001b[1;33m)\u001b[0m\u001b[1;33m)\u001b[0m\u001b[1;33m\u001b[0m\u001b[1;33m\u001b[0m\u001b[0m\n\u001b[0m\u001b[0;32m    504\u001b[0m             \u001b[1;32mreturn\u001b[0m \u001b[0ma\u001b[0m\u001b[1;33m\u001b[0m\u001b[1;33m\u001b[0m\u001b[0m\n\u001b[0;32m    505\u001b[0m \u001b[1;33m\u001b[0m\u001b[0m\n",
      "\u001b[1;32m~\\anaconda3\\lib\\site-packages\\sympy\\core\\facts.py\u001b[0m in \u001b[0;36mdeduce_all_facts\u001b[1;34m(self, facts)\u001b[0m\n\u001b[0;32m    523\u001b[0m                 \u001b[1;31m# lookup routing tables\u001b[0m\u001b[1;33m\u001b[0m\u001b[1;33m\u001b[0m\u001b[1;33m\u001b[0m\u001b[0m\n\u001b[0;32m    524\u001b[0m                 \u001b[1;32mfor\u001b[0m \u001b[0mkey\u001b[0m\u001b[1;33m,\u001b[0m \u001b[0mvalue\u001b[0m \u001b[1;32min\u001b[0m \u001b[0mfull_implications\u001b[0m\u001b[1;33m[\u001b[0m\u001b[0mk\u001b[0m\u001b[1;33m,\u001b[0m \u001b[0mv\u001b[0m\u001b[1;33m]\u001b[0m\u001b[1;33m:\u001b[0m\u001b[1;33m\u001b[0m\u001b[1;33m\u001b[0m\u001b[0m\n\u001b[1;32m--> 525\u001b[1;33m                     \u001b[0mself\u001b[0m\u001b[1;33m.\u001b[0m\u001b[0m_tell\u001b[0m\u001b[1;33m(\u001b[0m\u001b[0mkey\u001b[0m\u001b[1;33m,\u001b[0m \u001b[0mvalue\u001b[0m\u001b[1;33m)\u001b[0m\u001b[1;33m\u001b[0m\u001b[1;33m\u001b[0m\u001b[0m\n\u001b[0m\u001b[0;32m    526\u001b[0m \u001b[1;33m\u001b[0m\u001b[0m\n\u001b[0;32m    527\u001b[0m                 \u001b[0mbeta_maytrigger\u001b[0m\u001b[1;33m.\u001b[0m\u001b[0mupdate\u001b[0m\u001b[1;33m(\u001b[0m\u001b[0mbeta_triggers\u001b[0m\u001b[1;33m[\u001b[0m\u001b[0mk\u001b[0m\u001b[1;33m,\u001b[0m \u001b[0mv\u001b[0m\u001b[1;33m]\u001b[0m\u001b[1;33m)\u001b[0m\u001b[1;33m\u001b[0m\u001b[1;33m\u001b[0m\u001b[0m\n",
      "\u001b[1;32m~\\anaconda3\\lib\\site-packages\\sympy\\core\\facts.py\u001b[0m in \u001b[0;36m_tell\u001b[1;34m(self, k, v)\u001b[0m\n\u001b[0;32m    486\u001b[0m         \"\"\"\n\u001b[0;32m    487\u001b[0m         \u001b[1;32mif\u001b[0m \u001b[0mk\u001b[0m \u001b[1;32min\u001b[0m \u001b[0mself\u001b[0m \u001b[1;32mand\u001b[0m \u001b[0mself\u001b[0m\u001b[1;33m[\u001b[0m\u001b[0mk\u001b[0m\u001b[1;33m]\u001b[0m \u001b[1;32mis\u001b[0m \u001b[1;32mnot\u001b[0m \u001b[1;32mNone\u001b[0m\u001b[1;33m:\u001b[0m\u001b[1;33m\u001b[0m\u001b[1;33m\u001b[0m\u001b[0m\n\u001b[1;32m--> 488\u001b[1;33m             \u001b[1;32mif\u001b[0m \u001b[0mself\u001b[0m\u001b[1;33m[\u001b[0m\u001b[0mk\u001b[0m\u001b[1;33m]\u001b[0m \u001b[1;33m==\u001b[0m \u001b[0mv\u001b[0m\u001b[1;33m:\u001b[0m\u001b[1;33m\u001b[0m\u001b[1;33m\u001b[0m\u001b[0m\n\u001b[0m\u001b[0;32m    489\u001b[0m                 \u001b[1;32mreturn\u001b[0m \u001b[1;32mFalse\u001b[0m\u001b[1;33m\u001b[0m\u001b[1;33m\u001b[0m\u001b[0m\n\u001b[0;32m    490\u001b[0m             \u001b[1;32melse\u001b[0m\u001b[1;33m:\u001b[0m\u001b[1;33m\u001b[0m\u001b[1;33m\u001b[0m\u001b[0m\n",
      "\u001b[1;31mKeyboardInterrupt\u001b[0m: "
     ]
    }
   ],
   "source": [
    "Inv=D**-1\n",
    "Inv"
   ]
  },
  {
   "cell_type": "code",
   "execution_count": null,
   "metadata": {},
   "outputs": [],
   "source": [
    "display(Inv[0,0])"
   ]
  },
  {
   "cell_type": "code",
   "execution_count": 12,
   "metadata": {},
   "outputs": [
    {
     "data": {
      "text/latex": [
       "$\\displaystyle \\left[\\begin{matrix}E & V_{1} & V_{1} & 0 & 0\\\\V_{1} & E & V_{1} & 0 & V\\\\V_{1} & V_{1} & E & V & 0\\\\V_{1} & V_{1} & V & E & 0\\\\0 & V & 0 & 0 & \\frac{1}{g}\\end{matrix}\\right]$"
      ],
      "text/plain": [
       "⎡E   V₁  V₁  0  0⎤\n",
       "⎢                ⎥\n",
       "⎢V₁  E   V₁  0  V⎥\n",
       "⎢                ⎥\n",
       "⎢V₁  V₁  E   V  0⎥\n",
       "⎢                ⎥\n",
       "⎢V₁  V₁  V   E  0⎥\n",
       "⎢                ⎥\n",
       "⎢               1⎥\n",
       "⎢0   V   0   0  ─⎥\n",
       "⎣               g⎦"
      ]
     },
     "execution_count": 12,
     "metadata": {},
     "output_type": "execute_result"
    }
   ],
   "source": [
    "D= sym.Matrix([[E,V_1,V_1,0,0],\n",
    "               [V_1,E,V_1,0,V],\n",
    "               [V_1,V_1,E,V,0],\n",
    "               [V_1,V_1,V,E,0],\n",
    "               [0,V,0,0,g**-1]])\n",
    "D"
   ]
  },
  {
   "cell_type": "code",
   "execution_count": 13,
   "metadata": {},
   "outputs": [
    {
     "data": {
      "text/latex": [
       "$\\displaystyle \\left[\\begin{matrix}\\frac{- E^{2} + E V^{2} g - E V + V^{3} g + V_{1}^{2}}{- E^{3} + E^{2} V^{2} g - E^{2} V + E V^{3} g + 3 E V_{1}^{2} - V^{2} V_{1}^{2} g + V V_{1}^{2} - 2 V_{1}^{3}} & \\frac{E V_{1} + V V_{1} - V_{1}^{2}}{- E^{3} + E^{2} V^{2} g - E^{2} V + E V^{3} g + 3 E V_{1}^{2} - V^{2} V_{1}^{2} g + V V_{1}^{2} - 2 V_{1}^{3}} & - \\frac{- E^{2} V_{1} + E V^{2} V_{1} g + E V_{1}^{2}}{- E^{4} + E^{3} V^{2} g + E^{2} V^{2} + 3 E^{2} V_{1}^{2} - E V^{4} g - E V^{2} V_{1}^{2} g - 2 E V V_{1}^{2} - 2 E V_{1}^{3} + V^{3} V_{1}^{2} g - V^{2} V_{1}^{2} + 2 V V_{1}^{3}} & \\frac{- E V V_{1} + V^{3} V_{1} g + V V_{1}^{2}}{- E^{4} + E^{3} V^{2} g + E^{2} V^{2} + 3 E^{2} V_{1}^{2} - E V^{4} g - E V^{2} V_{1}^{2} g - 2 E V V_{1}^{2} - 2 E V_{1}^{3} + V^{3} V_{1}^{2} g - V^{2} V_{1}^{2} + 2 V V_{1}^{3}} & - \\frac{E V V_{1} g + V^{2} V_{1} g - V V_{1}^{2} g}{- E^{3} + E^{2} V^{2} g - E^{2} V + E V^{3} g + 3 E V_{1}^{2} - V^{2} V_{1}^{2} g + V V_{1}^{2} - 2 V_{1}^{3}}\\\\\\frac{E V_{1} + V V_{1} - V_{1}^{2}}{- E^{3} + E^{2} V^{2} g - E^{2} V + E V^{3} g + 3 E V_{1}^{2} - V^{2} V_{1}^{2} g + V V_{1}^{2} - 2 V_{1}^{3}} & - \\frac{E^{2} + E V - V_{1}^{2}}{- E^{3} + E^{2} V^{2} g - E^{2} V + E V^{3} g + 3 E V_{1}^{2} - V^{2} V_{1}^{2} g + V V_{1}^{2} - 2 V_{1}^{3}} & \\frac{E^{2} V_{1} - E V_{1}^{2}}{- E^{4} + E^{3} V^{2} g + E^{2} V^{2} + 3 E^{2} V_{1}^{2} - E V^{4} g - E V^{2} V_{1}^{2} g - 2 E V V_{1}^{2} - 2 E V_{1}^{3} + V^{3} V_{1}^{2} g - V^{2} V_{1}^{2} + 2 V V_{1}^{3}} & - \\frac{E V V_{1} - V V_{1}^{2}}{- E^{4} + E^{3} V^{2} g + E^{2} V^{2} + 3 E^{2} V_{1}^{2} - E V^{4} g - E V^{2} V_{1}^{2} g - 2 E V V_{1}^{2} - 2 E V_{1}^{3} + V^{3} V_{1}^{2} g - V^{2} V_{1}^{2} + 2 V V_{1}^{3}} & \\frac{E^{2} V g + E V^{2} g - V V_{1}^{2} g}{- E^{3} + E^{2} V^{2} g - E^{2} V + E V^{3} g + 3 E V_{1}^{2} - V^{2} V_{1}^{2} g + V V_{1}^{2} - 2 V_{1}^{3}}\\\\- \\frac{- E V_{1} + V^{2} V_{1} g + V_{1}^{2}}{- E^{3} + E^{2} V^{2} g - E^{2} V + E V^{3} g + 3 E V_{1}^{2} - V^{2} V_{1}^{2} g + V V_{1}^{2} - 2 V_{1}^{3}} & \\frac{E V_{1} - V_{1}^{2}}{- E^{3} + E^{2} V^{2} g - E^{2} V + E V^{3} g + 3 E V_{1}^{2} - V^{2} V_{1}^{2} g + V V_{1}^{2} - 2 V_{1}^{3}} & \\frac{- E^{3} + E^{2} V^{2} g + E V_{1}^{2}}{- E^{4} + E^{3} V^{2} g + E^{2} V^{2} + 3 E^{2} V_{1}^{2} - E V^{4} g - E V^{2} V_{1}^{2} g - 2 E V V_{1}^{2} - 2 E V_{1}^{3} + V^{3} V_{1}^{2} g - V^{2} V_{1}^{2} + 2 V V_{1}^{3}} & - \\frac{- E^{2} V + E V^{3} g + V V_{1}^{2}}{- E^{4} + E^{3} V^{2} g + E^{2} V^{2} + 3 E^{2} V_{1}^{2} - E V^{4} g - E V^{2} V_{1}^{2} g - 2 E V V_{1}^{2} - 2 E V_{1}^{3} + V^{3} V_{1}^{2} g - V^{2} V_{1}^{2} + 2 V V_{1}^{3}} & - \\frac{E V V_{1} g - V V_{1}^{2} g}{- E^{3} + E^{2} V^{2} g - E^{2} V + E V^{3} g + 3 E V_{1}^{2} - V^{2} V_{1}^{2} g + V V_{1}^{2} - 2 V_{1}^{3}}\\\\- \\frac{- E V_{1} + V^{2} V_{1} g + V_{1}^{2}}{- E^{3} + E^{2} V^{2} g - E^{2} V + E V^{3} g + 3 E V_{1}^{2} - V^{2} V_{1}^{2} g + V V_{1}^{2} - 2 V_{1}^{3}} & \\frac{E V_{1} - V_{1}^{2}}{- E^{3} + E^{2} V^{2} g - E^{2} V + E V^{3} g + 3 E V_{1}^{2} - V^{2} V_{1}^{2} g + V V_{1}^{2} - 2 V_{1}^{3}} & - \\frac{- E^{2} V + E V^{3} g + 2 E V_{1}^{2} - V^{2} V_{1}^{2} g + V V_{1}^{2} - 2 V_{1}^{3}}{- E^{4} + E^{3} V^{2} g + E^{2} V^{2} + 3 E^{2} V_{1}^{2} - E V^{4} g - E V^{2} V_{1}^{2} g - 2 E V V_{1}^{2} - 2 E V_{1}^{3} + V^{3} V_{1}^{2} g - V^{2} V_{1}^{2} + 2 V V_{1}^{3}} & \\frac{- E^{3} + E^{2} V^{2} g + 3 E V_{1}^{2} - V^{2} V_{1}^{2} g - 2 V_{1}^{3}}{- E^{4} + E^{3} V^{2} g + E^{2} V^{2} + 3 E^{2} V_{1}^{2} - E V^{4} g - E V^{2} V_{1}^{2} g - 2 E V V_{1}^{2} - 2 E V_{1}^{3} + V^{3} V_{1}^{2} g - V^{2} V_{1}^{2} + 2 V V_{1}^{3}} & - \\frac{E V V_{1} g - V V_{1}^{2} g}{- E^{3} + E^{2} V^{2} g - E^{2} V + E V^{3} g + 3 E V_{1}^{2} - V^{2} V_{1}^{2} g + V V_{1}^{2} - 2 V_{1}^{3}}\\\\- \\frac{E V V_{1} g + V^{2} V_{1} g - V V_{1}^{2} g}{- E^{3} + E^{2} V^{2} g - E^{2} V + E V^{3} g + 3 E V_{1}^{2} - V^{2} V_{1}^{2} g + V V_{1}^{2} - 2 V_{1}^{3}} & \\frac{E^{2} V g + E V^{2} g - V V_{1}^{2} g}{- E^{3} + E^{2} V^{2} g - E^{2} V + E V^{3} g + 3 E V_{1}^{2} - V^{2} V_{1}^{2} g + V V_{1}^{2} - 2 V_{1}^{3}} & - \\frac{E^{2} V V_{1} g - E V V_{1}^{2} g}{- E^{4} + E^{3} V^{2} g + E^{2} V^{2} + 3 E^{2} V_{1}^{2} - E V^{4} g - E V^{2} V_{1}^{2} g - 2 E V V_{1}^{2} - 2 E V_{1}^{3} + V^{3} V_{1}^{2} g - V^{2} V_{1}^{2} + 2 V V_{1}^{3}} & \\frac{E V^{2} V_{1} g - V^{2} V_{1}^{2} g}{- E^{4} + E^{3} V^{2} g + E^{2} V^{2} + 3 E^{2} V_{1}^{2} - E V^{4} g - E V^{2} V_{1}^{2} g - 2 E V V_{1}^{2} - 2 E V_{1}^{3} + V^{3} V_{1}^{2} g - V^{2} V_{1}^{2} + 2 V V_{1}^{3}} & - \\frac{E^{3} g + E^{2} V g - 3 E V_{1}^{2} g - V V_{1}^{2} g + 2 V_{1}^{3} g}{- E^{3} + E^{2} V^{2} g - E^{2} V + E V^{3} g + 3 E V_{1}^{2} - V^{2} V_{1}^{2} g + V V_{1}^{2} - 2 V_{1}^{3}}\\end{matrix}\\right]$"
      ],
      "text/plain": [
       "⎡                     2      2            3       2                           \n",
       "⎢                  - E  + E⋅V ⋅g - E⋅V + V ⋅g + V₁                            \n",
       "⎢───────────────────────────────────────────────────────────────────  ────────\n",
       "⎢   3    2  2      2        3           2    2   2         2       3     3    \n",
       "⎢- E  + E ⋅V ⋅g - E ⋅V + E⋅V ⋅g + 3⋅E⋅V₁  - V ⋅V₁ ⋅g + V⋅V₁  - 2⋅V₁   - E  + E\n",
       "⎢                                                                             \n",
       "⎢                                         2                                   \n",
       "⎢                         E⋅V₁ + V⋅V₁ - V₁                                    \n",
       "⎢───────────────────────────────────────────────────────────────────  ────────\n",
       "⎢   3    2  2      2        3           2    2   2         2       3     3    \n",
       "⎢- E  + E ⋅V ⋅g - E ⋅V + E⋅V ⋅g + 3⋅E⋅V₁  - V ⋅V₁ ⋅g + V⋅V₁  - 2⋅V₁   - E  + E\n",
       "⎢                                                                             \n",
       "⎢                      ⎛         2          2⎞                                \n",
       "⎢                     -⎝-E⋅V₁ + V ⋅V₁⋅g + V₁ ⎠                                \n",
       "⎢───────────────────────────────────────────────────────────────────  ────────\n",
       "⎢   3    2  2      2        3           2    2   2         2       3     3    \n",
       "⎢- E  + E ⋅V ⋅g - E ⋅V + E⋅V ⋅g + 3⋅E⋅V₁  - V ⋅V₁ ⋅g + V⋅V₁  - 2⋅V₁   - E  + E\n",
       "⎢                                                                             \n",
       "⎢                      ⎛         2          2⎞                                \n",
       "⎢                     -⎝-E⋅V₁ + V ⋅V₁⋅g + V₁ ⎠                                \n",
       "⎢───────────────────────────────────────────────────────────────────  ────────\n",
       "⎢   3    2  2      2        3           2    2   2         2       3     3    \n",
       "⎢- E  + E ⋅V ⋅g - E ⋅V + E⋅V ⋅g + 3⋅E⋅V₁  - V ⋅V₁ ⋅g + V⋅V₁  - 2⋅V₁   - E  + E\n",
       "⎢                                                                             \n",
       "⎢                   ⎛            2            2  ⎞                            \n",
       "⎢                  -⎝E⋅V⋅V₁⋅g + V ⋅V₁⋅g - V⋅V₁ ⋅g⎠                            \n",
       "⎢───────────────────────────────────────────────────────────────────  ────────\n",
       "⎢   3    2  2      2        3           2    2   2         2       3     3    \n",
       "⎣- E  + E ⋅V ⋅g - E ⋅V + E⋅V ⋅g + 3⋅E⋅V₁  - V ⋅V₁ ⋅g + V⋅V₁  - 2⋅V₁   - E  + E\n",
       "\n",
       "                                 2                                            \n",
       "                 E⋅V₁ + V⋅V₁ - V₁                                             \n",
       "───────────────────────────────────────────────────────────  ─────────────────\n",
       "2  2      2        3           2    2   2         2       3     4    3  2     \n",
       " ⋅V ⋅g - E ⋅V + E⋅V ⋅g + 3⋅E⋅V₁  - V ⋅V₁ ⋅g + V⋅V₁  - 2⋅V₁   - E  + E ⋅V ⋅g + \n",
       "                                                                              \n",
       "                  ⎛ 2           2⎞                                            \n",
       "                 -⎝E  + E⋅V - V₁ ⎠                                            \n",
       "───────────────────────────────────────────────────────────  ─────────────────\n",
       "2  2      2        3           2    2   2         2       3     4    3  2     \n",
       " ⋅V ⋅g - E ⋅V + E⋅V ⋅g + 3⋅E⋅V₁  - V ⋅V₁ ⋅g + V⋅V₁  - 2⋅V₁   - E  + E ⋅V ⋅g + \n",
       "                                                                              \n",
       "                              2                                               \n",
       "                     E⋅V₁ - V₁                                                \n",
       "───────────────────────────────────────────────────────────  ─────────────────\n",
       "2  2      2        3           2    2   2         2       3     4    3  2     \n",
       " ⋅V ⋅g - E ⋅V + E⋅V ⋅g + 3⋅E⋅V₁  - V ⋅V₁ ⋅g + V⋅V₁  - 2⋅V₁   - E  + E ⋅V ⋅g + \n",
       "                                                                              \n",
       "                              2                                               \n",
       "                     E⋅V₁ - V₁                                                \n",
       "───────────────────────────────────────────────────────────  ─────────────────\n",
       "2  2      2        3           2    2   2         2       3     4    3  2     \n",
       " ⋅V ⋅g - E ⋅V + E⋅V ⋅g + 3⋅E⋅V₁  - V ⋅V₁ ⋅g + V⋅V₁  - 2⋅V₁   - E  + E ⋅V ⋅g + \n",
       "                                                                              \n",
       "              2          2         2                                          \n",
       "             E ⋅V⋅g + E⋅V ⋅g - V⋅V₁ ⋅g                                        \n",
       "───────────────────────────────────────────────────────────  ─────────────────\n",
       "2  2      2        3           2    2   2         2       3     4    3  2     \n",
       " ⋅V ⋅g - E ⋅V + E⋅V ⋅g + 3⋅E⋅V₁  - V ⋅V₁ ⋅g + V⋅V₁  - 2⋅V₁   - E  + E ⋅V ⋅g + \n",
       "\n",
       "                      ⎛   2         2            2⎞                           \n",
       "                     -⎝- E ⋅V₁ + E⋅V ⋅V₁⋅g + E⋅V₁ ⎠                           \n",
       "──────────────────────────────────────────────────────────────────────────────\n",
       " 2  2      2   2      4        2   2             2         3    3   2      2  \n",
       "E ⋅V  + 3⋅E ⋅V₁  - E⋅V ⋅g - E⋅V ⋅V₁ ⋅g - 2⋅E⋅V⋅V₁  - 2⋅E⋅V₁  + V ⋅V₁ ⋅g - V ⋅V\n",
       "                                                                              \n",
       "                               2          2                                   \n",
       "                              E ⋅V₁ - E⋅V₁                                    \n",
       "──────────────────────────────────────────────────────────────────────────────\n",
       " 2  2      2   2      4        2   2             2         3    3   2      2  \n",
       "E ⋅V  + 3⋅E ⋅V₁  - E⋅V ⋅g - E⋅V ⋅V₁ ⋅g - 2⋅E⋅V⋅V₁  - 2⋅E⋅V₁  + V ⋅V₁ ⋅g - V ⋅V\n",
       "                                                                              \n",
       "                             3    2  2         2                              \n",
       "                          - E  + E ⋅V ⋅g + E⋅V₁                               \n",
       "──────────────────────────────────────────────────────────────────────────────\n",
       " 2  2      2   2      4        2   2             2         3    3   2      2  \n",
       "E ⋅V  + 3⋅E ⋅V₁  - E⋅V ⋅g - E⋅V ⋅V₁ ⋅g - 2⋅E⋅V⋅V₁  - 2⋅E⋅V₁  + V ⋅V₁ ⋅g - V ⋅V\n",
       "                                                                              \n",
       "          ⎛   2        3           2    2   2         2       3⎞              \n",
       "         -⎝- E ⋅V + E⋅V ⋅g + 2⋅E⋅V₁  - V ⋅V₁ ⋅g + V⋅V₁  - 2⋅V₁ ⎠              \n",
       "──────────────────────────────────────────────────────────────────────────────\n",
       " 2  2      2   2      4        2   2             2         3    3   2      2  \n",
       "E ⋅V  + 3⋅E ⋅V₁  - E⋅V ⋅g - E⋅V ⋅V₁ ⋅g - 2⋅E⋅V⋅V₁  - 2⋅E⋅V₁  + V ⋅V₁ ⋅g - V ⋅V\n",
       "                                                                              \n",
       "                         ⎛ 2                2  ⎞                              \n",
       "                        -⎝E ⋅V⋅V₁⋅g - E⋅V⋅V₁ ⋅g⎠                              \n",
       "──────────────────────────────────────────────────────────────────────────────\n",
       " 2  2      2   2      4        2   2             2         3    3   2      2  \n",
       "E ⋅V  + 3⋅E ⋅V₁  - E⋅V ⋅g - E⋅V ⋅V₁ ⋅g - 2⋅E⋅V⋅V₁  - 2⋅E⋅V₁  + V ⋅V₁ ⋅g - V ⋅V\n",
       "\n",
       "                                                                  3           \n",
       "                                                       -E⋅V⋅V₁ + V ⋅V₁⋅g + V⋅V\n",
       "────────────  ────────────────────────────────────────────────────────────────\n",
       " 2         3     4    3  2      2  2      2   2      4        2   2           \n",
       "₁  + 2⋅V⋅V₁   - E  + E ⋅V ⋅g + E ⋅V  + 3⋅E ⋅V₁  - E⋅V ⋅g - E⋅V ⋅V₁ ⋅g - 2⋅E⋅V⋅\n",
       "                                                                              \n",
       "                                                            ⎛             2⎞  \n",
       "                                                           -⎝E⋅V⋅V₁ - V⋅V₁ ⎠  \n",
       "────────────  ────────────────────────────────────────────────────────────────\n",
       " 2         3     4    3  2      2  2      2   2      4        2   2           \n",
       "₁  + 2⋅V⋅V₁   - E  + E ⋅V ⋅g + E ⋅V  + 3⋅E ⋅V₁  - E⋅V ⋅g - E⋅V ⋅V₁ ⋅g - 2⋅E⋅V⋅\n",
       "                                                                              \n",
       "                                                       ⎛   2        3         \n",
       "                                                      -⎝- E ⋅V + E⋅V ⋅g + V⋅V₁\n",
       "────────────  ────────────────────────────────────────────────────────────────\n",
       " 2         3     4    3  2      2  2      2   2      4        2   2           \n",
       "₁  + 2⋅V⋅V₁   - E  + E ⋅V ⋅g + E ⋅V  + 3⋅E ⋅V₁  - E⋅V ⋅g - E⋅V ⋅V₁ ⋅g - 2⋅E⋅V⋅\n",
       "                                                                              \n",
       "                                                 3    2  2           2    2   \n",
       "                                              - E  + E ⋅V ⋅g + 3⋅E⋅V₁  - V ⋅V₁\n",
       "────────────  ────────────────────────────────────────────────────────────────\n",
       " 2         3     4    3  2      2  2      2   2      4        2   2           \n",
       "₁  + 2⋅V⋅V₁   - E  + E ⋅V ⋅g + E ⋅V  + 3⋅E ⋅V₁  - E⋅V ⋅g - E⋅V ⋅V₁ ⋅g - 2⋅E⋅V⋅\n",
       "                                                                              \n",
       "                                                             2         2   2  \n",
       "                                                          E⋅V ⋅V₁⋅g - V ⋅V₁ ⋅g\n",
       "────────────  ────────────────────────────────────────────────────────────────\n",
       " 2         3     4    3  2      2  2      2   2      4        2   2           \n",
       "₁  + 2⋅V⋅V₁   - E  + E ⋅V ⋅g + E ⋅V  + 3⋅E ⋅V₁  - E⋅V ⋅g - E⋅V ⋅V₁ ⋅g - 2⋅E⋅V⋅\n",
       "\n",
       " 2                                                              ⎛            2\n",
       "₁                                                              -⎝E⋅V⋅V₁⋅g + V \n",
       "───────────────────────────────────────────  ─────────────────────────────────\n",
       "  2         3    3   2      2   2         3     3    2  2      2        3     \n",
       "V₁  - 2⋅E⋅V₁  + V ⋅V₁ ⋅g - V ⋅V₁  + 2⋅V⋅V₁   - E  + E ⋅V ⋅g - E ⋅V + E⋅V ⋅g + \n",
       "                                                                              \n",
       "                                                                   2          \n",
       "                                                                  E ⋅V⋅g + E⋅V\n",
       "───────────────────────────────────────────  ─────────────────────────────────\n",
       "  2         3    3   2      2   2         3     3    2  2      2        3     \n",
       "V₁  - 2⋅E⋅V₁  + V ⋅V₁ ⋅g - V ⋅V₁  + 2⋅V⋅V₁   - E  + E ⋅V ⋅g - E ⋅V + E⋅V ⋅g + \n",
       "                                                                              \n",
       "2⎞                                                                   ⎛        \n",
       " ⎠                                                                  -⎝E⋅V⋅V₁⋅g\n",
       "───────────────────────────────────────────  ─────────────────────────────────\n",
       "  2         3    3   2      2   2         3     3    2  2      2        3     \n",
       "V₁  - 2⋅E⋅V₁  + V ⋅V₁ ⋅g - V ⋅V₁  + 2⋅V⋅V₁   - E  + E ⋅V ⋅g - E ⋅V + E⋅V ⋅g + \n",
       "                                                                              \n",
       "2         3                                                          ⎛        \n",
       " ⋅g - 2⋅V₁                                                          -⎝E⋅V⋅V₁⋅g\n",
       "───────────────────────────────────────────  ─────────────────────────────────\n",
       "  2         3    3   2      2   2         3     3    2  2      2        3     \n",
       "V₁  - 2⋅E⋅V₁  + V ⋅V₁ ⋅g - V ⋅V₁  + 2⋅V⋅V₁   - E  + E ⋅V ⋅g - E ⋅V + E⋅V ⋅g + \n",
       "                                                                              \n",
       "                                                       ⎛ 3      2             \n",
       "                                                      -⎝E ⋅g + E ⋅V⋅g - 3⋅E⋅V₁\n",
       "───────────────────────────────────────────  ─────────────────────────────────\n",
       "  2         3    3   2      2   2         3     3    2  2      2        3     \n",
       "V₁  - 2⋅E⋅V₁  + V ⋅V₁ ⋅g - V ⋅V₁  + 2⋅V⋅V₁   - E  + E ⋅V ⋅g - E ⋅V + E⋅V ⋅g + \n",
       "\n",
       "            2  ⎞                  ⎤\n",
       "⋅V₁⋅g - V⋅V₁ ⋅g⎠                  ⎥\n",
       "──────────────────────────────────⎥\n",
       "      2    2   2         2       3⎥\n",
       "3⋅E⋅V₁  - V ⋅V₁ ⋅g + V⋅V₁  - 2⋅V₁ ⎥\n",
       "                                  ⎥\n",
       "2         2                       ⎥\n",
       " ⋅g - V⋅V₁ ⋅g                     ⎥\n",
       "──────────────────────────────────⎥\n",
       "      2    2   2         2       3⎥\n",
       "3⋅E⋅V₁  - V ⋅V₁ ⋅g + V⋅V₁  - 2⋅V₁ ⎥\n",
       "                                  ⎥\n",
       "       2  ⎞                       ⎥\n",
       " - V⋅V₁ ⋅g⎠                       ⎥\n",
       "──────────────────────────────────⎥\n",
       "      2    2   2         2       3⎥\n",
       "3⋅E⋅V₁  - V ⋅V₁ ⋅g + V⋅V₁  - 2⋅V₁ ⎥\n",
       "                                  ⎥\n",
       "       2  ⎞                       ⎥\n",
       " - V⋅V₁ ⋅g⎠                       ⎥\n",
       "──────────────────────────────────⎥\n",
       "      2    2   2         2       3⎥\n",
       "3⋅E⋅V₁  - V ⋅V₁ ⋅g + V⋅V₁  - 2⋅V₁ ⎥\n",
       "                                  ⎥\n",
       "2         2         3  ⎞          ⎥\n",
       " ⋅g - V⋅V₁ ⋅g + 2⋅V₁ ⋅g⎠          ⎥\n",
       "──────────────────────────────────⎥\n",
       "      2    2   2         2       3⎥\n",
       "3⋅E⋅V₁  - V ⋅V₁ ⋅g + V⋅V₁  - 2⋅V₁ ⎦"
      ]
     },
     "execution_count": 13,
     "metadata": {},
     "output_type": "execute_result"
    }
   ],
   "source": [
    "Inv=D**-1\n",
    "Inv"
   ]
  },
  {
   "cell_type": "code",
   "execution_count": 14,
   "metadata": {},
   "outputs": [
    {
     "data": {
      "text/latex": [
       "$\\displaystyle \\frac{- E^{2} + E V^{2} g - E V + V^{3} g + V_{1}^{2}}{- E^{3} + E^{2} V^{2} g - E^{2} V + E V^{3} g + 3 E V_{1}^{2} - V^{2} V_{1}^{2} g + V V_{1}^{2} - 2 V_{1}^{3}}$"
      ],
      "text/plain": [
       "                     2      2            3       2                 \n",
       "                  - E  + E⋅V ⋅g - E⋅V + V ⋅g + V₁                  \n",
       "───────────────────────────────────────────────────────────────────\n",
       "   3    2  2      2        3           2    2   2         2       3\n",
       "- E  + E ⋅V ⋅g - E ⋅V + E⋅V ⋅g + 3⋅E⋅V₁  - V ⋅V₁ ⋅g + V⋅V₁  - 2⋅V₁ "
      ]
     },
     "metadata": {},
     "output_type": "display_data"
    }
   ],
   "source": [
    "display(Inv[0,0])"
   ]
  },
  {
   "cell_type": "code",
   "execution_count": 6,
   "metadata": {},
   "outputs": [
    {
     "ename": "NameError",
     "evalue": "name 'Inv' is not defined",
     "output_type": "error",
     "traceback": [
      "\u001b[1;31m---------------------------------------------------------------------------\u001b[0m",
      "\u001b[1;31mNameError\u001b[0m                                 Traceback (most recent call last)",
      "\u001b[1;32m<ipython-input-6-736606c5ae32>\u001b[0m in \u001b[0;36m<module>\u001b[1;34m\u001b[0m\n\u001b[1;32m----> 1\u001b[1;33m \u001b[0mexp\u001b[0m\u001b[1;33m=\u001b[0m\u001b[0mInv\u001b[0m\u001b[1;33m[\u001b[0m\u001b[1;36m0\u001b[0m\u001b[1;33m,\u001b[0m\u001b[1;36m0\u001b[0m\u001b[1;33m]\u001b[0m\u001b[1;33m\u001b[0m\u001b[1;33m\u001b[0m\u001b[0m\n\u001b[0m\u001b[0;32m      2\u001b[0m \u001b[0mn\u001b[0m\u001b[1;33m,\u001b[0m\u001b[0md\u001b[0m\u001b[1;33m=\u001b[0m\u001b[0msym\u001b[0m\u001b[1;33m.\u001b[0m\u001b[0mfraction\u001b[0m\u001b[1;33m(\u001b[0m\u001b[0mexp\u001b[0m\u001b[1;33m)\u001b[0m\u001b[1;33m\u001b[0m\u001b[1;33m\u001b[0m\u001b[0m\n\u001b[0;32m      3\u001b[0m \u001b[0mdisplay\u001b[0m\u001b[1;33m(\u001b[0m\u001b[0mInv\u001b[0m\u001b[1;33m)\u001b[0m\u001b[1;33m\u001b[0m\u001b[1;33m\u001b[0m\u001b[0m\n",
      "\u001b[1;31mNameError\u001b[0m: name 'Inv' is not defined"
     ]
    }
   ],
   "source": [
    "exp=Inv[0,0]\n",
    "n,d=sym.fraction(exp)\n",
    "display(Inv)"
   ]
  },
  {
   "cell_type": "code",
   "execution_count": 11,
   "metadata": {},
   "outputs": [
    {
     "data": {
      "text/latex": [
       "$\\displaystyle \\left[\\begin{matrix}E & V_{1} & 0 & 0 & 0 & 0 & 0\\\\V_{1} & E & V_{1} & 0 & 0 & 0 & V_{2}\\\\V_{1} & V_{1} & E & 0 & 1 & 0 & 0\\\\0 & 0 & 0 & E & V_{1} & V_{1} & 0\\\\0 & 0 & 1 & V_{1} & E & V_{1} & 0\\\\0 & 0 & 0 & V_{1} & V_{1} & E & 0\\\\0 & V_{2} & 0 & 0 & 0 & 0 & \\frac{1}{g}\\end{matrix}\\right]$"
      ],
      "text/plain": [
       "⎡E   V₁  0   0   0   0   0 ⎤\n",
       "⎢                          ⎥\n",
       "⎢V₁  E   V₁  0   0   0   V₂⎥\n",
       "⎢                          ⎥\n",
       "⎢V₁  V₁  E   0   1   0   0 ⎥\n",
       "⎢                          ⎥\n",
       "⎢0   0   0   E   V₁  V₁  0 ⎥\n",
       "⎢                          ⎥\n",
       "⎢0   0   1   V₁  E   V₁  0 ⎥\n",
       "⎢                          ⎥\n",
       "⎢0   0   0   V₁  V₁  E   0 ⎥\n",
       "⎢                          ⎥\n",
       "⎢                        1 ⎥\n",
       "⎢0   V₂  0   0   0   0   ─ ⎥\n",
       "⎣                        g ⎦"
      ]
     },
     "execution_count": 11,
     "metadata": {},
     "output_type": "execute_result"
    }
   ],
   "source": [
    "D= sym.Matrix([[E,V_1,0,0,0,0, 0],\n",
    "               [V_1,E,V_1,0,0,0,V_2],\n",
    "               [V_1,V_1,E,0,1,0,0],\n",
    "               [0,0,0,E,V_1,V_1,0],\n",
    "               [0,0,1,V_1,E,V_1,0],\n",
    "               [0,0,0,V_1,V_1,E,0],\n",
    "               [0,V_2,0,0,0,0,g**-1]])\n",
    "D"
   ]
  },
  {
   "cell_type": "code",
   "execution_count": null,
   "metadata": {},
   "outputs": [],
   "source": [
    "#H= sym.Matrix([[-epsilon,-beta_ss,0,beta_sp],\n",
    "#               [-beta_ss,-epsilon,-beta_sp,0],\n",
    "#               [0,-beta_sp,epsilon,beta_pp],\n",
    "#               [beta_sp,0,beta_pp,epsilon]]) \n",
    "\n",
    "#H= sym.Matrix([[0,-V_1,0],\n",
    "#               [-V_1,0,-V_2],\n",
    "#               [0,-V_2,g**-1]]) \n",
    "\n",
    "#H1=sym.Matrix([[epsilon,0,-h,h,0],\n",
    "#               [0,-epsilon,-h,h,0],\n",
    "#               [-h,-h,epsilon,0,-h],\n",
    "#               [h,h,0,-epsilon,-h],\n",
    "#               [0,0,-h,-h,-g**-1]])\n",
    "\n",
    "#H1=sym.Matrix([[-epsilon,0,-h,h,0],\n",
    "#               [0,epsilon,-h,h,0],\n",
    "#               [-h,-h,-epsilon,0,-h],\n",
    "#               [h,h,0,epsilon,-h],\n",
    "#               [0,0,-h,-h,-g**-1]])\n",
    "\n",
    "#H1=sym.Matrix([[epsilon,0,-h],\n",
    "#               [0,-epsilon,-h],\n",
    "#               [-h,-h,-g**-1],])\n",
    "H1=sym.Matrix([[epsilon,0,-h,h],\n",
    "               [0,-epsilon,-h,h],\n",
    "               [-h,-h,-g**-1,0],\n",
    "                [h,h,0,-g**-1]])\n",
    "\n",
    "#H1=sym.Matrix([[epsilon,0,-beta_ss,beta_sp,0],\n",
    "#               [0,-epsilon,-beta_sp,beta_pp,0],\n",
    "#               [-beta_ss,-beta_sp,epsilon,0,-beta_ss],\n",
    "#               [beta_sp,beta_pp,0,-epsilon,-beta_sp],\n",
    "#               [0,0,-beta_ss,-beta_sp,-g**-1]])\n",
    "#EG= sym.Matrix([[E,0,0,0,0],\n",
    "#              [0,E,0,0,0],\n",
    "#               [0,0,E,0,0],\n",
    "#               [0,0,0,E,0],\n",
    "#               [0,0,0,0,0]]) \n",
    "EG= sym.diag(E, E,0, 0)\n",
    "#EG= sym.Matrix([[E,0,0,0,0],\n",
    "#               [0,E,0,0,0],\n",
    "#               [0,0,E,0,0],\n",
    "#               [0,0,0,E,0],\n",
    "#               [0,0,0,0,0]]) \n",
    "H1"
   ]
  }
 ],
 "metadata": {
  "kernelspec": {
   "display_name": "Python 3",
   "language": "python",
   "name": "python3"
  },
  "language_info": {
   "codemirror_mode": {
    "name": "ipython",
    "version": 3
   },
   "file_extension": ".py",
   "mimetype": "text/x-python",
   "name": "python",
   "nbconvert_exporter": "python",
   "pygments_lexer": "ipython3",
   "version": "3.8.3"
  }
 },
 "nbformat": 4,
 "nbformat_minor": 4
}
