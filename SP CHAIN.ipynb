{
 "cells": [
  {
   "cell_type": "code",
   "execution_count": 1,
   "metadata": {},
   "outputs": [],
   "source": [
    "import sympy as sym\n",
    "sym.init_printing(use_latex=\"mathjax\")\n",
    "a,b,c,d, e , f , g , h , i, j , k , l , n , m, o, p, q, r, s, t, u, v, w,x, y, z =sym.symbols(\"a b c d e f g h i j k l m n o p q r s t u v w x y  z \", real=True)\n",
    "alpha, omega, gamma,beta, beta_ss,beta_sp,beta_pp,mu, Delta,epsilon, epsilon_s, epsilon_p   = sym.symbols('alpha omega gamma beta  beta_ss beta_sp beta_pp mu Delta epsilon epsilon_s, epsilon_p', real=True)\n",
    "V_1,V,E, V_2, g0_ss, g0_pp,  g1_ss, g1_pp, g1_sp =sym.symbols(\"V_1 V E V_2 g0_ss  g0_pp g1_ss g1_pp g1_sp\")#, real=True)"
   ]
  },
  {
   "cell_type": "code",
   "execution_count": 61,
   "metadata": {},
   "outputs": [
    {
     "data": {
      "text/latex": [
       "$\\displaystyle \\left[\\begin{matrix}- \\epsilon & - \\beta_{ss} & 0 & \\beta_{sp}\\\\- \\beta_{ss} & - \\epsilon & - \\beta_{sp} & 0\\\\0 & - \\beta_{sp} & \\epsilon & \\beta_{pp}\\\\\\beta_{sp} & 0 & \\beta_{pp} & \\epsilon\\end{matrix}\\right]$"
      ],
      "text/plain": [
       "⎡ -ε   -βₛₛ   0    βₛₚ⎤\n",
       "⎢                     ⎥\n",
       "⎢-βₛₛ   -ε   -βₛₚ   0 ⎥\n",
       "⎢                     ⎥\n",
       "⎢ 0    -βₛₚ   ε    βₚₚ⎥\n",
       "⎢                     ⎥\n",
       "⎣βₛₚ    0    βₚₚ    ε ⎦"
      ]
     },
     "execution_count": 61,
     "metadata": {},
     "output_type": "execute_result"
    }
   ],
   "source": [
    "H= sym.Matrix([[-epsilon,-beta_ss,0,beta_sp],\n",
    "               [-beta_ss,-epsilon,-beta_sp,0],\n",
    "               [0,-beta_sp,epsilon,beta_pp],\n",
    "               [beta_sp,0,beta_pp,epsilon]]) \n",
    "'''\n",
    "H1=sym.Matrix([[-epsilon,-h,0,h],\n",
    "               [-h,-epsilon,-h,0],\n",
    "               [0,-h,epsilon,h],\n",
    "               [h,0,h,epsilon]])\n",
    "'''\n",
    "EG= sym.Matrix([[E,0,0,0],\n",
    "               [0,E,0,0],\n",
    "               [0,0,E,0],\n",
    "               [0,0,0,E]]) \n",
    "H#,EG"
   ]
  },
  {
   "cell_type": "code",
   "execution_count": null,
   "metadata": {},
   "outputs": [],
   "source": [
    "G=(EG-H)\n",
    "G"
   ]
  },
  {
   "cell_type": "code",
   "execution_count": null,
   "metadata": {},
   "outputs": [],
   "source": [
    "Inv=G**-1\n",
    "g0=Inv[0,0]\n",
    "g1=Inv[1,1]\n",
    "display(Inv,g0,g1)"
   ]
  },
  {
   "cell_type": "code",
   "execution_count": null,
   "metadata": {},
   "outputs": [],
   "source": [
    "H1=sym.Matrix([[-epsilon,-1,0,1],\n",
    "               [-1,-epsilon,-1,0],\n",
    "               [0,-1,epsilon,1],\n",
    "               [1,0,1,epsilon]])\n",
    "\n",
    "EG= sym.Matrix([[E,0,0,0],\n",
    "               [0,E,0,0],\n",
    "               [0,0,E,0],\n",
    "               [0,0,0,E]]) \n",
    "G1=(EG-H1)\n",
    "Inv1=G1**-1\n",
    "Inv1"
   ]
  },
  {
   "cell_type": "code",
   "execution_count": null,
   "metadata": {},
   "outputs": [],
   "source": [
    "g10=Inv1[0,0]\n",
    "g11=Inv1[1,1]\n",
    "display(g10,g11)"
   ]
  },
  {
   "cell_type": "code",
   "execution_count": null,
   "metadata": {},
   "outputs": [],
   "source": [
    "V1=sym.Matrix([[1,-1],\n",
    "              [1,-1]])\n",
    "V0=sym.Matrix([[1,0],\n",
    "              [0,1]])\n",
    "U1=sym.Matrix([[1,0],\n",
    "            [0,1]])\n",
    "display(V1,V0,U1)"
   ]
  },
  {
   "cell_type": "code",
   "execution_count": null,
   "metadata": {},
   "outputs": [],
   "source": [
    "Gd1= Inv1[0,0] + (Inv1[0,0]*V0[0,0] + Inv1[1,1]*V1[0,0])*Inv1[0,0]\n",
    "Gd2=(U1[0,0] -Inv1[0,0]*V0[0,0] - Inv1[1,1]*V1[0,0])**-1\n",
    "display(Gd1,Gd2)"
   ]
  },
  {
   "cell_type": "code",
   "execution_count": null,
   "metadata": {},
   "outputs": [],
   "source": [
    "Gt=Gd1*(Gd2)\n",
    "Gt"
   ]
  },
  {
   "cell_type": "code",
   "execution_count": null,
   "metadata": {},
   "outputs": [],
   "source": [
    "sym.simplify(Gt/(4*epsilon))"
   ]
  },
  {
   "cell_type": "code",
   "execution_count": null,
   "metadata": {},
   "outputs": [],
   "source": [
    "Hj1=sym.Matrix([[beta_ss,beta_sp],\n",
    "              [beta_sp,beta_pp]])\n",
    "\n",
    "EG= sym.Matrix([[E,0],\n",
    "               [0,E]]) \n",
    "G1=(EG-Hj1)\n",
    "Inv1=G1**-1\n",
    "Inv1"
   ]
  },
  {
   "cell_type": "code",
   "execution_count": null,
   "metadata": {},
   "outputs": [],
   "source": [
    "Inv1[0,0]*U1 + (Inv1[0,0]*V0 + Inv1[1,1]*V1)*Inv1[0,0]"
   ]
  },
  {
   "cell_type": "code",
   "execution_count": null,
   "metadata": {},
   "outputs": [],
   "source": [
    "Gd1= (Inv1[0,0]*V0 + Inv1[1,1]*V1)*Inv1[0,0]\n",
    "Gd2=(U1 -Inv1[0,0]*V0 - Inv1[1,1]*V1)**-1\n",
    "display(Gd1,Gd2)"
   ]
  },
  {
   "cell_type": "code",
   "execution_count": null,
   "metadata": {},
   "outputs": [],
   "source": [
    "Hj1=sym.Matrix([[epsilon,h],\n",
    "              [h,g**-1]])\n",
    "\n",
    "EG= sym.Matrix([[E,0],\n",
    "               [0,E]]) \n",
    "G1=(EG-Hj1)\n",
    "Inv1=G1**-1\n",
    "Inv1"
   ]
  },
  {
   "cell_type": "code",
   "execution_count": null,
   "metadata": {},
   "outputs": [],
   "source": [
    "exp=Inv1[0,0]\n",
    "n,d=sym.fraction(exp)\n",
    "res=d*g-n\n",
    "display(sym.expand(res))"
   ]
  },
  {
   "cell_type": "code",
   "execution_count": null,
   "metadata": {},
   "outputs": [],
   "source": [
    "sym.solve(res,g)"
   ]
  },
  {
   "cell_type": "markdown",
   "metadata": {},
   "source": [
    "## Fim do calculo para dividir a cadeia ##"
   ]
  },
  {
   "cell_type": "code",
   "execution_count": null,
   "metadata": {},
   "outputs": [],
   "source": [
    "gamma=sym.sqrt(alpha**2-1)\n",
    "ga2=(-alpha+gamma)\n",
    "gss=(1/(2*V_1))*(1+((V_1-E)/(V_2)-alpha)*(1/gamma))\n",
    "gpp=(1/(2*V_1))*(-1+(alpha-(V_1+E)/(V_2))*(1/gamma))\n",
    "g1ss=(1/(2*V_1))*(((V_1-E)/(V_2)-alpha)*(ga2/gamma))\n",
    "g1pp=(1/(2*V_1))*((alpha-(V_1+E)/(V_2))*(ga2/gamma))\n",
    "g1sp=(1/(2*V_1))*ga2\n",
    "g1ps=-g1sp\n",
    "display(sym.simplify(gss))"
   ]
  },
  {
   "cell_type": "code",
   "execution_count": null,
   "metadata": {},
   "outputs": [],
   "source": [
    "G0=sym.Matrix([[sym.simplify(gss),0],\n",
    "              [0,sym.simplify(gpp)]])\n",
    "display( G0)"
   ]
  },
  {
   "cell_type": "code",
   "execution_count": null,
   "metadata": {},
   "outputs": [],
   "source": [
    "#G1=sym.Matrix([[sym.simplify(g1ss),sym.simplify(g1sp)],\n",
    "#              [sym.simplify(g1ps),sym.simplify(g1pp)]])\n",
    "G1=sym.Matrix([[sym.simplify(g1ss),0],\n",
    "              [0,sym.simplify(g1pp)]])\n",
    "G1"
   ]
  },
  {
   "cell_type": "code",
   "execution_count": null,
   "metadata": {},
   "outputs": [],
   "source": [
    "V1=sym.Matrix([[V_2/2,-V_2/2],\n",
    "              [V_2/2,-V_2/2]])\n",
    "V0=sym.Matrix([[1,0],\n",
    "              [0,1]])\n",
    "U1=sym.Matrix([[1,0],\n",
    "            [0,1]])\n",
    "display(V1,V0,U1)"
   ]
  },
  {
   "cell_type": "code",
   "execution_count": null,
   "metadata": {},
   "outputs": [],
   "source": [
    "#GT= G0 + ((G0*V0 +G1*V1)*G0)*(V0-G0*V0 - G1*V1)**(-1)\n",
    "GT1=sym.simplify((((G0*V0 +G1*V1)*G0)))\n",
    "GT2=sym.simplify((V0-G0*V0 - G1*V1))\n",
    "GT= G0 + GT1/GT2**(-1)\n",
    "display(GT)"
   ]
  },
  {
   "cell_type": "code",
   "execution_count": null,
   "metadata": {},
   "outputs": [],
   "source": [
    "Gr=GT[0,0]+ GT[1,1]\n",
    "sym.simplify(Gr)"
   ]
  },
  {
   "cell_type": "code",
   "execution_count": null,
   "metadata": {},
   "outputs": [],
   "source": [
    "gamma=beta#gamma#(sym.sqrt(alpha**2-1))\n",
    "g11=(-E/(2*V_2*V_1))*(-1/gamma)\n",
    "g12=(V_1*(-1/gamma)+V_2*((gamma-alpha)/gamma))/(2*V_1*V_2)\n",
    "Gt=(g11**(-1))*(1-V_2*g12)\n",
    "display(sym.simplify(Gt),g11,sym.simplify(g12))"
   ]
  },
  {
   "cell_type": "code",
   "execution_count": null,
   "metadata": {},
   "outputs": [],
   "source": [
    "H0s=sym.Matrix([[0,0,0],\n",
    "              [0,0,-V_1],\n",
    "               [0,-V_1,0]])\n",
    "E00= sym.Matrix([[E,0,0],\n",
    "              [0,E,0],\n",
    "            [0,0,E]])\n",
    "V=sym.Matrix([[0,V_2,0],\n",
    "              [V_2,0,0],\n",
    "             [0,0,0]])\n",
    "\n",
    "display(H0s,E00,V)"
   ]
  },
  {
   "cell_type": "code",
   "execution_count": null,
   "metadata": {},
   "outputs": [],
   "source": [
    "GS1=E00-H0s-V\n",
    "display(GS1**-1)"
   ]
  },
  {
   "cell_type": "code",
   "execution_count": null,
   "metadata": {},
   "outputs": [],
   "source": [
    "al=(E**2-V_1**2-V_2**2)/2*V_1*V_2\n",
    "bt=sym.sqrt((al**2-1))\n",
    "gts0=(-E/(2*V_1*V_2*bt))*(1+V_1/bt+(V_2/bt)*(al-bt))\n",
    "sym.simplify(gts0)"
   ]
  },
  {
   "cell_type": "code",
   "execution_count": null,
   "metadata": {},
   "outputs": [],
   "source": [
    "al=(E**2-V_1**2-V_2**2)/2*V_1*V_2\n",
    "bt=sym.sqrt((al**2-1))\n",
    "gts0=(-E/(2*V_1*V_2))*(1+V_1/bt+(V_2/bt)*(al-bt))\n",
    "sym.simplify(gts0)"
   ]
  },
  {
   "cell_type": "code",
   "execution_count": null,
   "metadata": {},
   "outputs": [],
   "source": [
    "-E/(2*V_1*V_2*bt)"
   ]
  },
  {
   "cell_type": "code",
   "execution_count": null,
   "metadata": {},
   "outputs": [],
   "source": [
    "(1+(V_1/bt)+(V_2/bt)*(al-bt))"
   ]
  },
  {
   "cell_type": "code",
   "execution_count": null,
   "metadata": {},
   "outputs": [],
   "source": [
    "b1=(1/(2*epsilon))\n",
    "b21=(epsilon-E)/(2*h)\n",
    "b22=(epsilon+E)/(2*h)\n",
    "b3=1/sym.sqrt((beta**2-1))\n",
    "b4=-beta+sym.sqrt((beta**2-1))\n",
    "gss0=b1*(1+(b21-beta)*b3)\n",
    "gpp0=b1*(-1+(beta-b22)*b3)\n",
    "btsp0m=gss0-gpp0\n",
    "gss1=b1*(b21-beta)*b3*b4\n",
    "gpp1=b1*(beta-b22)*b3*b4\n",
    "gsp1=b1*b4\n",
    "display(gpp0,gss1,gsp1)"
   ]
  },
  {
   "cell_type": "code",
   "execution_count": null,
   "metadata": {
    "scrolled": true
   },
   "outputs": [],
   "source": [
    "g00= (gpp0 + gss0 + (gpp1 - gsp1)*gss0*h - gpp0*(gsp1 + gss1)*h + (gpp1 - gsp1)*(gpp0 - gss0)*(gsp1 +  gss1)*h**2 + (gpp1 - gsp1)*(-gpp0 + gss0)*(gsp1 + gss1)*h**2)/(1 + gpp1*h - (2*gsp1 + gss1)*h)\n",
    "g00"
   ]
  },
  {
   "cell_type": "code",
   "execution_count": null,
   "metadata": {},
   "outputs": [],
   "source": [
    "sym.simplify(g00)"
   ]
  },
  {
   "cell_type": "code",
   "execution_count": null,
   "metadata": {},
   "outputs": [],
   "source": [
    "g01=(gpp0 + gss0 + (gpp1 - gsp1)*gss0*h - gpp0*(gsp1 + gss1)*h)/(1 + gpp1*h - gss1*h)\n",
    "display(g01,sym.simplify(g01))"
   ]
  },
  {
   "cell_type": "code",
   "execution_count": null,
   "metadata": {},
   "outputs": [],
   "source": [
    "#beta=(epsilon**2+4*h**2-E**2)/(4*epsilon*h)\n",
    "#beta"
   ]
  },
  {
   "cell_type": "code",
   "execution_count": null,
   "metadata": {},
   "outputs": [],
   "source": [
    "sym.simplify(g01)"
   ]
  },
  {
   "cell_type": "code",
   "execution_count": null,
   "metadata": {},
   "outputs": [],
   "source": [
    "g0001=(gpp0 + gss0 + (gpp1 + gsp1)*gss0*h - gpp0*(gsp1 + gss1)*h)/(1 + gpp1*h - \n",
    " gss1*h)\n",
    "display(g0001, sym.simplify(g0001))"
   ]
  },
  {
   "cell_type": "code",
   "execution_count": null,
   "metadata": {},
   "outputs": [],
   "source": [
    "SG=sym.simplify(g0001)\n",
    "SG"
   ]
  },
  {
   "cell_type": "code",
   "execution_count": null,
   "metadata": {},
   "outputs": [],
   "source": []
  },
  {
   "cell_type": "code",
   "execution_count": null,
   "metadata": {},
   "outputs": [],
   "source": [
    "g0001"
   ]
  },
  {
   "cell_type": "code",
   "execution_count": null,
   "metadata": {},
   "outputs": [],
   "source": [
    "gt00=((-(-2 + gss0))*gss0*(1 + gpp1*h + gsp1*h) + gpp0*(2 - 4*gss0 + gss0**2 - 2*gsp1*h - 2*gss1*h) + gpp0**2*(-1 + gss0 + gsp1*h + gss1*h))/(1 + gpp1*h - gss1*h - gss0*(1 + gpp1*h + gsp1*h) + gpp0*(-1 + gss0 + gsp1*h + gss1*h))\n",
    "gt00"
   ]
  },
  {
   "cell_type": "code",
   "execution_count": null,
   "metadata": {},
   "outputs": [],
   "source": [
    "SG=sym.simplify(gt00)\n",
    "SG"
   ]
  },
  {
   "cell_type": "code",
   "execution_count": 38,
   "metadata": {},
   "outputs": [
    {
     "data": {
      "text/latex": [
       "$\\displaystyle \\left[\\begin{matrix}g_{0 ss} & 0\\\\0 & g_{0 pp}\\end{matrix}\\right]$"
      ],
      "text/plain": [
       "⎡g₀ ₛₛ    0  ⎤\n",
       "⎢            ⎥\n",
       "⎣  0    g₀ ₚₚ⎦"
      ]
     },
     "metadata": {},
     "output_type": "display_data"
    },
    {
     "data": {
      "text/latex": [
       "$\\displaystyle \\left[\\begin{matrix}g_{1 ss} & g_{1 sp}\\\\- g_{1 sp} & g_{1 pp}\\end{matrix}\\right]$"
      ],
      "text/plain": [
       "⎡g₁ ₛₛ   g₁ ₛₚ⎤\n",
       "⎢             ⎥\n",
       "⎣-g₁ ₛₚ  g₁ ₚₚ⎦"
      ]
     },
     "metadata": {},
     "output_type": "display_data"
    }
   ],
   "source": [
    "V0=sym.Matrix([[1,0],\n",
    "              [0,1]])\n",
    "V1=sym.Matrix([[h,-h],\n",
    "              [h,-h]])\n",
    "U1=sym.Matrix([[1,0],\n",
    "            [0,1]])\n",
    "G0=sym.Matrix([[g0_ss,0],\n",
    "            [0,g0_pp]])\n",
    "G1=sym.Matrix([[g1_ss,g1_sp],\n",
    "            [-g1_sp,g1_pp]])\n",
    "display(G0,G1)"
   ]
  },
  {
   "cell_type": "code",
   "execution_count": 39,
   "metadata": {},
   "outputs": [
    {
     "data": {
      "text/latex": [
       "$\\displaystyle \\left[\\begin{matrix}g_{0 ss} + \\frac{\\left(g_{1 pp} h - g_{1 sp} h\\right) \\left(- g_{1 sp} h - g_{1 ss} h\\right)}{g_{1 pp} h - 2 g_{1 sp} h - g_{1 ss} h + 1} + \\frac{\\left(g_{1 sp} h + g_{1 ss} h\\right) \\left(g_{1 pp} h - g_{1 sp} h + 1\\right)}{g_{1 pp} h - 2 g_{1 sp} h - g_{1 ss} h + 1} & - \\frac{\\left(- g_{1 sp} h - g_{1 ss} h\\right) \\left(g_{1 sp} h + g_{1 ss} h - 1\\right)}{g_{1 pp} h - 2 g_{1 sp} h - g_{1 ss} h + 1} - \\frac{\\left(g_{1 sp} h + g_{1 ss} h\\right)^{2}}{g_{1 pp} h - 2 g_{1 sp} h - g_{1 ss} h + 1}\\\\\\frac{\\left(- g_{1 pp} h + g_{1 sp} h\\right) \\left(g_{1 pp} h - g_{1 sp} h\\right)}{g_{1 pp} h - 2 g_{1 sp} h - g_{1 ss} h + 1} + \\frac{\\left(g_{1 pp} h - g_{1 sp} h\\right) \\left(g_{1 pp} h - g_{1 sp} h + 1\\right)}{g_{1 pp} h - 2 g_{1 sp} h - g_{1 ss} h + 1} & g_{0 pp} - \\frac{\\left(- g_{1 pp} h + g_{1 sp} h\\right) \\left(g_{1 sp} h + g_{1 ss} h - 1\\right)}{g_{1 pp} h - 2 g_{1 sp} h - g_{1 ss} h + 1} - \\frac{\\left(g_{1 pp} h - g_{1 sp} h\\right) \\left(g_{1 sp} h + g_{1 ss} h\\right)}{g_{1 pp} h - 2 g_{1 sp} h - g_{1 ss} h + 1}\\end{matrix}\\right]$"
      ],
      "text/plain": [
       "⎡                                                                             \n",
       "⎢        (g₁ ₚₚ⋅h - g₁ ₛₚ⋅h)⋅(-g₁ ₛₚ⋅h - g₁ ₛₛ⋅h)   (g₁ ₛₚ⋅h + g₁ ₛₛ⋅h)⋅(g₁ ₚₚ\n",
       "⎢g₀ ₛₛ + ──────────────────────────────────────── + ──────────────────────────\n",
       "⎢           g₁ ₚₚ⋅h - 2⋅g₁ ₛₚ⋅h - g₁ ₛₛ⋅h + 1            g₁ ₚₚ⋅h - 2⋅g₁ ₛₚ⋅h -\n",
       "⎢                                                                             \n",
       "⎢    (-g₁ ₚₚ⋅h + g₁ ₛₚ⋅h)⋅(g₁ ₚₚ⋅h - g₁ ₛₚ⋅h)   (g₁ ₚₚ⋅h - g₁ ₛₚ⋅h)⋅(g₁ ₚₚ⋅h -\n",
       "⎢    ──────────────────────────────────────── + ──────────────────────────────\n",
       "⎣       g₁ ₚₚ⋅h - 2⋅g₁ ₛₚ⋅h - g₁ ₛₛ⋅h + 1            g₁ ₚₚ⋅h - 2⋅g₁ ₛₚ⋅h - g₁ \n",
       "\n",
       "                                                                              \n",
       "⋅h - g₁ ₛₚ⋅h + 1)          (-g₁ ₛₚ⋅h - g₁ ₛₛ⋅h)⋅(g₁ ₛₚ⋅h + g₁ ₛₛ⋅h - 1)       \n",
       "─────────────────        - ──────────────────────────────────────────── - ────\n",
       " g₁ ₛₛ⋅h + 1                    g₁ ₚₚ⋅h - 2⋅g₁ ₛₚ⋅h - g₁ ₛₛ⋅h + 1         g₁ ₚ\n",
       "                                                                              \n",
       " g₁ ₛₚ⋅h + 1)              (-g₁ ₚₚ⋅h + g₁ ₛₚ⋅h)⋅(g₁ ₛₚ⋅h + g₁ ₛₛ⋅h - 1)   (g₁ \n",
       "─────────────      g₀ ₚₚ - ──────────────────────────────────────────── - ────\n",
       "ₛₛ⋅h + 1                        g₁ ₚₚ⋅h - 2⋅g₁ ₛₚ⋅h - g₁ ₛₛ⋅h + 1            g\n",
       "\n",
       "                      2            ⎤\n",
       "   (g₁ ₛₚ⋅h + g₁ ₛₛ⋅h)             ⎥\n",
       "─────────────────────────────      ⎥\n",
       "ₚ⋅h - 2⋅g₁ ₛₚ⋅h - g₁ ₛₛ⋅h + 1      ⎥\n",
       "                                   ⎥\n",
       "ₚₚ⋅h - g₁ ₛₚ⋅h)⋅(g₁ ₛₚ⋅h + g₁ ₛₛ⋅h)⎥\n",
       "───────────────────────────────────⎥\n",
       "₁ ₚₚ⋅h - 2⋅g₁ ₛₚ⋅h - g₁ ₛₛ⋅h + 1   ⎦"
      ]
     },
     "execution_count": 39,
     "metadata": {},
     "output_type": "execute_result"
    }
   ],
   "source": [
    "g00= G0 + (G1*V1)*(U1-G1*V1)**-1\n",
    "g00"
   ]
  },
  {
   "cell_type": "code",
   "execution_count": 40,
   "metadata": {},
   "outputs": [
    {
     "data": {
      "text/latex": [
       "$\\displaystyle g_{0 pp} + g_{0 ss} - \\frac{\\left(- g_{1 pp} h + g_{1 sp} h\\right) \\left(g_{1 sp} h + g_{1 ss} h - 1\\right)}{g_{1 pp} h - 2 g_{1 sp} h - g_{1 ss} h + 1} + \\frac{\\left(g_{1 pp} h - g_{1 sp} h\\right) \\left(- g_{1 sp} h - g_{1 ss} h\\right)}{g_{1 pp} h - 2 g_{1 sp} h - g_{1 ss} h + 1} - \\frac{\\left(g_{1 pp} h - g_{1 sp} h\\right) \\left(g_{1 sp} h + g_{1 ss} h\\right)}{g_{1 pp} h - 2 g_{1 sp} h - g_{1 ss} h + 1} + \\frac{\\left(g_{1 sp} h + g_{1 ss} h\\right) \\left(g_{1 pp} h - g_{1 sp} h + 1\\right)}{g_{1 pp} h - 2 g_{1 sp} h - g_{1 ss} h + 1}$"
      ],
      "text/plain": [
       "                (-g₁ ₚₚ⋅h + g₁ ₛₚ⋅h)⋅(g₁ ₛₚ⋅h + g₁ ₛₛ⋅h - 1)   (g₁ ₚₚ⋅h - g₁ ₛ\n",
       "g₀ ₚₚ + g₀ ₛₛ - ──────────────────────────────────────────── + ───────────────\n",
       "                     g₁ ₚₚ⋅h - 2⋅g₁ ₛₚ⋅h - g₁ ₛₛ⋅h + 1            g₁ ₚₚ⋅h - 2⋅\n",
       "\n",
       "ₚ⋅h)⋅(-g₁ ₛₚ⋅h - g₁ ₛₛ⋅h)   (g₁ ₚₚ⋅h - g₁ ₛₚ⋅h)⋅(g₁ ₛₚ⋅h + g₁ ₛₛ⋅h)   (g₁ ₛₚ⋅h\n",
       "───────────────────────── - ─────────────────────────────────────── + ────────\n",
       "g₁ ₛₚ⋅h - g₁ ₛₛ⋅h + 1          g₁ ₚₚ⋅h - 2⋅g₁ ₛₚ⋅h - g₁ ₛₛ⋅h + 1           g₁ \n",
       "\n",
       " + g₁ ₛₛ⋅h)⋅(g₁ ₚₚ⋅h - g₁ ₛₚ⋅h + 1)\n",
       "───────────────────────────────────\n",
       "ₚₚ⋅h - 2⋅g₁ ₛₚ⋅h - g₁ ₛₛ⋅h + 1     "
      ]
     },
     "metadata": {},
     "output_type": "display_data"
    }
   ],
   "source": [
    "trg=g00[0,0]+g00[1,1] #sym.Trace(g00)\n",
    "display(trg)"
   ]
  },
  {
   "cell_type": "code",
   "execution_count": 44,
   "metadata": {},
   "outputs": [
    {
     "data": {
      "text/latex": [
       "$\\displaystyle \\frac{g_{0 pp} g_{1 pp} h - 2 g_{0 pp} g_{1 sp} h - g_{0 pp} g_{1 ss} h + g_{0 pp} + g_{0 ss} g_{1 pp} h - 2 g_{0 ss} g_{1 sp} h - g_{0 ss} g_{1 ss} h + g_{0 ss} - g_{1 pp} h + 2 g_{1 sp} h + g_{1 ss} h}{g_{1 pp} h - 2 g_{1 sp} h - g_{1 ss} h + 1}$"
      ],
      "text/plain": [
       "g₀ ₚₚ⋅g₁ ₚₚ⋅h - 2⋅g₀ ₚₚ⋅g₁ ₛₚ⋅h - g₀ ₚₚ⋅g₁ ₛₛ⋅h + g₀ ₚₚ + g₀ ₛₛ⋅g₁ ₚₚ⋅h - 2⋅g₀\n",
       "──────────────────────────────────────────────────────────────────────────────\n",
       "                                                        g₁ ₚₚ⋅h - 2⋅g₁ ₛₚ⋅h - \n",
       "\n",
       " ₛₛ⋅g₁ ₛₚ⋅h - g₀ ₛₛ⋅g₁ ₛₛ⋅h + g₀ ₛₛ - g₁ ₚₚ⋅h + 2⋅g₁ ₛₚ⋅h + g₁ ₛₛ⋅h\n",
       "───────────────────────────────────────────────────────────────────\n",
       "g₁ ₛₛ⋅h + 1                                                        "
      ]
     },
     "execution_count": 44,
     "metadata": {},
     "output_type": "execute_result"
    }
   ],
   "source": [
    "sym.simplify(trg)"
   ]
  },
  {
   "cell_type": "code",
   "execution_count": 59,
   "metadata": {},
   "outputs": [
    {
     "data": {
      "text/latex": [
       "$\\displaystyle \\frac{- 2 E \\beta^{2} h + E \\beta \\epsilon + 4 E \\beta \\gamma h - E \\epsilon \\gamma - 2 E \\gamma^{2} h + E \\gamma - 2 \\beta^{2} \\gamma h^{2} + \\beta \\epsilon \\gamma h + 4 \\beta \\gamma^{2} h^{2} - \\epsilon \\gamma^{2} h - 2 \\gamma^{3} h^{2}}{\\gamma h \\left(2 \\beta^{2} h - \\beta \\epsilon - 4 \\beta \\gamma h + \\epsilon \\gamma + 2 \\gamma^{2} h - \\gamma\\right)}$"
      ],
      "text/plain": [
       "       2                                      2              2    2           \n",
       "- 2⋅E⋅β ⋅h + E⋅β⋅ε + 4⋅E⋅β⋅γ⋅h - E⋅ε⋅γ - 2⋅E⋅γ ⋅h + E⋅γ - 2⋅β ⋅γ⋅h  + β⋅ε⋅γ⋅h \n",
       "──────────────────────────────────────────────────────────────────────────────\n",
       "                                  ⎛   2                              2      ⎞ \n",
       "                              γ⋅h⋅⎝2⋅β ⋅h - β⋅ε - 4⋅β⋅γ⋅h + ε⋅γ + 2⋅γ ⋅h - γ⎠ \n",
       "\n",
       "       2  2      2        3  2\n",
       "+ 4⋅β⋅γ ⋅h  - ε⋅γ ⋅h - 2⋅γ ⋅h \n",
       "──────────────────────────────\n",
       "                              \n",
       "                              "
      ]
     },
     "execution_count": 59,
     "metadata": {},
     "output_type": "execute_result"
    }
   ],
   "source": [
    "gtrs0=(gpp0*gpp1*h-2*gpp0*gsp1*h-gpp0*gss1*h+gpp0+gss0*gpp1*h-2*gss0*gsp1*h - gss0*gss1*h + gss0- gpp1*h+2*gsp1*h+gss1*h)/(gpp1*h-2*gsp1*h-gss1*h+1)\n",
    "sym.simplify(gtrs0)"
   ]
  },
  {
   "cell_type": "code",
   "execution_count": 3,
   "metadata": {},
   "outputs": [
    {
     "data": {
      "text/latex": [
       "$\\displaystyle \\left[\\begin{matrix}1 + \\frac{- \\beta + \\frac{- E + \\epsilon}{2 h}}{\\gamma} & 0\\\\0 & -1 + \\frac{\\beta - \\frac{E + \\epsilon}{2 h}}{\\gamma}\\end{matrix}\\right]$"
      ],
      "text/plain": [
       "⎡         -E + ε                ⎤\n",
       "⎢    -β + ──────                ⎥\n",
       "⎢          2⋅h                  ⎥\n",
       "⎢1 + ───────────        0       ⎥\n",
       "⎢         γ                     ⎥\n",
       "⎢                               ⎥\n",
       "⎢                          E + ε⎥\n",
       "⎢                      β - ─────⎥\n",
       "⎢                           2⋅h ⎥\n",
       "⎢       0         -1 + ─────────⎥\n",
       "⎣                          γ    ⎦"
      ]
     },
     "metadata": {},
     "output_type": "display_data"
    },
    {
     "data": {
      "text/latex": [
       "$\\displaystyle \\left[\\begin{matrix}\\frac{\\left(- \\beta + \\frac{- E + \\epsilon}{2 h}\\right) \\left(- \\beta + \\sqrt{\\beta^{2} - 1}\\right)}{\\gamma} & - \\beta + \\sqrt{\\beta^{2} - 1}\\\\\\beta - \\sqrt{\\beta^{2} - 1} & \\frac{\\left(- \\beta + \\sqrt{\\beta^{2} - 1}\\right) \\left(\\beta - \\frac{E + \\epsilon}{2 h}\\right)}{\\gamma}\\end{matrix}\\right]$"
      ],
      "text/plain": [
       "⎡              ⎛        ________⎞                                ⎤\n",
       "⎢⎛     -E + ε⎞ ⎜       ╱  2     ⎟                                ⎥\n",
       "⎢⎜-β + ──────⎟⋅⎝-β + ╲╱  β  - 1 ⎠                 ________       ⎥\n",
       "⎢⎝      2⋅h  ⎠                                   ╱  2            ⎥\n",
       "⎢────────────────────────────────         -β + ╲╱  β  - 1        ⎥\n",
       "⎢               γ                                                ⎥\n",
       "⎢                                                                ⎥\n",
       "⎢                                  ⎛        ________⎞            ⎥\n",
       "⎢                                  ⎜       ╱  2     ⎟ ⎛    E + ε⎞⎥\n",
       "⎢               ________           ⎝-β + ╲╱  β  - 1 ⎠⋅⎜β - ─────⎟⎥\n",
       "⎢              ╱  2                                   ⎝     2⋅h ⎠⎥\n",
       "⎢        β - ╲╱  β  - 1            ──────────────────────────────⎥\n",
       "⎣                                                γ               ⎦"
      ]
     },
     "metadata": {},
     "output_type": "display_data"
    }
   ],
   "source": [
    "b1=(1/(2*epsilon))\n",
    "b21=(epsilon-E)/(2*h)\n",
    "b22=(epsilon+E)/(2*h)\n",
    "b3=1/sym.sqrt((beta**2-1))\n",
    "b4=-beta+sym.sqrt((beta**2-1))\n",
    "gam=-beta+gamma\n",
    "gss0=(1+(b21-beta)*b3)\n",
    "gpp0=(-1+(beta-b22)*b3)\n",
    "btsp0m=gss0-gpp0\n",
    "gss1=(b21-beta)*b3*b4\n",
    "gpp1=(beta-b22)*b3*b4\n",
    "gsp1=b4\n",
    "\n",
    "V0s=sym.Matrix([[1,0],\n",
    "              [0,1]])\n",
    "V1s=sym.Matrix([[h,-h],\n",
    "              [h,-h]])\n",
    "U1s=sym.Matrix([[1,0],\n",
    "            [0,1]])\n",
    "G0s=sym.Matrix([[gss0,0],\n",
    "            [0,gpp0]])\n",
    "G1s=sym.Matrix([[gss1,gsp1],\n",
    "            [-gsp1,gpp1]])\n",
    "display(G0s,G1s)"
   ]
  },
  {
   "cell_type": "code",
   "execution_count": null,
   "metadata": {},
   "outputs": [],
   "source": [
    "g00s= G0s + G1s*V1s*G0s*(U1s-G1s*V1s)**-1\n",
    "trgs=g00s[0,0]+g00s[1,1]\n",
    "display(g00s,sym.simplify(trgs))"
   ]
  },
  {
   "cell_type": "code",
   "execution_count": 45,
   "metadata": {},
   "outputs": [
    {
     "data": {
      "text/latex": [
       "$\\displaystyle g_{0 pp} + g_{0 ss} - \\frac{\\left(- g_{1 pp} h + g_{1 sp} h\\right) \\left(g_{1 sp} h + g_{1 ss} h - 1\\right)}{g_{1 pp} h - 2 g_{1 sp} h - g_{1 ss} h + 1} + \\frac{\\left(g_{1 pp} h - g_{1 sp} h\\right) \\left(- g_{1 sp} h - g_{1 ss} h\\right)}{g_{1 pp} h - 2 g_{1 sp} h - g_{1 ss} h + 1} - \\frac{\\left(g_{1 pp} h - g_{1 sp} h\\right) \\left(g_{1 sp} h + g_{1 ss} h\\right)}{g_{1 pp} h - 2 g_{1 sp} h - g_{1 ss} h + 1} + \\frac{\\left(g_{1 sp} h + g_{1 ss} h\\right) \\left(g_{1 pp} h - g_{1 sp} h + 1\\right)}{g_{1 pp} h - 2 g_{1 sp} h - g_{1 ss} h + 1}$"
      ],
      "text/plain": [
       "                (-g₁ ₚₚ⋅h + g₁ ₛₚ⋅h)⋅(g₁ ₛₚ⋅h + g₁ ₛₛ⋅h - 1)   (g₁ ₚₚ⋅h - g₁ ₛ\n",
       "g₀ ₚₚ + g₀ ₛₛ - ──────────────────────────────────────────── + ───────────────\n",
       "                     g₁ ₚₚ⋅h - 2⋅g₁ ₛₚ⋅h - g₁ ₛₛ⋅h + 1            g₁ ₚₚ⋅h - 2⋅\n",
       "\n",
       "ₚ⋅h)⋅(-g₁ ₛₚ⋅h - g₁ ₛₛ⋅h)   (g₁ ₚₚ⋅h - g₁ ₛₚ⋅h)⋅(g₁ ₛₚ⋅h + g₁ ₛₛ⋅h)   (g₁ ₛₚ⋅h\n",
       "───────────────────────── - ─────────────────────────────────────── + ────────\n",
       "g₁ ₛₚ⋅h - g₁ ₛₛ⋅h + 1          g₁ ₚₚ⋅h - 2⋅g₁ ₛₚ⋅h - g₁ ₛₛ⋅h + 1           g₁ \n",
       "\n",
       " + g₁ ₛₛ⋅h)⋅(g₁ ₚₚ⋅h - g₁ ₛₚ⋅h + 1)\n",
       "───────────────────────────────────\n",
       "ₚₚ⋅h - 2⋅g₁ ₛₚ⋅h - g₁ ₛₛ⋅h + 1     "
      ]
     },
     "execution_count": 45,
     "metadata": {},
     "output_type": "execute_result"
    }
   ],
   "source": [
    "trg"
   ]
  },
  {
   "cell_type": "code",
   "execution_count": null,
   "metadata": {},
   "outputs": [],
   "source": [
    "g0str"
   ]
  },
  {
   "cell_type": "code",
   "execution_count": 11,
   "metadata": {},
   "outputs": [
    {
     "data": {
      "text/latex": [
       "$\\displaystyle \\frac{- E \\left(2 \\gamma + \\left(\\beta - \\gamma\\right) \\left(- E - 2 \\beta h + \\epsilon + 2 \\gamma h\\right) + \\left(\\beta - \\gamma\\right) \\left(E - 2 \\beta h + \\epsilon + 2 \\gamma h\\right)\\right) + 2 \\gamma h \\left(\\beta - \\gamma\\right) \\left(2 \\beta h - \\epsilon - 2 \\gamma h\\right)}{\\gamma h \\left(2 \\gamma + \\left(\\beta - \\gamma\\right) \\left(- E - 2 \\beta h + \\epsilon + 2 \\gamma h\\right) + \\left(\\beta - \\gamma\\right) \\left(E - 2 \\beta h + \\epsilon + 2 \\gamma h\\right)\\right)}$"
      ],
      "text/plain": [
       "-E⋅(2⋅γ + (β - γ)⋅(-E - 2⋅β⋅h + ε + 2⋅γ⋅h) + (β - γ)⋅(E - 2⋅β⋅h + ε + 2⋅γ⋅h)) \n",
       "──────────────────────────────────────────────────────────────────────────────\n",
       "                  γ⋅h⋅(2⋅γ + (β - γ)⋅(-E - 2⋅β⋅h + ε + 2⋅γ⋅h) + (β - γ)⋅(E - 2\n",
       "\n",
       "+ 2⋅γ⋅h⋅(β - γ)⋅(2⋅β⋅h - ε - 2⋅γ⋅h)\n",
       "───────────────────────────────────\n",
       "⋅β⋅h + ε + 2⋅γ⋅h))                 "
      ]
     },
     "execution_count": 11,
     "metadata": {},
     "output_type": "execute_result"
    }
   ],
   "source": [
    "g=gss0+ gpp0 + (gss0*h*gam-gpp0*h*gam)/(-gss0*gam*h+gpp0*gam*h+1)\n",
    "sym.simplify(g)"
   ]
  },
  {
   "cell_type": "code",
   "execution_count": null,
   "metadata": {},
   "outputs": [],
   "source": []
  }
 ],
 "metadata": {
  "kernelspec": {
   "display_name": "Python 3",
   "language": "python",
   "name": "python3"
  },
  "language_info": {
   "codemirror_mode": {
    "name": "ipython",
    "version": 3
   },
   "file_extension": ".py",
   "mimetype": "text/x-python",
   "name": "python",
   "nbconvert_exporter": "python",
   "pygments_lexer": "ipython3",
   "version": "3.8.3"
  }
 },
 "nbformat": 4,
 "nbformat_minor": 4
}
