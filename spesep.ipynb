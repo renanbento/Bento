{
 "cells": [
  {
   "cell_type": "code",
   "execution_count": 1,
   "metadata": {},
   "outputs": [],
   "source": [
    "import numpy as np\n",
    "from scipy.integrate import quad\n",
    "import matplotlib.pyplot as plt\n",
    "from sympy import DiracDelta, diff, pi, Piecewise"
   ]
  },
  {
   "cell_type": "code",
   "execution_count": 2,
   "metadata": {},
   "outputs": [],
   "source": [
    "import numpy as np\n",
    "def calculo(Es,Ep,h,Max):\n",
    "    print(f'Es={Es},Ep={Ep},h={h},Max={Max}')\n",
    "    r=[]\n",
    "    r2=[]\n",
    "    Ex=[]\n",
    "    Alpha=Beta=0\n",
    "    numax=1000\n",
    "    for x in range(1,numax): \n",
    "        E= x*Max*2/numax-Max #- 1j*0.01\n",
    "        if ((-2*h)*(-2*E+Es+Ep))==0:\n",
    "            if h<Es:\n",
    "                G00=0#-1j\n",
    "            if h>=Es:\n",
    "                G00=1j\n",
    "        else:\n",
    "            Alpha=(E*E-E*Es-E*Ep+Ep*Es)/((-2*h)*(-2*E+Es+Ep))\n",
    "            if np.real(Alpha)>=1:\n",
    "                Beta=(Alpha*Alpha-1)**0.5\n",
    "                G00=((Alpha+Beta))/h\n",
    "                #G01=1/(E-eta1-VG**2*G00)\n",
    "            if np.real(Alpha)<=-1:\n",
    "                Beta=-(Alpha**2-1)**0.5\n",
    "                G00=((Alpha+Beta))/h\n",
    "                #G01=1/(E-eta1-VG**2*G00)\n",
    "            if np.absolute(Alpha)<1:\n",
    "                Beta=1j*(1-Alpha**2)**0.5\n",
    "                G00=((Alpha-Beta))/h \n",
    "        #if h>1.5:\n",
    "        #    if np.absolute(((-2*h)*(-2*E+Es+Ep)))<0.04:\n",
    "        #        G00=1j\n",
    "                #G01=1/(E-eta1-VG**2*G00) \n",
    "        rho=(-1/np.pi)*(np.imag(G00))\n",
    "        #rho2=(-1/np.pi)*(np.imag(G01))\n",
    "        r.append(np.absolute(rho))\n",
    "        #r2.append(np.absolute(rho2))\n",
    "        Ex.append(E)\n",
    "    return Ex, r\n",
    "    import matplotlib.pyplot as plt\n",
    "    plt.ylim([0, 0.5])\n",
    "    plt.plot(Ex, r)"
   ]
  },
  {
   "cell_type": "code",
   "execution_count": 4,
   "metadata": {},
   "outputs": [
    {
     "name": "stdout",
     "output_type": "stream",
     "text": [
      "Es=1,Ep=-1,h=1.0,Max=8\n"
     ]
    }
   ],
   "source": [
    "'''     Es     Ep   h  Max'''  \n",
    "y1,x1=calculo(1, -1, 2*0.5,8)"
   ]
  },
  {
   "cell_type": "code",
   "execution_count": 3,
   "metadata": {},
   "outputs": [],
   "source": [
    "import numpy as np\n",
    "def calculo3(Es,Ep,h,Max):\n",
    "    print(f'Es={Es},Ep={Ep},h={h},Max={Max}')\n",
    "    r=[]\n",
    "    r2=[]\n",
    "    Ex=[]\n",
    "    Alpha=Beta=0\n",
    "    numax=1000\n",
    "    for x in range(1,numax): \n",
    "        E= x*Max*2/numax-Max #- 1j*0.01\n",
    "        if ((-2*h)*(-2*E+Es+Ep))==0:\n",
    "            if h<Es:\n",
    "                G00=0#-1j\n",
    "            if h>=Es:\n",
    "                G00=1j\n",
    "        else:\n",
    "            C=(Es-E)/(-2*E+Es+Ep)\n",
    "            Alpha=(E*E-E*Es-E*Ep+Ep*Es)/((2*h)*(-2*E+Es+Ep))\n",
    "            if np.real(Alpha**2)>C:\n",
    "                Beta=(Alpha*Alpha-C)**0.5\n",
    "                G00=((Alpha+Beta))/h\n",
    "                #G01=1/(E-eta1-VG**2*G00)\n",
    "            if np.real(Alpha**2)<-C:\n",
    "                Beta=-(Alpha**2-1)**0.5\n",
    "                G00=((Alpha+Beta))/h\n",
    "                #G01=1/(E-eta1-VG**2*G00)\n",
    "            if np.absolute(Alpha**2)<=C:\n",
    "                Beta=1j*(1-Alpha**2)**0.5\n",
    "                G00=((Alpha-Beta))/h \n",
    "        #if h>1.5:\n",
    "        #    if np.absolute(((-2*h)*(-2*E+Es+Ep)))<0.04:\n",
    "        #        G00=1j\n",
    "                #G01=1/(E-eta1-VG**2*G00) \n",
    "        rho=(-1/np.pi)*(np.imag(G00))\n",
    "        #rho2=(-1/np.pi)*(np.imag(G01))\n",
    "        r2.append(np.absolute(rho))\n",
    "        #r2.append(np.absolute(rho2))\n",
    "        Ex.append(E)\n",
    "    return Ex, r2\n",
    "    #import matplotlib.pyplot as plt\n",
    "    #plt.ylim([0, 0.5])\n",
    "    #plt.plot(Ex, r2)"
   ]
  },
  {
   "cell_type": "code",
   "execution_count": 4,
   "metadata": {},
   "outputs": [],
   "source": [
    "import numpy as np\n",
    "def calculo2(Es,Ep,h,Max):\n",
    "    print(f'Es={Es},Ep={Ep},h={h},Max={Max}')\n",
    "    r=[]\n",
    "    r2=[]\n",
    "    Ex=[]\n",
    "    Alpha=Beta=0\n",
    "    numax=1000\n",
    "    for x in range(1,numax): \n",
    "        E= x*Max*2/numax-Max #- 1j*0.01\n",
    "        if ((-2*h)*(-2*E+Es+Ep))==0:\n",
    "            if h<Es:\n",
    "                G00=0#-1j\n",
    "            if h>=Es:\n",
    "                G00=1j\n",
    "        else:\n",
    "            C=(Ep-E)/(-2*E+Es+Ep)\n",
    "            Alpha=(E*E-E*Es-E*Ep+Ep*Es)/((2*h)*(-2*E+Es+Ep))\n",
    "            if np.real(Alpha**2)>C:\n",
    "                Beta=(Alpha*Alpha-C)**0.5\n",
    "                G00=((Alpha+Beta))/h\n",
    "                #G01=1/(E-eta1-VG**2*G00)\n",
    "            if np.real(Alpha**2)<-C:\n",
    "                Beta=-(Alpha**2-1)**0.5\n",
    "                G00=((Alpha+Beta))/h\n",
    "                #G01=1/(E-eta1-VG**2*G00)\n",
    "            if np.absolute(Alpha**2)<=C:\n",
    "                Beta=1j*(1-Alpha**2)**0.5\n",
    "                G00=((Alpha-Beta))/h \n",
    "        #if h>1.5:\n",
    "        #    if np.absolute(((-2*h)*(-2*E+Es+Ep)))<0.04:\n",
    "        #        G00=1j\n",
    "                #G01=1/(E-eta1-VG**2*G00) \n",
    "        rho=(-1/np.pi)*(np.imag(G00))\n",
    "        #rho2=(-1/np.pi)*(np.imag(G01))\n",
    "        r2.append(np.absolute(rho))\n",
    "        #r2.append(np.absolute(rho2))\n",
    "        Ex.append(E)\n",
    "    return Ex, r2\n",
    "    #import matplotlib.pyplot as plt\n",
    "    #plt.ylim([0, 0.5])\n",
    "    #plt.plot(Ex, r2)"
   ]
  },
  {
   "cell_type": "code",
   "execution_count": 7,
   "metadata": {},
   "outputs": [
    {
     "name": "stdout",
     "output_type": "stream",
     "text": [
      "Es=1,Ep=-1,h=0.02,Max=8\n"
     ]
    }
   ],
   "source": [
    "'''     Es     Ep   h  Max'''  \n",
    "y2,x2=calculo2(1, -1, 2*0.01,8)"
   ]
  },
  {
   "cell_type": "code",
   "execution_count": 32,
   "metadata": {},
   "outputs": [
    {
     "name": "stdout",
     "output_type": "stream",
     "text": [
      "Es=1,Ep=-1,h=1.0,Max=8\n",
      "Es=1,Ep=-1,h=1.0,Max=8\n",
      "Es=1,Ep=-1,h=1.0,Max=8\n"
     ]
    },
    {
     "data": {
      "text/plain": [
       "([<matplotlib.lines.Line2D at 0x1d962682430>],\n",
       " [<matplotlib.lines.Line2D at 0x1d962682760>])"
      ]
     },
     "execution_count": 32,
     "metadata": {},
     "output_type": "execute_result"
    },
    {
     "data": {
      "image/png": "[encoded data removed]",
      "text/plain": [
       "<Figure size 432x288 with 1 Axes>"
      ]
     },
     "metadata": {
      "needs_background": "light"
     },
     "output_type": "display_data"
    }
   ],
   "source": [
    "'''     Es     Ep   h  Max''' \n",
    "y1,x1=calculo(1, -1, 2*0.5,8)\n",
    "y2,x2=calculo2(1, -1, 2*0.5,8)\n",
    "y3,x3=calculo3(1, -1, 2*0.5,8)\n",
    "import matplotlib.pyplot as plt\n",
    "plt.plot(y2,x2), plt.plot(y3,x3)"
   ]
  },
  {
   "cell_type": "code",
   "execution_count": 5,
   "metadata": {},
   "outputs": [],
   "source": [
    "import numpy as np\n",
    "def calculo5(Es,Ep,h,Max):\n",
    "    print(f'Es={Es},Ep={Ep},h={h},Max={Max}')\n",
    "    r=[]\n",
    "    r2=[]\n",
    "    Ex=[]\n",
    "    Alpha=Beta=0\n",
    "    numax=1000\n",
    "    for x in range(1,numax): \n",
    "        if h<Es:\n",
    "            E= x*Max*2/numax-Max\n",
    "            if x*Max*2/numax-Max==0:\n",
    "                  G00=0\n",
    "            else:\n",
    "            #if x*Max*2/numax-Max>0:\n",
    "                C=(Ep-E)/(-2*E+Es+Ep)\n",
    "                Alpha=(E*E-E*Es-E*Ep+Ep*Es)/((2*h)*(-2*E+Es+Ep))\n",
    "                if np.real(Alpha)>np.real(C):\n",
    "                    Beta=(Alpha*Alpha-C)**0.5\n",
    "                    G00=((Alpha-Beta))/h\n",
    "                if np.real(Alpha)<np.real(-C):\n",
    "                    Beta=-1*(Alpha**2-C)**0.5\n",
    "                    G00=((Alpha-Beta))/h\n",
    "                if np.absolute(Alpha)<=np.real(C):\n",
    "                    Beta=1j*(1-Alpha**2)**0.5\n",
    "                    G00=((Alpha-Beta))/h \n",
    "            rho=(-1/np.pi)*(np.imag(G00))\n",
    "            r2.append(np.absolute(rho))\n",
    "            Ex.append(E)\n",
    "        if h>=Es:\n",
    "            E= x*Max*2/numax-Max + 1j*0.1\n",
    "            if x*Max*2/numax-Max==0:\n",
    "                  G00=1j#*Ep*Es  \n",
    "            else:\n",
    "                #if x*Max*2/numax-Max>0:\n",
    "                    C=(Ep-E)/(-2*E+Es+Ep)\n",
    "                    Alpha=(E*E-E*Es-E*Ep+Ep*Es)/((2*h)*(-2*E+Es+Ep))\n",
    "                    if np.real(Alpha)>np.real(C):\n",
    "                        Beta=(Alpha*Alpha-C)**0.5\n",
    "                        G00=((Alpha-Beta))/h\n",
    "                    if np.real(Alpha)<np.real(-C):\n",
    "                        Beta=-1*(Alpha**2-C)**0.5\n",
    "                        G00=((Alpha-Beta))/h\n",
    "                    if np.absolute(Alpha)<=np.real(C):\n",
    "                        Beta=1j*(1-Alpha**2)**0.5\n",
    "                        G00=((Alpha-Beta))/h \n",
    "            '''\n",
    "               if x*Max*2/numax-Max<0:\n",
    "                    C=(Ep-E)/(-2*E+Es+Ep)\n",
    "                    Alpha=(E*E-E*Es-E*Ep+Ep*Es)/((2*h)*(-2*E+Es+Ep))\n",
    "                    #print(E,np.real(Alpha**2),np.real(C))\n",
    "                    if np.absolute(Alpha)>np.absolute(C):\n",
    "                        Beta=(Alpha*Alpha-C)**0.5\n",
    "                        G00=((Alpha+Beta))/h\n",
    "                    if np.absolute(Alpha**2)<np.absolute(C):\n",
    "                        Beta=1j*(Alpha**2+C)**0.5\n",
    "                        G00=((Alpha+Beta))/h\n",
    "                    if np.absolute(Alpha**2)==np.absolute(C):\n",
    "                        Beta=0\n",
    "                        G00=((Alpha+Beta))/h\n",
    "                '''\n",
    "            rho=(-1/np.pi)*(np.imag(G00))\n",
    "            r2.append(np.absolute(rho))\n",
    "            Ex.append(E)\n",
    "    return Ex, r2\n",
    "    #import matplotlib.pyplot as plt\n",
    "    #plt.ylim([0, 0.5])\n",
    "    #plt.plot(Ex, r2)"
   ]
  },
  {
   "cell_type": "code",
   "execution_count": 6,
   "metadata": {},
   "outputs": [],
   "source": [
    "import numpy as np\n",
    "def calculo3(Es,Ep,h,Max):\n",
    "    print(f'Es={Es},Ep={Ep},h={h},Max={Max}')\n",
    "    r=[]\n",
    "    r2=[]\n",
    "    Ex=[]\n",
    "    Alpha=Beta=0\n",
    "    numax=1000\n",
    "    for x in range(1,numax): \n",
    "        if h<Es:\n",
    "            E= x*Max*2/numax-Max\n",
    "            if x*Max*2/numax-Max==0:\n",
    "                  G00=0\n",
    "            else:\n",
    "            #if x*Max*2/numax-Max>0:\n",
    "                C=(Es-E)/(-2*E+Es+Ep)\n",
    "                Alpha=(E*E-E*Es-E*Ep+Ep*Es)/((2*h)*(-2*E+Es+Ep))\n",
    "                if np.real(Alpha)>np.real(C):\n",
    "                    Beta=(Alpha*Alpha-C)**0.5\n",
    "                    G00=((Alpha-Beta))/h\n",
    "                if np.real(Alpha)<np.real(-C):\n",
    "                    Beta=-1*(Alpha**2-C)**0.5\n",
    "                    G00=((Alpha-Beta))/h\n",
    "                if np.absolute(Alpha)<=np.real(C):\n",
    "                    Beta=1j*(1-Alpha**2)**0.5\n",
    "                    G00=((Alpha-Beta))/h \n",
    "            rho=(-1/np.pi)*(np.imag(G00))\n",
    "            r2.append(np.absolute(rho))\n",
    "            Ex.append(E)\n",
    "        if h>=Es:\n",
    "            E= x*Max*2/numax-Max + 1j*0.0001\n",
    "            if x*Max*2/numax-Max==0:\n",
    "                  G00=1j#*Ep*Es  \n",
    "            else:\n",
    "                #if x*Max*2/numax-Max>0:\n",
    "                    C=(Es-E)/(-2*E+Es+Ep)\n",
    "                    Alpha=(E*E-E*Es-E*Ep+Ep*Es)/((2*h)*(-2*E+Es+Ep))\n",
    "                    if np.real(Alpha)>np.real(C):\n",
    "                        Beta=(Alpha*Alpha-C)**0.5\n",
    "                        G00=((Alpha-Beta))/h\n",
    "                    if np.real(Alpha)<np.real(-C):\n",
    "                        Beta=-1*(Alpha**2-C)**0.5\n",
    "                        G00=((Alpha-Beta))/h\n",
    "                    if np.absolute(Alpha)<=np.real(C):\n",
    "                        Beta=1j*(1-Alpha**2)**0.5\n",
    "                        G00=((Alpha-Beta))/h \n",
    "            '''\n",
    "               if x*Max*2/numax-Max<0:\n",
    "                    C=(Ep-E)/(-2*E+Es+Ep)\n",
    "                    Alpha=(E*E-E*Es-E*Ep+Ep*Es)/((2*h)*(-2*E+Es+Ep))\n",
    "                    #print(E,np.real(Alpha**2),np.real(C))\n",
    "                    if np.absolute(Alpha)>np.absolute(C):\n",
    "                        Beta=(Alpha*Alpha-C)**0.5\n",
    "                        G00=((Alpha+Beta))/h\n",
    "                    if np.absolute(Alpha**2)<np.absolute(C):\n",
    "                        Beta=1j*(Alpha**2+C)**0.5\n",
    "                        G00=((Alpha+Beta))/h\n",
    "                    if np.absolute(Alpha**2)==np.absolute(C):\n",
    "                        Beta=0\n",
    "                        G00=((Alpha+Beta))/h\n",
    "                '''\n",
    "            rho=(-1/np.pi)*(np.imag(G00))\n",
    "            r2.append(np.absolute(rho))\n",
    "            Ex.append(E)\n",
    "    return Ex, r2\n",
    "    #import matplotlib.pyplot as plt\n",
    "    #plt.ylim([0, 0.5])\n",
    "    #plt.plot(Ex, r2)"
   ]
  },
  {
   "cell_type": "code",
   "execution_count": 7,
   "metadata": {},
   "outputs": [],
   "source": [
    "import numpy as np\n",
    "def calculo4(Es,Ep,h,Max):\n",
    "    print(f'Es={Es},Ep={Ep},h={h},Max={Max}')\n",
    "    r=[]\n",
    "    r2=[]\n",
    "    Ex=[]\n",
    "    Alpha=Beta=0\n",
    "    numax=30000\n",
    "    for x in range(1,numax): \n",
    "        if h*2<Es:\n",
    "            E= x*Max*2/numax-Max\n",
    "            if x*Max*2/numax-Max==0:\n",
    "                  G00=0\n",
    "            else:\n",
    "                Alpha=(E*E-E*Es-E*Ep+Ep*Es+4*h**2)/((-2*h)*(-2*E+Es+Ep))\n",
    "                if x*Max*2/numax-Max>0:\n",
    "                    if np.absolute(Alpha)>1:\n",
    "                        Beta=(Alpha*Alpha-1)**0.5\n",
    "                        G00=((Alpha-Beta))/h\n",
    "                    if np.absolute(Alpha)<-1:\n",
    "                        Beta=-(Alpha**2-1)**0.5\n",
    "                        G00=((Alpha-Beta))/h\n",
    "                    if np.absolute(Alpha)<=1:\n",
    "                        Beta=1j*(1-Alpha**2)**0.5\n",
    "                        G00=((Alpha-Beta))/h \n",
    "                if x*Max*2/numax-Max<0:\n",
    "                    if np.absolute(Alpha)>1:\n",
    "                        Beta=(Alpha*Alpha-1)**0.5\n",
    "                        G00=((Alpha+Beta))/h\n",
    "                    if np.absolute(Alpha)<-1:\n",
    "                        Beta=-(Alpha**2-1)**0.5\n",
    "                        G00=((Alpha+Beta))/h\n",
    "                    if np.absolute(Alpha)<=1:\n",
    "                        Beta=1j*(1-Alpha**2)**0.5\n",
    "                        G00=((Alpha-Beta))/h \n",
    "            rho=(-1/np.pi)*(np.imag(G00))\n",
    "            r.append(rho)\n",
    "            Ex.append(E)\n",
    "        if h*2>=Es:\n",
    "            E= x*Max*2/numax-Max + 1j*0.0001\n",
    "            if x*Max*2/numax-Max==0:\n",
    "                  G00=1j#*Ep*Es  \n",
    "            else:\n",
    "                Alpha=(E*E-E*Es-E*Ep+Ep*Es+4*h**2)/((-2*h)*(-2*E+Es+Ep))\n",
    "                if x*Max*2/numax-Max>0:\n",
    "                    if np.absolute(Alpha)>1:\n",
    "                        Beta=(Alpha*Alpha-1)**0.5\n",
    "                        G00=((Alpha-Beta))/(h)\n",
    "                    if np.absolute(Alpha)<-1:\n",
    "                        Beta=-(Alpha**2-1)**0.5\n",
    "                        G00=((Alpha-Beta))/(h)\n",
    "                    if np.absolute(Alpha)<=1:\n",
    "                        Beta=1j*(1-Alpha**2)**0.5\n",
    "                        G00=((Alpha-Beta))/(h) \n",
    "                if x*Max*2/numax-Max<0:\n",
    "                    if np.absolute(Alpha)>1:\n",
    "                        Beta=(Alpha*Alpha-1)**0.5\n",
    "                        G00=((Alpha+Beta))/(h)\n",
    "                    if np.absolute(Alpha)<-1:\n",
    "                        Beta=-(Alpha**2-1)**0.5\n",
    "                        G00=((Alpha+Beta))/(h)\n",
    "                    if np.absolute(Alpha)<=1:\n",
    "                        Beta=1j*(1-Alpha**2)**0.5\n",
    "                        G00=((Alpha-Beta))/(h) \n",
    "            rho=(-1/(np.pi))*(np.imag(G00))\n",
    "            r.append(np.absolute(rho))\n",
    "            Ex.append(E)\n",
    "    I=np.trapz(r,Ex)\n",
    "    print(I)\n",
    "    return Ex, r\n",
    "    import matplotlib.pyplot as plt\n",
    "    plt.ylim([0, 0.5])\n",
    "    plt.plot(Ex, r)"
   ]
  },
  {
   "cell_type": "code",
   "execution_count": 11,
   "metadata": {},
   "outputs": [
    {
     "name": "stdout",
     "output_type": "stream",
     "text": [
      "Es=1,Ep=-0.5,h=0.1,Max=5\n"
     ]
    },
    {
     "ename": "ZeroDivisionError",
     "evalue": "float division by zero",
     "output_type": "error",
     "traceback": [
      "\u001b[1;31m---------------------------------------------------------------------------\u001b[0m",
      "\u001b[1;31mZeroDivisionError\u001b[0m                         Traceback (most recent call last)",
      "\u001b[1;32m<ipython-input-11-130ae829ce03>\u001b[0m in \u001b[0;36m<module>\u001b[1;34m\u001b[0m\n\u001b[0;32m      1\u001b[0m \u001b[1;34m'''            Es  Ep   h  Max'''\u001b[0m\u001b[1;33m\u001b[0m\u001b[1;33m\u001b[0m\u001b[0m\n\u001b[1;32m----> 2\u001b[1;33m \u001b[0my1\u001b[0m\u001b[1;33m,\u001b[0m\u001b[0mx1\u001b[0m\u001b[1;33m=\u001b[0m\u001b[0mcalculo4\u001b[0m\u001b[1;33m(\u001b[0m\u001b[1;36m1\u001b[0m\u001b[1;33m,\u001b[0m \u001b[1;33m-\u001b[0m\u001b[1;36m0.5\u001b[0m\u001b[1;33m,\u001b[0m \u001b[1;36m0.1\u001b[0m\u001b[1;33m,\u001b[0m\u001b[1;36m5\u001b[0m\u001b[1;33m)\u001b[0m\u001b[1;33m\u001b[0m\u001b[1;33m\u001b[0m\u001b[0m\n\u001b[0m\u001b[0;32m      3\u001b[0m \u001b[1;31m#y2,x2=calculo3(0.5, -0.5, 2*0.5,2)\u001b[0m\u001b[1;33m\u001b[0m\u001b[1;33m\u001b[0m\u001b[1;33m\u001b[0m\u001b[0m\n\u001b[0;32m      4\u001b[0m \u001b[1;31m#y3,x3=calculo5(0.5, -0.5, 2*0.5,2)\u001b[0m\u001b[1;33m\u001b[0m\u001b[1;33m\u001b[0m\u001b[1;33m\u001b[0m\u001b[0m\n\u001b[0;32m      5\u001b[0m \u001b[1;32mimport\u001b[0m \u001b[0mmatplotlib\u001b[0m\u001b[1;33m.\u001b[0m\u001b[0mpyplot\u001b[0m \u001b[1;32mas\u001b[0m \u001b[0mplt\u001b[0m\u001b[1;33m\u001b[0m\u001b[1;33m\u001b[0m\u001b[0m\n",
      "\u001b[1;32m<ipython-input-7-30f2d0920e78>\u001b[0m in \u001b[0;36mcalculo4\u001b[1;34m(Es, Ep, h, Max)\u001b[0m\n\u001b[0;32m     13\u001b[0m                   \u001b[0mG00\u001b[0m\u001b[1;33m=\u001b[0m\u001b[1;36m0\u001b[0m\u001b[1;33m\u001b[0m\u001b[1;33m\u001b[0m\u001b[0m\n\u001b[0;32m     14\u001b[0m             \u001b[1;32melse\u001b[0m\u001b[1;33m:\u001b[0m\u001b[1;33m\u001b[0m\u001b[1;33m\u001b[0m\u001b[0m\n\u001b[1;32m---> 15\u001b[1;33m                 \u001b[0mAlpha\u001b[0m\u001b[1;33m=\u001b[0m\u001b[1;33m(\u001b[0m\u001b[0mE\u001b[0m\u001b[1;33m*\u001b[0m\u001b[0mE\u001b[0m\u001b[1;33m-\u001b[0m\u001b[0mE\u001b[0m\u001b[1;33m*\u001b[0m\u001b[0mEs\u001b[0m\u001b[1;33m-\u001b[0m\u001b[0mE\u001b[0m\u001b[1;33m*\u001b[0m\u001b[0mEp\u001b[0m\u001b[1;33m+\u001b[0m\u001b[0mEp\u001b[0m\u001b[1;33m*\u001b[0m\u001b[0mEs\u001b[0m\u001b[1;33m+\u001b[0m\u001b[1;36m4\u001b[0m\u001b[1;33m*\u001b[0m\u001b[0mh\u001b[0m\u001b[1;33m**\u001b[0m\u001b[1;36m2\u001b[0m\u001b[1;33m)\u001b[0m\u001b[1;33m/\u001b[0m\u001b[1;33m(\u001b[0m\u001b[1;33m(\u001b[0m\u001b[1;33m-\u001b[0m\u001b[1;36m2\u001b[0m\u001b[1;33m*\u001b[0m\u001b[0mh\u001b[0m\u001b[1;33m)\u001b[0m\u001b[1;33m*\u001b[0m\u001b[1;33m(\u001b[0m\u001b[1;33m-\u001b[0m\u001b[1;36m2\u001b[0m\u001b[1;33m*\u001b[0m\u001b[0mE\u001b[0m\u001b[1;33m+\u001b[0m\u001b[0mEs\u001b[0m\u001b[1;33m+\u001b[0m\u001b[0mEp\u001b[0m\u001b[1;33m)\u001b[0m\u001b[1;33m)\u001b[0m\u001b[1;33m\u001b[0m\u001b[1;33m\u001b[0m\u001b[0m\n\u001b[0m\u001b[0;32m     16\u001b[0m                 \u001b[1;32mif\u001b[0m \u001b[0mx\u001b[0m\u001b[1;33m*\u001b[0m\u001b[0mMax\u001b[0m\u001b[1;33m*\u001b[0m\u001b[1;36m2\u001b[0m\u001b[1;33m/\u001b[0m\u001b[0mnumax\u001b[0m\u001b[1;33m-\u001b[0m\u001b[0mMax\u001b[0m\u001b[1;33m>\u001b[0m\u001b[1;36m0\u001b[0m\u001b[1;33m:\u001b[0m\u001b[1;33m\u001b[0m\u001b[1;33m\u001b[0m\u001b[0m\n\u001b[0;32m     17\u001b[0m                     \u001b[1;32mif\u001b[0m \u001b[0mnp\u001b[0m\u001b[1;33m.\u001b[0m\u001b[0mabsolute\u001b[0m\u001b[1;33m(\u001b[0m\u001b[0mAlpha\u001b[0m\u001b[1;33m)\u001b[0m\u001b[1;33m>\u001b[0m\u001b[1;36m1\u001b[0m\u001b[1;33m:\u001b[0m\u001b[1;33m\u001b[0m\u001b[1;33m\u001b[0m\u001b[0m\n",
      "\u001b[1;31mZeroDivisionError\u001b[0m: float division by zero"
     ]
    }
   ],
   "source": [
    "'''            Es  Ep   h  Max''' \n",
    "y1,x1=calculo4(1, -0.5, 0.1,5)\n",
    "#y2,x2=calculo3(0.5, -0.5, 2*0.5,2)\n",
    "#y3,x3=calculo5(0.5, -0.5, 2*0.5,2)\n",
    "import matplotlib.pyplot as plt\n",
    "plt.ylim([0, 1])\n",
    "plt.plot(y1,x1)# plt.plot(y2,x2),"
   ]
  },
  {
   "cell_type": "code",
   "execution_count": 12,
   "metadata": {},
   "outputs": [],
   "source": [
    "import numpy as np\n",
    "def calculoe1(Es,mu,h,Max):\n",
    "    print(f'Es={Es},mu={mu},h={h},Max={Max}')\n",
    "    r=[]\n",
    "    r2=[]\n",
    "    Ex=[]\n",
    "    Alpha=Beta=0\n",
    "    numax=30000\n",
    "    for x in range(1,numax): \n",
    "        if 2*h<Es:\n",
    "            E= x*Max*2/numax-Max\n",
    "            if x*Max*2/numax-Max==0:\n",
    "                  G00=0\n",
    "            else:\n",
    "                Alpha=((E+mu)**2-((Es)**2)+4*h**2)/(h*(4*(E+mu))) \n",
    "                C=1\n",
    "                if x*Max*2/numax-Max>0:\n",
    "                    if np.absolute(Alpha)>C:\n",
    "                        Beta=(Alpha*Alpha-C)**0.5\n",
    "                        G00=((Alpha-Beta))/(2*h)\n",
    "                    if np.absolute(Alpha)<-C:\n",
    "                        Beta=-(Alpha**2-C)**0.5\n",
    "                        G00=((Alpha-Beta))/(2*h)\n",
    "                    if np.absolute(Alpha)<=C:\n",
    "                        Beta=1j*(C-Alpha**2)**0.5\n",
    "                        G00=((Alpha-Beta))/(2*h) \n",
    "                if x*Max*2/numax-Max<0:\n",
    "                    if np.absolute(Alpha)>C:\n",
    "                        Beta=(Alpha*Alpha-C)**0.5\n",
    "                        G00=((Alpha+Beta))/(2*h)\n",
    "                    if np.absolute(Alpha)<-1:\n",
    "                        Beta=-(Alpha**2-C)**0.5\n",
    "                        G00=((Alpha+Beta))/(2*h)\n",
    "                    if np.absolute(Alpha)<=C:\n",
    "                        Beta=1j*(C-Alpha**2)**0.5\n",
    "                        G00=((Alpha-Beta))/(2*h)\n",
    "            #print(h,Alpha,G00)\n",
    "            rho=(-1/np.pi)*(np.imag(G00))\n",
    "            r.append(rho)\n",
    "            Ex.append(E)\n",
    "        if 2*h>=Es:\n",
    "            E= x*Max*2/numax-Max + 1j*0.0001\n",
    "            if x*Max*2/numax-Max==0:\n",
    "                  G00=1j#*Ep*Es  \n",
    "            else:\n",
    "                Alpha=((E+mu)**2-((Es)**2)+4*h**2)/(h*(4*(E+mu))) \n",
    "                C=1\n",
    "                if x*Max*2/numax-Max>0:\n",
    "                    if np.absolute(Alpha)>C:\n",
    "                        Beta=(Alpha*Alpha-C)**0.5\n",
    "                        G00=((Alpha+Beta))/(2*h)\n",
    "                    if np.absolute(Alpha)<-C:\n",
    "                        Beta=-(Alpha**2-C)**0.5\n",
    "                        G00=((Alpha+Beta))/(2*h)\n",
    "                    if np.absolute(Alpha)<=C:\n",
    "                        Beta=1j*(C-Alpha**2)**0.5\n",
    "                        G00=((Alpha+Beta))/(2*h) \n",
    "                if x*Max*2/numax-Max<0:\n",
    "                    if np.absolute(Alpha)>C:\n",
    "                        Beta=(Alpha*Alpha-C)**0.5\n",
    "                        G00=((Alpha-Beta))/(2*h)\n",
    "                    if np.absolute(Alpha)<-C:\n",
    "                        Beta=-(Alpha**2-C)**0.5\n",
    "                        G00=((Alpha-Beta))/(2*h)\n",
    "                    if np.absolute(Alpha)<=C:\n",
    "                        Beta=1j*(C-Alpha**2)**0.5\n",
    "                        G00=((Alpha+Beta))/(2*h) \n",
    "            rho=(-1/(np.pi))*(np.imag(G00))\n",
    "            r.append(np.absolute(rho))\n",
    "            Ex.append(E)\n",
    "    I=np.trapz(r,Ex)\n",
    "    print(I)\n",
    "    return Ex, r\n",
    "    import matplotlib.pyplot as plt\n",
    "    plt.ylim([0, 0.5])\n",
    "    plt.plot(Ex, r)"
   ]
  },
  {
   "cell_type": "code",
   "execution_count": 17,
   "metadata": {},
   "outputs": [
    {
     "name": "stdout",
     "output_type": "stream",
     "text": [
      "Es=1,mu=0,h=0.5,Max=2\n",
      "(1.0000631011793764+0j)\n"
     ]
    },
    {
     "data": {
      "text/plain": [
       "[<matplotlib.lines.Line2D at 0x2a2b6be1af0>]"
      ]
     },
     "execution_count": 17,
     "metadata": {},
     "output_type": "execute_result"
    },
    {
     "data": {
      "image/png": "[encoded data removed]",
      "text/plain": [
       "<Figure size 432x288 with 1 Axes>"
      ]
     },
     "metadata": {
      "needs_background": "light"
     },
     "output_type": "display_data"
    }
   ],
   "source": [
    "'''            Es  mu   h  Max''' \n",
    "y1,x1=calculoe1(1,0,  0.5  ,2)\n",
    "import matplotlib.pyplot as plt\n",
    "plt.ylim([0, 1])\n",
    "plt.plot(y1,x1)# plt.plot(y2,x2),"
   ]
  },
  {
   "cell_type": "code",
   "execution_count": 14,
   "metadata": {},
   "outputs": [],
   "source": [
    "import numpy as np\n",
    "def calculoV1V2(V1,mu,V2,Max):\n",
    "    print(f'V1={V1},mu={mu},V2={V2},Max={Max}')\n",
    "    r=[]\n",
    "    r2=[]\n",
    "    Ex=[]\n",
    "    Alpha=Beta=0\n",
    "    numax=30000\n",
    "    for x in range(1,numax): \n",
    "        if V2<V1:\n",
    "            E= x*Max*2/numax-Max\n",
    "            if x*Max*2/numax-Max==0:\n",
    "                  G00=0\n",
    "            else:\n",
    "                Alpha=(-E*E+(V1**2)-V2**2)/((-V2)*(2*E))\n",
    "                if x*Max*2/numax-Max>0:\n",
    "                    if np.absolute(Alpha)>1:\n",
    "                        Beta=(Alpha*Alpha-1)**0.5\n",
    "                        G00=((Alpha-Beta))/V2\n",
    "                    if np.absolute(Alpha)<-1:\n",
    "                        Beta=-(Alpha**2-1)**0.5\n",
    "                        G00=((Alpha-Beta))/V2\n",
    "                    if np.absolute(Alpha)<=1:\n",
    "                        Beta=1j*(1-Alpha**2)**0.5\n",
    "                        G00=((Alpha-Beta))/V2\n",
    "                if x*Max*2/numax-Max<0:\n",
    "                    if np.absolute(Alpha)>1:\n",
    "                        Beta=(Alpha*Alpha-1)**0.5\n",
    "                        G00=((Alpha+Beta))/V2\n",
    "                    if np.absolute(Alpha)<-1:\n",
    "                        Beta=-(Alpha**2-1)**0.5\n",
    "                        G00=((Alpha+Beta))/V2\n",
    "                    if np.absolute(Alpha)<=1:\n",
    "                        Beta=1j*(1-Alpha**2)**0.5\n",
    "                        G00=((Alpha+Beta))/V2 \n",
    "            #print(V2,Alpha,G00)\n",
    "            rho=(-1/np.pi)*(np.imag(G00))\n",
    "            r.append(rho)\n",
    "            Ex.append(E)\n",
    "        if V2>=V1:\n",
    "            E= x*Max*2/numax-Max + 1j*0.0001\n",
    "            if x*Max*2/numax-Max==0:\n",
    "                  G00=1j#*Ep*Es  \n",
    "            else:\n",
    "                Alpha=(-E*E+(V1**2)-V2**2)/((-V2)*(2*E))\n",
    "                if x*Max*2/numax-Max>0:\n",
    "                    if np.absolute(Alpha)>1:\n",
    "                        Beta=(Alpha*Alpha-1)**0.5\n",
    "                        G00=((Alpha+Beta))/(V2)\n",
    "                    if np.absolute(Alpha)<-1:\n",
    "                        Beta=-(Alpha**2-1)**0.5\n",
    "                        G00=((Alpha+Beta))/(V2)\n",
    "                    if np.absolute(Alpha)<=1:\n",
    "                        Beta=1j*(1-Alpha**2)**0.5\n",
    "                        G00=((Alpha+Beta))/(V2) \n",
    "                if x*Max*2/numax-Max<0:\n",
    "                    if np.absolute(Alpha)>1:\n",
    "                        Beta=(Alpha*Alpha-1)**0.5\n",
    "                        G00=((Alpha-Beta))/(V2)\n",
    "                    if np.absolute(Alpha)<-1:\n",
    "                        Beta=-(Alpha**2-1)**0.5\n",
    "                        G00=((Alpha-Beta))/(V2)\n",
    "                    if np.absolute(Alpha)<=1:\n",
    "                        Beta=1j*(1-Alpha**2)**0.5\n",
    "                        G00=((Alpha+Beta))/(V2)\n",
    "            rho=(-1/(np.pi))*(np.imag(G00))\n",
    "            r.append(np.absolute((rho)))\n",
    "            Ex.append(E)\n",
    "    I=np.trapz(r,Ex)\n",
    "    print(I)\n",
    "    return Ex, r\n",
    "    import matplotlib.pyplot as plt\n",
    "    plt.ylim([0, 0.5])\n",
    "    plt.plot(Ex, r)"
   ]
  },
  {
   "cell_type": "code",
   "execution_count": 43,
   "metadata": {},
   "outputs": [
    {
     "name": "stdout",
     "output_type": "stream",
     "text": [
      "V1=5,mu=0,V2=1,Max=20\n",
      "-5.551115123125783e-17\n",
      "Es=5,mu=0,h=0.5,Max=20\n",
      "0.9999814946287617\n"
     ]
    },
    {
     "data": {
      "text/plain": [
       "[<matplotlib.lines.Line2D at 0x1d967dfe280>]"
      ]
     },
     "execution_count": 43,
     "metadata": {},
     "output_type": "execute_result"
    },
    {
     "data": {
      "image/png": "[encoded data removed]",
      "text/plain": [
       "<Figure size 432x288 with 1 Axes>"
      ]
     },
     "metadata": {
      "needs_background": "light"
     },
     "output_type": "display_data"
    }
   ],
   "source": [
    "'''             V1  mu  V2  Max''' \n",
    "y1,x1=calculoV1V2(5 ,0,  1 ,20)\n",
    "y2,x2=calculoe1(5 , 0 ,0.5  ,20)\n",
    "import matplotlib.pyplot as plt\n",
    "plt.ylim([0, 1])\n",
    "plt.plot(y1,x1)#, plt.plot(y2,x2),"
   ]
  },
  {
   "cell_type": "code",
   "execution_count": 338,
   "metadata": {},
   "outputs": [
    {
     "name": "stdout",
     "output_type": "stream",
     "text": [
      "Es=1,mu=0,h=0.05,Max=5\n",
      "0.9999276966090841\n"
     ]
    },
    {
     "data": {
      "text/plain": [
       "[<matplotlib.lines.Line2D at 0x23bf66ebd60>]"
      ]
     },
     "execution_count": 338,
     "metadata": {},
     "output_type": "execute_result"
    },
    {
     "data": {
      "image/png": "[encoded data removed]",
      "text/plain": [
       "<Figure size 432x288 with 1 Axes>"
      ]
     },
     "metadata": {
      "needs_background": "light"
     },
     "output_type": "display_data"
    }
   ],
   "source": [
    "'''            Es  mu   h  Max''' \n",
    "y1,x1=calculoe1(1,0,  0.05  ,5)\n",
    "import matplotlib.pyplot as plt\n",
    "plt.ylim([0, 1])\n",
    "plt.plot(y1,x1)# plt.plot(y2,x2),"
   ]
  },
  {
   "cell_type": "code",
   "execution_count": null,
   "metadata": {},
   "outputs": [],
   "source": []
  },
  {
   "cell_type": "code",
   "execution_count": null,
   "metadata": {},
   "outputs": [],
   "source": []
  }
 ],
 "metadata": {
  "kernelspec": {
   "display_name": "Python 3",
   "language": "python",
   "name": "python3"
  },
  "language_info": {
   "codemirror_mode": {
    "name": "ipython",
    "version": 3
   },
   "file_extension": ".py",
   "mimetype": "text/x-python",
   "name": "python",
   "nbconvert_exporter": "python",
   "pygments_lexer": "ipython3",
   "version": "3.8.3"
  }
 },
 "nbformat": 4,
 "nbformat_minor": 4
}
